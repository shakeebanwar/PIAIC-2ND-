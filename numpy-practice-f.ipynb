{
 "cells": [
  {
   "cell_type": "code",
   "execution_count": 1,
   "metadata": {},
   "outputs": [],
   "source": [
    "import numpy as np"
   ]
  },
  {
   "cell_type": "code",
   "execution_count": 4,
   "metadata": {},
   "outputs": [
    {
     "name": "stdout",
     "output_type": "stream",
     "text": [
      "Wall time: 0 ns\n",
      "Wall time: 2.5 ms\n"
     ]
    }
   ],
   "source": [
    "my_arr=np.arange(100)\n",
    "my_array=list(range(100))\n",
    "%time for i in range(20):myarr2=my_arr*2\n",
    "%time for i in range(20):mylist2=[ i*2 for i in my_array]    \n"
   ]
  },
  {
   "cell_type": "code",
   "execution_count": 7,
   "metadata": {},
   "outputs": [],
   "source": [
    "a=np.arange(10)\n",
    "b=list(range(10))"
   ]
  },
  {
   "cell_type": "code",
   "execution_count": 10,
   "metadata": {},
   "outputs": [
    {
     "data": {
      "text/plain": [
       "array([ 0,  2,  4,  6,  8, 10, 12, 14, 16, 18])"
      ]
     },
     "execution_count": 10,
     "metadata": {},
     "output_type": "execute_result"
    }
   ],
   "source": [
    "a*2"
   ]
  },
  {
   "cell_type": "code",
   "execution_count": 15,
   "metadata": {},
   "outputs": [
    {
     "name": "stdout",
     "output_type": "stream",
     "text": [
      "0\n",
      "2\n",
      "4\n",
      "6\n",
      "8\n",
      "10\n",
      "12\n",
      "14\n",
      "16\n",
      "18\n"
     ]
    }
   ],
   "source": [
    "for i in b:\n",
    "    print(i*2)"
   ]
  },
  {
   "cell_type": "code",
   "execution_count": 17,
   "metadata": {},
   "outputs": [
    {
     "data": {
      "text/plain": [
       "array([[ 0.1080486 ,  1.24382389,  0.18778388],\n",
       "       [-0.26691327,  0.71524478, -0.43022273]])"
      ]
     },
     "execution_count": 17,
     "metadata": {},
     "output_type": "execute_result"
    }
   ],
   "source": [
    "data=np.random.randn(2,3)\n",
    "data"
   ]
  },
  {
   "cell_type": "code",
   "execution_count": 18,
   "metadata": {},
   "outputs": [
    {
     "data": {
      "text/plain": [
       "array([[ 0.2160972 ,  2.48764779,  0.37556777],\n",
       "       [-0.53382654,  1.43048956, -0.86044545]])"
      ]
     },
     "execution_count": 18,
     "metadata": {},
     "output_type": "execute_result"
    }
   ],
   "source": [
    "data*2"
   ]
  },
  {
   "cell_type": "code",
   "execution_count": 19,
   "metadata": {},
   "outputs": [
    {
     "data": {
      "text/plain": [
       "array([[ 0.2160972 ,  2.48764779,  0.37556777],\n",
       "       [-0.53382654,  1.43048956, -0.86044545]])"
      ]
     },
     "execution_count": 19,
     "metadata": {},
     "output_type": "execute_result"
    }
   ],
   "source": [
    "data+data\n"
   ]
  },
  {
   "cell_type": "code",
   "execution_count": 20,
   "metadata": {},
   "outputs": [
    {
     "data": {
      "text/plain": [
       "array([[ 0.1080486 ,  1.24382389,  0.18778388],\n",
       "       [-0.26691327,  0.71524478, -0.43022273]])"
      ]
     },
     "execution_count": 20,
     "metadata": {},
     "output_type": "execute_result"
    }
   ],
   "source": [
    "data"
   ]
  },
  {
   "cell_type": "code",
   "execution_count": 21,
   "metadata": {},
   "outputs": [
    {
     "data": {
      "text/plain": [
       "(2, 3)"
      ]
     },
     "execution_count": 21,
     "metadata": {},
     "output_type": "execute_result"
    }
   ],
   "source": [
    "data.shape"
   ]
  },
  {
   "cell_type": "code",
   "execution_count": 22,
   "metadata": {},
   "outputs": [
    {
     "data": {
      "text/plain": [
       "2"
      ]
     },
     "execution_count": 22,
     "metadata": {},
     "output_type": "execute_result"
    }
   ],
   "source": [
    "data.ndim"
   ]
  },
  {
   "cell_type": "code",
   "execution_count": 23,
   "metadata": {},
   "outputs": [
    {
     "data": {
      "text/plain": [
       "dtype('float64')"
      ]
     },
     "execution_count": 23,
     "metadata": {},
     "output_type": "execute_result"
    }
   ],
   "source": [
    "data.dtype"
   ]
  },
  {
   "cell_type": "code",
   "execution_count": 24,
   "metadata": {},
   "outputs": [
    {
     "data": {
      "text/plain": [
       "numpy.ndarray"
      ]
     },
     "execution_count": 24,
     "metadata": {},
     "output_type": "execute_result"
    }
   ],
   "source": [
    "type(data)"
   ]
  },
  {
   "cell_type": "code",
   "execution_count": 29,
   "metadata": {},
   "outputs": [
    {
     "data": {
      "text/plain": [
       "array([1, 2, 3, 5])"
      ]
     },
     "execution_count": 29,
     "metadata": {},
     "output_type": "execute_result"
    }
   ],
   "source": [
    "data1=[1,2,3,5]\n",
    "data2=np.array(data1)\n",
    "data2\n"
   ]
  },
  {
   "cell_type": "code",
   "execution_count": 31,
   "metadata": {},
   "outputs": [
    {
     "data": {
      "text/plain": [
       "1"
      ]
     },
     "execution_count": 31,
     "metadata": {},
     "output_type": "execute_result"
    }
   ],
   "source": [
    "data2.ndim"
   ]
  },
  {
   "cell_type": "code",
   "execution_count": 30,
   "metadata": {},
   "outputs": [
    {
     "data": {
      "text/plain": [
       "array([[1, 2, 3, 4],\n",
       "       [5, 6, 7, 8]])"
      ]
     },
     "execution_count": 30,
     "metadata": {},
     "output_type": "execute_result"
    }
   ],
   "source": [
    "data3=[[1,2,3,4],[5,6,7,8]]\n",
    "data4=np.array(data3)\n",
    "data4"
   ]
  },
  {
   "cell_type": "code",
   "execution_count": 32,
   "metadata": {},
   "outputs": [
    {
     "data": {
      "text/plain": [
       "2"
      ]
     },
     "execution_count": 32,
     "metadata": {},
     "output_type": "execute_result"
    }
   ],
   "source": [
    "data4.ndim"
   ]
  },
  {
   "cell_type": "code",
   "execution_count": 33,
   "metadata": {},
   "outputs": [
    {
     "data": {
      "text/plain": [
       "array([0., 0., 0., 0., 0., 0., 0., 0., 0., 0.])"
      ]
     },
     "execution_count": 33,
     "metadata": {},
     "output_type": "execute_result"
    }
   ],
   "source": [
    "np.zeros(10)"
   ]
  },
  {
   "cell_type": "code",
   "execution_count": 34,
   "metadata": {},
   "outputs": [
    {
     "data": {
      "text/plain": [
       "array([[0., 0., 0., 0., 0.],\n",
       "       [0., 0., 0., 0., 0.]])"
      ]
     },
     "execution_count": 34,
     "metadata": {},
     "output_type": "execute_result"
    }
   ],
   "source": [
    "np.zeros(10).reshape(2,5)"
   ]
  },
  {
   "cell_type": "code",
   "execution_count": 36,
   "metadata": {},
   "outputs": [
    {
     "data": {
      "text/plain": [
       "array([[9.19275712e-312, 6.27463370e-322],\n",
       "       [0.00000000e+000, 0.00000000e+000],\n",
       "       [1.89146896e-307, 5.30276956e+180],\n",
       "       [3.31033942e-033, 4.57488309e-071],\n",
       "       [3.46010768e-086, 3.35810574e-143],\n",
       "       [6.01433264e+175, 6.93885958e+218],\n",
       "       [5.56218858e+180, 3.94356143e+180],\n",
       "       [3.62816483e+179, 2.65068375e-032],\n",
       "       [3.85154129e-057, 2.79111668e+179],\n",
       "       [5.43204327e-143, 1.50008929e+248]])"
      ]
     },
     "execution_count": 36,
     "metadata": {},
     "output_type": "execute_result"
    }
   ],
   "source": [
    "np.empty(20).reshape(10,2)"
   ]
  },
  {
   "cell_type": "code",
   "execution_count": 37,
   "metadata": {},
   "outputs": [
    {
     "data": {
      "text/plain": [
       "array([[1, 2, 3],\n",
       "       [1, 2, 3]])"
      ]
     },
     "execution_count": 37,
     "metadata": {},
     "output_type": "execute_result"
    }
   ],
   "source": [
    "arr3=((1,2,3),(1,2,3))\n",
    "np.array(arr3)"
   ]
  },
  {
   "cell_type": "code",
   "execution_count": 38,
   "metadata": {},
   "outputs": [
    {
     "data": {
      "text/plain": [
       "array([2, 3, 4, 8])"
      ]
     },
     "execution_count": 38,
     "metadata": {},
     "output_type": "execute_result"
    }
   ],
   "source": [
    "arr4=(2,3,4,8)\n",
    "np.array(arr4)"
   ]
  },
  {
   "cell_type": "code",
   "execution_count": 40,
   "metadata": {},
   "outputs": [
    {
     "data": {
      "text/plain": [
       "array([1, 3, 4])"
      ]
     },
     "execution_count": 40,
     "metadata": {},
     "output_type": "execute_result"
    }
   ],
   "source": [
    "np.asarray([1,3,4])"
   ]
  },
  {
   "cell_type": "code",
   "execution_count": 41,
   "metadata": {},
   "outputs": [
    {
     "data": {
      "text/plain": [
       "array([1, 3, 4])"
      ]
     },
     "execution_count": 41,
     "metadata": {},
     "output_type": "execute_result"
    }
   ],
   "source": [
    "np.array([1,3,4])"
   ]
  },
  {
   "cell_type": "code",
   "execution_count": 42,
   "metadata": {},
   "outputs": [
    {
     "data": {
      "text/plain": [
       "array([[1, 3, 4],\n",
       "       [5, 6, 7]])"
      ]
     },
     "execution_count": 42,
     "metadata": {},
     "output_type": "execute_result"
    }
   ],
   "source": [
    "np.asarray([[1,3,4],[5,6,7]])"
   ]
  },
  {
   "cell_type": "code",
   "execution_count": 43,
   "metadata": {},
   "outputs": [
    {
     "data": {
      "text/plain": [
       "array([[1, 3, 4],\n",
       "       [5, 6, 7]])"
      ]
     },
     "execution_count": 43,
     "metadata": {},
     "output_type": "execute_result"
    }
   ],
   "source": [
    "np.array([[1,3,4],[5,6,7]])"
   ]
  },
  {
   "cell_type": "code",
   "execution_count": 48,
   "metadata": {},
   "outputs": [
    {
     "data": {
      "text/plain": [
       "array([1., 1., 1., 1., 1., 1., 1., 1., 1., 1.])"
      ]
     },
     "execution_count": 48,
     "metadata": {},
     "output_type": "execute_result"
    }
   ],
   "source": [
    "np.ones(10)"
   ]
  },
  {
   "cell_type": "code",
   "execution_count": 50,
   "metadata": {},
   "outputs": [
    {
     "data": {
      "text/plain": [
       "array([[1, 1, 1],\n",
       "       [1, 1, 1]])"
      ]
     },
     "execution_count": 50,
     "metadata": {},
     "output_type": "execute_result"
    }
   ],
   "source": [
    "np.ones_like(arr3)"
   ]
  },
  {
   "cell_type": "code",
   "execution_count": 51,
   "metadata": {},
   "outputs": [
    {
     "data": {
      "text/plain": [
       "array([[0, 0, 0],\n",
       "       [0, 0, 0]])"
      ]
     },
     "execution_count": 51,
     "metadata": {},
     "output_type": "execute_result"
    }
   ],
   "source": [
    "np.zeros_like(arr3)"
   ]
  },
  {
   "cell_type": "code",
   "execution_count": 52,
   "metadata": {},
   "outputs": [
    {
     "data": {
      "text/plain": [
       "array([0.1080486 , 1.24382389, 0.18778388, 0.26691327, 0.71524478,\n",
       "       0.43022273])"
      ]
     },
     "execution_count": 52,
     "metadata": {},
     "output_type": "execute_result"
    }
   ],
   "source": [
    "np.empty(6)"
   ]
  },
  {
   "cell_type": "code",
   "execution_count": 54,
   "metadata": {},
   "outputs": [
    {
     "data": {
      "text/plain": [
       "array([[  929484816,         433,           0],\n",
       "       [          0,           1, -2147483648]])"
      ]
     },
     "execution_count": 54,
     "metadata": {},
     "output_type": "execute_result"
    }
   ],
   "source": [
    "np.empty_like(arr3)"
   ]
  },
  {
   "cell_type": "code",
   "execution_count": 56,
   "metadata": {},
   "outputs": [
    {
     "data": {
      "text/plain": [
       "array([[7, 7, 7],\n",
       "       [7, 7, 7]])"
      ]
     },
     "execution_count": 56,
     "metadata": {},
     "output_type": "execute_result"
    }
   ],
   "source": [
    "arr5=np.full((2,3),7)\n",
    "\n",
    "arr5"
   ]
  },
  {
   "cell_type": "code",
   "execution_count": 57,
   "metadata": {},
   "outputs": [
    {
     "data": {
      "text/plain": [
       "array([[8, 8, 8],\n",
       "       [8, 8, 8]])"
      ]
     },
     "execution_count": 57,
     "metadata": {},
     "output_type": "execute_result"
    }
   ],
   "source": [
    "np.full_like(arr5,8)"
   ]
  },
  {
   "cell_type": "code",
   "execution_count": 61,
   "metadata": {},
   "outputs": [
    {
     "data": {
      "text/plain": [
       "array([[1., 0., 0.],\n",
       "       [0., 1., 0.],\n",
       "       [0., 0., 1.]])"
      ]
     },
     "execution_count": 61,
     "metadata": {},
     "output_type": "execute_result"
    }
   ],
   "source": [
    "np.eye(3,3) #identity matrix aye ga"
   ]
  },
  {
   "cell_type": "code",
   "execution_count": 63,
   "metadata": {},
   "outputs": [
    {
     "data": {
      "text/plain": [
       "array([[1., 0., 0., 0., 0.],\n",
       "       [0., 1., 0., 0., 0.],\n",
       "       [0., 0., 1., 0., 0.],\n",
       "       [0., 0., 0., 1., 0.],\n",
       "       [0., 0., 0., 0., 1.]])"
      ]
     },
     "execution_count": 63,
     "metadata": {},
     "output_type": "execute_result"
    }
   ],
   "source": [
    "np.identity(5) #identity matrix aye ga"
   ]
  },
  {
   "cell_type": "code",
   "execution_count": 65,
   "metadata": {},
   "outputs": [],
   "source": [
    "arr1=np.array([2,3,4],dtype=np.float64)\n",
    "arr2=np.array([2,3,4],dtype=np.int32)"
   ]
  },
  {
   "cell_type": "code",
   "execution_count": 67,
   "metadata": {},
   "outputs": [
    {
     "data": {
      "text/plain": [
       "array([2., 3., 4.])"
      ]
     },
     "execution_count": 67,
     "metadata": {},
     "output_type": "execute_result"
    }
   ],
   "source": [
    "arr1\n"
   ]
  },
  {
   "cell_type": "code",
   "execution_count": 68,
   "metadata": {},
   "outputs": [
    {
     "data": {
      "text/plain": [
       "array([2, 3, 4])"
      ]
     },
     "execution_count": 68,
     "metadata": {},
     "output_type": "execute_result"
    }
   ],
   "source": [
    "arr2"
   ]
  },
  {
   "cell_type": "code",
   "execution_count": 71,
   "metadata": {},
   "outputs": [
    {
     "name": "stdout",
     "output_type": "stream",
     "text": [
      "float64\n"
     ]
    },
    {
     "data": {
      "text/plain": [
       "dtype('int32')"
      ]
     },
     "execution_count": 71,
     "metadata": {},
     "output_type": "execute_result"
    }
   ],
   "source": [
    "print(arr1.dtype)\n",
    "arr2.dtype"
   ]
  },
  {
   "cell_type": "code",
   "execution_count": 75,
   "metadata": {},
   "outputs": [
    {
     "data": {
      "text/plain": [
       "array([12, 45, 67])"
      ]
     },
     "execution_count": 75,
     "metadata": {},
     "output_type": "execute_result"
    }
   ],
   "source": [
    "arr=np.array([12,45,67])\n",
    "arr\n"
   ]
  },
  {
   "cell_type": "code",
   "execution_count": 74,
   "metadata": {},
   "outputs": [
    {
     "name": "stdout",
     "output_type": "stream",
     "text": [
      "int32\n"
     ]
    }
   ],
   "source": [
    "print(arr.dtype)"
   ]
  },
  {
   "cell_type": "code",
   "execution_count": 77,
   "metadata": {},
   "outputs": [
    {
     "data": {
      "text/plain": [
       "array([12., 45., 67.])"
      ]
     },
     "execution_count": 77,
     "metadata": {},
     "output_type": "execute_result"
    }
   ],
   "source": [
    "f=arr.astype(np.float64)\n",
    "f"
   ]
  },
  {
   "cell_type": "code",
   "execution_count": 80,
   "metadata": {},
   "outputs": [
    {
     "data": {
      "text/plain": [
       "dtype('float64')"
      ]
     },
     "execution_count": 80,
     "metadata": {},
     "output_type": "execute_result"
    }
   ],
   "source": [
    "f.dtype"
   ]
  },
  {
   "cell_type": "code",
   "execution_count": 81,
   "metadata": {},
   "outputs": [
    {
     "data": {
      "text/plain": [
       "array([1.2, 5.6, 7.8, 8.8])"
      ]
     },
     "execution_count": 81,
     "metadata": {},
     "output_type": "execute_result"
    }
   ],
   "source": [
    "arr=np.array([1.2,5.6,7.8,8.8])\n",
    "arr"
   ]
  },
  {
   "cell_type": "code",
   "execution_count": 82,
   "metadata": {},
   "outputs": [
    {
     "data": {
      "text/plain": [
       "dtype('float64')"
      ]
     },
     "execution_count": 82,
     "metadata": {},
     "output_type": "execute_result"
    }
   ],
   "source": [
    "arr.dtype"
   ]
  },
  {
   "cell_type": "code",
   "execution_count": 83,
   "metadata": {},
   "outputs": [
    {
     "data": {
      "text/plain": [
       "array([1, 5, 7, 8])"
      ]
     },
     "execution_count": 83,
     "metadata": {},
     "output_type": "execute_result"
    }
   ],
   "source": [
    "arr.astype(np.int32)"
   ]
  },
  {
   "cell_type": "code",
   "execution_count": 92,
   "metadata": {},
   "outputs": [],
   "source": [
    "s=np.array(['shakeeb','hassan','sami'])\n"
   ]
  },
  {
   "cell_type": "code",
   "execution_count": 93,
   "metadata": {},
   "outputs": [
    {
     "data": {
      "text/plain": [
       "dtype('<U7')"
      ]
     },
     "execution_count": 93,
     "metadata": {},
     "output_type": "execute_result"
    }
   ],
   "source": [
    "s.dtype"
   ]
  },
  {
   "cell_type": "code",
   "execution_count": 95,
   "metadata": {},
   "outputs": [
    {
     "data": {
      "text/plain": [
       "array(['shakeeb', 'hassan', 'sami'], dtype='<U7')"
      ]
     },
     "execution_count": 95,
     "metadata": {},
     "output_type": "execute_result"
    }
   ],
   "source": [
    "s"
   ]
  },
  {
   "cell_type": "code",
   "execution_count": 107,
   "metadata": {},
   "outputs": [],
   "source": [
    "s=np.array(['4','6','6'],dtype=np.string_)"
   ]
  },
  {
   "cell_type": "code",
   "execution_count": 108,
   "metadata": {},
   "outputs": [
    {
     "data": {
      "text/plain": [
       "dtype('S1')"
      ]
     },
     "execution_count": 108,
     "metadata": {},
     "output_type": "execute_result"
    }
   ],
   "source": [
    "s.dtype"
   ]
  },
  {
   "cell_type": "code",
   "execution_count": 109,
   "metadata": {},
   "outputs": [
    {
     "data": {
      "text/plain": [
       "array([b'4', b'6', b'6'], dtype='|S1')"
      ]
     },
     "execution_count": 109,
     "metadata": {},
     "output_type": "execute_result"
    }
   ],
   "source": [
    "s\n",
    "\n"
   ]
  },
  {
   "cell_type": "code",
   "execution_count": 115,
   "metadata": {},
   "outputs": [],
   "source": [
    "f=s.astype(np.float)"
   ]
  },
  {
   "cell_type": "code",
   "execution_count": 116,
   "metadata": {},
   "outputs": [
    {
     "data": {
      "text/plain": [
       "dtype('float64')"
      ]
     },
     "execution_count": 116,
     "metadata": {},
     "output_type": "execute_result"
    }
   ],
   "source": [
    "f.dtype"
   ]
  },
  {
   "cell_type": "code",
   "execution_count": 100,
   "metadata": {},
   "outputs": [
    {
     "data": {
      "text/plain": [
       "dtype('S4')"
      ]
     },
     "execution_count": 100,
     "metadata": {},
     "output_type": "execute_result"
    }
   ],
   "source": [
    "numeric_strings = np.array(['1.25', '-9.6', '42'],dtype=np.string_)\n",
    "numeric_strings.dtype\n",
    "                           "
   ]
  },
  {
   "cell_type": "code",
   "execution_count": 102,
   "metadata": {},
   "outputs": [
    {
     "data": {
      "text/plain": [
       "array([b'1.25', b'-9.6', b'42'], dtype='|S4')"
      ]
     },
     "execution_count": 102,
     "metadata": {},
     "output_type": "execute_result"
    }
   ],
   "source": [
    "numeric_strings"
   ]
  },
  {
   "cell_type": "code",
   "execution_count": 105,
   "metadata": {},
   "outputs": [],
   "source": [
    "numeric_float=numeric_strings.astype(float)"
   ]
  },
  {
   "cell_type": "code",
   "execution_count": 106,
   "metadata": {},
   "outputs": [
    {
     "data": {
      "text/plain": [
       "array([ 1.25, -9.6 , 42.  ])"
      ]
     },
     "execution_count": 106,
     "metadata": {},
     "output_type": "execute_result"
    }
   ],
   "source": [
    "numeric_float"
   ]
  },
  {
   "cell_type": "code",
   "execution_count": 113,
   "metadata": {},
   "outputs": [
    {
     "data": {
      "text/plain": [
       "dtype('float64')"
      ]
     },
     "execution_count": 113,
     "metadata": {},
     "output_type": "execute_result"
    }
   ],
   "source": [
    "numeric_float.dtype"
   ]
  },
  {
   "cell_type": "code",
   "execution_count": 118,
   "metadata": {},
   "outputs": [],
   "source": [
    "ar=np.array(['5.7','7.8','8.8'])"
   ]
  },
  {
   "cell_type": "code",
   "execution_count": 119,
   "metadata": {},
   "outputs": [
    {
     "data": {
      "text/plain": [
       "dtype('<U3')"
      ]
     },
     "execution_count": 119,
     "metadata": {},
     "output_type": "execute_result"
    }
   ],
   "source": [
    "ar.dtype"
   ]
  },
  {
   "cell_type": "code",
   "execution_count": 123,
   "metadata": {},
   "outputs": [
    {
     "data": {
      "text/plain": [
       "array([5.7, 7.8, 8.8])"
      ]
     },
     "execution_count": 123,
     "metadata": {},
     "output_type": "execute_result"
    }
   ],
   "source": [
    "ar.astype(np.float64)"
   ]
  },
  {
   "cell_type": "code",
   "execution_count": 129,
   "metadata": {},
   "outputs": [
    {
     "data": {
      "text/plain": [
       "dtype('float32')"
      ]
     },
     "execution_count": 129,
     "metadata": {},
     "output_type": "execute_result"
    }
   ],
   "source": [
    "s=ar.astype(np.float32)\n",
    "s.dtype"
   ]
  },
  {
   "cell_type": "code",
   "execution_count": 130,
   "metadata": {},
   "outputs": [],
   "source": [
    "ar=np.array(['5','7','8'])"
   ]
  },
  {
   "cell_type": "code",
   "execution_count": 131,
   "metadata": {},
   "outputs": [
    {
     "data": {
      "text/plain": [
       "dtype('<U1')"
      ]
     },
     "execution_count": 131,
     "metadata": {},
     "output_type": "execute_result"
    }
   ],
   "source": [
    "ar.dtype"
   ]
  },
  {
   "cell_type": "code",
   "execution_count": 132,
   "metadata": {},
   "outputs": [],
   "source": [
    "i=ar.astype(np.int32)"
   ]
  },
  {
   "cell_type": "code",
   "execution_count": 133,
   "metadata": {},
   "outputs": [
    {
     "data": {
      "text/plain": [
       "array([5, 7, 8])"
      ]
     },
     "execution_count": 133,
     "metadata": {},
     "output_type": "execute_result"
    }
   ],
   "source": [
    "i"
   ]
  },
  {
   "cell_type": "code",
   "execution_count": 134,
   "metadata": {},
   "outputs": [
    {
     "data": {
      "text/plain": [
       "array([1, 2, 3, 4, 5, 6, 7])"
      ]
     },
     "execution_count": 134,
     "metadata": {},
     "output_type": "execute_result"
    }
   ],
   "source": [
    "intarray=np.array([1,2,3,4,5,6,7])\n",
    "intarray"
   ]
  },
  {
   "cell_type": "code",
   "execution_count": 135,
   "metadata": {},
   "outputs": [
    {
     "data": {
      "text/plain": [
       "array([1.2, 0.3, 0.7, 7.8])"
      ]
     },
     "execution_count": 135,
     "metadata": {},
     "output_type": "execute_result"
    }
   ],
   "source": [
    "floatarray=np.array([1.2,.3,.7,7.8])\n",
    "floatarray"
   ]
  },
  {
   "cell_type": "code",
   "execution_count": 137,
   "metadata": {},
   "outputs": [
    {
     "data": {
      "text/plain": [
       "array([1., 2., 3., 4., 5., 6., 7.])"
      ]
     },
     "execution_count": 137,
     "metadata": {},
     "output_type": "execute_result"
    }
   ],
   "source": [
    "intarray.astype(floatarray.dtype)"
   ]
  },
  {
   "cell_type": "code",
   "execution_count": 138,
   "metadata": {},
   "outputs": [
    {
     "data": {
      "text/plain": [
       "array([1, 0, 0, 7])"
      ]
     },
     "execution_count": 138,
     "metadata": {},
     "output_type": "execute_result"
    }
   ],
   "source": [
    "floatarray.astype(intarray.dtype)"
   ]
  },
  {
   "cell_type": "code",
   "execution_count": 140,
   "metadata": {},
   "outputs": [
    {
     "data": {
      "text/plain": [
       "array([         0, 1072693248,          0, 1072693248,          0,\n",
       "       1072693248,          0, 1072693248,          0, 1072693248],\n",
       "      dtype=uint32)"
      ]
     },
     "execution_count": 140,
     "metadata": {},
     "output_type": "execute_result"
    }
   ],
   "source": [
    "empty_uint32=np.empty(10,dtype='u4')\n",
    "empty_uint32"
   ]
  },
  {
   "cell_type": "code",
   "execution_count": 141,
   "metadata": {},
   "outputs": [
    {
     "data": {
      "text/plain": [
       "dtype('uint32')"
      ]
     },
     "execution_count": 141,
     "metadata": {},
     "output_type": "execute_result"
    }
   ],
   "source": [
    "empty_uint32.dtype"
   ]
  },
  {
   "cell_type": "code",
   "execution_count": 144,
   "metadata": {},
   "outputs": [
    {
     "data": {
      "text/plain": [
       "array([4607182418800017408, 4607182418800017408, 4607182418800017408,\n",
       "       4607182418800017408, 4607182418800017408, 4607182418800017408,\n",
       "       4607182418800017408, 4607182418800017408, 4607182418800017408,\n",
       "       4607182418800017408], dtype=uint64)"
      ]
     },
     "execution_count": 144,
     "metadata": {},
     "output_type": "execute_result"
    }
   ],
   "source": [
    "empty_uint64=np.empty(10,dtype='u8')\n",
    "empty_uint64"
   ]
  },
  {
   "cell_type": "code",
   "execution_count": 146,
   "metadata": {},
   "outputs": [
    {
     "data": {
      "text/plain": [
       "dtype('uint64')"
      ]
     },
     "execution_count": 146,
     "metadata": {},
     "output_type": "execute_result"
    }
   ],
   "source": [
    "empty_uint64.dtype"
   ]
  },
  {
   "cell_type": "code",
   "execution_count": 147,
   "metadata": {},
   "outputs": [
    {
     "data": {
      "text/plain": [
       "array([[1, 2, 4],\n",
       "       [6, 7, 8]])"
      ]
     },
     "execution_count": 147,
     "metadata": {},
     "output_type": "execute_result"
    }
   ],
   "source": [
    "arr1=np.array([[1,2,4],[6,7,8]])\n",
    "arr1"
   ]
  },
  {
   "cell_type": "code",
   "execution_count": 151,
   "metadata": {},
   "outputs": [
    {
     "data": {
      "text/plain": [
       "array([[ 0.,  4.,  1.],\n",
       "       [ 7.,  2., 12.]])"
      ]
     },
     "execution_count": 151,
     "metadata": {},
     "output_type": "execute_result"
    }
   ],
   "source": [
    "arr2 = np.array([[0., 4., 1.], [7., 2., 12.]])\n",
    "arr2"
   ]
  },
  {
   "cell_type": "code",
   "execution_count": 152,
   "metadata": {},
   "outputs": [
    {
     "data": {
      "text/plain": [
       "array([[ True, False,  True],\n",
       "       [False,  True, False]])"
      ]
     },
     "execution_count": 152,
     "metadata": {},
     "output_type": "execute_result"
    }
   ],
   "source": [
    "arr1>arr2"
   ]
  },
  {
   "cell_type": "code",
   "execution_count": 154,
   "metadata": {},
   "outputs": [
    {
     "data": {
      "text/plain": [
       "array([0, 1, 2, 3, 4, 5, 6, 7, 8, 9])"
      ]
     },
     "execution_count": 154,
     "metadata": {},
     "output_type": "execute_result"
    }
   ],
   "source": [
    "arr=np.arange(10)\n",
    "arr"
   ]
  },
  {
   "cell_type": "code",
   "execution_count": 155,
   "metadata": {},
   "outputs": [
    {
     "data": {
      "text/plain": [
       "5"
      ]
     },
     "execution_count": 155,
     "metadata": {},
     "output_type": "execute_result"
    }
   ],
   "source": [
    "arr[5]"
   ]
  },
  {
   "cell_type": "code",
   "execution_count": 157,
   "metadata": {},
   "outputs": [
    {
     "data": {
      "text/plain": [
       "array([5, 6])"
      ]
     },
     "execution_count": 157,
     "metadata": {},
     "output_type": "execute_result"
    }
   ],
   "source": [
    "arr[5:7]"
   ]
  },
  {
   "cell_type": "code",
   "execution_count": 158,
   "metadata": {},
   "outputs": [],
   "source": [
    "arr[5:7]=12"
   ]
  },
  {
   "cell_type": "code",
   "execution_count": 159,
   "metadata": {},
   "outputs": [
    {
     "data": {
      "text/plain": [
       "array([ 0,  1,  2,  3,  4, 12, 12,  7,  8,  9])"
      ]
     },
     "execution_count": 159,
     "metadata": {},
     "output_type": "execute_result"
    }
   ],
   "source": [
    "arr"
   ]
  },
  {
   "cell_type": "code",
   "execution_count": 160,
   "metadata": {},
   "outputs": [
    {
     "data": {
      "text/plain": [
       "array([12, 12])"
      ]
     },
     "execution_count": 160,
     "metadata": {},
     "output_type": "execute_result"
    }
   ],
   "source": [
    "myslice=arr[5:7]\n",
    "myslice"
   ]
  },
  {
   "cell_type": "code",
   "execution_count": 165,
   "metadata": {},
   "outputs": [
    {
     "data": {
      "text/plain": [
       "array([ 12, 134])"
      ]
     },
     "execution_count": 165,
     "metadata": {},
     "output_type": "execute_result"
    }
   ],
   "source": [
    "myslice[1]=134\n",
    "myslice"
   ]
  },
  {
   "cell_type": "code",
   "execution_count": 166,
   "metadata": {},
   "outputs": [
    {
     "data": {
      "text/plain": [
       "array([  0,   1,   2,   3,   4,  12, 134,   7,   8,   9])"
      ]
     },
     "execution_count": 166,
     "metadata": {},
     "output_type": "execute_result"
    }
   ],
   "source": [
    "arr"
   ]
  },
  {
   "cell_type": "code",
   "execution_count": 169,
   "metadata": {},
   "outputs": [
    {
     "data": {
      "text/plain": [
       "array([78, 78])"
      ]
     },
     "execution_count": 169,
     "metadata": {},
     "output_type": "execute_result"
    }
   ],
   "source": [
    "myslice[:]=78\n",
    "myslice"
   ]
  },
  {
   "cell_type": "code",
   "execution_count": 170,
   "metadata": {},
   "outputs": [
    {
     "data": {
      "text/plain": [
       "array([ 0,  1,  2,  3,  4, 78, 78,  7,  8,  9])"
      ]
     },
     "execution_count": 170,
     "metadata": {},
     "output_type": "execute_result"
    }
   ],
   "source": [
    "arr"
   ]
  },
  {
   "cell_type": "code",
   "execution_count": 172,
   "metadata": {},
   "outputs": [
    {
     "data": {
      "text/plain": [
       "array([78, 78,  7])"
      ]
     },
     "execution_count": 172,
     "metadata": {},
     "output_type": "execute_result"
    }
   ],
   "source": [
    "myslice=arr[5:8].copy()\n",
    "myslice"
   ]
  },
  {
   "cell_type": "code",
   "execution_count": 173,
   "metadata": {},
   "outputs": [],
   "source": [
    "myslice[1]=90"
   ]
  },
  {
   "cell_type": "code",
   "execution_count": 174,
   "metadata": {},
   "outputs": [
    {
     "data": {
      "text/plain": [
       "array([78, 90,  7])"
      ]
     },
     "execution_count": 174,
     "metadata": {},
     "output_type": "execute_result"
    }
   ],
   "source": [
    "myslice"
   ]
  },
  {
   "cell_type": "code",
   "execution_count": 175,
   "metadata": {},
   "outputs": [
    {
     "data": {
      "text/plain": [
       "array([ 0,  1,  2,  3,  4, 78, 78,  7,  8,  9])"
      ]
     },
     "execution_count": 175,
     "metadata": {},
     "output_type": "execute_result"
    }
   ],
   "source": [
    "arr"
   ]
  },
  {
   "cell_type": "code",
   "execution_count": 177,
   "metadata": {},
   "outputs": [
    {
     "data": {
      "text/plain": [
       "array([[1, 2, 3],\n",
       "       [4, 5, 6],\n",
       "       [6, 7, 8]])"
      ]
     },
     "execution_count": 177,
     "metadata": {},
     "output_type": "execute_result"
    }
   ],
   "source": [
    "arr2d=np.array([[1,2,3],[4,5,6],[6,7,8]])\n",
    "arr2d"
   ]
  },
  {
   "cell_type": "code",
   "execution_count": 178,
   "metadata": {},
   "outputs": [
    {
     "data": {
      "text/plain": [
       "2"
      ]
     },
     "execution_count": 178,
     "metadata": {},
     "output_type": "execute_result"
    }
   ],
   "source": [
    "arr2d.ndim"
   ]
  },
  {
   "cell_type": "code",
   "execution_count": 179,
   "metadata": {},
   "outputs": [
    {
     "data": {
      "text/plain": [
       "3"
      ]
     },
     "execution_count": 179,
     "metadata": {},
     "output_type": "execute_result"
    }
   ],
   "source": [
    "arr2d[0,2]"
   ]
  },
  {
   "cell_type": "code",
   "execution_count": 185,
   "metadata": {},
   "outputs": [
    {
     "data": {
      "text/plain": [
       "array([[[1, 2, 3],\n",
       "        [5, 6, 7]],\n",
       "\n",
       "       [[4, 5, 6],\n",
       "        [7, 8, 7]]])"
      ]
     },
     "execution_count": 185,
     "metadata": {},
     "output_type": "execute_result"
    }
   ],
   "source": [
    "arr3d=np.array([[[1,2,3],[5,6,7]],[[4,5,6],[7,8,7]]])\n",
    "arr3d"
   ]
  },
  {
   "cell_type": "code",
   "execution_count": 186,
   "metadata": {},
   "outputs": [
    {
     "data": {
      "text/plain": [
       "3"
      ]
     },
     "execution_count": 186,
     "metadata": {},
     "output_type": "execute_result"
    }
   ],
   "source": [
    "arr3d.ndim"
   ]
  },
  {
   "cell_type": "code",
   "execution_count": 191,
   "metadata": {},
   "outputs": [
    {
     "data": {
      "text/plain": [
       "array([[4, 5, 6],\n",
       "       [7, 8, 7]])"
      ]
     },
     "execution_count": 191,
     "metadata": {},
     "output_type": "execute_result"
    }
   ],
   "source": [
    "arr3d[1]"
   ]
  },
  {
   "cell_type": "code",
   "execution_count": 205,
   "metadata": {},
   "outputs": [
    {
     "data": {
      "text/plain": [
       "array([[7, 8, 7]])"
      ]
     },
     "execution_count": 205,
     "metadata": {},
     "output_type": "execute_result"
    }
   ],
   "source": [
    "arr3d[1][1:3]"
   ]
  },
  {
   "cell_type": "code",
   "execution_count": 195,
   "metadata": {},
   "outputs": [
    {
     "data": {
      "text/plain": [
       "array([[1, 2, 3],\n",
       "       [5, 6, 7]])"
      ]
     },
     "execution_count": 195,
     "metadata": {},
     "output_type": "execute_result"
    }
   ],
   "source": [
    "arr3d[0][0:3]"
   ]
  },
  {
   "cell_type": "code",
   "execution_count": 196,
   "metadata": {},
   "outputs": [
    {
     "data": {
      "text/plain": [
       "array([[4, 5, 6],\n",
       "       [7, 8, 7]])"
      ]
     },
     "execution_count": 196,
     "metadata": {},
     "output_type": "execute_result"
    }
   ],
   "source": [
    "arr3d[1][0:3]"
   ]
  },
  {
   "cell_type": "code",
   "execution_count": 206,
   "metadata": {},
   "outputs": [
    {
     "data": {
      "text/plain": [
       "7"
      ]
     },
     "execution_count": 206,
     "metadata": {},
     "output_type": "execute_result"
    }
   ],
   "source": [
    "arr3d[0,1,2]"
   ]
  },
  {
   "cell_type": "code",
   "execution_count": 207,
   "metadata": {},
   "outputs": [
    {
     "data": {
      "text/plain": [
       "array([[[1, 2, 3],\n",
       "        [5, 6, 7]],\n",
       "\n",
       "       [[4, 5, 6],\n",
       "        [7, 8, 7]]])"
      ]
     },
     "execution_count": 207,
     "metadata": {},
     "output_type": "execute_result"
    }
   ],
   "source": [
    "arr3d\n"
   ]
  },
  {
   "cell_type": "code",
   "execution_count": 209,
   "metadata": {},
   "outputs": [
    {
     "data": {
      "text/plain": [
       "array([5, 6])"
      ]
     },
     "execution_count": 209,
     "metadata": {},
     "output_type": "execute_result"
    }
   ],
   "source": [
    "arr3d[0,1,0:2]"
   ]
  },
  {
   "cell_type": "code",
   "execution_count": 210,
   "metadata": {},
   "outputs": [
    {
     "data": {
      "text/plain": [
       "array([[1, 2, 3],\n",
       "       [5, 6, 7]])"
      ]
     },
     "execution_count": 210,
     "metadata": {},
     "output_type": "execute_result"
    }
   ],
   "source": [
    "old_values=arr3d[0].copy()\n",
    "old_values"
   ]
  },
  {
   "cell_type": "code",
   "execution_count": 211,
   "metadata": {},
   "outputs": [],
   "source": [
    "arr3d[0]=24"
   ]
  },
  {
   "cell_type": "code",
   "execution_count": 212,
   "metadata": {},
   "outputs": [
    {
     "data": {
      "text/plain": [
       "array([[[24, 24, 24],\n",
       "        [24, 24, 24]],\n",
       "\n",
       "       [[ 4,  5,  6],\n",
       "        [ 7,  8,  7]]])"
      ]
     },
     "execution_count": 212,
     "metadata": {},
     "output_type": "execute_result"
    }
   ],
   "source": [
    "arr3d"
   ]
  },
  {
   "cell_type": "code",
   "execution_count": 213,
   "metadata": {},
   "outputs": [
    {
     "data": {
      "text/plain": [
       "array([[1, 2, 3],\n",
       "       [5, 6, 7]])"
      ]
     },
     "execution_count": 213,
     "metadata": {},
     "output_type": "execute_result"
    }
   ],
   "source": [
    "old_values"
   ]
  },
  {
   "cell_type": "code",
   "execution_count": 214,
   "metadata": {},
   "outputs": [
    {
     "data": {
      "text/plain": [
       "array([ 0,  1,  2,  3,  4, 78, 78,  7,  8,  9])"
      ]
     },
     "execution_count": 214,
     "metadata": {},
     "output_type": "execute_result"
    }
   ],
   "source": [
    "arr"
   ]
  },
  {
   "cell_type": "code",
   "execution_count": 215,
   "metadata": {},
   "outputs": [
    {
     "data": {
      "text/plain": [
       "array([ 1,  2,  3,  4, 78])"
      ]
     },
     "execution_count": 215,
     "metadata": {},
     "output_type": "execute_result"
    }
   ],
   "source": [
    "arr[1:6]"
   ]
  },
  {
   "cell_type": "code",
   "execution_count": 216,
   "metadata": {},
   "outputs": [
    {
     "data": {
      "text/plain": [
       "array([[1, 2, 3],\n",
       "       [4, 5, 6],\n",
       "       [6, 7, 8]])"
      ]
     },
     "execution_count": 216,
     "metadata": {},
     "output_type": "execute_result"
    }
   ],
   "source": [
    "arr2d"
   ]
  },
  {
   "cell_type": "code",
   "execution_count": 217,
   "metadata": {},
   "outputs": [
    {
     "data": {
      "text/plain": [
       "array([[1, 2, 3],\n",
       "       [4, 5, 6]])"
      ]
     },
     "execution_count": 217,
     "metadata": {},
     "output_type": "execute_result"
    }
   ],
   "source": [
    "arr2d[:2,:]"
   ]
  },
  {
   "cell_type": "code",
   "execution_count": 218,
   "metadata": {},
   "outputs": [
    {
     "data": {
      "text/plain": [
       "array([2, 5])"
      ]
     },
     "execution_count": 218,
     "metadata": {},
     "output_type": "execute_result"
    }
   ],
   "source": [
    "arr2d[:2,1]"
   ]
  },
  {
   "cell_type": "code",
   "execution_count": 220,
   "metadata": {},
   "outputs": [
    {
     "data": {
      "text/plain": [
       "array([[1],\n",
       "       [4]])"
      ]
     },
     "execution_count": 220,
     "metadata": {},
     "output_type": "execute_result"
    }
   ],
   "source": [
    "arr2d[:2,:1]"
   ]
  },
  {
   "cell_type": "code",
   "execution_count": 221,
   "metadata": {},
   "outputs": [
    {
     "data": {
      "text/plain": [
       "array([[2, 3],\n",
       "       [5, 6]])"
      ]
     },
     "execution_count": 221,
     "metadata": {},
     "output_type": "execute_result"
    }
   ],
   "source": [
    "arr2d[:2,1:]"
   ]
  },
  {
   "cell_type": "code",
   "execution_count": 222,
   "metadata": {},
   "outputs": [
    {
     "data": {
      "text/plain": [
       "array([[3],\n",
       "       [6]])"
      ]
     },
     "execution_count": 222,
     "metadata": {},
     "output_type": "execute_result"
    }
   ],
   "source": [
    "arr2d[0:2,2:]"
   ]
  },
  {
   "cell_type": "code",
   "execution_count": 223,
   "metadata": {},
   "outputs": [
    {
     "data": {
      "text/plain": [
       "array([[1],\n",
       "       [4],\n",
       "       [6]])"
      ]
     },
     "execution_count": 223,
     "metadata": {},
     "output_type": "execute_result"
    }
   ],
   "source": [
    "arr2d[:3,0:1]"
   ]
  },
  {
   "cell_type": "code",
   "execution_count": 224,
   "metadata": {},
   "outputs": [],
   "source": [
    "arr2d[0:2,1:]=0"
   ]
  },
  {
   "cell_type": "code",
   "execution_count": 225,
   "metadata": {},
   "outputs": [
    {
     "data": {
      "text/plain": [
       "array([[1, 0, 0],\n",
       "       [4, 0, 0],\n",
       "       [6, 7, 8]])"
      ]
     },
     "execution_count": 225,
     "metadata": {},
     "output_type": "execute_result"
    }
   ],
   "source": [
    "arr2d"
   ]
  },
  {
   "cell_type": "code",
   "execution_count": 237,
   "metadata": {},
   "outputs": [
    {
     "data": {
      "text/plain": [
       "array(['Bob', 'Joe', 'Will', 'Bob', 'Will', 'Joe', 'Joe'], dtype='<U4')"
      ]
     },
     "execution_count": 237,
     "metadata": {},
     "output_type": "execute_result"
    }
   ],
   "source": [
    "names = np.array(['Bob', 'Joe', 'Will', 'Bob', 'Will', 'Joe', 'Joe'])\n",
    "names"
   ]
  },
  {
   "cell_type": "code",
   "execution_count": 230,
   "metadata": {},
   "outputs": [
    {
     "data": {
      "text/plain": [
       "array([[-0.96092988,  2.49624228, -1.71835697,  1.35921984],\n",
       "       [-0.23826904, -0.61447288,  0.16029111,  0.83713318],\n",
       "       [-0.60998865,  1.31990633,  1.41441384, -0.70216339],\n",
       "       [-0.98467936, -0.75719475,  1.1564426 , -1.64552877],\n",
       "       [ 0.10315163, -0.1902949 , -0.89380066, -1.23301436],\n",
       "       [ 0.2668262 , -0.26480401,  1.99771274,  0.55850481],\n",
       "       [ 1.59682067,  0.38411472, -0.50089959, -1.04093422]])"
      ]
     },
     "execution_count": 230,
     "metadata": {},
     "output_type": "execute_result"
    }
   ],
   "source": [
    "data=np.random.randn(7,4)\n",
    "data #RANDN MA NEGATIVE BI AYE GI"
   ]
  },
  {
   "cell_type": "code",
   "execution_count": 233,
   "metadata": {},
   "outputs": [
    {
     "data": {
      "text/plain": [
       "array([[0.51824363, 0.62723797, 0.26258609, 0.14214829],\n",
       "       [0.79851126, 0.7291353 , 0.61150269, 0.93893365],\n",
       "       [0.95939661, 0.7133892 , 0.13511603, 0.70146721],\n",
       "       [0.94157032, 0.27278201, 0.76123001, 0.69806943],\n",
       "       [0.70466924, 0.65187364, 0.01293444, 0.31007775],\n",
       "       [0.35408237, 0.8353469 , 0.69571639, 0.71835782],\n",
       "       [0.83756322, 0.81204122, 0.22843469, 0.71184858]])"
      ]
     },
     "execution_count": 233,
     "metadata": {},
     "output_type": "execute_result"
    }
   ],
   "source": [
    "data=np.random.rand(7,4)\n",
    "data #RAND MA POSSITIVE VALUE AYE "
   ]
  },
  {
   "cell_type": "code",
   "execution_count": 238,
   "metadata": {},
   "outputs": [
    {
     "data": {
      "text/plain": [
       "array([ True, False, False,  True, False, False, False])"
      ]
     },
     "execution_count": 238,
     "metadata": {},
     "output_type": "execute_result"
    }
   ],
   "source": [
    "names=='Bob'"
   ]
  },
  {
   "cell_type": "code",
   "execution_count": 240,
   "metadata": {},
   "outputs": [
    {
     "data": {
      "text/plain": [
       "array(['Bob', 'Joe', 'Will', 'Bob', 'Will', 'Joe', 'Joe'], dtype='<U4')"
      ]
     },
     "execution_count": 240,
     "metadata": {},
     "output_type": "execute_result"
    }
   ],
   "source": [
    "names"
   ]
  },
  {
   "cell_type": "code",
   "execution_count": 239,
   "metadata": {},
   "outputs": [
    {
     "data": {
      "text/plain": [
       "array(['Bob', 'Bob'], dtype='<U4')"
      ]
     },
     "execution_count": 239,
     "metadata": {},
     "output_type": "execute_result"
    }
   ],
   "source": [
    "names[names=='Bob']"
   ]
  },
  {
   "cell_type": "code",
   "execution_count": 241,
   "metadata": {},
   "outputs": [
    {
     "data": {
      "text/plain": [
       "True"
      ]
     },
     "execution_count": 241,
     "metadata": {},
     "output_type": "execute_result"
    }
   ],
   "source": [
    "'Bob' in names"
   ]
  },
  {
   "cell_type": "code",
   "execution_count": 242,
   "metadata": {},
   "outputs": [
    {
     "data": {
      "text/plain": [
       "False"
      ]
     },
     "execution_count": 242,
     "metadata": {},
     "output_type": "execute_result"
    }
   ],
   "source": [
    "'j' in names"
   ]
  },
  {
   "cell_type": "code",
   "execution_count": 245,
   "metadata": {},
   "outputs": [
    {
     "data": {
      "text/plain": [
       "array([[0.51824363, 0.62723797, 0.26258609, 0.14214829],\n",
       "       [0.79851126, 0.7291353 , 0.61150269, 0.93893365],\n",
       "       [0.95939661, 0.7133892 , 0.13511603, 0.70146721],\n",
       "       [0.94157032, 0.27278201, 0.76123001, 0.69806943],\n",
       "       [0.70466924, 0.65187364, 0.01293444, 0.31007775],\n",
       "       [0.35408237, 0.8353469 , 0.69571639, 0.71835782],\n",
       "       [0.83756322, 0.81204122, 0.22843469, 0.71184858]])"
      ]
     },
     "execution_count": 245,
     "metadata": {},
     "output_type": "execute_result"
    }
   ],
   "source": [
    "data"
   ]
  },
  {
   "cell_type": "code",
   "execution_count": 244,
   "metadata": {},
   "outputs": [
    {
     "data": {
      "text/plain": [
       "array([[0.51824363, 0.62723797, 0.26258609, 0.14214829],\n",
       "       [0.94157032, 0.27278201, 0.76123001, 0.69806943]])"
      ]
     },
     "execution_count": 244,
     "metadata": {},
     "output_type": "execute_result"
    }
   ],
   "source": [
    "data[names=='Bob']"
   ]
  },
  {
   "cell_type": "code",
   "execution_count": 246,
   "metadata": {},
   "outputs": [
    {
     "data": {
      "text/plain": [
       "array([[0.51824363, 0.62723797, 0.26258609],\n",
       "       [0.94157032, 0.27278201, 0.76123001]])"
      ]
     },
     "execution_count": 246,
     "metadata": {},
     "output_type": "execute_result"
    }
   ],
   "source": [
    "data[names=='Bob',0:3]"
   ]
  },
  {
   "cell_type": "code",
   "execution_count": 247,
   "metadata": {},
   "outputs": [
    {
     "data": {
      "text/plain": [
       "array([False,  True,  True, False,  True,  True,  True])"
      ]
     },
     "execution_count": 247,
     "metadata": {},
     "output_type": "execute_result"
    }
   ],
   "source": [
    "names!='Bob'"
   ]
  },
  {
   "cell_type": "code",
   "execution_count": 248,
   "metadata": {},
   "outputs": [
    {
     "data": {
      "text/plain": [
       "array([[0.79851126, 0.7291353 , 0.61150269, 0.93893365],\n",
       "       [0.95939661, 0.7133892 , 0.13511603, 0.70146721],\n",
       "       [0.70466924, 0.65187364, 0.01293444, 0.31007775],\n",
       "       [0.35408237, 0.8353469 , 0.69571639, 0.71835782],\n",
       "       [0.83756322, 0.81204122, 0.22843469, 0.71184858]])"
      ]
     },
     "execution_count": 248,
     "metadata": {},
     "output_type": "execute_result"
    }
   ],
   "source": [
    "data[names!='Bob']"
   ]
  },
  {
   "cell_type": "code",
   "execution_count": 250,
   "metadata": {},
   "outputs": [
    {
     "data": {
      "text/plain": [
       "array([[0.51824363, 0.62723797, 0.26258609, 0.14214829],\n",
       "       [0.94157032, 0.27278201, 0.76123001, 0.69806943]])"
      ]
     },
     "execution_count": 250,
     "metadata": {},
     "output_type": "execute_result"
    }
   ],
   "source": [
    "data[~(names!='Bob')]"
   ]
  },
  {
   "cell_type": "code",
   "execution_count": 251,
   "metadata": {},
   "outputs": [
    {
     "data": {
      "text/plain": [
       "array([[0.79851126, 0.7291353 , 0.61150269, 0.93893365],\n",
       "       [0.95939661, 0.7133892 , 0.13511603, 0.70146721],\n",
       "       [0.70466924, 0.65187364, 0.01293444, 0.31007775],\n",
       "       [0.35408237, 0.8353469 , 0.69571639, 0.71835782],\n",
       "       [0.83756322, 0.81204122, 0.22843469, 0.71184858]])"
      ]
     },
     "execution_count": 251,
     "metadata": {},
     "output_type": "execute_result"
    }
   ],
   "source": [
    "data[~(names=='Bob')]"
   ]
  },
  {
   "cell_type": "code",
   "execution_count": 254,
   "metadata": {},
   "outputs": [
    {
     "data": {
      "text/plain": [
       "array([[0.51824363, 0.62723797, 0.26258609, 0.14214829],\n",
       "       [0.94157032, 0.27278201, 0.76123001, 0.69806943]])"
      ]
     },
     "execution_count": 254,
     "metadata": {},
     "output_type": "execute_result"
    }
   ],
   "source": [
    "cond=names=='Bob'\n",
    "data[cond]"
   ]
  },
  {
   "cell_type": "code",
   "execution_count": 255,
   "metadata": {},
   "outputs": [
    {
     "data": {
      "text/plain": [
       "array([[0.79851126, 0.7291353 , 0.61150269, 0.93893365],\n",
       "       [0.95939661, 0.7133892 , 0.13511603, 0.70146721],\n",
       "       [0.70466924, 0.65187364, 0.01293444, 0.31007775],\n",
       "       [0.35408237, 0.8353469 , 0.69571639, 0.71835782],\n",
       "       [0.83756322, 0.81204122, 0.22843469, 0.71184858]])"
      ]
     },
     "execution_count": 255,
     "metadata": {},
     "output_type": "execute_result"
    }
   ],
   "source": [
    "cond=names=='Bob'\n",
    "data[~cond]"
   ]
  },
  {
   "cell_type": "code",
   "execution_count": 258,
   "metadata": {},
   "outputs": [
    {
     "data": {
      "text/plain": [
       "array(['Bob', 'Joe', 'Will', 'Bob', 'Will', 'Joe', 'Joe'], dtype='<U4')"
      ]
     },
     "execution_count": 258,
     "metadata": {},
     "output_type": "execute_result"
    }
   ],
   "source": [
    "names"
   ]
  },
  {
   "cell_type": "code",
   "execution_count": 262,
   "metadata": {},
   "outputs": [
    {
     "data": {
      "text/plain": [
       "array([ True, False,  True,  True,  True, False, False])"
      ]
     },
     "execution_count": 262,
     "metadata": {},
     "output_type": "execute_result"
    }
   ],
   "source": [
    "mask=(names=='Bob') |(names=='Will')\n",
    "mask"
   ]
  },
  {
   "cell_type": "code",
   "execution_count": 263,
   "metadata": {},
   "outputs": [
    {
     "data": {
      "text/plain": [
       "array([[0.51824363, 0.62723797, 0.26258609, 0.14214829],\n",
       "       [0.95939661, 0.7133892 , 0.13511603, 0.70146721],\n",
       "       [0.94157032, 0.27278201, 0.76123001, 0.69806943],\n",
       "       [0.70466924, 0.65187364, 0.01293444, 0.31007775]])"
      ]
     },
     "execution_count": 263,
     "metadata": {},
     "output_type": "execute_result"
    }
   ],
   "source": [
    "data[mask]"
   ]
  },
  {
   "cell_type": "code",
   "execution_count": 265,
   "metadata": {},
   "outputs": [
    {
     "data": {
      "text/plain": [
       "array([[0.51824363, 0.62723797, 0.26258609, 0.14214829],\n",
       "       [0.79851126, 0.7291353 , 0.61150269, 0.93893365],\n",
       "       [0.95939661, 0.7133892 , 0.13511603, 0.70146721],\n",
       "       [0.94157032, 0.27278201, 0.76123001, 0.69806943],\n",
       "       [0.70466924, 0.65187364, 0.01293444, 0.31007775],\n",
       "       [0.35408237, 0.8353469 , 0.69571639, 0.71835782],\n",
       "       [0.83756322, 0.81204122, 0.22843469, 0.71184858]])"
      ]
     },
     "execution_count": 265,
     "metadata": {},
     "output_type": "execute_result"
    }
   ],
   "source": [
    "data"
   ]
  },
  {
   "cell_type": "code",
   "execution_count": 266,
   "metadata": {},
   "outputs": [
    {
     "data": {
      "text/plain": [
       "array([[False, False, False, False],\n",
       "       [False, False, False, False],\n",
       "       [False, False, False, False],\n",
       "       [False, False, False, False],\n",
       "       [False, False, False, False],\n",
       "       [False, False, False, False],\n",
       "       [False, False, False, False]])"
      ]
     },
     "execution_count": 266,
     "metadata": {},
     "output_type": "execute_result"
    }
   ],
   "source": [
    "data<0"
   ]
  },
  {
   "cell_type": "code",
   "execution_count": 267,
   "metadata": {},
   "outputs": [
    {
     "data": {
      "text/plain": [
       "array([[ True,  True,  True,  True],\n",
       "       [ True,  True,  True,  True],\n",
       "       [ True,  True,  True,  True],\n",
       "       [ True,  True,  True,  True],\n",
       "       [ True,  True,  True,  True],\n",
       "       [ True,  True,  True,  True],\n",
       "       [ True,  True,  True,  True]])"
      ]
     },
     "execution_count": 267,
     "metadata": {},
     "output_type": "execute_result"
    }
   ],
   "source": [
    "data>0"
   ]
  },
  {
   "cell_type": "code",
   "execution_count": 273,
   "metadata": {},
   "outputs": [],
   "source": [
    "data[data==0]=13"
   ]
  },
  {
   "cell_type": "code",
   "execution_count": 274,
   "metadata": {},
   "outputs": [
    {
     "data": {
      "text/plain": [
       "array([[13., 13., 13., 13.],\n",
       "       [13., 13., 13., 13.],\n",
       "       [13., 13., 13., 13.],\n",
       "       [13., 13., 13., 13.],\n",
       "       [13., 13., 13., 13.],\n",
       "       [13., 13., 13., 13.],\n",
       "       [13., 13., 13., 13.]])"
      ]
     },
     "execution_count": 274,
     "metadata": {},
     "output_type": "execute_result"
    }
   ],
   "source": [
    "data"
   ]
  },
  {
   "cell_type": "code",
   "execution_count": 277,
   "metadata": {},
   "outputs": [
    {
     "data": {
      "text/plain": [
       "array(['Bob', 'Joe', 'Will', 'Bob', 'Will', 'Joe', 'Joe'], dtype='<U4')"
      ]
     },
     "execution_count": 277,
     "metadata": {},
     "output_type": "execute_result"
    }
   ],
   "source": [
    "names\n"
   ]
  },
  {
   "cell_type": "code",
   "execution_count": 278,
   "metadata": {},
   "outputs": [
    {
     "data": {
      "text/plain": [
       "array([[13., 13., 13., 13.],\n",
       "       [13., 13., 13., 13.],\n",
       "       [13., 13., 13., 13.],\n",
       "       [13., 13., 13., 13.],\n",
       "       [13., 13., 13., 13.],\n",
       "       [13., 13., 13., 13.],\n",
       "       [13., 13., 13., 13.]])"
      ]
     },
     "execution_count": 278,
     "metadata": {},
     "output_type": "execute_result"
    }
   ],
   "source": [
    "data"
   ]
  },
  {
   "cell_type": "code",
   "execution_count": 276,
   "metadata": {},
   "outputs": [
    {
     "data": {
      "text/plain": [
       "array([ True, False,  True,  True,  True, False, False])"
      ]
     },
     "execution_count": 276,
     "metadata": {},
     "output_type": "execute_result"
    }
   ],
   "source": [
    "names!='Joe'"
   ]
  },
  {
   "cell_type": "code",
   "execution_count": 280,
   "metadata": {},
   "outputs": [
    {
     "data": {
      "text/plain": [
       "array([[ 7.,  7.,  7.,  7.],\n",
       "       [13., 13., 13., 13.],\n",
       "       [ 7.,  7.,  7.,  7.],\n",
       "       [ 7.,  7.,  7.,  7.],\n",
       "       [ 7.,  7.,  7.,  7.],\n",
       "       [13., 13., 13., 13.],\n",
       "       [13., 13., 13., 13.]])"
      ]
     },
     "execution_count": 280,
     "metadata": {},
     "output_type": "execute_result"
    }
   ],
   "source": [
    "data[names!='Joe']=7\n",
    "data"
   ]
  },
  {
   "cell_type": "code",
   "execution_count": 292,
   "metadata": {},
   "outputs": [
    {
     "data": {
      "text/plain": [
       "array([[0., 0., 0., 0.],\n",
       "       [1., 1., 1., 1.],\n",
       "       [2., 2., 2., 2.],\n",
       "       [3., 3., 3., 3.],\n",
       "       [4., 4., 4., 4.],\n",
       "       [5., 5., 5., 5.],\n",
       "       [6., 6., 6., 6.],\n",
       "       [7., 7., 7., 7.]])"
      ]
     },
     "execution_count": 292,
     "metadata": {},
     "output_type": "execute_result"
    }
   ],
   "source": [
    "arr=np.empty((8,4))\n",
    "arr"
   ]
  },
  {
   "cell_type": "code",
   "execution_count": 300,
   "metadata": {},
   "outputs": [
    {
     "data": {
      "text/plain": [
       "array([[0., 0., 0., 0.],\n",
       "       [1., 1., 1., 1.],\n",
       "       [2., 2., 2., 2.],\n",
       "       [3., 3., 3., 3.],\n",
       "       [4., 4., 4., 4.],\n",
       "       [5., 5., 5., 5.],\n",
       "       [6., 6., 6., 6.],\n",
       "       [7., 7., 7., 7.]])"
      ]
     },
     "execution_count": 300,
     "metadata": {},
     "output_type": "execute_result"
    }
   ],
   "source": [
    "for i in range(8):\n",
    "    arr[i]=i\n",
    "arr"
   ]
  },
  {
   "cell_type": "code",
   "execution_count": 301,
   "metadata": {},
   "outputs": [
    {
     "data": {
      "text/plain": [
       "array([[1., 1., 1., 1.],\n",
       "       [5., 5., 5., 5.],\n",
       "       [7., 7., 7., 7.]])"
      ]
     },
     "execution_count": 301,
     "metadata": {},
     "output_type": "execute_result"
    }
   ],
   "source": [
    "arr[[1,5,7]]"
   ]
  },
  {
   "cell_type": "code",
   "execution_count": 302,
   "metadata": {},
   "outputs": [
    {
     "data": {
      "text/plain": [
       "array([[7., 7., 7., 7.],\n",
       "       [3., 3., 3., 3.],\n",
       "       [1., 1., 1., 1.]])"
      ]
     },
     "execution_count": 302,
     "metadata": {},
     "output_type": "execute_result"
    }
   ],
   "source": [
    "arr[[-1,-5,-7]]"
   ]
  },
  {
   "cell_type": "code",
   "execution_count": 304,
   "metadata": {},
   "outputs": [
    {
     "data": {
      "text/plain": [
       "array([[ 0,  1,  2,  3],\n",
       "       [ 4,  5,  6,  7],\n",
       "       [ 8,  9, 10, 11],\n",
       "       [12, 13, 14, 15],\n",
       "       [16, 17, 18, 19],\n",
       "       [20, 21, 22, 23],\n",
       "       [24, 25, 26, 27],\n",
       "       [28, 29, 30, 31]])"
      ]
     },
     "execution_count": 304,
     "metadata": {},
     "output_type": "execute_result"
    }
   ],
   "source": [
    "arr=np.arange(32).reshape(8,4)\n",
    "arr"
   ]
  },
  {
   "cell_type": "code",
   "execution_count": 306,
   "metadata": {},
   "outputs": [
    {
     "data": {
      "text/plain": [
       "array([ 4, 11, 14])"
      ]
     },
     "execution_count": 306,
     "metadata": {},
     "output_type": "execute_result"
    }
   ],
   "source": [
    "arr[[1,2,3],[0,3,2]]"
   ]
  },
  {
   "cell_type": "code",
   "execution_count": 315,
   "metadata": {},
   "outputs": [
    {
     "data": {
      "text/plain": [
       "array([[ 4,  7,  5,  6],\n",
       "       [20, 23, 21, 22],\n",
       "       [28, 31, 29, 30],\n",
       "       [ 8, 11,  9, 10]])"
      ]
     },
     "execution_count": 315,
     "metadata": {},
     "output_type": "execute_result"
    }
   ],
   "source": [
    "arr[[1,5,7,2]][:,[0,3,1,2]]"
   ]
  },
  {
   "cell_type": "code",
   "execution_count": 318,
   "metadata": {},
   "outputs": [
    {
     "data": {
      "text/plain": [
       "array([ 6, 10])"
      ]
     },
     "execution_count": 318,
     "metadata": {},
     "output_type": "execute_result"
    }
   ],
   "source": [
    "arr[[1,2],[2,2]]"
   ]
  },
  {
   "cell_type": "code",
   "execution_count": 321,
   "metadata": {},
   "outputs": [
    {
     "data": {
      "text/plain": [
       "array([[ 7,  6],\n",
       "       [11, 10]])"
      ]
     },
     "execution_count": 321,
     "metadata": {},
     "output_type": "execute_result"
    }
   ],
   "source": [
    "arr[[1,2]][:,[3,2]]"
   ]
  },
  {
   "cell_type": "code",
   "execution_count": 323,
   "metadata": {},
   "outputs": [
    {
     "data": {
      "text/plain": [
       "array([[ 0,  1,  2],\n",
       "       [ 3,  4,  5],\n",
       "       [ 6,  7,  8],\n",
       "       [ 9, 10, 11],\n",
       "       [12, 13, 14]])"
      ]
     },
     "execution_count": 323,
     "metadata": {},
     "output_type": "execute_result"
    }
   ],
   "source": [
    "arr=np.arange(15).reshape(5,3)\n",
    "arr"
   ]
  },
  {
   "cell_type": "raw",
   "metadata": {},
   "source": [
    "arr.T"
   ]
  },
  {
   "cell_type": "code",
   "execution_count": 324,
   "metadata": {},
   "outputs": [
    {
     "data": {
      "text/plain": [
       "array([[ 0,  3,  6,  9, 12],\n",
       "       [ 1,  4,  7, 10, 13],\n",
       "       [ 2,  5,  8, 11, 14]])"
      ]
     },
     "execution_count": 324,
     "metadata": {},
     "output_type": "execute_result"
    }
   ],
   "source": [
    "arr.T"
   ]
  },
  {
   "cell_type": "code",
   "execution_count": 328,
   "metadata": {},
   "outputs": [
    {
     "data": {
      "text/plain": [
       "array([[-1.71302333,  0.12430433,  0.21234497],\n",
       "       [-0.93837749,  0.44611465, -0.79208307],\n",
       "       [-0.47184277,  0.05593574, -0.14328435],\n",
       "       [-0.56659856, -0.20994278,  0.37959714],\n",
       "       [ 0.41665734, -0.93474703,  0.43671307],\n",
       "       [ 0.22360119, -1.67957351, -0.08036433]])"
      ]
     },
     "execution_count": 328,
     "metadata": {},
     "output_type": "execute_result"
    }
   ],
   "source": [
    "arr=np.random.randn(6,3)\n",
    "arr"
   ]
  },
  {
   "cell_type": "code",
   "execution_count": 329,
   "metadata": {},
   "outputs": [
    {
     "data": {
      "text/plain": [
       "array([[ 4.5822716 , -1.30402361,  0.39603968],\n",
       "       [-1.30402361,  3.95639381, -0.6879113 ],\n",
       "       [ 0.39603968, -0.6879113 ,  1.03428711]])"
      ]
     },
     "execution_count": 329,
     "metadata": {},
     "output_type": "execute_result"
    }
   ],
   "source": [
    "np.dot(arr.T,arr) #matrix multiplication"
   ]
  },
  {
   "cell_type": "code",
   "execution_count": 330,
   "metadata": {},
   "outputs": [
    {
     "data": {
      "text/plain": [
       "32"
      ]
     },
     "execution_count": 330,
     "metadata": {},
     "output_type": "execute_result"
    }
   ],
   "source": [
    "arr1=np.array([1,2,3])\n",
    "arr2=np.array([4,5,6]) #this is a vector product\n",
    "9np.dot(arr1,arr2)"
   ]
  },
  {
   "cell_type": "code",
   "execution_count": 331,
   "metadata": {},
   "outputs": [
    {
     "data": {
      "text/plain": [
       "array([[[ 0,  1,  2,  3],\n",
       "        [ 4,  5,  6,  7]],\n",
       "\n",
       "       [[ 8,  9, 10, 11],\n",
       "        [12, 13, 14, 15]]])"
      ]
     },
     "execution_count": 331,
     "metadata": {},
     "output_type": "execute_result"
    }
   ],
   "source": [
    "arr=np.arange(16).reshape(2,2,4)\n",
    "arr"
   ]
  },
  {
   "cell_type": "code",
   "execution_count": 336,
   "metadata": {},
   "outputs": [
    {
     "data": {
      "text/plain": [
       "array([[[ 0,  1,  2,  3],\n",
       "        [ 8,  9, 10, 11]],\n",
       "\n",
       "       [[ 4,  5,  6,  7],\n",
       "        [12, 13, 14, 15]]])"
      ]
     },
     "execution_count": 336,
     "metadata": {},
     "output_type": "execute_result"
    }
   ],
   "source": [
    "arr.transpose(1,0,2)"
   ]
  },
  {
   "cell_type": "code",
   "execution_count": 342,
   "metadata": {},
   "outputs": [
    {
     "data": {
      "text/plain": [
       "array([[[1., 1., 1.],\n",
       "        [1., 1., 1.]]])"
      ]
     },
     "execution_count": 342,
     "metadata": {},
     "output_type": "execute_result"
    }
   ],
   "source": [
    "x=np.ones((1,2,3))\n",
    "x"
   ]
  },
  {
   "cell_type": "code",
   "execution_count": 343,
   "metadata": {},
   "outputs": [
    {
     "data": {
      "text/plain": [
       "array([[[1., 1., 1.]],\n",
       "\n",
       "       [[1., 1., 1.]]])"
      ]
     },
     "execution_count": 343,
     "metadata": {},
     "output_type": "execute_result"
    }
   ],
   "source": [
    "np.transpose(x,(1,0,2))"
   ]
  },
  {
   "cell_type": "code",
   "execution_count": 344,
   "metadata": {},
   "outputs": [
    {
     "data": {
      "text/plain": [
       "array([[[ 0,  1,  2,  3],\n",
       "        [ 4,  5,  6,  7]],\n",
       "\n",
       "       [[ 8,  9, 10, 11],\n",
       "        [12, 13, 14, 15]]])"
      ]
     },
     "execution_count": 344,
     "metadata": {},
     "output_type": "execute_result"
    }
   ],
   "source": [
    "arr"
   ]
  },
  {
   "cell_type": "code",
   "execution_count": 348,
   "metadata": {},
   "outputs": [
    {
     "data": {
      "text/plain": [
       "array([[[ 0,  4],\n",
       "        [ 8, 12]],\n",
       "\n",
       "       [[ 1,  5],\n",
       "        [ 9, 13]],\n",
       "\n",
       "       [[ 2,  6],\n",
       "        [10, 14]],\n",
       "\n",
       "       [[ 3,  7],\n",
       "        [11, 15]]])"
      ]
     },
     "execution_count": 348,
     "metadata": {},
     "output_type": "execute_result"
    }
   ],
   "source": [
    "arr.transpose((2,0,1))# 0 axis means stack , 1 axis means rows , 2 axis means cols"
   ]
  },
  {
   "cell_type": "code",
   "execution_count": 354,
   "metadata": {},
   "outputs": [
    {
     "data": {
      "text/plain": [
       "array([[[ 0,  1,  2,  3],\n",
       "        [ 8,  9, 10, 11]],\n",
       "\n",
       "       [[ 4,  5,  6,  7],\n",
       "        [12, 13, 14, 15]]])"
      ]
     },
     "execution_count": 354,
     "metadata": {},
     "output_type": "execute_result"
    }
   ],
   "source": [
    "arr.transpose((1,0,2)) #1 means row"
   ]
  },
  {
   "cell_type": "code",
   "execution_count": 350,
   "metadata": {},
   "outputs": [
    {
     "data": {
      "text/plain": [
       "array([[[ 0,  1,  2,  3],\n",
       "        [ 4,  5,  6,  7]],\n",
       "\n",
       "       [[ 8,  9, 10, 11],\n",
       "        [12, 13, 14, 15]]])"
      ]
     },
     "execution_count": 350,
     "metadata": {},
     "output_type": "execute_result"
    }
   ],
   "source": [
    "arr.transpose((0,1,2))"
   ]
  },
  {
   "cell_type": "code",
   "execution_count": 351,
   "metadata": {},
   "outputs": [
    {
     "data": {
      "text/plain": [
       "array([[[ 0,  1,  2,  3],\n",
       "        [ 4,  5,  6,  7]],\n",
       "\n",
       "       [[ 8,  9, 10, 11],\n",
       "        [12, 13, 14, 15]]])"
      ]
     },
     "execution_count": 351,
     "metadata": {},
     "output_type": "execute_result"
    }
   ],
   "source": [
    "arr"
   ]
  },
  {
   "cell_type": "code",
   "execution_count": 357,
   "metadata": {},
   "outputs": [
    {
     "data": {
      "text/plain": [
       "array([[[ 0,  8],\n",
       "        [ 4, 12]],\n",
       "\n",
       "       [[ 1,  9],\n",
       "        [ 5, 13]],\n",
       "\n",
       "       [[ 2, 10],\n",
       "        [ 6, 14]],\n",
       "\n",
       "       [[ 3, 11],\n",
       "        [ 7, 15]]])"
      ]
     },
     "execution_count": 357,
     "metadata": {},
     "output_type": "execute_result"
    }
   ],
   "source": [
    "arr.T"
   ]
  },
  {
   "cell_type": "code",
   "execution_count": 361,
   "metadata": {},
   "outputs": [
    {
     "data": {
      "text/plain": [
       "array([[[ 0,  4],\n",
       "        [ 1,  5],\n",
       "        [ 2,  6],\n",
       "        [ 3,  7]],\n",
       "\n",
       "       [[ 8, 12],\n",
       "        [ 9, 13],\n",
       "        [10, 14],\n",
       "        [11, 15]]])"
      ]
     },
     "execution_count": 361,
     "metadata": {},
     "output_type": "execute_result"
    }
   ],
   "source": [
    "arr.swapaxes(1,2)"
   ]
  },
  {
   "cell_type": "code",
   "execution_count": 358,
   "metadata": {},
   "outputs": [
    {
     "data": {
      "text/plain": [
       "array([[[ 0,  1,  2,  3],\n",
       "        [ 4,  5,  6,  7]],\n",
       "\n",
       "       [[ 8,  9, 10, 11],\n",
       "        [12, 13, 14, 15]]])"
      ]
     },
     "execution_count": 358,
     "metadata": {},
     "output_type": "execute_result"
    }
   ],
   "source": [
    "arr"
   ]
  },
  {
   "cell_type": "code",
   "execution_count": 362,
   "metadata": {},
   "outputs": [
    {
     "data": {
      "text/plain": [
       "array([0, 1, 2, 3, 4, 5, 6, 7, 8, 9])"
      ]
     },
     "execution_count": 362,
     "metadata": {},
     "output_type": "execute_result"
    }
   ],
   "source": [
    "arr=np.arange(10)\n",
    "arr"
   ]
  },
  {
   "cell_type": "code",
   "execution_count": 364,
   "metadata": {},
   "outputs": [
    {
     "data": {
      "text/plain": [
       "array([0.        , 1.        , 1.41421356, 1.73205081, 2.        ,\n",
       "       2.23606798, 2.44948974, 2.64575131, 2.82842712, 3.        ])"
      ]
     },
     "execution_count": 364,
     "metadata": {},
     "output_type": "execute_result"
    }
   ],
   "source": [
    "np.sqrt(arr)"
   ]
  },
  {
   "cell_type": "code",
   "execution_count": 365,
   "metadata": {},
   "outputs": [
    {
     "data": {
      "text/plain": [
       "array([1.00000000e+00, 2.71828183e+00, 7.38905610e+00, 2.00855369e+01,\n",
       "       5.45981500e+01, 1.48413159e+02, 4.03428793e+02, 1.09663316e+03,\n",
       "       2.98095799e+03, 8.10308393e+03])"
      ]
     },
     "execution_count": 365,
     "metadata": {},
     "output_type": "execute_result"
    }
   ],
   "source": [
    "np.exp(arr)"
   ]
  },
  {
   "cell_type": "code",
   "execution_count": 366,
   "metadata": {},
   "outputs": [],
   "source": [
    "x=np.random.randn(8)\n",
    "y=np.random.randn(8)"
   ]
  },
  {
   "cell_type": "code",
   "execution_count": 369,
   "metadata": {},
   "outputs": [
    {
     "name": "stdout",
     "output_type": "stream",
     "text": [
      "x:\n",
      " [ 0.68904345  0.03345944  0.47730745 -1.24820519 -1.56733232  0.54791224\n",
      " -0.6871347  -1.28551918]\n"
     ]
    }
   ],
   "source": [
    "print(\"x:\\n\",x)"
   ]
  },
  {
   "cell_type": "code",
   "execution_count": 371,
   "metadata": {},
   "outputs": [
    {
     "name": "stdout",
     "output_type": "stream",
     "text": [
      "y:\n",
      " [ 0.76851831 -0.90292559  1.39820934 -1.05417096  0.24420973 -2.25380498\n",
      " -0.07816998  1.23163365]\n"
     ]
    }
   ],
   "source": [
    "print(\"y:\\n\",y)"
   ]
  },
  {
   "cell_type": "code",
   "execution_count": 373,
   "metadata": {},
   "outputs": [
    {
     "data": {
      "text/plain": [
       "array([ 0.76851831,  0.03345944,  1.39820934, -1.05417096,  0.24420973,\n",
       "        0.54791224, -0.07816998,  1.23163365])"
      ]
     },
     "execution_count": 373,
     "metadata": {},
     "output_type": "execute_result"
    }
   ],
   "source": [
    "np.maximum(x,y) #2 argument laga ga comare karaga phla ko phla sa"
   ]
  },
  {
   "cell_type": "code",
   "execution_count": 375,
   "metadata": {},
   "outputs": [
    {
     "data": {
      "text/plain": [
       "array([ 2.89532034,  4.65438656,  5.22942421, -5.16663007, -0.36555976,\n",
       "       -3.06994154,  2.1361287 , -7.3764689 ])"
      ]
     },
     "execution_count": 375,
     "metadata": {},
     "output_type": "execute_result"
    }
   ],
   "source": [
    "arr=np.random.randn(8)*5\n",
    "arr"
   ]
  },
  {
   "cell_type": "code",
   "execution_count": 376,
   "metadata": {},
   "outputs": [],
   "source": [
    "wholepart,remainder=np.modf(arr)"
   ]
  },
  {
   "cell_type": "code",
   "execution_count": 377,
   "metadata": {},
   "outputs": [
    {
     "data": {
      "text/plain": [
       "array([ 0.89532034,  0.65438656,  0.22942421, -0.16663007, -0.36555976,\n",
       "       -0.06994154,  0.1361287 , -0.3764689 ])"
      ]
     },
     "execution_count": 377,
     "metadata": {},
     "output_type": "execute_result"
    }
   ],
   "source": [
    "wholepart"
   ]
  },
  {
   "cell_type": "code",
   "execution_count": 378,
   "metadata": {},
   "outputs": [
    {
     "data": {
      "text/plain": [
       "array([ 2.,  4.,  5., -5., -0., -3.,  2., -7.])"
      ]
     },
     "execution_count": 378,
     "metadata": {},
     "output_type": "execute_result"
    }
   ],
   "source": [
    "remainder"
   ]
  },
  {
   "cell_type": "code",
   "execution_count": 380,
   "metadata": {},
   "outputs": [
    {
     "data": {
      "text/plain": [
       "array([ 2.89532034,  4.65438656,  5.22942421, -5.16663007, -0.36555976,\n",
       "       -3.06994154,  2.1361287 , -7.3764689 ])"
      ]
     },
     "execution_count": 380,
     "metadata": {},
     "output_type": "execute_result"
    }
   ],
   "source": [
    "arr"
   ]
  },
  {
   "cell_type": "code",
   "execution_count": 379,
   "metadata": {},
   "outputs": [
    {
     "name": "stderr",
     "output_type": "stream",
     "text": [
      "C:\\ProgramData\\Anaconda3\\lib\\site-packages\\ipykernel_launcher.py:1: RuntimeWarning: invalid value encountered in sqrt\n",
      "  \"\"\"Entry point for launching an IPython kernel.\n"
     ]
    },
    {
     "data": {
      "text/plain": [
       "array([1.70156409, 2.15740273, 2.28679343,        nan,        nan,\n",
       "              nan, 1.4615501 ,        nan])"
      ]
     },
     "execution_count": 379,
     "metadata": {},
     "output_type": "execute_result"
    }
   ],
   "source": [
    "np.sqrt(arr) #- ka root nhi nikalta"
   ]
  },
  {
   "cell_type": "code",
   "execution_count": 381,
   "metadata": {},
   "outputs": [
    {
     "name": "stderr",
     "output_type": "stream",
     "text": [
      "C:\\ProgramData\\Anaconda3\\lib\\site-packages\\ipykernel_launcher.py:1: RuntimeWarning: invalid value encountered in sqrt\n",
      "  \"\"\"Entry point for launching an IPython kernel.\n"
     ]
    },
    {
     "data": {
      "text/plain": [
       "array([1.70156409, 2.15740273, 2.28679343,        nan,        nan,\n",
       "              nan, 1.4615501 ,        nan])"
      ]
     },
     "execution_count": 381,
     "metadata": {},
     "output_type": "execute_result"
    }
   ],
   "source": [
    "np.sqrt(arr,arr)#in-place"
   ]
  },
  {
   "cell_type": "code",
   "execution_count": 382,
   "metadata": {},
   "outputs": [
    {
     "data": {
      "text/plain": [
       "array([1.70156409, 2.15740273, 2.28679343,        nan,        nan,\n",
       "              nan, 1.4615501 ,        nan])"
      ]
     },
     "execution_count": 382,
     "metadata": {},
     "output_type": "execute_result"
    }
   ],
   "source": [
    "arr"
   ]
  },
  {
   "cell_type": "code",
   "execution_count": 431,
   "metadata": {},
   "outputs": [],
   "source": [
    "points=np.arange(-5,5,0.01)\n",
    "xs,ys=np.meshgrid(points,points) #is ma simple ya ka row xs ka pass tu ys ka pass us hi row ka transpose hoga"
   ]
  },
  {
   "cell_type": "code",
   "execution_count": 403,
   "metadata": {},
   "outputs": [
    {
     "data": {
      "text/plain": [
       "array([[-5.  , -4.99, -4.98, ...,  4.97,  4.98,  4.99],\n",
       "       [-5.  , -4.99, -4.98, ...,  4.97,  4.98,  4.99],\n",
       "       [-5.  , -4.99, -4.98, ...,  4.97,  4.98,  4.99],\n",
       "       ...,\n",
       "       [-5.  , -4.99, -4.98, ...,  4.97,  4.98,  4.99],\n",
       "       [-5.  , -4.99, -4.98, ...,  4.97,  4.98,  4.99],\n",
       "       [-5.  , -4.99, -4.98, ...,  4.97,  4.98,  4.99]])"
      ]
     },
     "execution_count": 403,
     "metadata": {},
     "output_type": "execute_result"
    }
   ],
   "source": [
    "xs"
   ]
  },
  {
   "cell_type": "code",
   "execution_count": 404,
   "metadata": {},
   "outputs": [
    {
     "data": {
      "text/plain": [
       "array([[-5.  , -5.  , -5.  , ..., -5.  , -5.  , -5.  ],\n",
       "       [-4.99, -4.99, -4.99, ..., -4.99, -4.99, -4.99],\n",
       "       [-4.98, -4.98, -4.98, ..., -4.98, -4.98, -4.98],\n",
       "       ...,\n",
       "       [ 4.97,  4.97,  4.97, ...,  4.97,  4.97,  4.97],\n",
       "       [ 4.98,  4.98,  4.98, ...,  4.98,  4.98,  4.98],\n",
       "       [ 4.99,  4.99,  4.99, ...,  4.99,  4.99,  4.99]])"
      ]
     },
     "execution_count": 404,
     "metadata": {},
     "output_type": "execute_result"
    }
   ],
   "source": [
    "ys"
   ]
  },
  {
   "cell_type": "code",
   "execution_count": 405,
   "metadata": {},
   "outputs": [],
   "source": [
    "points=np.arange(-5,5,0.01)\n",
    "xs=np.meshgrid(points)"
   ]
  },
  {
   "cell_type": "code",
   "execution_count": 406,
   "metadata": {},
   "outputs": [
    {
     "data": {
      "text/plain": [
       "[array([-5.0000000e+00, -4.9900000e+00, -4.9800000e+00, -4.9700000e+00,\n",
       "        -4.9600000e+00, -4.9500000e+00, -4.9400000e+00, -4.9300000e+00,\n",
       "        -4.9200000e+00, -4.9100000e+00, -4.9000000e+00, -4.8900000e+00,\n",
       "        -4.8800000e+00, -4.8700000e+00, -4.8600000e+00, -4.8500000e+00,\n",
       "        -4.8400000e+00, -4.8300000e+00, -4.8200000e+00, -4.8100000e+00,\n",
       "        -4.8000000e+00, -4.7900000e+00, -4.7800000e+00, -4.7700000e+00,\n",
       "        -4.7600000e+00, -4.7500000e+00, -4.7400000e+00, -4.7300000e+00,\n",
       "        -4.7200000e+00, -4.7100000e+00, -4.7000000e+00, -4.6900000e+00,\n",
       "        -4.6800000e+00, -4.6700000e+00, -4.6600000e+00, -4.6500000e+00,\n",
       "        -4.6400000e+00, -4.6300000e+00, -4.6200000e+00, -4.6100000e+00,\n",
       "        -4.6000000e+00, -4.5900000e+00, -4.5800000e+00, -4.5700000e+00,\n",
       "        -4.5600000e+00, -4.5500000e+00, -4.5400000e+00, -4.5300000e+00,\n",
       "        -4.5200000e+00, -4.5100000e+00, -4.5000000e+00, -4.4900000e+00,\n",
       "        -4.4800000e+00, -4.4700000e+00, -4.4600000e+00, -4.4500000e+00,\n",
       "        -4.4400000e+00, -4.4300000e+00, -4.4200000e+00, -4.4100000e+00,\n",
       "        -4.4000000e+00, -4.3900000e+00, -4.3800000e+00, -4.3700000e+00,\n",
       "        -4.3600000e+00, -4.3500000e+00, -4.3400000e+00, -4.3300000e+00,\n",
       "        -4.3200000e+00, -4.3100000e+00, -4.3000000e+00, -4.2900000e+00,\n",
       "        -4.2800000e+00, -4.2700000e+00, -4.2600000e+00, -4.2500000e+00,\n",
       "        -4.2400000e+00, -4.2300000e+00, -4.2200000e+00, -4.2100000e+00,\n",
       "        -4.2000000e+00, -4.1900000e+00, -4.1800000e+00, -4.1700000e+00,\n",
       "        -4.1600000e+00, -4.1500000e+00, -4.1400000e+00, -4.1300000e+00,\n",
       "        -4.1200000e+00, -4.1100000e+00, -4.1000000e+00, -4.0900000e+00,\n",
       "        -4.0800000e+00, -4.0700000e+00, -4.0600000e+00, -4.0500000e+00,\n",
       "        -4.0400000e+00, -4.0300000e+00, -4.0200000e+00, -4.0100000e+00,\n",
       "        -4.0000000e+00, -3.9900000e+00, -3.9800000e+00, -3.9700000e+00,\n",
       "        -3.9600000e+00, -3.9500000e+00, -3.9400000e+00, -3.9300000e+00,\n",
       "        -3.9200000e+00, -3.9100000e+00, -3.9000000e+00, -3.8900000e+00,\n",
       "        -3.8800000e+00, -3.8700000e+00, -3.8600000e+00, -3.8500000e+00,\n",
       "        -3.8400000e+00, -3.8300000e+00, -3.8200000e+00, -3.8100000e+00,\n",
       "        -3.8000000e+00, -3.7900000e+00, -3.7800000e+00, -3.7700000e+00,\n",
       "        -3.7600000e+00, -3.7500000e+00, -3.7400000e+00, -3.7300000e+00,\n",
       "        -3.7200000e+00, -3.7100000e+00, -3.7000000e+00, -3.6900000e+00,\n",
       "        -3.6800000e+00, -3.6700000e+00, -3.6600000e+00, -3.6500000e+00,\n",
       "        -3.6400000e+00, -3.6300000e+00, -3.6200000e+00, -3.6100000e+00,\n",
       "        -3.6000000e+00, -3.5900000e+00, -3.5800000e+00, -3.5700000e+00,\n",
       "        -3.5600000e+00, -3.5500000e+00, -3.5400000e+00, -3.5300000e+00,\n",
       "        -3.5200000e+00, -3.5100000e+00, -3.5000000e+00, -3.4900000e+00,\n",
       "        -3.4800000e+00, -3.4700000e+00, -3.4600000e+00, -3.4500000e+00,\n",
       "        -3.4400000e+00, -3.4300000e+00, -3.4200000e+00, -3.4100000e+00,\n",
       "        -3.4000000e+00, -3.3900000e+00, -3.3800000e+00, -3.3700000e+00,\n",
       "        -3.3600000e+00, -3.3500000e+00, -3.3400000e+00, -3.3300000e+00,\n",
       "        -3.3200000e+00, -3.3100000e+00, -3.3000000e+00, -3.2900000e+00,\n",
       "        -3.2800000e+00, -3.2700000e+00, -3.2600000e+00, -3.2500000e+00,\n",
       "        -3.2400000e+00, -3.2300000e+00, -3.2200000e+00, -3.2100000e+00,\n",
       "        -3.2000000e+00, -3.1900000e+00, -3.1800000e+00, -3.1700000e+00,\n",
       "        -3.1600000e+00, -3.1500000e+00, -3.1400000e+00, -3.1300000e+00,\n",
       "        -3.1200000e+00, -3.1100000e+00, -3.1000000e+00, -3.0900000e+00,\n",
       "        -3.0800000e+00, -3.0700000e+00, -3.0600000e+00, -3.0500000e+00,\n",
       "        -3.0400000e+00, -3.0300000e+00, -3.0200000e+00, -3.0100000e+00,\n",
       "        -3.0000000e+00, -2.9900000e+00, -2.9800000e+00, -2.9700000e+00,\n",
       "        -2.9600000e+00, -2.9500000e+00, -2.9400000e+00, -2.9300000e+00,\n",
       "        -2.9200000e+00, -2.9100000e+00, -2.9000000e+00, -2.8900000e+00,\n",
       "        -2.8800000e+00, -2.8700000e+00, -2.8600000e+00, -2.8500000e+00,\n",
       "        -2.8400000e+00, -2.8300000e+00, -2.8200000e+00, -2.8100000e+00,\n",
       "        -2.8000000e+00, -2.7900000e+00, -2.7800000e+00, -2.7700000e+00,\n",
       "        -2.7600000e+00, -2.7500000e+00, -2.7400000e+00, -2.7300000e+00,\n",
       "        -2.7200000e+00, -2.7100000e+00, -2.7000000e+00, -2.6900000e+00,\n",
       "        -2.6800000e+00, -2.6700000e+00, -2.6600000e+00, -2.6500000e+00,\n",
       "        -2.6400000e+00, -2.6300000e+00, -2.6200000e+00, -2.6100000e+00,\n",
       "        -2.6000000e+00, -2.5900000e+00, -2.5800000e+00, -2.5700000e+00,\n",
       "        -2.5600000e+00, -2.5500000e+00, -2.5400000e+00, -2.5300000e+00,\n",
       "        -2.5200000e+00, -2.5100000e+00, -2.5000000e+00, -2.4900000e+00,\n",
       "        -2.4800000e+00, -2.4700000e+00, -2.4600000e+00, -2.4500000e+00,\n",
       "        -2.4400000e+00, -2.4300000e+00, -2.4200000e+00, -2.4100000e+00,\n",
       "        -2.4000000e+00, -2.3900000e+00, -2.3800000e+00, -2.3700000e+00,\n",
       "        -2.3600000e+00, -2.3500000e+00, -2.3400000e+00, -2.3300000e+00,\n",
       "        -2.3200000e+00, -2.3100000e+00, -2.3000000e+00, -2.2900000e+00,\n",
       "        -2.2800000e+00, -2.2700000e+00, -2.2600000e+00, -2.2500000e+00,\n",
       "        -2.2400000e+00, -2.2300000e+00, -2.2200000e+00, -2.2100000e+00,\n",
       "        -2.2000000e+00, -2.1900000e+00, -2.1800000e+00, -2.1700000e+00,\n",
       "        -2.1600000e+00, -2.1500000e+00, -2.1400000e+00, -2.1300000e+00,\n",
       "        -2.1200000e+00, -2.1100000e+00, -2.1000000e+00, -2.0900000e+00,\n",
       "        -2.0800000e+00, -2.0700000e+00, -2.0600000e+00, -2.0500000e+00,\n",
       "        -2.0400000e+00, -2.0300000e+00, -2.0200000e+00, -2.0100000e+00,\n",
       "        -2.0000000e+00, -1.9900000e+00, -1.9800000e+00, -1.9700000e+00,\n",
       "        -1.9600000e+00, -1.9500000e+00, -1.9400000e+00, -1.9300000e+00,\n",
       "        -1.9200000e+00, -1.9100000e+00, -1.9000000e+00, -1.8900000e+00,\n",
       "        -1.8800000e+00, -1.8700000e+00, -1.8600000e+00, -1.8500000e+00,\n",
       "        -1.8400000e+00, -1.8300000e+00, -1.8200000e+00, -1.8100000e+00,\n",
       "        -1.8000000e+00, -1.7900000e+00, -1.7800000e+00, -1.7700000e+00,\n",
       "        -1.7600000e+00, -1.7500000e+00, -1.7400000e+00, -1.7300000e+00,\n",
       "        -1.7200000e+00, -1.7100000e+00, -1.7000000e+00, -1.6900000e+00,\n",
       "        -1.6800000e+00, -1.6700000e+00, -1.6600000e+00, -1.6500000e+00,\n",
       "        -1.6400000e+00, -1.6300000e+00, -1.6200000e+00, -1.6100000e+00,\n",
       "        -1.6000000e+00, -1.5900000e+00, -1.5800000e+00, -1.5700000e+00,\n",
       "        -1.5600000e+00, -1.5500000e+00, -1.5400000e+00, -1.5300000e+00,\n",
       "        -1.5200000e+00, -1.5100000e+00, -1.5000000e+00, -1.4900000e+00,\n",
       "        -1.4800000e+00, -1.4700000e+00, -1.4600000e+00, -1.4500000e+00,\n",
       "        -1.4400000e+00, -1.4300000e+00, -1.4200000e+00, -1.4100000e+00,\n",
       "        -1.4000000e+00, -1.3900000e+00, -1.3800000e+00, -1.3700000e+00,\n",
       "        -1.3600000e+00, -1.3500000e+00, -1.3400000e+00, -1.3300000e+00,\n",
       "        -1.3200000e+00, -1.3100000e+00, -1.3000000e+00, -1.2900000e+00,\n",
       "        -1.2800000e+00, -1.2700000e+00, -1.2600000e+00, -1.2500000e+00,\n",
       "        -1.2400000e+00, -1.2300000e+00, -1.2200000e+00, -1.2100000e+00,\n",
       "        -1.2000000e+00, -1.1900000e+00, -1.1800000e+00, -1.1700000e+00,\n",
       "        -1.1600000e+00, -1.1500000e+00, -1.1400000e+00, -1.1300000e+00,\n",
       "        -1.1200000e+00, -1.1100000e+00, -1.1000000e+00, -1.0900000e+00,\n",
       "        -1.0800000e+00, -1.0700000e+00, -1.0600000e+00, -1.0500000e+00,\n",
       "        -1.0400000e+00, -1.0300000e+00, -1.0200000e+00, -1.0100000e+00,\n",
       "        -1.0000000e+00, -9.9000000e-01, -9.8000000e-01, -9.7000000e-01,\n",
       "        -9.6000000e-01, -9.5000000e-01, -9.4000000e-01, -9.3000000e-01,\n",
       "        -9.2000000e-01, -9.1000000e-01, -9.0000000e-01, -8.9000000e-01,\n",
       "        -8.8000000e-01, -8.7000000e-01, -8.6000000e-01, -8.5000000e-01,\n",
       "        -8.4000000e-01, -8.3000000e-01, -8.2000000e-01, -8.1000000e-01,\n",
       "        -8.0000000e-01, -7.9000000e-01, -7.8000000e-01, -7.7000000e-01,\n",
       "        -7.6000000e-01, -7.5000000e-01, -7.4000000e-01, -7.3000000e-01,\n",
       "        -7.2000000e-01, -7.1000000e-01, -7.0000000e-01, -6.9000000e-01,\n",
       "        -6.8000000e-01, -6.7000000e-01, -6.6000000e-01, -6.5000000e-01,\n",
       "        -6.4000000e-01, -6.3000000e-01, -6.2000000e-01, -6.1000000e-01,\n",
       "        -6.0000000e-01, -5.9000000e-01, -5.8000000e-01, -5.7000000e-01,\n",
       "        -5.6000000e-01, -5.5000000e-01, -5.4000000e-01, -5.3000000e-01,\n",
       "        -5.2000000e-01, -5.1000000e-01, -5.0000000e-01, -4.9000000e-01,\n",
       "        -4.8000000e-01, -4.7000000e-01, -4.6000000e-01, -4.5000000e-01,\n",
       "        -4.4000000e-01, -4.3000000e-01, -4.2000000e-01, -4.1000000e-01,\n",
       "        -4.0000000e-01, -3.9000000e-01, -3.8000000e-01, -3.7000000e-01,\n",
       "        -3.6000000e-01, -3.5000000e-01, -3.4000000e-01, -3.3000000e-01,\n",
       "        -3.2000000e-01, -3.1000000e-01, -3.0000000e-01, -2.9000000e-01,\n",
       "        -2.8000000e-01, -2.7000000e-01, -2.6000000e-01, -2.5000000e-01,\n",
       "        -2.4000000e-01, -2.3000000e-01, -2.2000000e-01, -2.1000000e-01,\n",
       "        -2.0000000e-01, -1.9000000e-01, -1.8000000e-01, -1.7000000e-01,\n",
       "        -1.6000000e-01, -1.5000000e-01, -1.4000000e-01, -1.3000000e-01,\n",
       "        -1.2000000e-01, -1.1000000e-01, -1.0000000e-01, -9.0000000e-02,\n",
       "        -8.0000000e-02, -7.0000000e-02, -6.0000000e-02, -5.0000000e-02,\n",
       "        -4.0000000e-02, -3.0000000e-02, -2.0000000e-02, -1.0000000e-02,\n",
       "        -1.0658141e-13,  1.0000000e-02,  2.0000000e-02,  3.0000000e-02,\n",
       "         4.0000000e-02,  5.0000000e-02,  6.0000000e-02,  7.0000000e-02,\n",
       "         8.0000000e-02,  9.0000000e-02,  1.0000000e-01,  1.1000000e-01,\n",
       "         1.2000000e-01,  1.3000000e-01,  1.4000000e-01,  1.5000000e-01,\n",
       "         1.6000000e-01,  1.7000000e-01,  1.8000000e-01,  1.9000000e-01,\n",
       "         2.0000000e-01,  2.1000000e-01,  2.2000000e-01,  2.3000000e-01,\n",
       "         2.4000000e-01,  2.5000000e-01,  2.6000000e-01,  2.7000000e-01,\n",
       "         2.8000000e-01,  2.9000000e-01,  3.0000000e-01,  3.1000000e-01,\n",
       "         3.2000000e-01,  3.3000000e-01,  3.4000000e-01,  3.5000000e-01,\n",
       "         3.6000000e-01,  3.7000000e-01,  3.8000000e-01,  3.9000000e-01,\n",
       "         4.0000000e-01,  4.1000000e-01,  4.2000000e-01,  4.3000000e-01,\n",
       "         4.4000000e-01,  4.5000000e-01,  4.6000000e-01,  4.7000000e-01,\n",
       "         4.8000000e-01,  4.9000000e-01,  5.0000000e-01,  5.1000000e-01,\n",
       "         5.2000000e-01,  5.3000000e-01,  5.4000000e-01,  5.5000000e-01,\n",
       "         5.6000000e-01,  5.7000000e-01,  5.8000000e-01,  5.9000000e-01,\n",
       "         6.0000000e-01,  6.1000000e-01,  6.2000000e-01,  6.3000000e-01,\n",
       "         6.4000000e-01,  6.5000000e-01,  6.6000000e-01,  6.7000000e-01,\n",
       "         6.8000000e-01,  6.9000000e-01,  7.0000000e-01,  7.1000000e-01,\n",
       "         7.2000000e-01,  7.3000000e-01,  7.4000000e-01,  7.5000000e-01,\n",
       "         7.6000000e-01,  7.7000000e-01,  7.8000000e-01,  7.9000000e-01,\n",
       "         8.0000000e-01,  8.1000000e-01,  8.2000000e-01,  8.3000000e-01,\n",
       "         8.4000000e-01,  8.5000000e-01,  8.6000000e-01,  8.7000000e-01,\n",
       "         8.8000000e-01,  8.9000000e-01,  9.0000000e-01,  9.1000000e-01,\n",
       "         9.2000000e-01,  9.3000000e-01,  9.4000000e-01,  9.5000000e-01,\n",
       "         9.6000000e-01,  9.7000000e-01,  9.8000000e-01,  9.9000000e-01,\n",
       "         1.0000000e+00,  1.0100000e+00,  1.0200000e+00,  1.0300000e+00,\n",
       "         1.0400000e+00,  1.0500000e+00,  1.0600000e+00,  1.0700000e+00,\n",
       "         1.0800000e+00,  1.0900000e+00,  1.1000000e+00,  1.1100000e+00,\n",
       "         1.1200000e+00,  1.1300000e+00,  1.1400000e+00,  1.1500000e+00,\n",
       "         1.1600000e+00,  1.1700000e+00,  1.1800000e+00,  1.1900000e+00,\n",
       "         1.2000000e+00,  1.2100000e+00,  1.2200000e+00,  1.2300000e+00,\n",
       "         1.2400000e+00,  1.2500000e+00,  1.2600000e+00,  1.2700000e+00,\n",
       "         1.2800000e+00,  1.2900000e+00,  1.3000000e+00,  1.3100000e+00,\n",
       "         1.3200000e+00,  1.3300000e+00,  1.3400000e+00,  1.3500000e+00,\n",
       "         1.3600000e+00,  1.3700000e+00,  1.3800000e+00,  1.3900000e+00,\n",
       "         1.4000000e+00,  1.4100000e+00,  1.4200000e+00,  1.4300000e+00,\n",
       "         1.4400000e+00,  1.4500000e+00,  1.4600000e+00,  1.4700000e+00,\n",
       "         1.4800000e+00,  1.4900000e+00,  1.5000000e+00,  1.5100000e+00,\n",
       "         1.5200000e+00,  1.5300000e+00,  1.5400000e+00,  1.5500000e+00,\n",
       "         1.5600000e+00,  1.5700000e+00,  1.5800000e+00,  1.5900000e+00,\n",
       "         1.6000000e+00,  1.6100000e+00,  1.6200000e+00,  1.6300000e+00,\n",
       "         1.6400000e+00,  1.6500000e+00,  1.6600000e+00,  1.6700000e+00,\n",
       "         1.6800000e+00,  1.6900000e+00,  1.7000000e+00,  1.7100000e+00,\n",
       "         1.7200000e+00,  1.7300000e+00,  1.7400000e+00,  1.7500000e+00,\n",
       "         1.7600000e+00,  1.7700000e+00,  1.7800000e+00,  1.7900000e+00,\n",
       "         1.8000000e+00,  1.8100000e+00,  1.8200000e+00,  1.8300000e+00,\n",
       "         1.8400000e+00,  1.8500000e+00,  1.8600000e+00,  1.8700000e+00,\n",
       "         1.8800000e+00,  1.8900000e+00,  1.9000000e+00,  1.9100000e+00,\n",
       "         1.9200000e+00,  1.9300000e+00,  1.9400000e+00,  1.9500000e+00,\n",
       "         1.9600000e+00,  1.9700000e+00,  1.9800000e+00,  1.9900000e+00,\n",
       "         2.0000000e+00,  2.0100000e+00,  2.0200000e+00,  2.0300000e+00,\n",
       "         2.0400000e+00,  2.0500000e+00,  2.0600000e+00,  2.0700000e+00,\n",
       "         2.0800000e+00,  2.0900000e+00,  2.1000000e+00,  2.1100000e+00,\n",
       "         2.1200000e+00,  2.1300000e+00,  2.1400000e+00,  2.1500000e+00,\n",
       "         2.1600000e+00,  2.1700000e+00,  2.1800000e+00,  2.1900000e+00,\n",
       "         2.2000000e+00,  2.2100000e+00,  2.2200000e+00,  2.2300000e+00,\n",
       "         2.2400000e+00,  2.2500000e+00,  2.2600000e+00,  2.2700000e+00,\n",
       "         2.2800000e+00,  2.2900000e+00,  2.3000000e+00,  2.3100000e+00,\n",
       "         2.3200000e+00,  2.3300000e+00,  2.3400000e+00,  2.3500000e+00,\n",
       "         2.3600000e+00,  2.3700000e+00,  2.3800000e+00,  2.3900000e+00,\n",
       "         2.4000000e+00,  2.4100000e+00,  2.4200000e+00,  2.4300000e+00,\n",
       "         2.4400000e+00,  2.4500000e+00,  2.4600000e+00,  2.4700000e+00,\n",
       "         2.4800000e+00,  2.4900000e+00,  2.5000000e+00,  2.5100000e+00,\n",
       "         2.5200000e+00,  2.5300000e+00,  2.5400000e+00,  2.5500000e+00,\n",
       "         2.5600000e+00,  2.5700000e+00,  2.5800000e+00,  2.5900000e+00,\n",
       "         2.6000000e+00,  2.6100000e+00,  2.6200000e+00,  2.6300000e+00,\n",
       "         2.6400000e+00,  2.6500000e+00,  2.6600000e+00,  2.6700000e+00,\n",
       "         2.6800000e+00,  2.6900000e+00,  2.7000000e+00,  2.7100000e+00,\n",
       "         2.7200000e+00,  2.7300000e+00,  2.7400000e+00,  2.7500000e+00,\n",
       "         2.7600000e+00,  2.7700000e+00,  2.7800000e+00,  2.7900000e+00,\n",
       "         2.8000000e+00,  2.8100000e+00,  2.8200000e+00,  2.8300000e+00,\n",
       "         2.8400000e+00,  2.8500000e+00,  2.8600000e+00,  2.8700000e+00,\n",
       "         2.8800000e+00,  2.8900000e+00,  2.9000000e+00,  2.9100000e+00,\n",
       "         2.9200000e+00,  2.9300000e+00,  2.9400000e+00,  2.9500000e+00,\n",
       "         2.9600000e+00,  2.9700000e+00,  2.9800000e+00,  2.9900000e+00,\n",
       "         3.0000000e+00,  3.0100000e+00,  3.0200000e+00,  3.0300000e+00,\n",
       "         3.0400000e+00,  3.0500000e+00,  3.0600000e+00,  3.0700000e+00,\n",
       "         3.0800000e+00,  3.0900000e+00,  3.1000000e+00,  3.1100000e+00,\n",
       "         3.1200000e+00,  3.1300000e+00,  3.1400000e+00,  3.1500000e+00,\n",
       "         3.1600000e+00,  3.1700000e+00,  3.1800000e+00,  3.1900000e+00,\n",
       "         3.2000000e+00,  3.2100000e+00,  3.2200000e+00,  3.2300000e+00,\n",
       "         3.2400000e+00,  3.2500000e+00,  3.2600000e+00,  3.2700000e+00,\n",
       "         3.2800000e+00,  3.2900000e+00,  3.3000000e+00,  3.3100000e+00,\n",
       "         3.3200000e+00,  3.3300000e+00,  3.3400000e+00,  3.3500000e+00,\n",
       "         3.3600000e+00,  3.3700000e+00,  3.3800000e+00,  3.3900000e+00,\n",
       "         3.4000000e+00,  3.4100000e+00,  3.4200000e+00,  3.4300000e+00,\n",
       "         3.4400000e+00,  3.4500000e+00,  3.4600000e+00,  3.4700000e+00,\n",
       "         3.4800000e+00,  3.4900000e+00,  3.5000000e+00,  3.5100000e+00,\n",
       "         3.5200000e+00,  3.5300000e+00,  3.5400000e+00,  3.5500000e+00,\n",
       "         3.5600000e+00,  3.5700000e+00,  3.5800000e+00,  3.5900000e+00,\n",
       "         3.6000000e+00,  3.6100000e+00,  3.6200000e+00,  3.6300000e+00,\n",
       "         3.6400000e+00,  3.6500000e+00,  3.6600000e+00,  3.6700000e+00,\n",
       "         3.6800000e+00,  3.6900000e+00,  3.7000000e+00,  3.7100000e+00,\n",
       "         3.7200000e+00,  3.7300000e+00,  3.7400000e+00,  3.7500000e+00,\n",
       "         3.7600000e+00,  3.7700000e+00,  3.7800000e+00,  3.7900000e+00,\n",
       "         3.8000000e+00,  3.8100000e+00,  3.8200000e+00,  3.8300000e+00,\n",
       "         3.8400000e+00,  3.8500000e+00,  3.8600000e+00,  3.8700000e+00,\n",
       "         3.8800000e+00,  3.8900000e+00,  3.9000000e+00,  3.9100000e+00,\n",
       "         3.9200000e+00,  3.9300000e+00,  3.9400000e+00,  3.9500000e+00,\n",
       "         3.9600000e+00,  3.9700000e+00,  3.9800000e+00,  3.9900000e+00,\n",
       "         4.0000000e+00,  4.0100000e+00,  4.0200000e+00,  4.0300000e+00,\n",
       "         4.0400000e+00,  4.0500000e+00,  4.0600000e+00,  4.0700000e+00,\n",
       "         4.0800000e+00,  4.0900000e+00,  4.1000000e+00,  4.1100000e+00,\n",
       "         4.1200000e+00,  4.1300000e+00,  4.1400000e+00,  4.1500000e+00,\n",
       "         4.1600000e+00,  4.1700000e+00,  4.1800000e+00,  4.1900000e+00,\n",
       "         4.2000000e+00,  4.2100000e+00,  4.2200000e+00,  4.2300000e+00,\n",
       "         4.2400000e+00,  4.2500000e+00,  4.2600000e+00,  4.2700000e+00,\n",
       "         4.2800000e+00,  4.2900000e+00,  4.3000000e+00,  4.3100000e+00,\n",
       "         4.3200000e+00,  4.3300000e+00,  4.3400000e+00,  4.3500000e+00,\n",
       "         4.3600000e+00,  4.3700000e+00,  4.3800000e+00,  4.3900000e+00,\n",
       "         4.4000000e+00,  4.4100000e+00,  4.4200000e+00,  4.4300000e+00,\n",
       "         4.4400000e+00,  4.4500000e+00,  4.4600000e+00,  4.4700000e+00,\n",
       "         4.4800000e+00,  4.4900000e+00,  4.5000000e+00,  4.5100000e+00,\n",
       "         4.5200000e+00,  4.5300000e+00,  4.5400000e+00,  4.5500000e+00,\n",
       "         4.5600000e+00,  4.5700000e+00,  4.5800000e+00,  4.5900000e+00,\n",
       "         4.6000000e+00,  4.6100000e+00,  4.6200000e+00,  4.6300000e+00,\n",
       "         4.6400000e+00,  4.6500000e+00,  4.6600000e+00,  4.6700000e+00,\n",
       "         4.6800000e+00,  4.6900000e+00,  4.7000000e+00,  4.7100000e+00,\n",
       "         4.7200000e+00,  4.7300000e+00,  4.7400000e+00,  4.7500000e+00,\n",
       "         4.7600000e+00,  4.7700000e+00,  4.7800000e+00,  4.7900000e+00,\n",
       "         4.8000000e+00,  4.8100000e+00,  4.8200000e+00,  4.8300000e+00,\n",
       "         4.8400000e+00,  4.8500000e+00,  4.8600000e+00,  4.8700000e+00,\n",
       "         4.8800000e+00,  4.8900000e+00,  4.9000000e+00,  4.9100000e+00,\n",
       "         4.9200000e+00,  4.9300000e+00,  4.9400000e+00,  4.9500000e+00,\n",
       "         4.9600000e+00,  4.9700000e+00,  4.9800000e+00,  4.9900000e+00])]"
      ]
     },
     "execution_count": 406,
     "metadata": {},
     "output_type": "execute_result"
    }
   ],
   "source": [
    "xs"
   ]
  },
  {
   "cell_type": "code",
   "execution_count": 422,
   "metadata": {},
   "outputs": [],
   "source": [
    "a=np.arange(1,11,2)\n",
    "e,f=np.meshgrid(a,a)"
   ]
  },
  {
   "cell_type": "code",
   "execution_count": 423,
   "metadata": {},
   "outputs": [
    {
     "data": {
      "text/plain": [
       "array([1, 3, 5, 7, 9])"
      ]
     },
     "execution_count": 423,
     "metadata": {},
     "output_type": "execute_result"
    }
   ],
   "source": [
    "a"
   ]
  },
  {
   "cell_type": "code",
   "execution_count": 427,
   "metadata": {},
   "outputs": [
    {
     "data": {
      "text/plain": [
       "array([[1, 3, 5, 7, 9],\n",
       "       [1, 3, 5, 7, 9],\n",
       "       [1, 3, 5, 7, 9],\n",
       "       [1, 3, 5, 7, 9],\n",
       "       [1, 3, 5, 7, 9]])"
      ]
     },
     "execution_count": 427,
     "metadata": {},
     "output_type": "execute_result"
    }
   ],
   "source": [
    "e"
   ]
  },
  {
   "cell_type": "code",
   "execution_count": 425,
   "metadata": {},
   "outputs": [
    {
     "data": {
      "text/plain": [
       "array([[1, 1, 1, 1, 1],\n",
       "       [3, 3, 3, 3, 3],\n",
       "       [5, 5, 5, 5, 5],\n",
       "       [7, 7, 7, 7, 7],\n",
       "       [9, 9, 9, 9, 9]])"
      ]
     },
     "execution_count": 425,
     "metadata": {},
     "output_type": "execute_result"
    }
   ],
   "source": [
    "f"
   ]
  },
  {
   "cell_type": "code",
   "execution_count": 426,
   "metadata": {},
   "outputs": [
    {
     "data": {
      "text/plain": [
       "array([[1.41421356, 2.        , 2.44948974, 2.82842712, 3.16227766],\n",
       "       [2.        , 2.44948974, 2.82842712, 3.16227766, 3.46410162],\n",
       "       [2.44948974, 2.82842712, 3.16227766, 3.46410162, 3.74165739],\n",
       "       [2.82842712, 3.16227766, 3.46410162, 3.74165739, 4.        ],\n",
       "       [3.16227766, 3.46410162, 3.74165739, 4.        , 4.24264069]])"
      ]
     },
     "execution_count": 426,
     "metadata": {},
     "output_type": "execute_result"
    }
   ],
   "source": [
    "z=np.sqrt(e+f)\n",
    "z"
   ]
  },
  {
   "cell_type": "code",
   "execution_count": 430,
   "metadata": {},
   "outputs": [
    {
     "data": {
      "text/plain": [
       "[array([-5.0000000e+00, -4.9900000e+00, -4.9800000e+00, -4.9700000e+00,\n",
       "        -4.9600000e+00, -4.9500000e+00, -4.9400000e+00, -4.9300000e+00,\n",
       "        -4.9200000e+00, -4.9100000e+00, -4.9000000e+00, -4.8900000e+00,\n",
       "        -4.8800000e+00, -4.8700000e+00, -4.8600000e+00, -4.8500000e+00,\n",
       "        -4.8400000e+00, -4.8300000e+00, -4.8200000e+00, -4.8100000e+00,\n",
       "        -4.8000000e+00, -4.7900000e+00, -4.7800000e+00, -4.7700000e+00,\n",
       "        -4.7600000e+00, -4.7500000e+00, -4.7400000e+00, -4.7300000e+00,\n",
       "        -4.7200000e+00, -4.7100000e+00, -4.7000000e+00, -4.6900000e+00,\n",
       "        -4.6800000e+00, -4.6700000e+00, -4.6600000e+00, -4.6500000e+00,\n",
       "        -4.6400000e+00, -4.6300000e+00, -4.6200000e+00, -4.6100000e+00,\n",
       "        -4.6000000e+00, -4.5900000e+00, -4.5800000e+00, -4.5700000e+00,\n",
       "        -4.5600000e+00, -4.5500000e+00, -4.5400000e+00, -4.5300000e+00,\n",
       "        -4.5200000e+00, -4.5100000e+00, -4.5000000e+00, -4.4900000e+00,\n",
       "        -4.4800000e+00, -4.4700000e+00, -4.4600000e+00, -4.4500000e+00,\n",
       "        -4.4400000e+00, -4.4300000e+00, -4.4200000e+00, -4.4100000e+00,\n",
       "        -4.4000000e+00, -4.3900000e+00, -4.3800000e+00, -4.3700000e+00,\n",
       "        -4.3600000e+00, -4.3500000e+00, -4.3400000e+00, -4.3300000e+00,\n",
       "        -4.3200000e+00, -4.3100000e+00, -4.3000000e+00, -4.2900000e+00,\n",
       "        -4.2800000e+00, -4.2700000e+00, -4.2600000e+00, -4.2500000e+00,\n",
       "        -4.2400000e+00, -4.2300000e+00, -4.2200000e+00, -4.2100000e+00,\n",
       "        -4.2000000e+00, -4.1900000e+00, -4.1800000e+00, -4.1700000e+00,\n",
       "        -4.1600000e+00, -4.1500000e+00, -4.1400000e+00, -4.1300000e+00,\n",
       "        -4.1200000e+00, -4.1100000e+00, -4.1000000e+00, -4.0900000e+00,\n",
       "        -4.0800000e+00, -4.0700000e+00, -4.0600000e+00, -4.0500000e+00,\n",
       "        -4.0400000e+00, -4.0300000e+00, -4.0200000e+00, -4.0100000e+00,\n",
       "        -4.0000000e+00, -3.9900000e+00, -3.9800000e+00, -3.9700000e+00,\n",
       "        -3.9600000e+00, -3.9500000e+00, -3.9400000e+00, -3.9300000e+00,\n",
       "        -3.9200000e+00, -3.9100000e+00, -3.9000000e+00, -3.8900000e+00,\n",
       "        -3.8800000e+00, -3.8700000e+00, -3.8600000e+00, -3.8500000e+00,\n",
       "        -3.8400000e+00, -3.8300000e+00, -3.8200000e+00, -3.8100000e+00,\n",
       "        -3.8000000e+00, -3.7900000e+00, -3.7800000e+00, -3.7700000e+00,\n",
       "        -3.7600000e+00, -3.7500000e+00, -3.7400000e+00, -3.7300000e+00,\n",
       "        -3.7200000e+00, -3.7100000e+00, -3.7000000e+00, -3.6900000e+00,\n",
       "        -3.6800000e+00, -3.6700000e+00, -3.6600000e+00, -3.6500000e+00,\n",
       "        -3.6400000e+00, -3.6300000e+00, -3.6200000e+00, -3.6100000e+00,\n",
       "        -3.6000000e+00, -3.5900000e+00, -3.5800000e+00, -3.5700000e+00,\n",
       "        -3.5600000e+00, -3.5500000e+00, -3.5400000e+00, -3.5300000e+00,\n",
       "        -3.5200000e+00, -3.5100000e+00, -3.5000000e+00, -3.4900000e+00,\n",
       "        -3.4800000e+00, -3.4700000e+00, -3.4600000e+00, -3.4500000e+00,\n",
       "        -3.4400000e+00, -3.4300000e+00, -3.4200000e+00, -3.4100000e+00,\n",
       "        -3.4000000e+00, -3.3900000e+00, -3.3800000e+00, -3.3700000e+00,\n",
       "        -3.3600000e+00, -3.3500000e+00, -3.3400000e+00, -3.3300000e+00,\n",
       "        -3.3200000e+00, -3.3100000e+00, -3.3000000e+00, -3.2900000e+00,\n",
       "        -3.2800000e+00, -3.2700000e+00, -3.2600000e+00, -3.2500000e+00,\n",
       "        -3.2400000e+00, -3.2300000e+00, -3.2200000e+00, -3.2100000e+00,\n",
       "        -3.2000000e+00, -3.1900000e+00, -3.1800000e+00, -3.1700000e+00,\n",
       "        -3.1600000e+00, -3.1500000e+00, -3.1400000e+00, -3.1300000e+00,\n",
       "        -3.1200000e+00, -3.1100000e+00, -3.1000000e+00, -3.0900000e+00,\n",
       "        -3.0800000e+00, -3.0700000e+00, -3.0600000e+00, -3.0500000e+00,\n",
       "        -3.0400000e+00, -3.0300000e+00, -3.0200000e+00, -3.0100000e+00,\n",
       "        -3.0000000e+00, -2.9900000e+00, -2.9800000e+00, -2.9700000e+00,\n",
       "        -2.9600000e+00, -2.9500000e+00, -2.9400000e+00, -2.9300000e+00,\n",
       "        -2.9200000e+00, -2.9100000e+00, -2.9000000e+00, -2.8900000e+00,\n",
       "        -2.8800000e+00, -2.8700000e+00, -2.8600000e+00, -2.8500000e+00,\n",
       "        -2.8400000e+00, -2.8300000e+00, -2.8200000e+00, -2.8100000e+00,\n",
       "        -2.8000000e+00, -2.7900000e+00, -2.7800000e+00, -2.7700000e+00,\n",
       "        -2.7600000e+00, -2.7500000e+00, -2.7400000e+00, -2.7300000e+00,\n",
       "        -2.7200000e+00, -2.7100000e+00, -2.7000000e+00, -2.6900000e+00,\n",
       "        -2.6800000e+00, -2.6700000e+00, -2.6600000e+00, -2.6500000e+00,\n",
       "        -2.6400000e+00, -2.6300000e+00, -2.6200000e+00, -2.6100000e+00,\n",
       "        -2.6000000e+00, -2.5900000e+00, -2.5800000e+00, -2.5700000e+00,\n",
       "        -2.5600000e+00, -2.5500000e+00, -2.5400000e+00, -2.5300000e+00,\n",
       "        -2.5200000e+00, -2.5100000e+00, -2.5000000e+00, -2.4900000e+00,\n",
       "        -2.4800000e+00, -2.4700000e+00, -2.4600000e+00, -2.4500000e+00,\n",
       "        -2.4400000e+00, -2.4300000e+00, -2.4200000e+00, -2.4100000e+00,\n",
       "        -2.4000000e+00, -2.3900000e+00, -2.3800000e+00, -2.3700000e+00,\n",
       "        -2.3600000e+00, -2.3500000e+00, -2.3400000e+00, -2.3300000e+00,\n",
       "        -2.3200000e+00, -2.3100000e+00, -2.3000000e+00, -2.2900000e+00,\n",
       "        -2.2800000e+00, -2.2700000e+00, -2.2600000e+00, -2.2500000e+00,\n",
       "        -2.2400000e+00, -2.2300000e+00, -2.2200000e+00, -2.2100000e+00,\n",
       "        -2.2000000e+00, -2.1900000e+00, -2.1800000e+00, -2.1700000e+00,\n",
       "        -2.1600000e+00, -2.1500000e+00, -2.1400000e+00, -2.1300000e+00,\n",
       "        -2.1200000e+00, -2.1100000e+00, -2.1000000e+00, -2.0900000e+00,\n",
       "        -2.0800000e+00, -2.0700000e+00, -2.0600000e+00, -2.0500000e+00,\n",
       "        -2.0400000e+00, -2.0300000e+00, -2.0200000e+00, -2.0100000e+00,\n",
       "        -2.0000000e+00, -1.9900000e+00, -1.9800000e+00, -1.9700000e+00,\n",
       "        -1.9600000e+00, -1.9500000e+00, -1.9400000e+00, -1.9300000e+00,\n",
       "        -1.9200000e+00, -1.9100000e+00, -1.9000000e+00, -1.8900000e+00,\n",
       "        -1.8800000e+00, -1.8700000e+00, -1.8600000e+00, -1.8500000e+00,\n",
       "        -1.8400000e+00, -1.8300000e+00, -1.8200000e+00, -1.8100000e+00,\n",
       "        -1.8000000e+00, -1.7900000e+00, -1.7800000e+00, -1.7700000e+00,\n",
       "        -1.7600000e+00, -1.7500000e+00, -1.7400000e+00, -1.7300000e+00,\n",
       "        -1.7200000e+00, -1.7100000e+00, -1.7000000e+00, -1.6900000e+00,\n",
       "        -1.6800000e+00, -1.6700000e+00, -1.6600000e+00, -1.6500000e+00,\n",
       "        -1.6400000e+00, -1.6300000e+00, -1.6200000e+00, -1.6100000e+00,\n",
       "        -1.6000000e+00, -1.5900000e+00, -1.5800000e+00, -1.5700000e+00,\n",
       "        -1.5600000e+00, -1.5500000e+00, -1.5400000e+00, -1.5300000e+00,\n",
       "        -1.5200000e+00, -1.5100000e+00, -1.5000000e+00, -1.4900000e+00,\n",
       "        -1.4800000e+00, -1.4700000e+00, -1.4600000e+00, -1.4500000e+00,\n",
       "        -1.4400000e+00, -1.4300000e+00, -1.4200000e+00, -1.4100000e+00,\n",
       "        -1.4000000e+00, -1.3900000e+00, -1.3800000e+00, -1.3700000e+00,\n",
       "        -1.3600000e+00, -1.3500000e+00, -1.3400000e+00, -1.3300000e+00,\n",
       "        -1.3200000e+00, -1.3100000e+00, -1.3000000e+00, -1.2900000e+00,\n",
       "        -1.2800000e+00, -1.2700000e+00, -1.2600000e+00, -1.2500000e+00,\n",
       "        -1.2400000e+00, -1.2300000e+00, -1.2200000e+00, -1.2100000e+00,\n",
       "        -1.2000000e+00, -1.1900000e+00, -1.1800000e+00, -1.1700000e+00,\n",
       "        -1.1600000e+00, -1.1500000e+00, -1.1400000e+00, -1.1300000e+00,\n",
       "        -1.1200000e+00, -1.1100000e+00, -1.1000000e+00, -1.0900000e+00,\n",
       "        -1.0800000e+00, -1.0700000e+00, -1.0600000e+00, -1.0500000e+00,\n",
       "        -1.0400000e+00, -1.0300000e+00, -1.0200000e+00, -1.0100000e+00,\n",
       "        -1.0000000e+00, -9.9000000e-01, -9.8000000e-01, -9.7000000e-01,\n",
       "        -9.6000000e-01, -9.5000000e-01, -9.4000000e-01, -9.3000000e-01,\n",
       "        -9.2000000e-01, -9.1000000e-01, -9.0000000e-01, -8.9000000e-01,\n",
       "        -8.8000000e-01, -8.7000000e-01, -8.6000000e-01, -8.5000000e-01,\n",
       "        -8.4000000e-01, -8.3000000e-01, -8.2000000e-01, -8.1000000e-01,\n",
       "        -8.0000000e-01, -7.9000000e-01, -7.8000000e-01, -7.7000000e-01,\n",
       "        -7.6000000e-01, -7.5000000e-01, -7.4000000e-01, -7.3000000e-01,\n",
       "        -7.2000000e-01, -7.1000000e-01, -7.0000000e-01, -6.9000000e-01,\n",
       "        -6.8000000e-01, -6.7000000e-01, -6.6000000e-01, -6.5000000e-01,\n",
       "        -6.4000000e-01, -6.3000000e-01, -6.2000000e-01, -6.1000000e-01,\n",
       "        -6.0000000e-01, -5.9000000e-01, -5.8000000e-01, -5.7000000e-01,\n",
       "        -5.6000000e-01, -5.5000000e-01, -5.4000000e-01, -5.3000000e-01,\n",
       "        -5.2000000e-01, -5.1000000e-01, -5.0000000e-01, -4.9000000e-01,\n",
       "        -4.8000000e-01, -4.7000000e-01, -4.6000000e-01, -4.5000000e-01,\n",
       "        -4.4000000e-01, -4.3000000e-01, -4.2000000e-01, -4.1000000e-01,\n",
       "        -4.0000000e-01, -3.9000000e-01, -3.8000000e-01, -3.7000000e-01,\n",
       "        -3.6000000e-01, -3.5000000e-01, -3.4000000e-01, -3.3000000e-01,\n",
       "        -3.2000000e-01, -3.1000000e-01, -3.0000000e-01, -2.9000000e-01,\n",
       "        -2.8000000e-01, -2.7000000e-01, -2.6000000e-01, -2.5000000e-01,\n",
       "        -2.4000000e-01, -2.3000000e-01, -2.2000000e-01, -2.1000000e-01,\n",
       "        -2.0000000e-01, -1.9000000e-01, -1.8000000e-01, -1.7000000e-01,\n",
       "        -1.6000000e-01, -1.5000000e-01, -1.4000000e-01, -1.3000000e-01,\n",
       "        -1.2000000e-01, -1.1000000e-01, -1.0000000e-01, -9.0000000e-02,\n",
       "        -8.0000000e-02, -7.0000000e-02, -6.0000000e-02, -5.0000000e-02,\n",
       "        -4.0000000e-02, -3.0000000e-02, -2.0000000e-02, -1.0000000e-02,\n",
       "        -1.0658141e-13,  1.0000000e-02,  2.0000000e-02,  3.0000000e-02,\n",
       "         4.0000000e-02,  5.0000000e-02,  6.0000000e-02,  7.0000000e-02,\n",
       "         8.0000000e-02,  9.0000000e-02,  1.0000000e-01,  1.1000000e-01,\n",
       "         1.2000000e-01,  1.3000000e-01,  1.4000000e-01,  1.5000000e-01,\n",
       "         1.6000000e-01,  1.7000000e-01,  1.8000000e-01,  1.9000000e-01,\n",
       "         2.0000000e-01,  2.1000000e-01,  2.2000000e-01,  2.3000000e-01,\n",
       "         2.4000000e-01,  2.5000000e-01,  2.6000000e-01,  2.7000000e-01,\n",
       "         2.8000000e-01,  2.9000000e-01,  3.0000000e-01,  3.1000000e-01,\n",
       "         3.2000000e-01,  3.3000000e-01,  3.4000000e-01,  3.5000000e-01,\n",
       "         3.6000000e-01,  3.7000000e-01,  3.8000000e-01,  3.9000000e-01,\n",
       "         4.0000000e-01,  4.1000000e-01,  4.2000000e-01,  4.3000000e-01,\n",
       "         4.4000000e-01,  4.5000000e-01,  4.6000000e-01,  4.7000000e-01,\n",
       "         4.8000000e-01,  4.9000000e-01,  5.0000000e-01,  5.1000000e-01,\n",
       "         5.2000000e-01,  5.3000000e-01,  5.4000000e-01,  5.5000000e-01,\n",
       "         5.6000000e-01,  5.7000000e-01,  5.8000000e-01,  5.9000000e-01,\n",
       "         6.0000000e-01,  6.1000000e-01,  6.2000000e-01,  6.3000000e-01,\n",
       "         6.4000000e-01,  6.5000000e-01,  6.6000000e-01,  6.7000000e-01,\n",
       "         6.8000000e-01,  6.9000000e-01,  7.0000000e-01,  7.1000000e-01,\n",
       "         7.2000000e-01,  7.3000000e-01,  7.4000000e-01,  7.5000000e-01,\n",
       "         7.6000000e-01,  7.7000000e-01,  7.8000000e-01,  7.9000000e-01,\n",
       "         8.0000000e-01,  8.1000000e-01,  8.2000000e-01,  8.3000000e-01,\n",
       "         8.4000000e-01,  8.5000000e-01,  8.6000000e-01,  8.7000000e-01,\n",
       "         8.8000000e-01,  8.9000000e-01,  9.0000000e-01,  9.1000000e-01,\n",
       "         9.2000000e-01,  9.3000000e-01,  9.4000000e-01,  9.5000000e-01,\n",
       "         9.6000000e-01,  9.7000000e-01,  9.8000000e-01,  9.9000000e-01,\n",
       "         1.0000000e+00,  1.0100000e+00,  1.0200000e+00,  1.0300000e+00,\n",
       "         1.0400000e+00,  1.0500000e+00,  1.0600000e+00,  1.0700000e+00,\n",
       "         1.0800000e+00,  1.0900000e+00,  1.1000000e+00,  1.1100000e+00,\n",
       "         1.1200000e+00,  1.1300000e+00,  1.1400000e+00,  1.1500000e+00,\n",
       "         1.1600000e+00,  1.1700000e+00,  1.1800000e+00,  1.1900000e+00,\n",
       "         1.2000000e+00,  1.2100000e+00,  1.2200000e+00,  1.2300000e+00,\n",
       "         1.2400000e+00,  1.2500000e+00,  1.2600000e+00,  1.2700000e+00,\n",
       "         1.2800000e+00,  1.2900000e+00,  1.3000000e+00,  1.3100000e+00,\n",
       "         1.3200000e+00,  1.3300000e+00,  1.3400000e+00,  1.3500000e+00,\n",
       "         1.3600000e+00,  1.3700000e+00,  1.3800000e+00,  1.3900000e+00,\n",
       "         1.4000000e+00,  1.4100000e+00,  1.4200000e+00,  1.4300000e+00,\n",
       "         1.4400000e+00,  1.4500000e+00,  1.4600000e+00,  1.4700000e+00,\n",
       "         1.4800000e+00,  1.4900000e+00,  1.5000000e+00,  1.5100000e+00,\n",
       "         1.5200000e+00,  1.5300000e+00,  1.5400000e+00,  1.5500000e+00,\n",
       "         1.5600000e+00,  1.5700000e+00,  1.5800000e+00,  1.5900000e+00,\n",
       "         1.6000000e+00,  1.6100000e+00,  1.6200000e+00,  1.6300000e+00,\n",
       "         1.6400000e+00,  1.6500000e+00,  1.6600000e+00,  1.6700000e+00,\n",
       "         1.6800000e+00,  1.6900000e+00,  1.7000000e+00,  1.7100000e+00,\n",
       "         1.7200000e+00,  1.7300000e+00,  1.7400000e+00,  1.7500000e+00,\n",
       "         1.7600000e+00,  1.7700000e+00,  1.7800000e+00,  1.7900000e+00,\n",
       "         1.8000000e+00,  1.8100000e+00,  1.8200000e+00,  1.8300000e+00,\n",
       "         1.8400000e+00,  1.8500000e+00,  1.8600000e+00,  1.8700000e+00,\n",
       "         1.8800000e+00,  1.8900000e+00,  1.9000000e+00,  1.9100000e+00,\n",
       "         1.9200000e+00,  1.9300000e+00,  1.9400000e+00,  1.9500000e+00,\n",
       "         1.9600000e+00,  1.9700000e+00,  1.9800000e+00,  1.9900000e+00,\n",
       "         2.0000000e+00,  2.0100000e+00,  2.0200000e+00,  2.0300000e+00,\n",
       "         2.0400000e+00,  2.0500000e+00,  2.0600000e+00,  2.0700000e+00,\n",
       "         2.0800000e+00,  2.0900000e+00,  2.1000000e+00,  2.1100000e+00,\n",
       "         2.1200000e+00,  2.1300000e+00,  2.1400000e+00,  2.1500000e+00,\n",
       "         2.1600000e+00,  2.1700000e+00,  2.1800000e+00,  2.1900000e+00,\n",
       "         2.2000000e+00,  2.2100000e+00,  2.2200000e+00,  2.2300000e+00,\n",
       "         2.2400000e+00,  2.2500000e+00,  2.2600000e+00,  2.2700000e+00,\n",
       "         2.2800000e+00,  2.2900000e+00,  2.3000000e+00,  2.3100000e+00,\n",
       "         2.3200000e+00,  2.3300000e+00,  2.3400000e+00,  2.3500000e+00,\n",
       "         2.3600000e+00,  2.3700000e+00,  2.3800000e+00,  2.3900000e+00,\n",
       "         2.4000000e+00,  2.4100000e+00,  2.4200000e+00,  2.4300000e+00,\n",
       "         2.4400000e+00,  2.4500000e+00,  2.4600000e+00,  2.4700000e+00,\n",
       "         2.4800000e+00,  2.4900000e+00,  2.5000000e+00,  2.5100000e+00,\n",
       "         2.5200000e+00,  2.5300000e+00,  2.5400000e+00,  2.5500000e+00,\n",
       "         2.5600000e+00,  2.5700000e+00,  2.5800000e+00,  2.5900000e+00,\n",
       "         2.6000000e+00,  2.6100000e+00,  2.6200000e+00,  2.6300000e+00,\n",
       "         2.6400000e+00,  2.6500000e+00,  2.6600000e+00,  2.6700000e+00,\n",
       "         2.6800000e+00,  2.6900000e+00,  2.7000000e+00,  2.7100000e+00,\n",
       "         2.7200000e+00,  2.7300000e+00,  2.7400000e+00,  2.7500000e+00,\n",
       "         2.7600000e+00,  2.7700000e+00,  2.7800000e+00,  2.7900000e+00,\n",
       "         2.8000000e+00,  2.8100000e+00,  2.8200000e+00,  2.8300000e+00,\n",
       "         2.8400000e+00,  2.8500000e+00,  2.8600000e+00,  2.8700000e+00,\n",
       "         2.8800000e+00,  2.8900000e+00,  2.9000000e+00,  2.9100000e+00,\n",
       "         2.9200000e+00,  2.9300000e+00,  2.9400000e+00,  2.9500000e+00,\n",
       "         2.9600000e+00,  2.9700000e+00,  2.9800000e+00,  2.9900000e+00,\n",
       "         3.0000000e+00,  3.0100000e+00,  3.0200000e+00,  3.0300000e+00,\n",
       "         3.0400000e+00,  3.0500000e+00,  3.0600000e+00,  3.0700000e+00,\n",
       "         3.0800000e+00,  3.0900000e+00,  3.1000000e+00,  3.1100000e+00,\n",
       "         3.1200000e+00,  3.1300000e+00,  3.1400000e+00,  3.1500000e+00,\n",
       "         3.1600000e+00,  3.1700000e+00,  3.1800000e+00,  3.1900000e+00,\n",
       "         3.2000000e+00,  3.2100000e+00,  3.2200000e+00,  3.2300000e+00,\n",
       "         3.2400000e+00,  3.2500000e+00,  3.2600000e+00,  3.2700000e+00,\n",
       "         3.2800000e+00,  3.2900000e+00,  3.3000000e+00,  3.3100000e+00,\n",
       "         3.3200000e+00,  3.3300000e+00,  3.3400000e+00,  3.3500000e+00,\n",
       "         3.3600000e+00,  3.3700000e+00,  3.3800000e+00,  3.3900000e+00,\n",
       "         3.4000000e+00,  3.4100000e+00,  3.4200000e+00,  3.4300000e+00,\n",
       "         3.4400000e+00,  3.4500000e+00,  3.4600000e+00,  3.4700000e+00,\n",
       "         3.4800000e+00,  3.4900000e+00,  3.5000000e+00,  3.5100000e+00,\n",
       "         3.5200000e+00,  3.5300000e+00,  3.5400000e+00,  3.5500000e+00,\n",
       "         3.5600000e+00,  3.5700000e+00,  3.5800000e+00,  3.5900000e+00,\n",
       "         3.6000000e+00,  3.6100000e+00,  3.6200000e+00,  3.6300000e+00,\n",
       "         3.6400000e+00,  3.6500000e+00,  3.6600000e+00,  3.6700000e+00,\n",
       "         3.6800000e+00,  3.6900000e+00,  3.7000000e+00,  3.7100000e+00,\n",
       "         3.7200000e+00,  3.7300000e+00,  3.7400000e+00,  3.7500000e+00,\n",
       "         3.7600000e+00,  3.7700000e+00,  3.7800000e+00,  3.7900000e+00,\n",
       "         3.8000000e+00,  3.8100000e+00,  3.8200000e+00,  3.8300000e+00,\n",
       "         3.8400000e+00,  3.8500000e+00,  3.8600000e+00,  3.8700000e+00,\n",
       "         3.8800000e+00,  3.8900000e+00,  3.9000000e+00,  3.9100000e+00,\n",
       "         3.9200000e+00,  3.9300000e+00,  3.9400000e+00,  3.9500000e+00,\n",
       "         3.9600000e+00,  3.9700000e+00,  3.9800000e+00,  3.9900000e+00,\n",
       "         4.0000000e+00,  4.0100000e+00,  4.0200000e+00,  4.0300000e+00,\n",
       "         4.0400000e+00,  4.0500000e+00,  4.0600000e+00,  4.0700000e+00,\n",
       "         4.0800000e+00,  4.0900000e+00,  4.1000000e+00,  4.1100000e+00,\n",
       "         4.1200000e+00,  4.1300000e+00,  4.1400000e+00,  4.1500000e+00,\n",
       "         4.1600000e+00,  4.1700000e+00,  4.1800000e+00,  4.1900000e+00,\n",
       "         4.2000000e+00,  4.2100000e+00,  4.2200000e+00,  4.2300000e+00,\n",
       "         4.2400000e+00,  4.2500000e+00,  4.2600000e+00,  4.2700000e+00,\n",
       "         4.2800000e+00,  4.2900000e+00,  4.3000000e+00,  4.3100000e+00,\n",
       "         4.3200000e+00,  4.3300000e+00,  4.3400000e+00,  4.3500000e+00,\n",
       "         4.3600000e+00,  4.3700000e+00,  4.3800000e+00,  4.3900000e+00,\n",
       "         4.4000000e+00,  4.4100000e+00,  4.4200000e+00,  4.4300000e+00,\n",
       "         4.4400000e+00,  4.4500000e+00,  4.4600000e+00,  4.4700000e+00,\n",
       "         4.4800000e+00,  4.4900000e+00,  4.5000000e+00,  4.5100000e+00,\n",
       "         4.5200000e+00,  4.5300000e+00,  4.5400000e+00,  4.5500000e+00,\n",
       "         4.5600000e+00,  4.5700000e+00,  4.5800000e+00,  4.5900000e+00,\n",
       "         4.6000000e+00,  4.6100000e+00,  4.6200000e+00,  4.6300000e+00,\n",
       "         4.6400000e+00,  4.6500000e+00,  4.6600000e+00,  4.6700000e+00,\n",
       "         4.6800000e+00,  4.6900000e+00,  4.7000000e+00,  4.7100000e+00,\n",
       "         4.7200000e+00,  4.7300000e+00,  4.7400000e+00,  4.7500000e+00,\n",
       "         4.7600000e+00,  4.7700000e+00,  4.7800000e+00,  4.7900000e+00,\n",
       "         4.8000000e+00,  4.8100000e+00,  4.8200000e+00,  4.8300000e+00,\n",
       "         4.8400000e+00,  4.8500000e+00,  4.8600000e+00,  4.8700000e+00,\n",
       "         4.8800000e+00,  4.8900000e+00,  4.9000000e+00,  4.9100000e+00,\n",
       "         4.9200000e+00,  4.9300000e+00,  4.9400000e+00,  4.9500000e+00,\n",
       "         4.9600000e+00,  4.9700000e+00,  4.9800000e+00,  4.9900000e+00])]"
      ]
     },
     "execution_count": 430,
     "metadata": {},
     "output_type": "execute_result"
    }
   ],
   "source": [
    "xs"
   ]
  },
  {
   "cell_type": "code",
   "execution_count": 432,
   "metadata": {},
   "outputs": [
    {
     "data": {
      "text/plain": [
       "array([[7.07106781, 7.06400028, 7.05693985, ..., 7.04988652, 7.05693985,\n",
       "        7.06400028],\n",
       "       [7.06400028, 7.05692568, 7.04985815, ..., 7.04279774, 7.04985815,\n",
       "        7.05692568],\n",
       "       [7.05693985, 7.04985815, 7.04278354, ..., 7.03571603, 7.04278354,\n",
       "        7.04985815],\n",
       "       ...,\n",
       "       [7.04988652, 7.04279774, 7.03571603, ..., 7.0286414 , 7.03571603,\n",
       "        7.04279774],\n",
       "       [7.05693985, 7.04985815, 7.04278354, ..., 7.03571603, 7.04278354,\n",
       "        7.04985815],\n",
       "       [7.06400028, 7.05692568, 7.04985815, ..., 7.04279774, 7.04985815,\n",
       "        7.05692568]])"
      ]
     },
     "execution_count": 432,
     "metadata": {},
     "output_type": "execute_result"
    }
   ],
   "source": [
    "z=np.sqrt(xs**2+ys**2)\n",
    "z"
   ]
  },
  {
   "cell_type": "code",
   "execution_count": 433,
   "metadata": {},
   "outputs": [
    {
     "data": {
      "text/plain": [
       "array([[-5.  , -4.99, -4.98, ...,  4.97,  4.98,  4.99],\n",
       "       [-5.  , -4.99, -4.98, ...,  4.97,  4.98,  4.99],\n",
       "       [-5.  , -4.99, -4.98, ...,  4.97,  4.98,  4.99],\n",
       "       ...,\n",
       "       [-5.  , -4.99, -4.98, ...,  4.97,  4.98,  4.99],\n",
       "       [-5.  , -4.99, -4.98, ...,  4.97,  4.98,  4.99],\n",
       "       [-5.  , -4.99, -4.98, ...,  4.97,  4.98,  4.99]])"
      ]
     },
     "execution_count": 433,
     "metadata": {},
     "output_type": "execute_result"
    }
   ],
   "source": [
    "xs"
   ]
  },
  {
   "cell_type": "code",
   "execution_count": 434,
   "metadata": {},
   "outputs": [
    {
     "data": {
      "text/plain": [
       "array([[-5.  , -5.  , -5.  , ..., -5.  , -5.  , -5.  ],\n",
       "       [-4.99, -4.99, -4.99, ..., -4.99, -4.99, -4.99],\n",
       "       [-4.98, -4.98, -4.98, ..., -4.98, -4.98, -4.98],\n",
       "       ...,\n",
       "       [ 4.97,  4.97,  4.97, ...,  4.97,  4.97,  4.97],\n",
       "       [ 4.98,  4.98,  4.98, ...,  4.98,  4.98,  4.98],\n",
       "       [ 4.99,  4.99,  4.99, ...,  4.99,  4.99,  4.99]])"
      ]
     },
     "execution_count": 434,
     "metadata": {},
     "output_type": "execute_result"
    }
   ],
   "source": [
    "ys"
   ]
  },
  {
   "cell_type": "code",
   "execution_count": 437,
   "metadata": {},
   "outputs": [
    {
     "data": {
      "text/plain": [
       "array([[       nan,        nan,        nan, ..., 1.49310069, 1.49385118,\n",
       "        1.49460055],\n",
       "       [       nan,        nan,        nan, ..., 1.49310069, 1.49385118,\n",
       "        1.49460055],\n",
       "       [       nan,        nan,        nan, ..., 1.49310069, 1.49385118,\n",
       "        1.49460055],\n",
       "       ...,\n",
       "       [       nan,        nan,        nan, ..., 1.49310069, 1.49385118,\n",
       "        1.49460055],\n",
       "       [       nan,        nan,        nan, ..., 1.49310069, 1.49385118,\n",
       "        1.49460055],\n",
       "       [       nan,        nan,        nan, ..., 1.49310069, 1.49385118,\n",
       "        1.49460055]])"
      ]
     },
     "execution_count": 437,
     "metadata": {},
     "output_type": "execute_result"
    }
   ],
   "source": [
    "np.sqrt(xs,xs)"
   ]
  },
  {
   "cell_type": "code",
   "execution_count": 438,
   "metadata": {},
   "outputs": [
    {
     "data": {
      "text/plain": [
       "array([[       nan,        nan,        nan, ..., 1.49310069, 1.49385118,\n",
       "        1.49460055],\n",
       "       [       nan,        nan,        nan, ..., 1.49310069, 1.49385118,\n",
       "        1.49460055],\n",
       "       [       nan,        nan,        nan, ..., 1.49310069, 1.49385118,\n",
       "        1.49460055],\n",
       "       ...,\n",
       "       [       nan,        nan,        nan, ..., 1.49310069, 1.49385118,\n",
       "        1.49460055],\n",
       "       [       nan,        nan,        nan, ..., 1.49310069, 1.49385118,\n",
       "        1.49460055],\n",
       "       [       nan,        nan,        nan, ..., 1.49310069, 1.49385118,\n",
       "        1.49460055]])"
      ]
     },
     "execution_count": 438,
     "metadata": {},
     "output_type": "execute_result"
    }
   ],
   "source": [
    "xs"
   ]
  },
  {
   "cell_type": "code",
   "execution_count": 441,
   "metadata": {},
   "outputs": [],
   "source": [
    "x=np.array([1,4,5])\n",
    "y=np.array([6,7,8])\n",
    "\n",
    "c=np.array([True,False,True])"
   ]
  },
  {
   "cell_type": "code",
   "execution_count": 456,
   "metadata": {},
   "outputs": [],
   "source": [
    "result=[(i if k else j) for i ,j,k in zip(x,y,c)]"
   ]
  },
  {
   "cell_type": "code",
   "execution_count": 457,
   "metadata": {},
   "outputs": [
    {
     "data": {
      "text/plain": [
       "[1, 7, 5]"
      ]
     },
     "execution_count": 457,
     "metadata": {},
     "output_type": "execute_result"
    }
   ],
   "source": [
    "result"
   ]
  },
  {
   "cell_type": "code",
   "execution_count": 3,
   "metadata": {},
   "outputs": [],
   "source": [
    "import numpy as np"
   ]
  },
  {
   "cell_type": "code",
   "execution_count": 4,
   "metadata": {},
   "outputs": [],
   "source": [
    "xarr = np.array([1.1, 1.2, 1.3, 1.4, 1.5])\n",
    "yarr = np.array([2.1, 2.2, 2.3, 2.4, 2.5])\n",
    "cond = np.array([True, False, True, True, False])"
   ]
  },
  {
   "cell_type": "code",
   "execution_count": 5,
   "metadata": {},
   "outputs": [
    {
     "name": "stdout",
     "output_type": "stream",
     "text": [
      "[1.1, 2.2, 1.3, 1.4, 2.5]\n"
     ]
    }
   ],
   "source": [
    "\n",
    "result=[x if b else y for x,y,b in zip(xarr, yarr, cond)]\n",
    "print(result)\n"
   ]
  },
  {
   "cell_type": "code",
   "execution_count": 7,
   "metadata": {},
   "outputs": [
    {
     "data": {
      "text/plain": [
       "array([1.1, 2.2, 1.3, 1.4, 2.5])"
      ]
     },
     "execution_count": 7,
     "metadata": {},
     "output_type": "execute_result"
    }
   ],
   "source": [
    "result=np.where(cond,xarr,yarr)\n",
    "result"
   ]
  },
  {
   "cell_type": "code",
   "execution_count": 8,
   "metadata": {},
   "outputs": [
    {
     "data": {
      "text/plain": [
       "array([2.1, 1.2, 2.3, 2.4, 1.5])"
      ]
     },
     "execution_count": 8,
     "metadata": {},
     "output_type": "execute_result"
    }
   ],
   "source": [
    "result=np.where(cond,yarr,xarr)\n",
    "result"
   ]
  },
  {
   "cell_type": "code",
   "execution_count": 9,
   "metadata": {},
   "outputs": [
    {
     "data": {
      "text/plain": [
       "array([[ 1.58747758, -0.60836898,  0.90915813, -0.73783293],\n",
       "       [-0.23036095, -0.82218236, -0.14648053, -0.06328904],\n",
       "       [-0.28986678, -0.57159872,  0.06733255,  1.51242812],\n",
       "       [ 1.32490297, -1.84801792, -0.0470252 ,  1.02401556]])"
      ]
     },
     "execution_count": 9,
     "metadata": {},
     "output_type": "execute_result"
    }
   ],
   "source": [
    "arr=np.random.randn(4,4)\n",
    "arr"
   ]
  },
  {
   "cell_type": "code",
   "execution_count": 10,
   "metadata": {},
   "outputs": [
    {
     "data": {
      "text/plain": [
       "array([[ True, False,  True, False],\n",
       "       [False, False, False, False],\n",
       "       [False, False,  True,  True],\n",
       "       [ True, False, False,  True]])"
      ]
     },
     "execution_count": 10,
     "metadata": {},
     "output_type": "execute_result"
    }
   ],
   "source": [
    "arr>0"
   ]
  },
  {
   "cell_type": "code",
   "execution_count": 12,
   "metadata": {},
   "outputs": [
    {
     "data": {
      "text/plain": [
       "array([[ 2, -2,  2, -2],\n",
       "       [-2, -2, -2, -2],\n",
       "       [-2, -2,  2,  2],\n",
       "       [ 2, -2, -2,  2]])"
      ]
     },
     "execution_count": 12,
     "metadata": {},
     "output_type": "execute_result"
    }
   ],
   "source": [
    "np.where(arr>0,2,-2)"
   ]
  },
  {
   "cell_type": "code",
   "execution_count": 13,
   "metadata": {},
   "outputs": [
    {
     "data": {
      "text/plain": [
       "array([[ 2.        , -0.60836898,  2.        , -0.73783293],\n",
       "       [-0.23036095, -0.82218236, -0.14648053, -0.06328904],\n",
       "       [-0.28986678, -0.57159872,  2.        ,  2.        ],\n",
       "       [ 2.        , -1.84801792, -0.0470252 ,  2.        ]])"
      ]
     },
     "execution_count": 13,
     "metadata": {},
     "output_type": "execute_result"
    }
   ],
   "source": [
    "np.where(arr>0,2,arr)"
   ]
  },
  {
   "cell_type": "code",
   "execution_count": 15,
   "metadata": {},
   "outputs": [
    {
     "data": {
      "text/plain": [
       "array([[-1.73212766,  0.35915091,  0.44156587,  1.67872967],\n",
       "       [-0.52957735,  1.77576256,  0.04069519, -1.04948436],\n",
       "       [-0.30736238,  1.7579065 , -0.84767388, -0.73360652],\n",
       "       [ 1.67205508,  0.82561359,  1.36707544,  0.3614288 ],\n",
       "       [ 0.59913428, -1.1094015 ,  1.13143097, -0.80150995]])"
      ]
     },
     "execution_count": 15,
     "metadata": {},
     "output_type": "execute_result"
    }
   ],
   "source": [
    "arr=np.random.randn(5,4)\n",
    "arr"
   ]
  },
  {
   "cell_type": "code",
   "execution_count": 16,
   "metadata": {},
   "outputs": [
    {
     "data": {
      "text/plain": [
       "0.24499026350081032"
      ]
     },
     "execution_count": 16,
     "metadata": {},
     "output_type": "execute_result"
    }
   ],
   "source": [
    "arr.mean()"
   ]
  },
  {
   "cell_type": "code",
   "execution_count": 17,
   "metadata": {},
   "outputs": [
    {
     "data": {
      "text/plain": [
       "0.24499026350081032"
      ]
     },
     "execution_count": 17,
     "metadata": {},
     "output_type": "execute_result"
    }
   ],
   "source": [
    "np.mean(arr)"
   ]
  },
  {
   "cell_type": "code",
   "execution_count": 18,
   "metadata": {},
   "outputs": [
    {
     "data": {
      "text/plain": [
       "4.8998052700162065"
      ]
     },
     "execution_count": 18,
     "metadata": {},
     "output_type": "execute_result"
    }
   ],
   "source": [
    "arr.sum()"
   ]
  },
  {
   "cell_type": "code",
   "execution_count": 19,
   "metadata": {},
   "outputs": [
    {
     "data": {
      "text/plain": [
       "array([ 0.1868297 ,  0.05934901, -0.03268407,  1.05654323, -0.04508655])"
      ]
     },
     "execution_count": 19,
     "metadata": {},
     "output_type": "execute_result"
    }
   ],
   "source": [
    "arr.mean(axis=1) #1 means row"
   ]
  },
  {
   "cell_type": "code",
   "execution_count": 21,
   "metadata": {},
   "outputs": [
    {
     "data": {
      "text/plain": [
       "array([-0.05957561,  0.72180641,  0.42661872, -0.10888847])"
      ]
     },
     "execution_count": 21,
     "metadata": {},
     "output_type": "execute_result"
    }
   ],
   "source": [
    "arr.mean(axis=0) #0 means column"
   ]
  },
  {
   "cell_type": "code",
   "execution_count": 22,
   "metadata": {},
   "outputs": [
    {
     "data": {
      "text/plain": [
       "array([-0.29787803,  3.60903206,  2.13309359, -0.54444235])"
      ]
     },
     "execution_count": 22,
     "metadata": {},
     "output_type": "execute_result"
    }
   ],
   "source": [
    "arr.sum(axis=0)"
   ]
  },
  {
   "cell_type": "code",
   "execution_count": 23,
   "metadata": {},
   "outputs": [
    {
     "data": {
      "text/plain": [
       "array([ 0.74731879,  0.23739604, -0.13073628,  4.22617291, -0.18034619])"
      ]
     },
     "execution_count": 23,
     "metadata": {},
     "output_type": "execute_result"
    }
   ],
   "source": [
    "arr.sum(axis=1)"
   ]
  },
  {
   "cell_type": "code",
   "execution_count": 24,
   "metadata": {},
   "outputs": [
    {
     "data": {
      "text/plain": [
       "array([ 0.74731879,  0.23739604, -0.13073628,  4.22617291, -0.18034619])"
      ]
     },
     "execution_count": 24,
     "metadata": {},
     "output_type": "execute_result"
    }
   ],
   "source": [
    "np.sum(arr,axis=1)"
   ]
  },
  {
   "cell_type": "code",
   "execution_count": 25,
   "metadata": {},
   "outputs": [
    {
     "data": {
      "text/plain": [
       "array([ 0.1868297 ,  0.05934901, -0.03268407,  1.05654323, -0.04508655])"
      ]
     },
     "execution_count": 25,
     "metadata": {},
     "output_type": "execute_result"
    }
   ],
   "source": [
    "np.mean(arr,axis=1)"
   ]
  },
  {
   "cell_type": "code",
   "execution_count": 26,
   "metadata": {},
   "outputs": [
    {
     "data": {
      "text/plain": [
       "array([1, 2, 3, 4, 5, 6, 7])"
      ]
     },
     "execution_count": 26,
     "metadata": {},
     "output_type": "execute_result"
    }
   ],
   "source": [
    "arr=np.array([1,2,3,4,5,6,7])\n",
    "arr"
   ]
  },
  {
   "cell_type": "code",
   "execution_count": 27,
   "metadata": {},
   "outputs": [
    {
     "data": {
      "text/plain": [
       "array([ 1,  3,  6, 10, 15, 21, 28], dtype=int32)"
      ]
     },
     "execution_count": 27,
     "metadata": {},
     "output_type": "execute_result"
    }
   ],
   "source": [
    "np.cumsum(arr) #haar phali value ko 2nd ma add"
   ]
  },
  {
   "cell_type": "code",
   "execution_count": 28,
   "metadata": {},
   "outputs": [
    {
     "data": {
      "text/plain": [
       "array([   1,    2,    6,   24,  120,  720, 5040], dtype=int32)"
      ]
     },
     "execution_count": 28,
     "metadata": {},
     "output_type": "execute_result"
    }
   ],
   "source": [
    "arr.cumprod() #haar phali value ko 2nd sa multiply"
   ]
  },
  {
   "cell_type": "code",
   "execution_count": 29,
   "metadata": {},
   "outputs": [
    {
     "data": {
      "text/plain": [
       "array([[0, 1, 2],\n",
       "       [3, 4, 5],\n",
       "       [6, 7, 8]])"
      ]
     },
     "execution_count": 29,
     "metadata": {},
     "output_type": "execute_result"
    }
   ],
   "source": [
    "arr=np.array([[0,1,2],[3,4,5],[6,7,8]])\n",
    "arr"
   ]
  },
  {
   "cell_type": "code",
   "execution_count": 30,
   "metadata": {},
   "outputs": [
    {
     "data": {
      "text/plain": [
       "array([[ 0,  1,  2],\n",
       "       [ 3,  5,  7],\n",
       "       [ 9, 12, 15]], dtype=int32)"
      ]
     },
     "execution_count": 30,
     "metadata": {},
     "output_type": "execute_result"
    }
   ],
   "source": [
    "np.cumsum(arr,axis=0) #0 means columns"
   ]
  },
  {
   "cell_type": "code",
   "execution_count": 31,
   "metadata": {},
   "outputs": [
    {
     "data": {
      "text/plain": [
       "array([[ 0,  1,  2],\n",
       "       [ 3,  5,  7],\n",
       "       [ 9, 12, 15]], dtype=int32)"
      ]
     },
     "execution_count": 31,
     "metadata": {},
     "output_type": "execute_result"
    }
   ],
   "source": [
    "arr.cumsum(axis=0)"
   ]
  },
  {
   "cell_type": "code",
   "execution_count": 32,
   "metadata": {},
   "outputs": [
    {
     "data": {
      "text/plain": [
       "array([[ 0,  1,  3],\n",
       "       [ 3,  7, 12],\n",
       "       [ 6, 13, 21]], dtype=int32)"
      ]
     },
     "execution_count": 32,
     "metadata": {},
     "output_type": "execute_result"
    }
   ],
   "source": [
    "np.cumsum(arr,axis=1) #1 means row"
   ]
  },
  {
   "cell_type": "code",
   "execution_count": 33,
   "metadata": {},
   "outputs": [
    {
     "data": {
      "text/plain": [
       "array([[ 0,  1,  3],\n",
       "       [ 3,  7, 12],\n",
       "       [ 6, 13, 21]], dtype=int32)"
      ]
     },
     "execution_count": 33,
     "metadata": {},
     "output_type": "execute_result"
    }
   ],
   "source": [
    "arr.cumsum(axis=1)"
   ]
  },
  {
   "cell_type": "code",
   "execution_count": 36,
   "metadata": {},
   "outputs": [
    {
     "data": {
      "text/plain": [
       "array([[0, 1, 2],\n",
       "       [3, 4, 5],\n",
       "       [6, 7, 8]])"
      ]
     },
     "execution_count": 36,
     "metadata": {},
     "output_type": "execute_result"
    }
   ],
   "source": [
    "arr"
   ]
  },
  {
   "cell_type": "code",
   "execution_count": 35,
   "metadata": {},
   "outputs": [
    {
     "data": {
      "text/plain": [
       "array([[  0,   0,   0],\n",
       "       [  3,  12,  60],\n",
       "       [  6,  42, 336]], dtype=int32)"
      ]
     },
     "execution_count": 35,
     "metadata": {},
     "output_type": "execute_result"
    }
   ],
   "source": [
    "np.cumprod(arr,axis=1)"
   ]
  },
  {
   "cell_type": "code",
   "execution_count": 37,
   "metadata": {},
   "outputs": [
    {
     "data": {
      "text/plain": [
       "array([[ 0,  1,  2],\n",
       "       [ 0,  4, 10],\n",
       "       [ 0, 28, 80]], dtype=int32)"
      ]
     },
     "execution_count": 37,
     "metadata": {},
     "output_type": "execute_result"
    }
   ],
   "source": [
    "arr.cumprod(axis=0)"
   ]
  },
  {
   "cell_type": "code",
   "execution_count": 40,
   "metadata": {},
   "outputs": [
    {
     "data": {
      "text/plain": [
       "53"
      ]
     },
     "execution_count": 40,
     "metadata": {},
     "output_type": "execute_result"
    }
   ],
   "source": [
    "arr=np.random.randn(100)\n",
    "(arr>0).sum()"
   ]
  },
  {
   "cell_type": "code",
   "execution_count": 42,
   "metadata": {},
   "outputs": [
    {
     "data": {
      "text/plain": [
       "array([-0.65109399,  0.66132433, -0.85274342, -0.96700156, -0.10577827,\n",
       "       -0.73168391,  1.48027093, -0.18119474,  0.08740144, -0.8351331 ])"
      ]
     },
     "execution_count": 42,
     "metadata": {},
     "output_type": "execute_result"
    }
   ],
   "source": [
    "arr=np.random.randn(10)\n",
    "arr"
   ]
  },
  {
   "cell_type": "code",
   "execution_count": 44,
   "metadata": {},
   "outputs": [
    {
     "data": {
      "text/plain": [
       "3"
      ]
     },
     "execution_count": 44,
     "metadata": {},
     "output_type": "execute_result"
    }
   ],
   "source": [
    "(arr>0).sum()"
   ]
  },
  {
   "cell_type": "code",
   "execution_count": 59,
   "metadata": {},
   "outputs": [
    {
     "data": {
      "text/plain": [
       "True"
      ]
     },
     "execution_count": 59,
     "metadata": {},
     "output_type": "execute_result"
    }
   ],
   "source": [
    "bools=np.array([False,True,True,False])\n",
    "bools.any() # any func ya check karaga koi 1 ya 1 sa zada true ha ya nhi"
   ]
  },
  {
   "cell_type": "code",
   "execution_count": 47,
   "metadata": {},
   "outputs": [
    {
     "data": {
      "text/plain": [
       "False"
      ]
     },
     "execution_count": 47,
     "metadata": {},
     "output_type": "execute_result"
    }
   ],
   "source": [
    "bools.all() # all ya check karaga ka sb true ha ya nhi"
   ]
  },
  {
   "cell_type": "code",
   "execution_count": 50,
   "metadata": {},
   "outputs": [
    {
     "data": {
      "text/plain": [
       "False"
      ]
     },
     "execution_count": 50,
     "metadata": {},
     "output_type": "execute_result"
    }
   ],
   "source": [
    "bools=np.array([False,False,False,False])\n",
    "bools.any() # any func ya check karaga koi true ha ya nhi"
   ]
  },
  {
   "cell_type": "code",
   "execution_count": 58,
   "metadata": {},
   "outputs": [
    {
     "data": {
      "text/plain": [
       "True"
      ]
     },
     "execution_count": 58,
     "metadata": {},
     "output_type": "execute_result"
    }
   ],
   "source": [
    "bools=np.array([True,True])\n",
    "bools.all()"
   ]
  },
  {
   "cell_type": "code",
   "execution_count": 55,
   "metadata": {},
   "outputs": [
    {
     "data": {
      "text/plain": [
       "False"
      ]
     },
     "execution_count": 55,
     "metadata": {},
     "output_type": "execute_result"
    }
   ],
   "source": [
    "bools=np.array([False,False,False,False])\n",
    "bools.all() # any func ya check karaga koi true ha ya nhi"
   ]
  },
  {
   "cell_type": "code",
   "execution_count": 56,
   "metadata": {},
   "outputs": [
    {
     "data": {
      "text/plain": [
       "False"
      ]
     },
     "execution_count": 56,
     "metadata": {},
     "output_type": "execute_result"
    }
   ],
   "source": [
    "bools.any()"
   ]
  },
  {
   "cell_type": "code",
   "execution_count": 60,
   "metadata": {},
   "outputs": [
    {
     "data": {
      "text/plain": [
       "array([ 1.29794207, -0.56121548,  0.37491083,  0.57130026, -0.40156785,\n",
       "        0.49439524])"
      ]
     },
     "execution_count": 60,
     "metadata": {},
     "output_type": "execute_result"
    }
   ],
   "source": [
    "arr=np.random.randn(6)\n",
    "arr"
   ]
  },
  {
   "cell_type": "code",
   "execution_count": 62,
   "metadata": {},
   "outputs": [
    {
     "data": {
      "text/plain": [
       "array([-0.56121548, -0.40156785,  0.37491083,  0.49439524,  0.57130026,\n",
       "        1.29794207])"
      ]
     },
     "execution_count": 62,
     "metadata": {},
     "output_type": "execute_result"
    }
   ],
   "source": [
    "arr.sort()\n",
    "arr"
   ]
  },
  {
   "cell_type": "code",
   "execution_count": 63,
   "metadata": {},
   "outputs": [
    {
     "data": {
      "text/plain": [
       "array([[ 0.72872143,  0.56139085, -0.08894399],\n",
       "       [ 0.16563619, -0.15716407,  0.29008613],\n",
       "       [ 1.16902811,  0.13552881, -0.28115696],\n",
       "       [ 0.04797429, -0.08839136, -0.25051174],\n",
       "       [ 0.71051468, -0.49734117, -0.32891099]])"
      ]
     },
     "execution_count": 63,
     "metadata": {},
     "output_type": "execute_result"
    }
   ],
   "source": [
    "arr=np.random.randn(5,3)\n",
    "arr"
   ]
  },
  {
   "cell_type": "code",
   "execution_count": 64,
   "metadata": {},
   "outputs": [
    {
     "data": {
      "text/plain": [
       "array([[-0.08894399,  0.56139085,  0.72872143],\n",
       "       [-0.15716407,  0.16563619,  0.29008613],\n",
       "       [-0.28115696,  0.13552881,  1.16902811],\n",
       "       [-0.25051174, -0.08839136,  0.04797429],\n",
       "       [-0.49734117, -0.32891099,  0.71051468]])"
      ]
     },
     "execution_count": 64,
     "metadata": {},
     "output_type": "execute_result"
    }
   ],
   "source": [
    "np.sort(arr,axis=1) #1 means row"
   ]
  },
  {
   "cell_type": "code",
   "execution_count": 67,
   "metadata": {},
   "outputs": [
    {
     "data": {
      "text/plain": [
       "array([[ 0.04797429, -0.49734117, -0.32891099],\n",
       "       [ 0.16563619, -0.15716407, -0.28115696],\n",
       "       [ 0.71051468, -0.08839136, -0.25051174],\n",
       "       [ 0.72872143,  0.13552881, -0.08894399],\n",
       "       [ 1.16902811,  0.56139085,  0.29008613]])"
      ]
     },
     "execution_count": 67,
     "metadata": {},
     "output_type": "execute_result"
    }
   ],
   "source": [
    "np.sort(arr,0) #0 means column"
   ]
  },
  {
   "cell_type": "code",
   "execution_count": 71,
   "metadata": {},
   "outputs": [
    {
     "data": {
      "text/plain": [
       "array([[-0.08894399,  0.56139085,  0.72872143],\n",
       "       [-0.15716407,  0.16563619,  0.29008613],\n",
       "       [-0.28115696,  0.13552881,  1.16902811],\n",
       "       [-0.25051174, -0.08839136,  0.04797429],\n",
       "       [-0.49734117, -0.32891099,  0.71051468]])"
      ]
     },
     "execution_count": 71,
     "metadata": {},
     "output_type": "execute_result"
    }
   ],
   "source": [
    "arr.sort(1)\n",
    "arr"
   ]
  },
  {
   "cell_type": "code",
   "execution_count": 72,
   "metadata": {},
   "outputs": [
    {
     "data": {
      "text/plain": [
       "array([[-0.49734117, -0.32891099,  0.04797429],\n",
       "       [-0.28115696, -0.08839136,  0.29008613],\n",
       "       [-0.25051174,  0.13552881,  0.71051468],\n",
       "       [-0.15716407,  0.16563619,  0.72872143],\n",
       "       [-0.08894399,  0.56139085,  1.16902811]])"
      ]
     },
     "execution_count": 72,
     "metadata": {},
     "output_type": "execute_result"
    }
   ],
   "source": [
    "arr.sort(0)\n",
    "arr"
   ]
  },
  {
   "cell_type": "code",
   "execution_count": 74,
   "metadata": {},
   "outputs": [
    {
     "data": {
      "text/plain": [
       "array([ 6.31273302e-01, -5.39476581e-01,  4.06269935e-01, -1.39819121e+00,\n",
       "        2.99135949e-01,  1.58949556e+00,  1.10488827e+00, -1.14675485e+00,\n",
       "       -1.21770462e+00,  1.60477283e+00, -1.61102499e+00, -2.46053206e-01,\n",
       "        1.13481128e+00,  4.71027012e-01, -1.74492136e-01, -1.05089670e+00,\n",
       "       -5.32250665e-01,  1.04429462e+00,  1.13851259e+00, -1.67804972e+00,\n",
       "        3.17621934e-01,  6.25645925e-01, -4.14415109e-01,  7.27329280e-01,\n",
       "        8.31662444e-01, -8.51597081e-01, -4.17576697e-01,  1.39904859e+00,\n",
       "       -6.07745754e-01,  5.01441900e-01, -8.40451405e-01,  2.68024609e+00,\n",
       "       -1.48995834e+00,  1.39671194e+00, -4.72519840e-01,  7.20978424e-01,\n",
       "        3.28540123e-01, -8.46972913e-01,  1.11793457e+00,  6.48611273e-01,\n",
       "       -6.29953720e-01,  5.73726398e-01,  6.51685109e-01, -7.06608074e-01,\n",
       "       -9.16384623e-01,  2.14960017e-01,  3.20674729e-01, -5.85022727e-01,\n",
       "        9.74595779e-01,  1.09421162e+00, -1.58261461e+00,  7.07021460e-01,\n",
       "       -2.44632112e-01, -1.48252860e+00,  6.54921441e-01,  5.65780314e-01,\n",
       "        1.16096413e+00, -8.07437304e-01,  5.87681551e-02, -5.84821373e-01,\n",
       "       -1.74902561e-01, -1.20459807e+00, -7.17321029e-01, -3.53809551e-01,\n",
       "       -6.40597566e-03, -2.43435904e-01, -2.23668535e-01, -6.01627471e-01,\n",
       "        3.45369975e-01,  3.79829276e-01,  4.69419598e-01, -9.73014862e-03,\n",
       "        4.75985647e-01, -1.47490193e+00, -4.93660144e-01, -1.18066036e+00,\n",
       "       -6.27691307e-01, -5.25508325e-01, -2.05690353e+00,  1.78150630e+00,\n",
       "        3.68648941e-01, -2.72580232e-01,  9.76771103e-01, -6.04257514e-01,\n",
       "       -6.42287935e-01,  1.71185334e+00, -4.21666770e-01, -2.34454949e-01,\n",
       "        4.53172924e-01, -6.57724193e-01,  6.93044577e-01,  5.38488030e-01,\n",
       "       -1.42750043e+00,  1.23940359e+00, -2.41328480e-01,  5.32314980e-01,\n",
       "        1.59257853e+00,  3.94083664e-01, -2.97461201e+00,  3.95453193e-01,\n",
       "        1.87137463e+00,  2.41788852e-02,  1.14324327e+00,  9.71410162e-01,\n",
       "       -4.27599271e-01, -1.03403947e+00, -7.37992272e-01, -5.48503108e-03,\n",
       "       -9.23330256e-01,  1.02029079e+00,  6.21561295e-01, -9.37810669e-01,\n",
       "       -6.70750437e-01,  2.30569602e+00, -4.17413173e-01,  1.71925562e+00,\n",
       "       -4.45916712e-01,  4.05306709e-01, -1.50312185e+00,  2.26230853e+00,\n",
       "       -2.43731371e+00,  8.66112018e-01,  1.62598817e+00,  2.03715961e+00,\n",
       "        1.54898874e-01,  1.48908674e+00,  8.47778194e-01,  2.67306098e-01,\n",
       "       -1.36611182e+00,  1.43286744e-01,  1.35307104e+00, -2.72270739e-01,\n",
       "        4.29406629e-02,  2.65692761e+00,  2.24651795e+00, -2.42004221e-01,\n",
       "        5.38750797e-01,  8.27207787e-02,  3.01052617e-01, -3.45085740e-01,\n",
       "       -1.29968273e+00, -1.64492434e-01,  4.54570310e-01, -2.91505328e-01,\n",
       "       -3.75388332e-01, -4.34830575e-01, -2.93032208e-01, -1.52748966e+00,\n",
       "        1.62713182e-01,  2.34724661e+00, -4.04574364e-01, -7.15002045e-02,\n",
       "        5.91649783e-01,  9.59555376e-01,  1.30820262e+00, -1.27189290e+00,\n",
       "        1.89378360e-01,  4.11643470e-01,  5.40969189e-01, -1.17651181e+00,\n",
       "        9.18807178e-01,  2.89945575e-01,  6.05957115e-01, -4.41070232e-01,\n",
       "        7.39585622e-01,  1.63263515e+00, -7.14956917e-01,  5.17107361e-01,\n",
       "        4.66258956e-01,  4.78707138e-01, -1.19177959e+00,  6.44776257e-01,\n",
       "        2.00962101e+00, -1.72088505e+00,  1.96807826e+00, -9.98601566e-01,\n",
       "       -1.05151815e+00, -3.95457309e-01,  9.49471385e-01,  1.13755970e+00,\n",
       "       -7.85045447e-01, -2.42209522e-01, -4.42230775e-01, -1.23433617e+00,\n",
       "       -1.38231024e+00,  2.96182303e-01,  5.83267516e-01, -5.41389190e-01,\n",
       "       -1.23562844e+00,  1.02653025e+00,  9.84967087e-01,  1.51904010e+00,\n",
       "        1.61427550e-03, -8.90188140e-01,  9.23490043e-02, -3.89287381e-03,\n",
       "       -2.55403080e-01, -2.24276968e-01,  3.77843361e-01, -2.29576251e+00,\n",
       "       -9.69265979e-01, -1.91936104e-01, -1.13640574e+00,  6.65215857e-01,\n",
       "        1.98980017e-01, -2.93176438e+00,  1.51085475e+00, -2.60009985e-01,\n",
       "       -1.12585875e+00,  5.53073256e-01,  1.13946063e+00, -3.37111883e-01,\n",
       "        1.20331066e+00, -9.64930765e-01, -3.12859438e-01,  5.05152608e-01,\n",
       "        1.91092704e+00, -4.79616625e-01,  9.74106148e-01, -2.27473896e+00,\n",
       "       -1.11275310e+00,  3.89741831e-01,  8.62802024e-02,  1.15636663e+00,\n",
       "        1.50859702e+00,  4.96093166e-01, -6.32109255e-01,  8.02959752e-01,\n",
       "        1.50836872e+00,  1.68407064e+00,  2.25820428e+00, -1.26234909e+00,\n",
       "       -3.80238264e-01, -2.66778578e-01, -1.33741416e+00, -2.74902184e-01,\n",
       "       -6.20601942e-01, -2.09193524e-01, -8.64177166e-01, -5.67625601e-01,\n",
       "        2.43394137e+00,  9.35978011e-01,  3.90282675e-01,  3.36108773e-01,\n",
       "       -2.16494194e+00, -8.20833126e-01,  4.94907627e-01, -9.80362682e-01,\n",
       "        1.00865354e+00,  1.08818125e-01, -1.27670701e+00,  8.08519429e-01,\n",
       "       -7.97746912e-01, -1.61136111e+00, -2.36357565e-01,  6.15820986e-01,\n",
       "        1.98670147e+00, -1.92652302e-01,  2.13254536e-01,  7.03665768e-01,\n",
       "        1.32055557e+00,  5.04535321e-01,  3.95156339e-01,  7.63079261e-01,\n",
       "       -8.48148571e-01,  1.75935579e+00, -8.82967072e-01,  2.33453061e-01,\n",
       "       -1.17685987e+00,  9.36275574e-01,  9.83506180e-01,  6.71581998e-01,\n",
       "        1.12217158e+00, -1.03641340e+00,  1.04182968e+00,  2.34736918e-01,\n",
       "        1.59112125e+00, -6.04570762e-02, -1.57673030e+00,  5.11558337e-01,\n",
       "        1.54194325e-01, -8.89328943e-01,  1.33018533e+00,  3.37549481e-02,\n",
       "        4.12288301e-02,  4.21885517e-01, -3.52153442e-01, -1.26767664e+00,\n",
       "       -6.20513256e-01,  7.04076503e-01, -1.29269540e+00,  8.73920642e-01,\n",
       "        1.81341945e+00, -3.81284681e-01,  1.53979586e-01,  5.53682440e-01,\n",
       "        5.04747557e-01, -6.99922508e-01, -1.43963535e+00, -1.54156741e+00,\n",
       "       -2.37283205e-01, -5.07549200e-01,  9.35301071e-02,  1.87392219e-01,\n",
       "       -1.01206934e-02,  3.03588896e-01, -4.84265703e-01,  1.59197638e+00,\n",
       "        7.66380026e-01,  1.38811538e-01,  3.82054256e-01,  9.34529095e-01,\n",
       "        2.11305247e+00,  7.80553491e-01,  6.27005407e-01, -1.40127998e+00,\n",
       "       -9.18074254e-01,  7.99880157e-01, -2.94116546e-01,  4.26379214e-01,\n",
       "       -9.17468192e-01,  5.39364396e-01, -3.89330307e-01, -1.74043840e-01,\n",
       "       -3.01850704e-01,  5.55474270e-01,  4.14827480e-01, -1.15720976e-01,\n",
       "       -3.80612758e-01,  7.43182507e-01,  1.52079675e+00,  1.62914731e-01,\n",
       "       -2.63306633e-01, -1.16157872e+00,  2.92948725e-02, -8.39452531e-01,\n",
       "        6.15602574e-01, -5.86068676e-01,  8.96501979e-01,  2.28099163e-01,\n",
       "        1.60473065e+00, -1.67340179e+00,  8.30792612e-01,  1.77324568e+00,\n",
       "       -2.51383563e+00, -2.04176655e+00,  1.07294096e+00, -7.50494148e-01,\n",
       "       -2.36147395e-01, -3.36541259e-01,  1.13579835e-01,  2.38135139e-03,\n",
       "       -1.02877522e+00,  2.63406098e-02, -1.59100307e+00, -1.14910489e+00,\n",
       "       -1.42322497e+00,  1.89246368e+00,  2.52625147e+00,  8.54213919e-01,\n",
       "       -1.59657093e+00,  1.53868065e+00,  1.24404931e+00, -1.68723668e-01,\n",
       "        1.19282190e+00,  4.63363041e-01,  6.18411007e-01, -1.78350497e-01,\n",
       "        1.00322393e+00, -3.06980999e-01,  7.61992422e-01, -1.62775294e-01,\n",
       "        5.91198008e-01, -5.14472776e-01, -1.28942285e+00,  2.11011479e+00,\n",
       "        6.88627858e-01, -1.14922633e+00,  4.73584113e-01, -1.81609852e-01,\n",
       "        6.24128109e-01,  2.12241590e-01, -8.45178396e-02,  9.85086815e-01,\n",
       "       -5.77932253e-02,  8.30167263e-01,  1.53005562e+00,  4.40377547e-02,\n",
       "       -4.31973677e-01,  2.16431095e+00, -8.20895993e-01, -7.81997849e-01,\n",
       "       -1.13093047e+00,  3.28653071e-01, -8.63680715e-01, -1.40257826e+00,\n",
       "       -9.00805962e-01, -1.34415493e-01, -6.02491008e-01, -3.58276806e-01,\n",
       "        1.75316829e-01, -3.24205458e-01, -4.22749698e-02,  4.10545311e-01,\n",
       "       -1.53676330e+00, -4.63263519e-01, -6.34391419e-03,  4.38157035e-01,\n",
       "        1.05481819e-01,  9.01996568e-01,  3.11345429e-01,  1.16121429e+00,\n",
       "       -2.71359228e-01,  8.65833946e-01,  1.76317438e+00, -5.79382474e-01,\n",
       "        3.64084336e-01, -1.63455575e+00,  2.94445638e-01, -2.46113984e-01,\n",
       "       -5.87289141e-01, -8.27825183e-01,  2.04946498e-01,  6.94084766e-02,\n",
       "       -2.74996576e-01, -5.27929623e-01,  2.33044863e-01,  4.85467637e-01,\n",
       "        1.64979410e+00, -3.21054713e-01,  4.30554114e-01, -3.43149018e-01,\n",
       "        1.19937907e+00,  9.67354695e-01,  1.13356422e-01, -1.21636404e+00,\n",
       "       -8.26744416e-01,  2.05684117e+00, -1.45051306e+00, -4.42679371e-01,\n",
       "       -2.89073232e-01, -6.00431675e-01, -1.17925364e+00, -2.80391842e-01,\n",
       "       -6.56762019e-01,  7.59635796e-01,  1.64717842e-01,  7.03786437e-01,\n",
       "       -1.91384577e-01, -2.20717258e-01, -9.47024545e-02, -1.18583878e-01,\n",
       "        1.92801388e+00,  8.56294825e-01, -1.35032453e+00,  2.95402456e-01,\n",
       "        1.31389351e+00, -1.23345137e+00,  9.29644237e-03, -6.99221836e-01,\n",
       "       -1.23809803e+00,  3.23525562e-01, -2.13350449e+00, -1.80027124e+00,\n",
       "        5.94510617e-01,  5.60639402e-01, -1.22094166e+00,  3.74083654e-01,\n",
       "       -9.37504808e-01, -2.99172144e-01,  1.78966142e-01, -3.62250668e-01,\n",
       "       -3.16099645e-01, -6.44763162e-02, -4.29527352e-01,  1.87467001e+00,\n",
       "       -2.19648934e+00,  1.81112185e-01, -2.91571444e-01,  1.07289628e+00,\n",
       "        7.20381198e-01,  9.47317236e-01,  4.97192179e-01,  2.16420588e+00,\n",
       "        1.11516374e+00,  1.49558984e+00, -1.80823522e+00,  1.45564774e+00,\n",
       "       -1.42430940e-01, -4.25450967e-01, -1.49750165e+00,  1.41397944e+00,\n",
       "        8.81074229e-01,  9.12306433e-01,  6.98875707e-01, -6.77449702e-02,\n",
       "        7.78224325e-02,  1.24058060e+00,  1.36283833e-01, -3.56691551e-02,\n",
       "       -4.10522598e-01, -2.01988744e+00, -1.77589069e-01, -1.17392722e+00,\n",
       "       -8.60139911e-01,  5.67634369e-01, -1.96587198e+00, -2.78500689e-01,\n",
       "       -3.41945237e-01, -7.72717469e-01, -3.32878791e-01,  1.28047628e+00,\n",
       "       -7.74991539e-01,  1.16160392e+00, -9.11328582e-01,  3.10456102e-01,\n",
       "       -9.03280050e-01,  3.71493308e-01,  2.51252496e-01, -8.85184128e-01,\n",
       "        5.20150282e-01, -5.36527712e-01,  3.55012775e-01, -1.97120580e+00,\n",
       "       -5.12204633e-01, -6.69891080e-01, -2.30253192e-01, -9.54294223e-01,\n",
       "        1.11022424e+00,  2.64669691e-01, -2.35887522e-01, -7.74412778e-01,\n",
       "        2.32788648e-01,  1.61197389e+00,  1.43806111e+00,  2.40968125e-01,\n",
       "        7.79644362e-01,  2.51568115e+00,  8.60377579e-01,  9.76670447e-01,\n",
       "        1.39192927e+00, -4.45518031e-01, -1.10758415e+00,  2.15514599e-01,\n",
       "       -1.78919130e-01, -2.09379636e+00,  8.97723292e-01,  5.07031990e-01,\n",
       "        2.08047551e+00,  6.05882349e-01,  5.41347564e-01,  5.10874832e-01,\n",
       "        1.36527009e-02,  1.35175939e+00, -6.22611294e-01,  4.24408777e-01,\n",
       "        2.03672786e+00, -6.49798907e-01, -2.05189797e+00,  4.02215597e-02,\n",
       "       -1.33577863e+00,  8.54839981e-01, -2.14590049e+00, -1.10247544e+00,\n",
       "        4.86474765e-01,  5.56858297e-01, -7.91417726e-01,  1.78174210e-01,\n",
       "        2.76774754e-01,  8.39024954e-02, -1.78236412e+00, -1.17703129e+00,\n",
       "        4.57178778e-01, -8.35276284e-02, -5.57899436e-01, -1.08617433e+00,\n",
       "        1.41007590e-01,  4.31620457e-01,  2.13606785e+00, -3.22625315e-01,\n",
       "        1.24267312e+00, -1.26943699e+00, -8.88277065e-01,  2.53854770e+00,\n",
       "       -5.47515072e-01, -1.43855430e+00, -1.21423480e+00, -1.26313607e+00,\n",
       "       -4.21390623e-01, -6.69664400e-01, -1.68458313e-02, -3.53712902e-01,\n",
       "        1.11643295e-01,  8.88858911e-01,  1.73705921e-02, -9.68297630e-01,\n",
       "        5.39532280e-01, -3.08405274e-01, -1.71444663e+00,  7.89356986e-01,\n",
       "       -7.11804148e-01,  1.08750563e+00, -5.07099209e-01, -1.40773523e+00,\n",
       "       -2.44508298e-01, -3.10392682e-01,  1.17055106e+00, -2.89525964e-01,\n",
       "        8.23508437e-01,  2.34535368e-01,  9.30699544e-02,  2.07941427e+00,\n",
       "       -7.30079603e-01, -2.87546745e-01,  9.95628100e-01, -8.69374188e-01,\n",
       "       -1.17415337e+00,  7.58660914e-01, -5.39464206e-01, -1.03747586e+00,\n",
       "        4.99830162e-01, -1.23294811e+00, -1.02990302e-01,  9.85228535e-01,\n",
       "        2.75149285e-01, -7.37478368e-01, -1.18680613e-01, -6.57412520e-02,\n",
       "       -3.52645604e-01,  1.34601559e+00,  2.34224573e-01, -5.32108216e-02,\n",
       "       -1.56974343e+00, -3.01715874e-01, -1.59435715e+00, -4.76104565e-01,\n",
       "       -1.65395414e+00, -1.36893023e+00,  3.97446594e-01,  6.66256431e-02,\n",
       "        1.34562852e+00, -6.82001872e-01,  8.72053006e-01, -1.77480428e+00,\n",
       "        1.55570205e+00,  1.29321672e+00,  6.84749239e-01, -6.35564283e-01,\n",
       "        8.30977739e-01, -8.77448765e-01, -4.62581305e-01,  7.47498173e-01,\n",
       "        9.92815839e-01, -3.58288755e-01, -1.25545324e+00,  2.47007255e-01,\n",
       "       -1.06638651e+00, -3.03489362e-01, -2.15360407e+00,  1.03358759e+00,\n",
       "        1.37910049e+00, -4.71317612e-01, -1.97886711e+00,  9.22535474e-01,\n",
       "        9.15974029e-02,  1.77550160e+00, -1.48634457e+00, -7.76555369e-01,\n",
       "       -7.15278760e-02, -1.37922196e+00,  1.67953854e-01,  1.04866507e+00,\n",
       "       -1.28553106e-01,  1.03806085e+00, -8.36842576e-01,  2.47556332e-01,\n",
       "        1.01506727e+00,  1.45329832e+00,  7.26167635e-02, -6.76724380e-01,\n",
       "        3.52179454e-01,  2.24547591e+00,  7.85569609e-01,  8.52216830e-01,\n",
       "        6.92025183e-01, -1.14621224e+00,  1.10598168e+00,  2.40187345e-01,\n",
       "        5.47693380e-01,  2.05221537e-01, -3.70148953e-01,  2.87544231e-01,\n",
       "       -1.14464858e+00, -1.73039548e-01,  1.60200550e+00,  1.16284323e+00,\n",
       "        2.51326301e+00, -1.78689546e+00, -1.00553859e+00, -1.11939590e+00,\n",
       "        4.48549844e-01,  1.48132854e+00,  2.12040887e-01,  7.09479993e-02,\n",
       "       -4.14350956e-01, -4.24277640e-01, -1.05429158e+00,  5.75961023e-02,\n",
       "       -6.60254933e-01, -7.82889392e-01,  1.24637418e+00,  2.21487046e-01,\n",
       "        1.57251037e-01,  5.68787891e-01, -7.96146468e-01,  1.75779683e-01,\n",
       "       -1.05167975e+00, -1.58121599e+00, -9.43021519e-01, -9.36852193e-01,\n",
       "        5.13382980e-01, -3.58551164e-01, -6.00927701e-01,  6.00972618e-01,\n",
       "        8.12515678e-01,  1.06521986e-01, -5.74939034e-01,  4.61983955e-01,\n",
       "        9.38989539e-01, -4.93096609e-01, -1.20812521e+00, -4.17215411e-01,\n",
       "        2.08450153e+00,  2.49880103e-01,  1.22937308e-01, -1.18161242e+00,\n",
       "        3.62847217e-01, -1.26894898e+00,  1.06067616e+00,  3.92022435e-01,\n",
       "        1.04252508e-01,  1.35335068e-01,  8.97964881e-01,  4.18592040e-01,\n",
       "       -1.13859517e+00,  1.74470730e+00, -4.62080873e-01,  4.18654822e-01,\n",
       "        4.23697619e-01,  9.91332582e-01,  3.38883850e-02,  1.41218489e+00,\n",
       "       -5.17277773e-01,  1.41804454e+00,  1.03678769e-01,  2.31156051e-02,\n",
       "        1.56604281e+00,  1.47874334e+00,  9.70633263e-01, -1.45470035e+00,\n",
       "        2.18595752e+00,  1.86962169e-02, -1.55281723e+00,  1.50392244e+00,\n",
       "       -1.51394498e+00,  3.61913697e-01, -1.81051207e+00,  3.44838419e-01,\n",
       "        1.08291229e+00,  1.88456612e-01,  4.21354766e-01, -5.15134239e-01,\n",
       "        6.28767555e-01,  2.60810921e-01,  2.75213279e-01,  1.73477487e-04,\n",
       "       -1.64528388e+00,  6.73036787e-01,  6.73759340e-02,  6.19087916e-01,\n",
       "       -5.57643207e-01,  6.69164063e-01,  1.68611011e+00, -1.06765135e+00,\n",
       "        1.17716251e-01,  1.30747550e+00, -6.68959254e-01, -2.47078336e-01,\n",
       "        1.80520815e-01,  4.86374881e-02, -4.42602826e-01, -1.16858697e+00,\n",
       "       -6.28127722e-01,  1.33354174e+00,  1.09606013e+00, -7.51803802e-01,\n",
       "       -3.40556797e-01,  4.45115277e-02,  7.13854532e-01, -1.51959942e+00,\n",
       "       -1.35652271e+00,  7.47284615e-01,  3.65221514e-02,  1.37801340e+00,\n",
       "        7.36393368e-01,  2.35473754e-01,  1.51419763e+00, -1.62992546e-01,\n",
       "       -2.29004846e-01,  6.15665961e-01, -5.26950006e-02,  2.41626268e+00,\n",
       "        1.06986642e+00,  1.03699360e+00, -3.87349911e-01, -2.31275482e-02,\n",
       "       -5.43373136e-01, -3.28016987e-01, -1.56949889e-01,  3.85046479e-03,\n",
       "        2.30836833e+00,  7.30434821e-01, -9.32731317e-01,  5.67016615e-02,\n",
       "       -8.08132684e-04,  7.04795414e-03, -1.59686301e+00, -1.15725850e-01,\n",
       "        5.94202553e-01, -9.01078372e-02, -1.40602336e+00,  6.68235490e-01,\n",
       "       -1.48508889e-01, -1.34806866e-01, -1.56148896e+00,  7.31683965e-01,\n",
       "        1.52987512e+00,  3.75941466e-01,  3.49444338e-01, -1.61460960e+00,\n",
       "       -1.80450728e+00, -1.30059271e+00, -2.34434663e+00, -1.10269877e+00,\n",
       "       -1.19019912e-01,  1.38444645e-01,  1.55329191e-01,  7.60029692e-01,\n",
       "        1.46090602e+00,  2.19294998e-01, -2.64110343e-01,  5.17899777e-01,\n",
       "        2.09204236e+00,  7.25114824e-01,  1.34830110e+00,  1.60674514e+00,\n",
       "        1.69661300e-01, -3.18922736e-01, -1.23577971e+00,  2.98382557e-01,\n",
       "       -4.20244322e-01,  5.82263199e-01, -5.69347170e-01, -1.52319530e+00,\n",
       "        7.58980431e-02, -4.24510254e-01,  4.93346216e-01,  6.96495780e-02,\n",
       "       -1.28001196e+00, -4.17964255e-01,  9.33622765e-03, -2.90904260e-03,\n",
       "        4.50792643e-01,  3.82148343e-01, -1.52191866e+00, -3.04980940e-01,\n",
       "       -7.62791785e-01,  5.10087882e-01,  8.83468888e-01,  5.62990030e-01,\n",
       "        1.25193971e+00, -1.35352648e+00,  9.90118453e-01,  4.43091644e-01,\n",
       "        2.16166984e-01,  3.53321155e-01,  1.29921753e-01, -4.36782053e-01,\n",
       "        1.64936753e+00, -5.73626910e-01,  1.94633753e+00, -1.27024481e+00,\n",
       "        1.31978952e+00,  1.48018731e+00,  2.02133332e+00, -1.83576728e-01,\n",
       "        6.97760451e-02,  3.92792866e-01, -4.78708409e-01, -1.14555195e+00,\n",
       "       -9.19934557e-01, -3.86977130e-01,  2.70552782e-01, -5.92432330e-01,\n",
       "        3.93498873e-01,  7.41350357e-01, -4.54342871e-01, -1.97851610e-01,\n",
       "       -4.82320698e-01, -1.49337055e+00,  1.20710671e-01,  1.65932907e+00,\n",
       "        3.67099043e-01,  4.23765778e-01, -2.82468786e-01, -1.06636291e+00,\n",
       "       -8.21569691e-01, -3.30842793e-01, -9.82752451e-01,  7.73416677e-03,\n",
       "       -1.50070369e-01,  1.05141895e+00,  2.12148876e-01, -6.66870701e-01,\n",
       "       -2.85307395e-01,  1.41414401e-01,  1.08101663e+00,  2.08958450e-01,\n",
       "        3.55262290e-01,  5.87523045e-01,  3.20652231e-01,  1.23391338e+00,\n",
       "        1.74232553e+00,  2.65574885e-01, -1.57079405e+00,  7.42829415e-01,\n",
       "        1.94914136e+00,  4.62827895e-01, -8.49051379e-01, -3.34295677e-01,\n",
       "       -3.64557933e-01, -9.71745760e-01,  1.40201312e-01, -1.93786654e-01,\n",
       "        8.72536869e-02,  1.16140299e+00,  9.60291118e-01, -1.05267408e+00,\n",
       "       -1.34092628e-01,  8.49906546e-01,  1.53110455e+00, -3.02263443e-01,\n",
       "       -1.03021873e+00,  7.83298057e-01, -8.48980247e-01,  7.66115094e-01,\n",
       "        3.92300661e-02,  7.78136326e-02,  9.10713940e-01,  3.41746848e-01,\n",
       "        1.43266075e-01,  1.14742677e+00,  7.88499268e-02,  2.07059359e+00,\n",
       "        3.67746635e-01,  3.31396102e-01, -1.48840051e+00,  3.62335340e-01,\n",
       "       -4.14809451e-02,  1.14483791e+00, -7.07556560e-01, -7.06656908e-01,\n",
       "       -4.24645879e-03, -5.41286817e-01, -9.25459316e-01,  6.35805530e-01,\n",
       "       -6.02958554e-01, -1.60492661e+00,  3.76400723e-01,  1.42735320e+00,\n",
       "       -3.99454810e-01,  2.41509417e+00, -3.61175711e-01,  4.01226774e-01,\n",
       "       -6.92042662e-01,  4.62491241e-01,  3.34038412e-01,  1.14651594e+00,\n",
       "       -4.23489871e-01,  1.76653039e+00, -7.53193274e-01,  1.83106156e+00,\n",
       "       -1.52580868e-01, -3.16983272e-01,  9.43724374e-01, -5.90500471e-01,\n",
       "        4.38301733e-01, -7.32703763e-01,  1.50279232e+00,  1.29246514e+00])"
      ]
     },
     "execution_count": 74,
     "metadata": {},
     "output_type": "execute_result"
    }
   ],
   "source": [
    "large=np.random.randn(1000)\n",
    "large"
   ]
  },
  {
   "cell_type": "code",
   "execution_count": 75,
   "metadata": {},
   "outputs": [],
   "source": [
    "large.sort()"
   ]
  },
  {
   "cell_type": "code",
   "execution_count": 84,
   "metadata": {},
   "outputs": [
    {
     "data": {
      "text/plain": [
       "1000"
      ]
     },
     "execution_count": 84,
     "metadata": {},
     "output_type": "execute_result"
    }
   ],
   "source": [
    "len(large)"
   ]
  },
  {
   "cell_type": "code",
   "execution_count": 78,
   "metadata": {},
   "outputs": [
    {
     "data": {
      "text/plain": [
       "-1.536763297328141"
      ]
     },
     "execution_count": 78,
     "metadata": {},
     "output_type": "execute_result"
    }
   ],
   "source": [
    "large[int(0.05*len(large))]"
   ]
  },
  {
   "cell_type": "code",
   "execution_count": 81,
   "metadata": {},
   "outputs": [
    {
     "data": {
      "text/plain": [
       "array(['Bob', 'Joe', 'Will'], dtype='<U4')"
      ]
     },
     "execution_count": 81,
     "metadata": {},
     "output_type": "execute_result"
    }
   ],
   "source": [
    "names = np.array(['Bob', 'Joe', 'Will', 'Bob', 'Will', 'Joe', 'Joe'])\n",
    "np.unique(names) #unique agr 2 value same hogi tu ak return karaga "
   ]
  },
  {
   "cell_type": "code",
   "execution_count": 87,
   "metadata": {},
   "outputs": [
    {
     "data": {
      "text/plain": [
       "-1.536763297328141"
      ]
     },
     "execution_count": 87,
     "metadata": {},
     "output_type": "execute_result"
    }
   ],
   "source": [
    "large[int(0.05*len(large))]"
   ]
  },
  {
   "cell_type": "code",
   "execution_count": 88,
   "metadata": {},
   "outputs": [
    {
     "data": {
      "text/plain": [
       "array([1, 2, 3, 4])"
      ]
     },
     "execution_count": 88,
     "metadata": {},
     "output_type": "execute_result"
    }
   ],
   "source": [
    "ints = np.array([3, 3, 3, 2, 2, 1, 1, 4, 4])\n",
    "np.unique(ints)"
   ]
  },
  {
   "cell_type": "code",
   "execution_count": 91,
   "metadata": {},
   "outputs": [
    {
     "data": {
      "text/plain": [
       "{'Bob', 'Joe', 'Will'}"
      ]
     },
     "execution_count": 91,
     "metadata": {},
     "output_type": "execute_result"
    }
   ],
   "source": [
    "set(names)"
   ]
  },
  {
   "cell_type": "code",
   "execution_count": 93,
   "metadata": {},
   "outputs": [
    {
     "data": {
      "text/plain": [
       "[1, 2, 3, 4]"
      ]
     },
     "execution_count": 93,
     "metadata": {},
     "output_type": "execute_result"
    }
   ],
   "source": [
    "sorted(set(ints))"
   ]
  },
  {
   "cell_type": "code",
   "execution_count": 94,
   "metadata": {},
   "outputs": [
    {
     "data": {
      "text/plain": [
       "[1, 1, 2, 2, 3, 3, 3, 4, 4]"
      ]
     },
     "execution_count": 94,
     "metadata": {},
     "output_type": "execute_result"
    }
   ],
   "source": [
    "sorted(ints)"
   ]
  },
  {
   "cell_type": "code",
   "execution_count": 96,
   "metadata": {},
   "outputs": [],
   "source": [
    "values = np.array([6, 0, 0, 3, 2, 5, 6])"
   ]
  },
  {
   "cell_type": "code",
   "execution_count": 102,
   "metadata": {},
   "outputs": [
    {
     "data": {
      "text/plain": [
       "True"
      ]
     },
     "execution_count": 102,
     "metadata": {},
     "output_type": "execute_result"
    }
   ],
   "source": [
    "3 in values"
   ]
  },
  {
   "cell_type": "code",
   "execution_count": 97,
   "metadata": {},
   "outputs": [
    {
     "data": {
      "text/plain": [
       "array([ True, False, False,  True,  True, False,  True])"
      ]
     },
     "execution_count": 97,
     "metadata": {},
     "output_type": "execute_result"
    }
   ],
   "source": [
    "np.in1d(values,[3,2,6])"
   ]
  },
  {
   "cell_type": "code",
   "execution_count": 101,
   "metadata": {},
   "outputs": [
    {
     "data": {
      "text/plain": [
       "array([False,  True,  True, False,  True, False, False])"
      ]
     },
     "execution_count": 101,
     "metadata": {},
     "output_type": "execute_result"
    }
   ],
   "source": [
    "np.in1d(values,[0,2])"
   ]
  },
  {
   "cell_type": "code",
   "execution_count": 104,
   "metadata": {},
   "outputs": [
    {
     "data": {
      "text/plain": [
       "array([3, 4])"
      ]
     },
     "execution_count": 104,
     "metadata": {},
     "output_type": "execute_result"
    }
   ],
   "source": [
    "arr1=np.array([1,2,3,4])\n",
    "arr2=np.array([3,4,5,6])\n",
    "np.intersect1d(arr1,arr2)# intersect1d 2 list compaere karaga"
   ]
  },
  {
   "cell_type": "code",
   "execution_count": 105,
   "metadata": {},
   "outputs": [
    {
     "data": {
      "text/plain": [
       "array([1, 2, 3, 4, 5, 6])"
      ]
     },
     "execution_count": 105,
     "metadata": {},
     "output_type": "execute_result"
    }
   ],
   "source": [
    "np.union1d(arr1,arr2)"
   ]
  },
  {
   "cell_type": "code",
   "execution_count": 106,
   "metadata": {},
   "outputs": [
    {
     "data": {
      "text/plain": [
       "array([1, 2])"
      ]
     },
     "execution_count": 106,
     "metadata": {},
     "output_type": "execute_result"
    }
   ],
   "source": [
    "np.setdiff1d(arr1,arr2)"
   ]
  },
  {
   "cell_type": "code",
   "execution_count": 107,
   "metadata": {},
   "outputs": [
    {
     "data": {
      "text/plain": [
       "array([1, 2, 5, 6])"
      ]
     },
     "execution_count": 107,
     "metadata": {},
     "output_type": "execute_result"
    }
   ],
   "source": [
    "np.setxor1d(arr1,arr2) # dono ka unique utaye ga "
   ]
  },
  {
   "cell_type": "code",
   "execution_count": 121,
   "metadata": {},
   "outputs": [],
   "source": [
    "arr=np.arange(10)\n",
    "np.save('some_array',arr) #array ko save kara numpy ka format ma jab load karawao ga tu .npy is ma save karta wakt format batana ki zarwat nhi"
   ]
  },
  {
   "cell_type": "code",
   "execution_count": 122,
   "metadata": {},
   "outputs": [
    {
     "data": {
      "text/plain": [
       "array([0, 1, 2, 3, 4, 5, 6, 7, 8, 9])"
      ]
     },
     "execution_count": 122,
     "metadata": {},
     "output_type": "execute_result"
    }
   ],
   "source": [
    "np.load('some_array.npy')"
   ]
  },
  {
   "cell_type": "code",
   "execution_count": 117,
   "metadata": {},
   "outputs": [],
   "source": [
    "np.savez('array_archive.npz',a=arr) #is ma save karta hoe format .npz batana hoga aur arr ka argument ko variable ma dalna hoga"
   ]
  },
  {
   "cell_type": "code",
   "execution_count": 123,
   "metadata": {},
   "outputs": [
    {
     "data": {
      "text/plain": [
       "array([0, 1, 2, 3, 4, 5, 6, 7, 8, 9])"
      ]
     },
     "execution_count": 123,
     "metadata": {},
     "output_type": "execute_result"
    }
   ],
   "source": [
    "l=np.load('array_archive.npz')\n",
    "l['a']"
   ]
  },
  {
   "cell_type": "code",
   "execution_count": 134,
   "metadata": {},
   "outputs": [],
   "source": [
    "np.savez('shakeeb.npz',a=arr)"
   ]
  },
  {
   "cell_type": "code",
   "execution_count": 135,
   "metadata": {},
   "outputs": [
    {
     "data": {
      "text/plain": [
       "array([0, 1, 2, 3, 4, 5, 6, 7, 8, 9])"
      ]
     },
     "execution_count": 135,
     "metadata": {},
     "output_type": "execute_result"
    }
   ],
   "source": [
    "l=np.load('shakeeb.npz')\n",
    "l['a']"
   ]
  },
  {
   "cell_type": "code",
   "execution_count": 136,
   "metadata": {},
   "outputs": [],
   "source": [
    "np.savez_compressed('shakeeba.npz',a=arr)"
   ]
  },
  {
   "cell_type": "code",
   "execution_count": 145,
   "metadata": {},
   "outputs": [],
   "source": [
    "x = np.array([[1., 2., 3.], [4., 5., 6.]]) # multiply same wala honga jasa 3 by 2 ya 2 by 3\n",
    "y = np.array([[6., 23.], [-1, 7], [8, 9]])"
   ]
  },
  {
   "cell_type": "code",
   "execution_count": 146,
   "metadata": {},
   "outputs": [
    {
     "data": {
      "text/plain": [
       "array([[1., 2., 3.],\n",
       "       [4., 5., 6.]])"
      ]
     },
     "execution_count": 146,
     "metadata": {},
     "output_type": "execute_result"
    }
   ],
   "source": [
    "x"
   ]
  },
  {
   "cell_type": "code",
   "execution_count": 147,
   "metadata": {},
   "outputs": [
    {
     "data": {
      "text/plain": [
       "array([[ 6., 23.],\n",
       "       [-1.,  7.],\n",
       "       [ 8.,  9.]])"
      ]
     },
     "execution_count": 147,
     "metadata": {},
     "output_type": "execute_result"
    }
   ],
   "source": [
    "y"
   ]
  },
  {
   "cell_type": "code",
   "execution_count": 148,
   "metadata": {},
   "outputs": [
    {
     "data": {
      "text/plain": [
       "array([[ 28.,  64.],\n",
       "       [ 67., 181.]])"
      ]
     },
     "execution_count": 148,
     "metadata": {},
     "output_type": "execute_result"
    }
   ],
   "source": [
    "x.dot(y)"
   ]
  },
  {
   "cell_type": "code",
   "execution_count": 149,
   "metadata": {},
   "outputs": [
    {
     "data": {
      "text/plain": [
       "array([[ 28.,  64.],\n",
       "       [ 67., 181.]])"
      ]
     },
     "execution_count": 149,
     "metadata": {},
     "output_type": "execute_result"
    }
   ],
   "source": [
    "x@y"
   ]
  },
  {
   "cell_type": "code",
   "execution_count": 151,
   "metadata": {},
   "outputs": [
    {
     "data": {
      "text/plain": [
       "array([[ 28.,  64.],\n",
       "       [ 67., 181.]])"
      ]
     },
     "execution_count": 151,
     "metadata": {},
     "output_type": "execute_result"
    }
   ],
   "source": [
    "np.dot(x,y)"
   ]
  },
  {
   "cell_type": "code",
   "execution_count": 153,
   "metadata": {},
   "outputs": [
    {
     "data": {
      "text/plain": [
       "array([[1., 2., 3.],\n",
       "       [4., 5., 6.]])"
      ]
     },
     "execution_count": 153,
     "metadata": {},
     "output_type": "execute_result"
    }
   ],
   "source": [
    "x"
   ]
  },
  {
   "cell_type": "code",
   "execution_count": 156,
   "metadata": {},
   "outputs": [
    {
     "data": {
      "text/plain": [
       "array([ 6., 15.])"
      ]
     },
     "execution_count": 156,
     "metadata": {},
     "output_type": "execute_result"
    }
   ],
   "source": [
    "np.dot(x,np.ones(3)) # x ki column 3 ha tu isliye humna ones(3) diya "
   ]
  },
  {
   "cell_type": "code",
   "execution_count": 154,
   "metadata": {},
   "outputs": [
    {
     "data": {
      "text/plain": [
       "array([0., 0.])"
      ]
     },
     "execution_count": 154,
     "metadata": {},
     "output_type": "execute_result"
    }
   ],
   "source": [
    "np.dot(x,np.zeros(3))"
   ]
  },
  {
   "cell_type": "code",
   "execution_count": 157,
   "metadata": {},
   "outputs": [
    {
     "data": {
      "text/plain": [
       "array([ 6., 15.])"
      ]
     },
     "execution_count": 157,
     "metadata": {},
     "output_type": "execute_result"
    }
   ],
   "source": [
    "x@np.ones(3)"
   ]
  },
  {
   "cell_type": "code",
   "execution_count": 158,
   "metadata": {},
   "outputs": [],
   "source": [
    "from numpy.linalg import inv,qr"
   ]
  },
  {
   "cell_type": "code",
   "execution_count": 160,
   "metadata": {},
   "outputs": [
    {
     "data": {
      "text/plain": [
       "array([[-1.34260511, -1.5189369 ,  0.55336268, -0.78986985, -2.50125321],\n",
       "       [-0.8387384 ,  0.56819343, -0.66947155, -0.34631345, -1.16973865],\n",
       "       [ 1.26337238, -0.10968001,  1.25055671, -0.10380061, -0.16004911],\n",
       "       [-0.25792566, -0.61305349, -0.88742583,  0.24682156,  1.30623586],\n",
       "       [ 1.58853953,  0.52673722,  0.77748574,  0.94289864,  1.34418228]])"
      ]
     },
     "execution_count": 160,
     "metadata": {},
     "output_type": "execute_result"
    }
   ],
   "source": [
    "x=np.random.randn(5,5)\n",
    "x"
   ]
  },
  {
   "cell_type": "code",
   "execution_count": 161,
   "metadata": {},
   "outputs": [
    {
     "data": {
      "text/plain": [
       "array([[-1.34260511, -0.8387384 ,  1.26337238, -0.25792566,  1.58853953],\n",
       "       [-1.5189369 ,  0.56819343, -0.10968001, -0.61305349,  0.52673722],\n",
       "       [ 0.55336268, -0.66947155,  1.25055671, -0.88742583,  0.77748574],\n",
       "       [-0.78986985, -0.34631345, -0.10380061,  0.24682156,  0.94289864],\n",
       "       [-2.50125321, -1.16973865, -0.16004911,  1.30623586,  1.34418228]])"
      ]
     },
     "execution_count": 161,
     "metadata": {},
     "output_type": "execute_result"
    }
   ],
   "source": [
    "x.T"
   ]
  },
  {
   "cell_type": "code",
   "execution_count": 163,
   "metadata": {},
   "outputs": [
    {
     "data": {
      "text/plain": [
       "array([[ 6.69216387,  2.41906523,  2.86243948,  2.65398102,  5.93547339],\n",
       "       [ 2.41906523,  3.29532948, -0.40450323,  1.35971929,  3.05940055],\n",
       "       [ 2.86243948, -0.40450323,  3.71030318,  0.17900838, -0.9152488 ],\n",
       "       [ 2.65398102,  1.35971929,  0.17900838,  1.70458069,  3.98720874],\n",
       "       [ 5.93547339,  3.05940055, -0.9152488 ,  3.98720874, 11.16324996]])"
      ]
     },
     "execution_count": 163,
     "metadata": {},
     "output_type": "execute_result"
    }
   ],
   "source": [
    "mat=x.T.dot(x)\n",
    "mat"
   ]
  },
  {
   "cell_type": "code",
   "execution_count": 167,
   "metadata": {},
   "outputs": [
    {
     "data": {
      "text/plain": [
       "array([[ 6.69216387,  2.41906523,  2.86243948,  2.65398102,  5.93547339],\n",
       "       [ 2.41906523,  3.29532948, -0.40450323,  1.35971929,  3.05940055],\n",
       "       [ 2.86243948, -0.40450323,  3.71030318,  0.17900838, -0.9152488 ],\n",
       "       [ 2.65398102,  1.35971929,  0.17900838,  1.70458069,  3.98720874],\n",
       "       [ 5.93547339,  3.05940055, -0.9152488 ,  3.98720874, 11.16324996]])"
      ]
     },
     "execution_count": 167,
     "metadata": {},
     "output_type": "execute_result"
    }
   ],
   "source": [
    "np.dot(x.T,x)"
   ]
  },
  {
   "cell_type": "code",
   "execution_count": 173,
   "metadata": {},
   "outputs": [
    {
     "data": {
      "text/plain": [
       "array([[ 1.00000000e+00,  1.37362528e-15, -9.29060664e-15,\n",
       "        -1.49152425e-15,  2.64126749e-15],\n",
       "       [ 4.71583704e-15,  1.00000000e+00, -1.56309600e-15,\n",
       "        -7.89473345e-17,  1.31789093e-15],\n",
       "       [-5.41243568e-15,  4.39577527e-15,  1.00000000e+00,\n",
       "        -3.61283144e-15,  3.68732892e-15],\n",
       "       [ 5.78554912e-15, -2.09238716e-16, -8.94192415e-15,\n",
       "         1.00000000e+00, -6.65058939e-16],\n",
       "       [ 1.45902359e-14,  5.61195784e-15, -1.42833533e-14,\n",
       "         1.10442509e-15,  1.00000000e+00]])"
      ]
     },
     "execution_count": 173,
     "metadata": {},
     "output_type": "execute_result"
    }
   ],
   "source": [
    "mat.dot(inv(mat))"
   ]
  },
  {
   "cell_type": "code",
   "execution_count": 175,
   "metadata": {},
   "outputs": [],
   "source": [
    "q,r=qr(mat)"
   ]
  },
  {
   "cell_type": "code",
   "execution_count": 176,
   "metadata": {},
   "outputs": [
    {
     "data": {
      "text/plain": [
       "array([[-0.66555277,  0.18940724, -0.2516231 ,  0.34651693, -0.5811852 ],\n",
       "       [-0.24058221, -0.77394011, -0.53083969, -0.00939832,  0.24750313],\n",
       "       [-0.28467691,  0.58182222, -0.44090348, -0.19616503,  0.58954675],\n",
       "       [-0.26394519, -0.06420139,  0.08946495, -0.91006008, -0.29999633],\n",
       "       [-0.59029798, -0.15000897,  0.67267762,  0.1146631 ,  0.40423112]])"
      ]
     },
     "execution_count": 176,
     "metadata": {},
     "output_type": "execute_result"
    }
   ],
   "source": [
    "q"
   ]
  },
  {
   "cell_type": "code",
   "execution_count": 177,
   "metadata": {},
   "outputs": [
    {
     "data": {
      "text/plain": [
       "array([[-10.05504615,  -4.45250981,  -2.37100479,  -4.94800537,\n",
       "        -12.06790633],\n",
       "       [  0.        ,  -2.87378157,   3.13976779,  -1.15306057,\n",
       "         -3.70665528],\n",
       "       [  0.        ,   0.        ,  -2.74106753,   1.36608499,\n",
       "          5.15196677],\n",
       "       [  0.        ,   0.        ,   0.        ,  -0.22233002,\n",
       "         -0.14105804],\n",
       "       [  0.        ,   0.        ,   0.        ,   0.        ,\n",
       "          0.08440502]])"
      ]
     },
     "execution_count": 177,
     "metadata": {},
     "output_type": "execute_result"
    }
   ],
   "source": [
    "r"
   ]
  },
  {
   "cell_type": "code",
   "execution_count": 187,
   "metadata": {},
   "outputs": [
    {
     "data": {
      "text/plain": [
       "array([[-0.31680166,  0.66204589,  0.56407283,  1.04566543],\n",
       "       [ 1.95558752, -0.9011382 ,  1.02833496,  0.65935262],\n",
       "       [-1.23234623, -1.03879425,  0.71191417,  1.56507157],\n",
       "       [-0.13951428,  0.34546103, -0.70436093,  0.47645211]])"
      ]
     },
     "execution_count": 187,
     "metadata": {},
     "output_type": "execute_result"
    }
   ],
   "source": [
    "samples=np.random.normal(size=(4,4))\n",
    "samples #same random.randn ki tarha ha isma reshape ka liye size=(4,4) dana hoga iski execution slow ha randn sa "
   ]
  },
  {
   "cell_type": "code",
   "execution_count": 180,
   "metadata": {},
   "outputs": [
    {
     "data": {
      "text/plain": [
       "array([[ 2.08787628, -1.06290898,  0.25334729,  0.37262062],\n",
       "       [-0.02479847, -0.29898545,  0.64635637,  1.33209494],\n",
       "       [ 1.44857444, -0.22721231,  0.15046867, -3.12115805],\n",
       "       [-0.02035275, -0.77586982, -2.52221931,  1.26692991]])"
      ]
     },
     "execution_count": 180,
     "metadata": {},
     "output_type": "execute_result"
    }
   ],
   "source": [
    "a=np.random.randn(4,4)\n",
    "a\n"
   ]
  },
  {
   "cell_type": "code",
   "execution_count": 214,
   "metadata": {},
   "outputs": [
    {
     "name": "stdout",
     "output_type": "stream",
     "text": [
      "1.27 s ± 74.8 ms per loop (mean ± std. dev. of 7 runs, 1 loop each)\n"
     ]
    },
    {
     "data": {
      "text/plain": [
       "array([[-0.31680166,  0.66204589,  0.56407283,  1.04566543],\n",
       "       [ 1.95558752, -0.9011382 ,  1.02833496,  0.65935262],\n",
       "       [-1.23234623, -1.03879425,  0.71191417,  1.56507157],\n",
       "       [-0.13951428,  0.34546103, -0.70436093,  0.47645211]])"
      ]
     },
     "execution_count": 214,
     "metadata": {},
     "output_type": "execute_result"
    }
   ],
   "source": [
    "from random import normalvariate\n",
    "N = 1000000\n",
    "%timeit samples = [normalvariate(0, 1) for _ in range(N)]\n",
    "samples"
   ]
  },
  {
   "cell_type": "code",
   "execution_count": 186,
   "metadata": {},
   "outputs": [
    {
     "name": "stdout",
     "output_type": "stream",
     "text": [
      "2.74 s ± 281 ms per loop (mean ± std. dev. of 7 runs, 1 loop each)\n"
     ]
    },
    {
     "data": {
      "text/plain": [
       "array([[ 2.08787628, -1.06290898,  0.25334729,  0.37262062],\n",
       "       [-0.02479847, -0.29898545,  0.64635637,  1.33209494],\n",
       "       [ 1.44857444, -0.22721231,  0.15046867, -3.12115805],\n",
       "       [-0.02035275, -0.77586982, -2.52221931,  1.26692991]])"
      ]
     },
     "execution_count": 186,
     "metadata": {},
     "output_type": "execute_result"
    }
   ],
   "source": [
    "from random import normalvariate\n",
    "N = 1000000\n",
    "%timeit a = [normalvariate(0, 1) for _ in range(N)]\n",
    "a"
   ]
  },
  {
   "cell_type": "code",
   "execution_count": 189,
   "metadata": {},
   "outputs": [
    {
     "name": "stdout",
     "output_type": "stream",
     "text": [
      "84.5 µs ± 7.62 µs per loop (mean ± std. dev. of 7 runs, 10000 loops each)\n"
     ]
    }
   ],
   "source": [
    "N=1000\n",
    "%timeit np.random.normal(size=N)"
   ]
  },
  {
   "cell_type": "code",
   "execution_count": 196,
   "metadata": {},
   "outputs": [
    {
     "data": {
      "text/plain": [
       "array([-2.22218277e-02,  4.34536414e-02, -3.21655563e-02, -4.75436247e-02,\n",
       "        1.37217937e-02,  1.32150598e-02, -5.81362796e-02,  9.41397130e-02,\n",
       "        1.29285863e-01, -6.37726418e-02,  5.60731572e-02, -1.93771408e-02,\n",
       "        6.31474460e-02, -1.41779992e-01,  7.02890427e-02, -6.37353921e-03,\n",
       "       -1.90886055e-02,  9.02024372e-02, -2.17928331e-02, -7.86632284e-02,\n",
       "       -1.01641796e-01, -7.01880172e-02, -4.95054589e-02, -3.58214686e-02,\n",
       "        4.98112866e-02,  7.27196230e-02,  2.54624334e-02,  3.38200416e-01,\n",
       "       -3.26648916e-02, -2.72232508e-02, -1.59401093e-02,  1.84165996e-02,\n",
       "       -2.03260352e-02,  4.03508764e-02, -4.26571265e-02, -7.37574558e-02,\n",
       "       -7.09969350e-02, -1.02373230e-01,  9.93743246e-02, -7.01106157e-02,\n",
       "        1.18901242e-01,  1.35098604e-02, -1.35791083e-01,  3.90299365e-02,\n",
       "        9.68318039e-02,  1.64597424e-01, -4.68081832e-02, -5.45967000e-02,\n",
       "        2.73895718e-02, -8.18081283e-02,  2.06696179e-02,  5.92458107e-02,\n",
       "        1.00972776e-01,  6.11968660e-02, -1.03885636e-01, -1.01266592e-01,\n",
       "        2.57703109e-03, -5.64217808e-02,  1.38754874e-01, -5.46647330e-02,\n",
       "        3.99159324e-02, -9.40141476e-02, -1.96258075e-01, -1.63757514e-01,\n",
       "        3.42629578e-02, -2.01688853e-02, -5.79936625e-02, -8.34190839e-02,\n",
       "        1.09383207e-01, -3.71132839e-02,  1.22770883e-02, -1.04852164e-01,\n",
       "        9.05282902e-02, -2.66846128e-02, -5.12065266e-02, -6.33473678e-02,\n",
       "        1.31028719e-02, -4.92561671e-03, -5.45552164e-02, -1.17834801e-01,\n",
       "       -5.27778175e-03, -1.10881435e-02, -1.23081195e-02, -9.09344911e-02,\n",
       "       -3.49329827e-02, -7.75251724e-02,  1.30712538e-01, -4.06133827e-02,\n",
       "        1.05694220e-01, -5.38817203e-02,  1.47517518e-02, -7.03151663e-02,\n",
       "        3.63668540e-02,  8.01144563e-02, -7.67877236e-02,  7.74574638e-02,\n",
       "       -6.72454590e-02, -2.03167632e-02, -4.49147920e-02,  5.04266363e-02,\n",
       "        1.69169826e-02,  1.24551859e-01, -7.96420467e-02,  1.56643793e-01,\n",
       "        1.13004555e-01, -5.01118459e-02,  4.97717736e-03,  2.80881252e-02,\n",
       "        1.52766434e-02, -2.61510557e-03, -5.43494355e-02, -1.90397064e-01,\n",
       "        4.41518766e-02,  6.17323398e-02,  1.38657350e-01, -1.42807898e-03,\n",
       "       -2.65760812e-02,  4.32447711e-02,  9.00643567e-02, -1.49670605e-01,\n",
       "        2.34792394e-01,  1.95763522e-01, -1.31923084e-01, -2.46288884e-03,\n",
       "       -9.96838892e-02, -5.62958904e-02,  7.30397175e-02,  2.09371971e-02,\n",
       "        5.01391674e-02, -6.89297340e-03,  5.94665788e-02,  1.21809619e-01,\n",
       "        1.85130981e-02, -2.13088921e-02,  9.47672445e-02, -2.29464470e-02,\n",
       "        8.21311156e-02, -1.21390237e-01,  2.11680565e-01,  4.01496163e-02,\n",
       "        2.03262990e-01,  7.50291573e-02, -1.40478413e-01, -3.35635733e-02,\n",
       "        9.54464746e-02, -1.32295286e-01,  2.79498066e-02,  7.88432667e-03,\n",
       "        2.30847337e-01,  5.26391331e-02, -2.46360113e-01,  7.70747122e-02,\n",
       "        2.52105730e-03,  2.16901557e-02, -4.99918551e-02, -6.63440196e-02,\n",
       "       -8.42965185e-02,  1.19323858e-01, -4.04363091e-03, -2.08090102e-01,\n",
       "        2.25110118e-02, -1.93259205e-01, -4.80168738e-02, -5.62656996e-02,\n",
       "        1.25760927e-02, -9.35545222e-02,  5.75116474e-02,  1.94024800e-01,\n",
       "       -9.27100483e-02,  7.64238783e-02, -1.13601273e-01, -1.11336914e-01,\n",
       "       -5.71746108e-02,  1.52260452e-01,  1.39134543e-01, -5.07247776e-02,\n",
       "        5.49002493e-02, -4.18839641e-02, -2.87660096e-02,  2.41509738e-01,\n",
       "       -1.42354357e-01, -1.08850844e-01,  2.32985725e-01,  6.31794848e-03,\n",
       "       -8.98614349e-02,  9.44157339e-02,  5.12693570e-02,  3.98379173e-02,\n",
       "        3.85338576e-02, -3.91485834e-02,  1.72225829e-01,  1.29010632e-01,\n",
       "       -4.81302509e-02,  4.58592729e-02, -1.12012155e-01,  4.74876363e-03,\n",
       "       -4.91361552e-03, -2.74246019e-01, -5.54442641e-03, -1.66855826e-01,\n",
       "       -6.27651632e-03, -2.25247643e-01, -4.78655168e-02, -7.08502528e-02,\n",
       "       -7.32624891e-02, -1.30500594e-01, -5.06378490e-02,  1.12344322e-01,\n",
       "        1.41982917e-03,  2.19358587e-02, -5.07776743e-02,  1.10848741e-01,\n",
       "        7.76597465e-02,  9.16292939e-02,  1.81274130e-01, -2.63930240e-02,\n",
       "        3.96748760e-03,  1.46022984e-01, -9.78701658e-02,  1.04339613e-01,\n",
       "        4.74884603e-03,  1.88811235e-01,  7.64895561e-02, -1.23419007e-01,\n",
       "       -8.34129539e-02, -2.10198957e-02,  6.01903221e-02, -5.83440605e-02,\n",
       "       -4.49492123e-02, -2.61188087e-01,  1.25036615e-02,  8.61570315e-02,\n",
       "       -3.81194750e-02,  4.99513155e-02,  2.64117641e-02, -2.14065927e-02,\n",
       "       -1.06104707e-01,  8.28672757e-02,  3.88167100e-02, -1.73546863e-01,\n",
       "       -6.46129622e-02,  1.27709497e-01, -1.01658728e-01, -1.15165584e-02,\n",
       "        8.49870783e-04,  4.34305137e-02,  5.01489199e-02, -5.99832953e-02,\n",
       "       -1.90213269e-01, -1.41129829e-01, -1.51850484e-01, -9.62531241e-02,\n",
       "       -7.14639379e-02,  1.36819123e-01, -1.37146943e-01,  2.74259482e-02,\n",
       "        9.32484093e-02,  1.41551123e-03, -1.61738260e-02, -1.48167862e-02,\n",
       "       -1.21616099e-01, -1.54030431e-01, -2.25180874e-02,  9.23960613e-03,\n",
       "        1.82975026e-01,  6.93361713e-02,  1.89175750e-02,  1.09406428e-01,\n",
       "       -4.28938278e-02,  3.08172466e-02, -2.16889972e-02,  1.55436905e-01,\n",
       "        5.91562726e-03, -5.62781385e-02,  1.60978308e-01, -1.73540167e-02,\n",
       "        4.57941163e-02, -2.81053522e-02,  1.64326991e-01, -2.87214722e-03,\n",
       "       -6.18648236e-02,  6.24964897e-02,  1.16881361e-01, -8.93329553e-02,\n",
       "        3.88040044e-02, -4.62788100e-02, -7.29818847e-02, -4.57565301e-03,\n",
       "       -1.97861360e-01,  4.26786303e-02, -5.89967381e-02, -5.89690532e-02,\n",
       "        8.05825729e-03, -3.97960345e-02, -1.22368745e-01,  6.70359732e-02,\n",
       "        4.25562349e-02,  8.79482993e-03,  8.97665416e-03,  2.53146882e-01,\n",
       "       -7.27519975e-02,  8.64340785e-02,  9.67488919e-02, -3.60295717e-02,\n",
       "        2.37905850e-01, -4.32355239e-02, -1.52340096e-01, -9.28529559e-02,\n",
       "       -1.01964083e-01,  6.66362186e-02, -8.48843260e-02,  9.56280149e-02,\n",
       "        9.74605743e-02,  6.26098091e-02, -3.41657098e-03, -2.51438017e-02,\n",
       "       -3.97367665e-02, -5.84488349e-02,  1.61096490e-02, -1.85204321e-01,\n",
       "        2.35845235e-02,  2.43974432e-02,  2.16928516e-02, -1.25025713e-02,\n",
       "       -1.75147230e-01,  5.32879510e-02, -1.57072176e-01, -5.59569940e-03,\n",
       "       -1.25432614e-01,  6.03273930e-02, -5.55069892e-02,  7.21042015e-02,\n",
       "        1.05728317e-01,  2.75887288e-02,  5.94744163e-02,  3.99963409e-02,\n",
       "       -2.29409517e-02,  1.00438470e-01, -1.00862615e-01, -1.83289322e-02,\n",
       "       -1.51384787e-01, -4.28854293e-02,  1.29567225e-01, -6.35809457e-02,\n",
       "       -8.13716005e-03,  1.10683367e-02, -3.30456141e-02, -1.21042174e-01,\n",
       "       -2.37574128e-01,  3.44545145e-02, -5.29445359e-02,  7.33456810e-02,\n",
       "       -6.62209802e-02, -1.33894938e-01, -7.48545458e-02,  1.39917795e-01,\n",
       "       -9.51739823e-03, -4.46124795e-02,  1.13145546e-01,  1.20796522e-02,\n",
       "       -2.44536274e-03, -5.43533259e-02,  6.37028948e-02, -1.17227688e-01,\n",
       "        2.36274893e-03,  3.43018236e-02,  6.78560056e-02,  6.30300692e-02,\n",
       "        1.03045221e-01,  6.09802689e-02,  1.74294276e-01,  3.43519788e-02,\n",
       "       -1.59085630e-02,  4.50831532e-02, -4.03130948e-02, -3.96623347e-03,\n",
       "        1.93900899e-01,  1.12758047e-01, -1.28981330e-02, -4.74726020e-02,\n",
       "        3.27431078e-02,  1.01955410e-02, -5.34332118e-02,  4.35522780e-03,\n",
       "       -5.14893955e-02,  5.90897464e-02,  1.34979377e-01, -3.91590178e-02,\n",
       "       -8.70983541e-02, -5.92548751e-02, -1.45078630e-01, -3.07607474e-02,\n",
       "       -2.40860417e-01, -1.54797781e-01, -4.24931032e-03, -4.52169389e-02,\n",
       "       -1.23026088e-02,  4.72487847e-02,  1.58472802e-02,  3.09878761e-02,\n",
       "       -2.05940415e-01, -5.91436328e-02, -1.63281931e-02, -1.09262785e-01,\n",
       "       -2.50557544e-01, -5.91414014e-02, -9.38504167e-02, -3.94429510e-02,\n",
       "        2.28038678e-02, -7.56708990e-02, -2.66254788e-02,  1.57934282e-01,\n",
       "        1.76765564e-01, -1.20653980e-02, -3.58569895e-02,  4.88705687e-02,\n",
       "        1.31244853e-01, -2.21675041e-02,  9.82432129e-03, -5.18040486e-02,\n",
       "        4.99380841e-02, -2.34028805e-01, -7.43657638e-02, -4.02047767e-02,\n",
       "       -1.01733325e-01,  4.67282134e-02, -1.72846846e-01,  3.70026945e-02,\n",
       "        1.65405877e-01,  7.34163681e-03,  4.30214026e-02, -1.42936872e-02,\n",
       "       -1.12147891e-01,  1.02734886e-01,  2.45778699e-02,  3.06083788e-02,\n",
       "       -9.50569824e-02,  4.19119242e-02, -1.36342130e-01,  4.03224947e-02,\n",
       "        2.20696638e-01, -1.67243672e-02, -1.44869247e-01,  6.02790908e-02,\n",
       "       -1.23200655e-01, -4.98626947e-02, -3.00006540e-02, -1.40089495e-01,\n",
       "        9.47429915e-02, -7.27304149e-02, -4.08505707e-02, -4.73046954e-02,\n",
       "       -6.61460188e-02,  6.01900186e-02,  1.38992246e-01,  7.53330628e-02,\n",
       "       -1.19673960e-01, -5.50843880e-02, -1.24998189e-01,  2.48177765e-02,\n",
       "        3.84636284e-02,  1.15111750e-01,  1.22260180e-01,  1.48998794e-01,\n",
       "       -4.62621336e-03, -6.11737294e-02,  9.34892829e-02,  1.48473403e-02,\n",
       "        3.38106358e-01, -2.14913336e-01,  3.49358554e-02,  1.28086622e-01,\n",
       "       -1.76095638e-02, -4.28648050e-02,  5.26125545e-02, -2.17011290e-01,\n",
       "       -9.26949801e-03,  8.59698070e-02,  1.11845102e-01,  3.08756261e-02,\n",
       "       -1.22921115e-01, -1.82538527e-01,  6.81778941e-02, -1.37014084e-02,\n",
       "       -2.83095953e-03,  1.76175023e-01,  2.28031688e-01,  5.10886053e-02,\n",
       "       -1.99316550e-01,  1.23665317e-01, -1.87910207e-03, -2.32556118e-01,\n",
       "       -1.25183158e-01,  9.85831644e-03, -7.14380072e-02, -1.11769854e-02,\n",
       "        1.99145612e-02, -2.01546453e-01,  1.81970563e-02,  4.68336664e-03,\n",
       "       -4.00391033e-02,  1.46024803e-02,  1.06705249e-01,  2.80469383e-02,\n",
       "       -5.74010186e-02, -1.16311039e-01,  1.44838068e-01,  1.45135855e-02,\n",
       "       -3.59459871e-02, -8.20127932e-02,  1.14269296e-01,  7.30227459e-02,\n",
       "        1.23682208e-01,  5.48013854e-02,  9.36119834e-02,  1.37052329e-01,\n",
       "       -1.82401360e-02,  9.43746617e-03,  2.37757425e-01, -1.39151088e-01,\n",
       "       -1.83638439e-01,  8.01053878e-03, -7.29591256e-02, -6.62586322e-02,\n",
       "        1.56956887e-01,  1.10109577e-01,  1.32108100e-01,  1.42629491e-02,\n",
       "       -1.57295792e-01,  8.16696305e-02, -4.44206946e-02,  1.43120950e-01,\n",
       "        2.03047794e-01, -1.94312422e-01, -3.06310093e-02,  4.46016744e-02,\n",
       "       -4.59986517e-02, -1.38038741e-01,  8.79414481e-02,  4.15360388e-02,\n",
       "        1.10718659e-01, -6.51785055e-02, -5.53205762e-02, -2.19815910e-01,\n",
       "       -1.01862748e-01,  4.37557263e-02, -7.37532190e-02, -1.23952165e-01,\n",
       "        2.90303098e-02,  2.25775059e-01, -1.88593974e-01,  1.45278937e-01,\n",
       "       -2.35091589e-01,  7.85123685e-02,  7.59060367e-02,  6.59640431e-02,\n",
       "       -7.73070151e-02,  9.19881048e-02,  1.02549452e-01,  9.75671102e-02,\n",
       "       -3.62782819e-02,  6.38770691e-02,  4.89219918e-02,  1.04718272e-01,\n",
       "        4.63165132e-02,  5.81159188e-02,  2.35486792e-02,  3.61809310e-02,\n",
       "       -6.63024686e-02,  1.65269455e-01, -4.19284078e-02,  5.54602820e-02,\n",
       "       -2.27283839e-01, -9.64624101e-02, -4.59180582e-02,  2.72784849e-01,\n",
       "       -5.82142827e-02, -6.33975000e-02, -1.43142985e-02,  2.38275372e-01,\n",
       "        7.83996729e-02,  1.17592092e-01, -1.74345269e-01, -1.50243499e-01,\n",
       "       -2.02486250e-01,  8.98228509e-03, -4.25649526e-02,  6.07195723e-03,\n",
       "        1.04178052e-01,  8.13681999e-02, -1.44558064e-01,  8.90867868e-02,\n",
       "       -5.03057956e-02,  8.18732977e-02, -1.13476695e-01, -1.52228470e-01,\n",
       "        6.84124585e-02,  7.99068618e-02, -6.27281893e-02, -6.83935741e-02,\n",
       "        3.89174469e-03, -3.13165176e-02,  1.00644808e-01, -8.90860988e-02,\n",
       "        5.20427448e-02, -8.65872709e-02,  7.81512888e-02, -7.96061380e-02,\n",
       "        1.14484943e-01,  8.80736210e-02,  2.92956795e-02,  2.27648238e-01,\n",
       "       -6.84978912e-02,  1.30311009e-02, -1.31706348e-01,  8.35515838e-02,\n",
       "        1.30623216e-01, -8.56446190e-02,  1.94232408e-02,  3.30280653e-02,\n",
       "       -5.77188093e-02,  6.75992631e-02, -5.12755218e-02,  6.04029819e-02,\n",
       "        1.90215215e-01, -5.11963757e-02,  6.93131116e-02,  1.03088409e-01,\n",
       "       -9.00999820e-02,  3.36871749e-02, -3.34426916e-01,  5.30692774e-02,\n",
       "       -1.35033857e-01,  3.11601629e-02, -9.56255899e-02, -2.11776902e-02,\n",
       "        7.46325516e-02,  1.95170081e-01, -1.90189876e-01,  1.32071603e-01,\n",
       "        7.80032953e-02, -1.13578459e-01, -2.04752776e-02,  8.73577323e-02,\n",
       "        8.37850995e-02, -1.47321071e-01,  3.79849570e-02,  4.20036499e-02,\n",
       "       -1.14562047e-02, -5.83144893e-02, -2.50368396e-02,  8.66718025e-02,\n",
       "        4.63497936e-02, -7.52338024e-02, -3.10521138e-02, -7.93633871e-02,\n",
       "        1.52489915e-01,  9.76446026e-02,  4.00069310e-02, -2.41016945e-02,\n",
       "       -8.05201913e-02, -1.33094870e-01,  6.65756496e-02,  2.20509205e-01,\n",
       "       -2.37090729e-02,  1.96542713e-01, -1.81967360e-02,  3.89404461e-02,\n",
       "       -5.55083045e-02,  2.04339842e-01, -7.85768164e-03,  9.68171474e-02,\n",
       "        5.25109383e-03,  6.82654086e-02, -8.07839257e-02,  2.28720057e-02,\n",
       "       -3.49756375e-02,  7.31816364e-02, -2.23068289e-02,  1.61389284e-01,\n",
       "        4.35414893e-02, -4.85379268e-02, -7.15587057e-02,  8.66987082e-03,\n",
       "       -4.56001776e-02, -3.10836613e-02,  7.75543644e-02, -5.58604728e-02,\n",
       "       -7.86381425e-02, -5.16388943e-02, -5.26550250e-02,  2.17955355e-02,\n",
       "       -1.24506975e-01, -2.47169059e-01,  6.22787900e-02,  3.18804019e-02,\n",
       "        3.19472016e-02, -1.23451156e-01,  8.26707023e-02,  1.06212629e-01,\n",
       "       -2.16770768e-01,  8.24958244e-02, -2.94343437e-02,  4.42885714e-02,\n",
       "       -1.15090547e-01,  1.55942720e-02,  2.13090354e-01,  2.98307679e-02,\n",
       "       -1.33437755e-02, -5.78309183e-02, -1.00785650e-01,  5.19576030e-03,\n",
       "        7.54067170e-02,  1.43820083e-02,  7.42744146e-03, -2.47943402e-02,\n",
       "        3.27793556e-02,  1.03147593e-02, -8.05794569e-02,  6.60550175e-04,\n",
       "       -2.60272719e-02,  3.64527812e-02, -6.90222830e-03,  8.83631923e-02,\n",
       "        3.38109393e-02, -8.33243317e-02,  5.15038523e-02,  7.73805422e-02,\n",
       "        1.57577663e-01, -1.26752133e-01,  3.25120859e-04, -5.24627208e-04,\n",
       "       -2.76087994e-02, -1.13330886e-01, -1.14811798e-01,  3.30394709e-02,\n",
       "       -1.74551001e-01, -5.06238057e-02,  2.09878867e-01, -7.10156740e-03,\n",
       "       -1.01491950e-01, -1.03779913e-01,  7.53146320e-03,  1.08603214e-01,\n",
       "        3.39827000e-03, -9.93645840e-03,  7.18640883e-02, -8.43676174e-02,\n",
       "        2.42169136e-01, -8.64893112e-02,  2.21854553e-02,  7.27707227e-02,\n",
       "        8.01357680e-02,  2.03704361e-02, -1.90084205e-02, -6.17807748e-02,\n",
       "        2.59513828e-02,  1.08925368e-01, -1.52018653e-01, -1.39753843e-01,\n",
       "       -1.52181830e-01,  2.66198168e-04, -4.63426795e-02,  1.14703766e-01,\n",
       "       -5.29570876e-02,  2.06068908e-02, -1.17016870e-02, -6.22796078e-02,\n",
       "       -6.70658783e-02, -1.96129754e-03,  3.89045599e-02, -8.12913088e-02,\n",
       "        8.51299406e-02, -2.79953211e-02,  4.44324346e-02, -1.29658409e-02,\n",
       "       -6.67505639e-02, -1.25173948e-01,  5.41319242e-02, -5.84232632e-02,\n",
       "       -6.75415967e-02, -4.73315834e-02,  1.46539423e-02,  6.71346566e-02,\n",
       "        1.12264774e-01, -2.45147502e-02,  9.01930993e-02, -1.71430851e-01,\n",
       "        4.95109438e-02, -9.61130537e-02, -7.85519531e-02, -6.79289012e-02,\n",
       "       -2.74450776e-02, -2.69142425e-02,  3.92435916e-02, -1.47343625e-01,\n",
       "       -6.28646998e-02, -1.26462086e-01,  2.65104204e-02, -9.94945946e-02,\n",
       "       -1.88420935e-01, -3.18302146e-01, -3.69146080e-02,  1.71042710e-01,\n",
       "       -2.51673348e-03,  2.39369033e-01,  1.00856008e-01,  1.29899973e-01,\n",
       "        1.20453649e-01, -1.55688481e-02, -5.73024289e-02,  3.65786299e-02,\n",
       "       -1.51982948e-01, -2.09813273e-03,  1.28394489e-01, -5.19161530e-02,\n",
       "        1.12049784e-01, -4.37596324e-02,  1.66335313e-01,  4.53752877e-02,\n",
       "        8.38966593e-02,  3.31361011e-02,  1.77456511e-01,  1.56529078e-02,\n",
       "       -5.58890844e-03, -1.37005420e-01, -7.88939808e-02,  6.10459634e-02,\n",
       "       -2.03597611e-02, -1.48859818e-01, -1.67812702e-01,  5.39362748e-02,\n",
       "        1.42205821e-02,  1.62375368e-01,  6.11036366e-02, -2.91410035e-01,\n",
       "        9.54740865e-03, -4.29378959e-02, -1.86148955e-02, -4.22824955e-02,\n",
       "        1.50766889e-01,  1.52021165e-01,  5.31845078e-02,  2.80028022e-02,\n",
       "       -2.12670043e-01,  4.70648774e-02, -7.94107253e-02, -1.01122476e-01,\n",
       "       -7.69777346e-02, -1.03709744e-02, -8.83150186e-03,  5.74860903e-02,\n",
       "       -1.67440164e-02,  1.99180194e-02, -6.88654950e-02,  1.86953933e-01,\n",
       "       -1.51047868e-01, -5.54381561e-02,  4.16285784e-02, -2.73497115e-02,\n",
       "        4.85054385e-02,  5.70191206e-02, -2.21660983e-01,  2.04664060e-01,\n",
       "        9.76316066e-02, -8.91349372e-03, -7.68984556e-02, -1.29477343e-02,\n",
       "        7.66412482e-02,  1.02586677e-02,  2.66743431e-04,  3.29198555e-03,\n",
       "        2.15328166e-02, -1.29700200e-01, -9.59519582e-02, -5.60539691e-02,\n",
       "       -1.95001763e-02,  1.14171015e-02, -2.05605965e-01, -3.58575317e-02,\n",
       "        4.26878403e-02, -6.70672363e-02,  9.50351425e-02,  4.02337591e-02,\n",
       "       -2.24013680e-02,  3.62660472e-02, -1.48316522e-01, -1.72809287e-02,\n",
       "        6.02942624e-02,  4.67868556e-03,  2.50077385e-01,  2.87722382e-01,\n",
       "       -2.14522229e-02,  7.69671922e-02,  7.65149898e-02,  1.10728676e-01,\n",
       "        6.81066184e-02,  2.57096114e-02, -2.56753383e-01,  2.93070085e-01,\n",
       "        6.78724301e-02, -1.25850515e-01, -4.93322654e-02,  6.24027699e-02,\n",
       "        3.72225053e-02, -1.37563209e-01, -8.82380887e-02, -1.59788129e-01,\n",
       "       -1.29035761e-01, -2.40964812e-02,  2.84005508e-01,  2.37496632e-01,\n",
       "        1.77795459e-01, -1.72508715e-01, -1.45234885e-01,  1.22740043e-01,\n",
       "       -3.29086582e-02, -8.82810566e-02, -9.74268610e-02, -2.18277258e-01,\n",
       "        2.70524760e-03,  1.85964188e-01, -2.28730068e-01, -6.03063873e-03,\n",
       "       -3.80553444e-03, -5.49720129e-02, -1.20980924e-01,  1.52983199e-01,\n",
       "        4.94444600e-02,  1.85227961e-02,  4.22360805e-02,  5.81842977e-03,\n",
       "        6.51283455e-02, -6.58748550e-02,  9.19565941e-02,  2.75042683e-02,\n",
       "        2.94960914e-02,  9.81865926e-02, -3.31086633e-02,  2.34831771e-02,\n",
       "        1.71015877e-02,  1.13143119e-01, -3.88874058e-02,  2.29042346e-01,\n",
       "       -1.58545223e-01, -1.25405816e-01,  5.26718935e-02, -1.65210358e-01,\n",
       "       -1.67795795e-01,  2.44580500e-02,  3.67587946e-02,  1.46330185e-01,\n",
       "        1.41465138e-01,  1.67401241e-01, -2.47582799e-02, -1.09275780e-01,\n",
       "       -1.45857466e-01, -5.10517044e-02, -1.27541083e-01, -7.10199252e-02,\n",
       "        1.52704827e-01,  5.72200949e-02,  1.20347798e-01,  1.02921488e-02,\n",
       "       -8.30990267e-02,  1.40652623e-02, -3.88333239e-02,  3.09387422e-03,\n",
       "        3.22629297e-02, -2.16735958e-01, -4.18996380e-02,  2.31217991e-02,\n",
       "       -3.78788409e-04, -1.38520982e-01,  7.38813034e-02, -1.18799536e-01,\n",
       "        8.37046125e-02,  1.89409121e-01,  3.56052803e-02, -1.17874285e-02,\n",
       "       -1.75438342e-01,  1.24930745e-01, -2.28139770e-02,  9.58648189e-02,\n",
       "       -1.85386179e-02, -5.28142024e-02, -1.14074975e-02, -1.40418161e-02,\n",
       "       -4.86437911e-02,  4.92211480e-02, -7.88189863e-02, -8.66504290e-02,\n",
       "        2.18872189e-02,  2.30206848e-03,  3.68965665e-02,  1.34938547e-01,\n",
       "        5.22528374e-02, -1.92080876e-01,  3.44946723e-02, -8.42956090e-02])"
      ]
     },
     "execution_count": 196,
     "metadata": {},
     "output_type": "execute_result"
    }
   ],
   "source": [
    "m, sigma = 0, 0.1 # mean and standard deviation\n",
    "s = np.random.normal(m, sigma, 1000)\n",
    "s"
   ]
  },
  {
   "cell_type": "code",
   "execution_count": 2,
   "metadata": {},
   "outputs": [],
   "source": [
    "np.random.seed(1234)\n"
   ]
  },
  {
   "cell_type": "code",
   "execution_count": 3,
   "metadata": {},
   "outputs": [],
   "source": [
    "rng = np.random.RandomState(1234)\n",
    "\n",
    "\n"
   ]
  },
  {
   "cell_type": "code",
   "execution_count": 4,
   "metadata": {},
   "outputs": [
    {
     "data": {
      "text/plain": [
       "array([ 0.47143516, -1.19097569,  1.43270697, -0.3126519 , -0.72058873,\n",
       "        0.88716294,  0.85958841, -0.6365235 ,  0.01569637, -2.24268495])"
      ]
     },
     "execution_count": 4,
     "metadata": {},
     "output_type": "execute_result"
    }
   ],
   "source": [
    "rng.randn(10)"
   ]
  },
  {
   "cell_type": "code",
   "execution_count": 5,
   "metadata": {},
   "outputs": [
    {
     "data": {
      "text/plain": [
       "array([0.68346294, 0.71270203, 0.37025075, 0.56119619, 0.50308317,\n",
       "       0.01376845, 0.77282662, 0.88264119, 0.36488598, 0.61539618])"
      ]
     },
     "execution_count": 5,
     "metadata": {},
     "output_type": "execute_result"
    }
   ],
   "source": [
    "rng.rand(10)"
   ]
  },
  {
   "cell_type": "code",
   "execution_count": 206,
   "metadata": {},
   "outputs": [
    {
     "data": {
      "text/plain": [
       "array([-0.8044583 ,  0.32093155, -0.02548288,  0.64432383, -0.30079667,\n",
       "        0.38947455, -0.1074373 , -0.47998308,  0.5950355 , -0.46466753])"
      ]
     },
     "execution_count": 206,
     "metadata": {},
     "output_type": "execute_result"
    }
   ],
   "source": [
    "np.random.randn(10)"
   ]
  },
  {
   "cell_type": "code",
   "execution_count": 216,
   "metadata": {},
   "outputs": [
    {
     "data": {
      "text/plain": [
       "array([0, 1, 3, 7, 8, 6, 5, 9, 2, 4])"
      ]
     },
     "execution_count": 216,
     "metadata": {},
     "output_type": "execute_result"
    }
   ],
   "source": [
    "np.random.permutation(10)"
   ]
  },
  {
   "cell_type": "code",
   "execution_count": 222,
   "metadata": {},
   "outputs": [],
   "source": [
    "nsteps=1000\n",
    "draws=np.random.randint(0,2,size=nsteps)\n",
    "steps=np.where(draws>0,1,-1)\n",
    "walk=steps.cumsum()"
   ]
  },
  {
   "cell_type": "code",
   "execution_count": 223,
   "metadata": {},
   "outputs": [
    {
     "data": {
      "text/plain": [
       "array([-1, -1, -1, -1, -1, -1,  1,  1,  1, -1, -1, -1,  1, -1,  1, -1,  1,\n",
       "        1, -1, -1, -1,  1, -1,  1, -1,  1, -1,  1, -1,  1, -1, -1,  1, -1,\n",
       "        1,  1,  1,  1, -1,  1, -1, -1,  1,  1,  1,  1, -1, -1,  1,  1, -1,\n",
       "        1,  1,  1,  1, -1,  1,  1, -1,  1,  1,  1,  1, -1, -1,  1,  1,  1,\n",
       "        1, -1, -1,  1,  1,  1,  1, -1,  1, -1,  1,  1,  1,  1, -1, -1,  1,\n",
       "       -1, -1, -1,  1, -1, -1,  1,  1, -1,  1, -1,  1,  1, -1,  1, -1, -1,\n",
       "       -1, -1,  1,  1,  1, -1, -1, -1,  1, -1, -1, -1,  1,  1,  1, -1,  1,\n",
       "       -1, -1,  1,  1, -1,  1,  1,  1,  1,  1, -1, -1,  1, -1,  1, -1,  1,\n",
       "       -1,  1,  1, -1, -1,  1, -1,  1,  1,  1, -1,  1, -1,  1, -1,  1,  1,\n",
       "       -1, -1,  1, -1,  1,  1, -1, -1,  1,  1,  1, -1, -1,  1,  1,  1, -1,\n",
       "       -1, -1, -1, -1,  1,  1, -1,  1,  1,  1,  1, -1,  1,  1, -1,  1,  1,\n",
       "        1, -1, -1,  1, -1, -1,  1, -1, -1, -1,  1, -1, -1,  1, -1,  1, -1,\n",
       "        1,  1,  1, -1, -1,  1, -1, -1, -1,  1, -1, -1, -1, -1,  1, -1, -1,\n",
       "       -1,  1,  1, -1,  1, -1, -1, -1, -1,  1, -1, -1, -1,  1,  1, -1,  1,\n",
       "        1,  1,  1,  1,  1, -1,  1,  1,  1,  1, -1,  1, -1,  1,  1,  1, -1,\n",
       "        1,  1, -1, -1, -1,  1,  1,  1,  1, -1, -1,  1,  1, -1,  1, -1, -1,\n",
       "       -1, -1,  1,  1,  1, -1, -1,  1, -1, -1, -1,  1, -1,  1,  1, -1, -1,\n",
       "       -1,  1, -1,  1, -1,  1,  1,  1,  1, -1,  1,  1, -1, -1,  1, -1,  1,\n",
       "       -1, -1,  1, -1, -1, -1,  1, -1,  1, -1,  1, -1,  1,  1,  1, -1,  1,\n",
       "       -1, -1,  1, -1, -1, -1,  1,  1,  1, -1,  1, -1,  1, -1,  1, -1,  1,\n",
       "        1,  1, -1,  1, -1,  1, -1,  1, -1,  1, -1,  1,  1,  1,  1,  1,  1,\n",
       "       -1,  1,  1,  1, -1, -1,  1,  1, -1,  1,  1,  1,  1, -1,  1,  1,  1,\n",
       "       -1, -1,  1,  1,  1, -1, -1, -1,  1, -1, -1, -1,  1, -1,  1,  1,  1,\n",
       "       -1,  1,  1,  1,  1,  1, -1, -1, -1,  1, -1,  1,  1, -1, -1,  1,  1,\n",
       "       -1, -1,  1,  1,  1,  1,  1, -1, -1, -1,  1, -1, -1,  1,  1,  1, -1,\n",
       "       -1,  1, -1,  1, -1,  1, -1, -1,  1,  1,  1, -1, -1,  1, -1, -1,  1,\n",
       "        1,  1,  1, -1,  1, -1,  1,  1, -1, -1, -1, -1, -1,  1, -1,  1, -1,\n",
       "       -1,  1, -1, -1,  1,  1, -1, -1,  1,  1, -1, -1,  1,  1, -1, -1, -1,\n",
       "       -1, -1,  1,  1, -1, -1, -1, -1, -1,  1,  1, -1, -1, -1,  1, -1,  1,\n",
       "        1,  1, -1, -1,  1,  1,  1,  1,  1,  1,  1,  1, -1,  1, -1,  1, -1,\n",
       "        1,  1, -1,  1,  1,  1,  1,  1, -1,  1, -1, -1, -1, -1, -1, -1,  1,\n",
       "        1, -1, -1, -1, -1,  1,  1, -1,  1, -1, -1, -1,  1, -1, -1,  1, -1,\n",
       "       -1,  1, -1, -1, -1, -1,  1,  1,  1,  1,  1,  1,  1,  1,  1,  1, -1,\n",
       "       -1, -1, -1,  1,  1, -1, -1, -1, -1, -1,  1,  1,  1,  1, -1, -1, -1,\n",
       "        1, -1,  1,  1, -1,  1,  1, -1,  1, -1,  1, -1,  1, -1, -1, -1, -1,\n",
       "        1, -1, -1,  1,  1, -1,  1,  1, -1, -1, -1,  1, -1,  1, -1, -1, -1,\n",
       "       -1,  1,  1, -1, -1,  1, -1,  1,  1,  1,  1, -1,  1, -1, -1, -1, -1,\n",
       "       -1, -1,  1,  1, -1, -1,  1, -1, -1,  1, -1, -1,  1,  1,  1,  1, -1,\n",
       "       -1, -1, -1, -1,  1, -1, -1, -1, -1,  1, -1,  1,  1, -1,  1, -1,  1,\n",
       "        1,  1, -1, -1, -1, -1, -1,  1,  1, -1, -1, -1,  1,  1, -1,  1,  1,\n",
       "        1,  1, -1,  1, -1, -1,  1, -1, -1,  1,  1, -1,  1, -1,  1,  1,  1,\n",
       "       -1,  1,  1, -1, -1,  1,  1, -1, -1, -1, -1,  1, -1,  1,  1,  1,  1,\n",
       "       -1,  1, -1,  1,  1,  1,  1, -1, -1, -1, -1, -1, -1,  1, -1, -1, -1,\n",
       "        1,  1,  1, -1,  1, -1, -1, -1, -1, -1, -1,  1, -1,  1, -1, -1,  1,\n",
       "       -1, -1,  1,  1,  1,  1,  1,  1,  1,  1, -1,  1, -1,  1,  1, -1, -1,\n",
       "        1,  1,  1, -1,  1,  1, -1,  1,  1, -1,  1, -1, -1,  1, -1,  1,  1,\n",
       "        1,  1, -1,  1, -1, -1, -1,  1,  1, -1,  1, -1, -1, -1, -1, -1, -1,\n",
       "       -1, -1, -1,  1, -1,  1,  1,  1,  1, -1, -1,  1, -1,  1, -1,  1, -1,\n",
       "       -1, -1, -1,  1, -1, -1,  1,  1,  1,  1, -1, -1,  1, -1, -1,  1,  1,\n",
       "        1, -1, -1, -1, -1,  1,  1,  1, -1, -1, -1, -1, -1,  1,  1, -1, -1,\n",
       "       -1, -1, -1,  1, -1,  1,  1,  1,  1,  1, -1,  1,  1,  1, -1,  1, -1,\n",
       "        1, -1, -1,  1,  1,  1, -1, -1,  1, -1,  1,  1, -1, -1,  1,  1,  1,\n",
       "        1,  1, -1,  1,  1, -1, -1,  1,  1, -1,  1,  1, -1, -1,  1,  1,  1,\n",
       "        1,  1, -1,  1,  1,  1, -1, -1,  1,  1,  1, -1,  1, -1,  1, -1,  1,\n",
       "        1,  1, -1,  1,  1, -1,  1,  1, -1,  1,  1,  1,  1, -1, -1,  1, -1,\n",
       "        1,  1,  1,  1,  1, -1, -1,  1, -1,  1, -1, -1,  1, -1,  1, -1, -1,\n",
       "       -1,  1, -1,  1,  1,  1, -1, -1,  1, -1, -1,  1,  1, -1, -1,  1,  1,\n",
       "       -1,  1, -1,  1,  1,  1,  1, -1,  1, -1, -1, -1,  1, -1, -1,  1,  1,\n",
       "        1,  1, -1, -1,  1,  1,  1, -1, -1,  1, -1, -1, -1, -1])"
      ]
     },
     "execution_count": 223,
     "metadata": {},
     "output_type": "execute_result"
    }
   ],
   "source": [
    "steps"
   ]
  },
  {
   "cell_type": "code",
   "execution_count": 243,
   "metadata": {},
   "outputs": [
    {
     "data": {
      "text/plain": [
       "array([-1, -2, -3, -4, -5, -6, -5, -4, -3, -4, -5, -6, -5, -6, -5, -6, -5,\n",
       "       -4, -5, -6, -7, -6, -7, -6, -7, -6, -7, -6, -7, -6, -7, -8, -7, -8,\n",
       "       -7, -6, -5, -4, -5, -4, -5, -6, -5, -4, -3, -2, -3, -4, -3, -2, -3,\n",
       "       -2, -1,  0,  1,  0,  1,  2,  1,  2,  3,  4,  5,  4,  3,  4,  5,  6,\n",
       "        7,  6,  5,  6,  7,  8,  9,  8,  9,  8,  9, 10, 11, 12, 11, 10, 11,\n",
       "       10,  9,  8,  9,  8,  7,  8,  9,  8,  9,  8,  9, 10,  9, 10,  9,  8,\n",
       "        7,  6,  7,  8,  9,  8,  7,  6,  7,  6,  5,  4,  5,  6,  7,  6,  7,\n",
       "        6,  5,  6,  7,  6,  7,  8,  9, 10, 11, 10,  9, 10,  9, 10,  9, 10,\n",
       "        9, 10, 11, 10,  9, 10,  9, 10, 11, 12, 11, 12, 11, 12, 11, 12, 13,\n",
       "       12, 11, 12, 11, 12, 13, 12, 11, 12, 13, 14, 13, 12, 13, 14, 15, 14,\n",
       "       13, 12, 11, 10, 11, 12, 11, 12, 13, 14, 15, 14, 15, 16, 15, 16, 17,\n",
       "       18, 17, 16, 17, 16, 15, 16, 15, 14, 13, 14, 13, 12, 13, 12, 13, 12,\n",
       "       13, 14, 15, 14, 13, 14, 13, 12, 11, 12, 11, 10,  9,  8,  9,  8,  7,\n",
       "        6,  7,  8,  7,  8,  7,  6,  5,  4,  5,  4,  3,  2,  3,  4,  3,  4,\n",
       "        5,  6,  7,  8,  9,  8,  9, 10, 11, 12, 11, 12, 11, 12, 13, 14, 13,\n",
       "       14, 15, 14, 13, 12, 13, 14, 15, 16, 15, 14, 15, 16, 15, 16, 15, 14,\n",
       "       13, 12, 13, 14, 15, 14, 13, 14, 13, 12, 11, 12, 11, 12, 13, 12, 11,\n",
       "       10, 11, 10, 11, 10, 11, 12, 13, 14, 13, 14, 15, 14, 13, 14, 13, 14,\n",
       "       13, 12, 13, 12, 11, 10, 11, 10, 11, 10, 11, 10, 11, 12, 13, 12, 13,\n",
       "       12, 11, 12, 11, 10,  9, 10, 11, 12, 11, 12, 11, 12, 11, 12, 11, 12,\n",
       "       13, 14, 13, 14, 13, 14, 13, 14, 13, 14, 13, 14, 15, 16, 17, 18, 19,\n",
       "       18, 19, 20, 21, 20, 19, 20, 21, 20, 21, 22, 23, 24, 23, 24, 25, 26,\n",
       "       25, 24, 25, 26, 27, 26, 25, 24, 25, 24, 23, 22, 23, 22, 23, 24, 25,\n",
       "       24, 25, 26, 27, 28, 29, 28, 27, 26, 27, 26, 27, 28, 27, 26, 27, 28,\n",
       "       27, 26, 27, 28, 29, 30, 31, 30, 29, 28, 29, 28, 27, 28, 29, 30, 29,\n",
       "       28, 29, 28, 29, 28, 29, 28, 27, 28, 29, 30, 29, 28, 29, 28, 27, 28,\n",
       "       29, 30, 31, 30, 31, 30, 31, 32, 31, 30, 29, 28, 27, 28, 27, 28, 27,\n",
       "       26, 27, 26, 25, 26, 27, 26, 25, 26, 27, 26, 25, 26, 27, 26, 25, 24,\n",
       "       23, 22, 23, 24, 23, 22, 21, 20, 19, 20, 21, 20, 19, 18, 19, 18, 19,\n",
       "       20, 21, 20, 19, 20, 21, 22, 23, 24, 25, 26, 27, 26, 27, 26, 27, 26,\n",
       "       27, 28, 27, 28, 29, 30, 31, 32, 31, 32, 31, 30, 29, 28, 27, 26, 27,\n",
       "       28, 27, 26, 25, 24, 25, 26, 25, 26, 25, 24, 23, 24, 23, 22, 23, 22,\n",
       "       21, 22, 21, 20, 19, 18, 19, 20, 21, 22, 23, 24, 25, 26, 27, 28, 27,\n",
       "       26, 25, 24, 25, 26, 25, 24, 23, 22, 21, 22, 23, 24, 25, 24, 23, 22,\n",
       "       23, 22, 23, 24, 23, 24, 25, 24, 25, 24, 25, 24, 25, 24, 23, 22, 21,\n",
       "       22, 21, 20, 21, 22, 21, 22, 23, 22, 21, 20, 21, 20, 21, 20, 19, 18,\n",
       "       17, 18, 19, 18, 17, 18, 17, 18, 19, 20, 21, 20, 21, 20, 19, 18, 17,\n",
       "       16, 15, 16, 17, 16, 15, 16, 15, 14, 15, 14, 13, 14, 15, 16, 17, 16,\n",
       "       15, 14, 13, 12, 13, 12, 11, 10,  9, 10,  9, 10, 11, 10, 11, 10, 11,\n",
       "       12, 13, 12, 11, 10,  9,  8,  9, 10,  9,  8,  7,  8,  9,  8,  9, 10,\n",
       "       11, 12, 11, 12, 11, 10, 11, 10,  9, 10, 11, 10, 11, 10, 11, 12, 13,\n",
       "       12, 13, 14, 13, 12, 13, 14, 13, 12, 11, 10, 11, 10, 11, 12, 13, 14,\n",
       "       13, 14, 13, 14, 15, 16, 17, 16, 15, 14, 13, 12, 11, 12, 11, 10,  9,\n",
       "       10, 11, 12, 11, 12, 11, 10,  9,  8,  7,  6,  7,  6,  7,  6,  5,  6,\n",
       "        5,  4,  5,  6,  7,  8,  9, 10, 11, 12, 11, 12, 11, 12, 13, 12, 11,\n",
       "       12, 13, 14, 13, 14, 15, 14, 15, 16, 15, 16, 15, 14, 15, 14, 15, 16,\n",
       "       17, 18, 17, 18, 17, 16, 15, 16, 17, 16, 17, 16, 15, 14, 13, 12, 11,\n",
       "       10,  9,  8,  9,  8,  9, 10, 11, 12, 11, 10, 11, 10, 11, 10, 11, 10,\n",
       "        9,  8,  7,  8,  7,  6,  7,  8,  9, 10,  9,  8,  9,  8,  7,  8,  9,\n",
       "       10,  9,  8,  7,  6,  7,  8,  9,  8,  7,  6,  5,  4,  5,  6,  5,  4,\n",
       "        3,  2,  1,  2,  1,  2,  3,  4,  5,  6,  5,  6,  7,  8,  7,  8,  7,\n",
       "        8,  7,  6,  7,  8,  9,  8,  7,  8,  7,  8,  9,  8,  7,  8,  9, 10,\n",
       "       11, 12, 11, 12, 13, 12, 11, 12, 13, 12, 13, 14, 13, 12, 13, 14, 15,\n",
       "       16, 17, 16, 17, 18, 19, 18, 17, 18, 19, 20, 19, 20, 19, 20, 19, 20,\n",
       "       21, 22, 21, 22, 23, 22, 23, 24, 23, 24, 25, 26, 27, 26, 25, 26, 25,\n",
       "       26, 27, 28, 29, 30, 29, 28, 29, 28, 29, 28, 27, 28, 27, 28, 27, 26,\n",
       "       25, 26, 25, 26, 27, 28, 27, 26, 27, 26, 25, 26, 27, 26, 25, 26, 27,\n",
       "       26, 27, 26, 27, 28, 29, 30, 29, 30, 29, 28, 27, 28, 27, 26, 27, 28,\n",
       "       29, 30, 29, 28, 29, 30, 31, 30, 29, 30, 29, 28, 27, 26],\n",
       "      dtype=int32)"
      ]
     },
     "execution_count": 243,
     "metadata": {},
     "output_type": "execute_result"
    }
   ],
   "source": [
    "walk"
   ]
  },
  {
   "cell_type": "code",
   "execution_count": 237,
   "metadata": {},
   "outputs": [],
   "source": [
    "s=100\n",
    "a=np.random.randint(0,1,s)\n",
    "C=np.where(a>0,1,-1)\n",
    "                             #randint ya karta ha ka 0 sa 1 diya ha tu ya o hi karaga 1 nhi karta agar 0 sa 10 data tu ya 0,9 ma kuch karta "
   ]
  },
  {
   "cell_type": "code",
   "execution_count": 238,
   "metadata": {},
   "outputs": [
    {
     "data": {
      "text/plain": [
       "array([  -1,   -2,   -3,   -4,   -5,   -6,   -7,   -8,   -9,  -10,  -11,\n",
       "        -12,  -13,  -14,  -15,  -16,  -17,  -18,  -19,  -20,  -21,  -22,\n",
       "        -23,  -24,  -25,  -26,  -27,  -28,  -29,  -30,  -31,  -32,  -33,\n",
       "        -34,  -35,  -36,  -37,  -38,  -39,  -40,  -41,  -42,  -43,  -44,\n",
       "        -45,  -46,  -47,  -48,  -49,  -50,  -51,  -52,  -53,  -54,  -55,\n",
       "        -56,  -57,  -58,  -59,  -60,  -61,  -62,  -63,  -64,  -65,  -66,\n",
       "        -67,  -68,  -69,  -70,  -71,  -72,  -73,  -74,  -75,  -76,  -77,\n",
       "        -78,  -79,  -80,  -81,  -82,  -83,  -84,  -85,  -86,  -87,  -88,\n",
       "        -89,  -90,  -91,  -92,  -93,  -94,  -95,  -96,  -97,  -98,  -99,\n",
       "       -100], dtype=int32)"
      ]
     },
     "execution_count": 238,
     "metadata": {},
     "output_type": "execute_result"
    }
   ],
   "source": [
    "C.cumsum()"
   ]
  },
  {
   "cell_type": "code",
   "execution_count": 242,
   "metadata": {},
   "outputs": [
    {
     "data": {
      "text/plain": [
       "array([-1, -1, -1, -1, -1, -1, -1, -1, -1, -1, -1, -1, -1, -1, -1, -1, -1,\n",
       "       -1, -1, -1, -1, -1, -1, -1, -1, -1, -1, -1, -1, -1, -1, -1, -1, -1,\n",
       "       -1, -1, -1, -1, -1, -1, -1, -1, -1, -1, -1, -1, -1, -1, -1, -1, -1,\n",
       "       -1, -1, -1, -1, -1, -1, -1, -1, -1, -1, -1, -1, -1, -1, -1, -1, -1,\n",
       "       -1, -1, -1, -1, -1, -1, -1, -1, -1, -1, -1, -1, -1, -1, -1, -1, -1,\n",
       "       -1, -1, -1, -1, -1, -1, -1, -1, -1, -1, -1, -1, -1, -1, -1, -1, -1,\n",
       "       -1, -1, -1, -1, -1, -1, -1, -1, -1, -1, -1, -1, -1, -1, -1, -1, -1,\n",
       "       -1, -1, -1, -1, -1, -1, -1, -1, -1, -1, -1, -1, -1, -1, -1, -1, -1,\n",
       "       -1, -1, -1, -1, -1, -1, -1, -1, -1, -1, -1, -1, -1, -1, -1, -1, -1,\n",
       "       -1, -1, -1, -1, -1, -1, -1, -1, -1, -1, -1, -1, -1, -1, -1, -1, -1,\n",
       "       -1, -1, -1, -1, -1, -1, -1, -1, -1, -1, -1, -1, -1, -1, -1, -1, -1,\n",
       "       -1, -1, -1, -1, -1, -1, -1, -1, -1, -1, -1, -1, -1, -1, -1, -1, -1,\n",
       "       -1, -1, -1, -1, -1, -1, -1, -1, -1, -1, -1, -1, -1, -1, -1, -1, -1,\n",
       "       -1, -1, -1, -1, -1, -1, -1, -1, -1, -1, -1, -1, -1, -1, -1, -1, -1,\n",
       "       -1, -1, -1, -1, -1, -1, -1, -1, -1, -1, -1, -1, -1, -1, -1, -1, -1,\n",
       "       -1, -1, -1, -1, -1, -1, -1, -1, -1, -1, -1, -1, -1, -1, -1, -1, -1,\n",
       "       -1, -1, -1, -1, -1, -1, -1, -1, -1, -1, -1, -1, -1, -1, -1, -1, -1,\n",
       "       -1, -1, -1, -1, -1, -1, -1, -1, -1, -1, -1, -1, -1, -1, -1, -1, -1,\n",
       "       -1, -1, -1, -1, -1, -1, -1, -1, -1, -1, -1, -1, -1, -1, -1, -1, -1,\n",
       "       -1, -1, -1, -1, -1, -1, -1, -1, -1, -1, -1, -1, -1, -1, -1, -1, -1,\n",
       "       -1, -1, -1, -1, -1, -1, -1, -1, -1, -1, -1, -1, -1, -1, -1, -1, -1,\n",
       "       -1, -1, -1, -1, -1, -1, -1, -1, -1, -1, -1, -1, -1, -1, -1, -1, -1,\n",
       "       -1, -1, -1, -1, -1, -1, -1, -1, -1, -1, -1, -1, -1, -1, -1, -1, -1,\n",
       "       -1, -1, -1, -1, -1, -1, -1, -1, -1, -1, -1, -1, -1, -1, -1, -1, -1,\n",
       "       -1, -1, -1, -1, -1, -1, -1, -1, -1, -1, -1, -1, -1, -1, -1, -1, -1,\n",
       "       -1, -1, -1, -1, -1, -1, -1, -1, -1, -1, -1, -1, -1, -1, -1, -1, -1,\n",
       "       -1, -1, -1, -1, -1, -1, -1, -1, -1, -1, -1, -1, -1, -1, -1, -1, -1,\n",
       "       -1, -1, -1, -1, -1, -1, -1, -1, -1, -1, -1, -1, -1, -1, -1, -1, -1,\n",
       "       -1, -1, -1, -1, -1, -1, -1, -1, -1, -1, -1, -1, -1, -1, -1, -1, -1,\n",
       "       -1, -1, -1, -1, -1, -1, -1, -1, -1, -1, -1, -1, -1, -1, -1, -1, -1,\n",
       "       -1, -1, -1, -1, -1, -1, -1, -1, -1, -1, -1, -1, -1, -1, -1, -1, -1,\n",
       "       -1, -1, -1, -1, -1, -1, -1, -1, -1, -1, -1, -1, -1, -1, -1, -1, -1,\n",
       "       -1, -1, -1, -1, -1, -1, -1, -1, -1, -1, -1, -1, -1, -1, -1, -1, -1,\n",
       "       -1, -1, -1, -1, -1, -1, -1, -1, -1, -1, -1, -1, -1, -1, -1, -1, -1,\n",
       "       -1, -1, -1, -1, -1, -1, -1, -1, -1, -1, -1, -1, -1, -1, -1, -1, -1,\n",
       "       -1, -1, -1, -1, -1, -1, -1, -1, -1, -1, -1, -1, -1, -1, -1, -1, -1,\n",
       "       -1, -1, -1, -1, -1, -1, -1, -1, -1, -1, -1, -1, -1, -1, -1, -1, -1,\n",
       "       -1, -1, -1, -1, -1, -1, -1, -1, -1, -1, -1, -1, -1, -1, -1, -1, -1,\n",
       "       -1, -1, -1, -1, -1, -1, -1, -1, -1, -1, -1, -1, -1, -1, -1, -1, -1,\n",
       "       -1, -1, -1, -1, -1, -1, -1, -1, -1, -1, -1, -1, -1, -1, -1, -1, -1,\n",
       "       -1, -1, -1, -1, -1, -1, -1, -1, -1, -1, -1, -1, -1, -1, -1, -1, -1,\n",
       "       -1, -1, -1, -1, -1, -1, -1, -1, -1, -1, -1, -1, -1, -1, -1, -1, -1,\n",
       "       -1, -1, -1, -1, -1, -1, -1, -1, -1, -1, -1, -1, -1, -1, -1, -1, -1,\n",
       "       -1, -1, -1, -1, -1, -1, -1, -1, -1, -1, -1, -1, -1, -1, -1, -1, -1,\n",
       "       -1, -1, -1, -1, -1, -1, -1, -1, -1, -1, -1, -1, -1, -1, -1, -1, -1,\n",
       "       -1, -1, -1, -1, -1, -1, -1, -1, -1, -1, -1, -1, -1, -1, -1, -1, -1,\n",
       "       -1, -1, -1, -1, -1, -1, -1, -1, -1, -1, -1, -1, -1, -1, -1, -1, -1,\n",
       "       -1, -1, -1, -1, -1, -1, -1, -1, -1, -1, -1, -1, -1, -1, -1, -1, -1,\n",
       "       -1, -1, -1, -1, -1, -1, -1, -1, -1, -1, -1, -1, -1, -1, -1, -1, -1,\n",
       "       -1, -1, -1, -1, -1, -1, -1, -1, -1, -1, -1, -1, -1, -1, -1, -1, -1,\n",
       "       -1, -1, -1, -1, -1, -1, -1, -1, -1, -1, -1, -1, -1, -1, -1, -1, -1,\n",
       "       -1, -1, -1, -1, -1, -1, -1, -1, -1, -1, -1, -1, -1, -1, -1, -1, -1,\n",
       "       -1, -1, -1, -1, -1, -1, -1, -1, -1, -1, -1, -1, -1, -1, -1, -1, -1,\n",
       "       -1, -1, -1, -1, -1, -1, -1, -1, -1, -1, -1, -1, -1, -1, -1, -1, -1,\n",
       "       -1, -1, -1, -1, -1, -1, -1, -1, -1, -1, -1, -1, -1, -1, -1, -1, -1,\n",
       "       -1, -1, -1, -1, -1, -1, -1, -1, -1, -1, -1, -1, -1, -1, -1, -1, -1,\n",
       "       -1, -1, -1, -1, -1, -1, -1, -1, -1, -1, -1, -1, -1, -1, -1, -1, -1,\n",
       "       -1, -1, -1, -1, -1, -1, -1, -1, -1, -1, -1, -1, -1, -1, -1, -1, -1,\n",
       "       -1, -1, -1, -1, -1, -1, -1, -1, -1, -1, -1, -1, -1, -1])"
      ]
     },
     "execution_count": 242,
     "metadata": {},
     "output_type": "execute_result"
    }
   ],
   "source": [
    "s=1000\n",
    "a=np.random.randint(0,1,s)\n",
    "C=np.where(a>0,1,-1)\n",
    "C\n"
   ]
  },
  {
   "cell_type": "code",
   "execution_count": 241,
   "metadata": {},
   "outputs": [
    {
     "data": {
      "text/plain": [
       "array([   -1,    -2,    -3,    -4,    -5,    -6,    -7,    -8,    -9,\n",
       "         -10,   -11,   -12,   -13,   -14,   -15,   -16,   -17,   -18,\n",
       "         -19,   -20,   -21,   -22,   -23,   -24,   -25,   -26,   -27,\n",
       "         -28,   -29,   -30,   -31,   -32,   -33,   -34,   -35,   -36,\n",
       "         -37,   -38,   -39,   -40,   -41,   -42,   -43,   -44,   -45,\n",
       "         -46,   -47,   -48,   -49,   -50,   -51,   -52,   -53,   -54,\n",
       "         -55,   -56,   -57,   -58,   -59,   -60,   -61,   -62,   -63,\n",
       "         -64,   -65,   -66,   -67,   -68,   -69,   -70,   -71,   -72,\n",
       "         -73,   -74,   -75,   -76,   -77,   -78,   -79,   -80,   -81,\n",
       "         -82,   -83,   -84,   -85,   -86,   -87,   -88,   -89,   -90,\n",
       "         -91,   -92,   -93,   -94,   -95,   -96,   -97,   -98,   -99,\n",
       "        -100,  -101,  -102,  -103,  -104,  -105,  -106,  -107,  -108,\n",
       "        -109,  -110,  -111,  -112,  -113,  -114,  -115,  -116,  -117,\n",
       "        -118,  -119,  -120,  -121,  -122,  -123,  -124,  -125,  -126,\n",
       "        -127,  -128,  -129,  -130,  -131,  -132,  -133,  -134,  -135,\n",
       "        -136,  -137,  -138,  -139,  -140,  -141,  -142,  -143,  -144,\n",
       "        -145,  -146,  -147,  -148,  -149,  -150,  -151,  -152,  -153,\n",
       "        -154,  -155,  -156,  -157,  -158,  -159,  -160,  -161,  -162,\n",
       "        -163,  -164,  -165,  -166,  -167,  -168,  -169,  -170,  -171,\n",
       "        -172,  -173,  -174,  -175,  -176,  -177,  -178,  -179,  -180,\n",
       "        -181,  -182,  -183,  -184,  -185,  -186,  -187,  -188,  -189,\n",
       "        -190,  -191,  -192,  -193,  -194,  -195,  -196,  -197,  -198,\n",
       "        -199,  -200,  -201,  -202,  -203,  -204,  -205,  -206,  -207,\n",
       "        -208,  -209,  -210,  -211,  -212,  -213,  -214,  -215,  -216,\n",
       "        -217,  -218,  -219,  -220,  -221,  -222,  -223,  -224,  -225,\n",
       "        -226,  -227,  -228,  -229,  -230,  -231,  -232,  -233,  -234,\n",
       "        -235,  -236,  -237,  -238,  -239,  -240,  -241,  -242,  -243,\n",
       "        -244,  -245,  -246,  -247,  -248,  -249,  -250,  -251,  -252,\n",
       "        -253,  -254,  -255,  -256,  -257,  -258,  -259,  -260,  -261,\n",
       "        -262,  -263,  -264,  -265,  -266,  -267,  -268,  -269,  -270,\n",
       "        -271,  -272,  -273,  -274,  -275,  -276,  -277,  -278,  -279,\n",
       "        -280,  -281,  -282,  -283,  -284,  -285,  -286,  -287,  -288,\n",
       "        -289,  -290,  -291,  -292,  -293,  -294,  -295,  -296,  -297,\n",
       "        -298,  -299,  -300,  -301,  -302,  -303,  -304,  -305,  -306,\n",
       "        -307,  -308,  -309,  -310,  -311,  -312,  -313,  -314,  -315,\n",
       "        -316,  -317,  -318,  -319,  -320,  -321,  -322,  -323,  -324,\n",
       "        -325,  -326,  -327,  -328,  -329,  -330,  -331,  -332,  -333,\n",
       "        -334,  -335,  -336,  -337,  -338,  -339,  -340,  -341,  -342,\n",
       "        -343,  -344,  -345,  -346,  -347,  -348,  -349,  -350,  -351,\n",
       "        -352,  -353,  -354,  -355,  -356,  -357,  -358,  -359,  -360,\n",
       "        -361,  -362,  -363,  -364,  -365,  -366,  -367,  -368,  -369,\n",
       "        -370,  -371,  -372,  -373,  -374,  -375,  -376,  -377,  -378,\n",
       "        -379,  -380,  -381,  -382,  -383,  -384,  -385,  -386,  -387,\n",
       "        -388,  -389,  -390,  -391,  -392,  -393,  -394,  -395,  -396,\n",
       "        -397,  -398,  -399,  -400,  -401,  -402,  -403,  -404,  -405,\n",
       "        -406,  -407,  -408,  -409,  -410,  -411,  -412,  -413,  -414,\n",
       "        -415,  -416,  -417,  -418,  -419,  -420,  -421,  -422,  -423,\n",
       "        -424,  -425,  -426,  -427,  -428,  -429,  -430,  -431,  -432,\n",
       "        -433,  -434,  -435,  -436,  -437,  -438,  -439,  -440,  -441,\n",
       "        -442,  -443,  -444,  -445,  -446,  -447,  -448,  -449,  -450,\n",
       "        -451,  -452,  -453,  -454,  -455,  -456,  -457,  -458,  -459,\n",
       "        -460,  -461,  -462,  -463,  -464,  -465,  -466,  -467,  -468,\n",
       "        -469,  -470,  -471,  -472,  -473,  -474,  -475,  -476,  -477,\n",
       "        -478,  -479,  -480,  -481,  -482,  -483,  -484,  -485,  -486,\n",
       "        -487,  -488,  -489,  -490,  -491,  -492,  -493,  -494,  -495,\n",
       "        -496,  -497,  -498,  -499,  -500,  -501,  -502,  -503,  -504,\n",
       "        -505,  -506,  -507,  -508,  -509,  -510,  -511,  -512,  -513,\n",
       "        -514,  -515,  -516,  -517,  -518,  -519,  -520,  -521,  -522,\n",
       "        -523,  -524,  -525,  -526,  -527,  -528,  -529,  -530,  -531,\n",
       "        -532,  -533,  -534,  -535,  -536,  -537,  -538,  -539,  -540,\n",
       "        -541,  -542,  -543,  -544,  -545,  -546,  -547,  -548,  -549,\n",
       "        -550,  -551,  -552,  -553,  -554,  -555,  -556,  -557,  -558,\n",
       "        -559,  -560,  -561,  -562,  -563,  -564,  -565,  -566,  -567,\n",
       "        -568,  -569,  -570,  -571,  -572,  -573,  -574,  -575,  -576,\n",
       "        -577,  -578,  -579,  -580,  -581,  -582,  -583,  -584,  -585,\n",
       "        -586,  -587,  -588,  -589,  -590,  -591,  -592,  -593,  -594,\n",
       "        -595,  -596,  -597,  -598,  -599,  -600,  -601,  -602,  -603,\n",
       "        -604,  -605,  -606,  -607,  -608,  -609,  -610,  -611,  -612,\n",
       "        -613,  -614,  -615,  -616,  -617,  -618,  -619,  -620,  -621,\n",
       "        -622,  -623,  -624,  -625,  -626,  -627,  -628,  -629,  -630,\n",
       "        -631,  -632,  -633,  -634,  -635,  -636,  -637,  -638,  -639,\n",
       "        -640,  -641,  -642,  -643,  -644,  -645,  -646,  -647,  -648,\n",
       "        -649,  -650,  -651,  -652,  -653,  -654,  -655,  -656,  -657,\n",
       "        -658,  -659,  -660,  -661,  -662,  -663,  -664,  -665,  -666,\n",
       "        -667,  -668,  -669,  -670,  -671,  -672,  -673,  -674,  -675,\n",
       "        -676,  -677,  -678,  -679,  -680,  -681,  -682,  -683,  -684,\n",
       "        -685,  -686,  -687,  -688,  -689,  -690,  -691,  -692,  -693,\n",
       "        -694,  -695,  -696,  -697,  -698,  -699,  -700,  -701,  -702,\n",
       "        -703,  -704,  -705,  -706,  -707,  -708,  -709,  -710,  -711,\n",
       "        -712,  -713,  -714,  -715,  -716,  -717,  -718,  -719,  -720,\n",
       "        -721,  -722,  -723,  -724,  -725,  -726,  -727,  -728,  -729,\n",
       "        -730,  -731,  -732,  -733,  -734,  -735,  -736,  -737,  -738,\n",
       "        -739,  -740,  -741,  -742,  -743,  -744,  -745,  -746,  -747,\n",
       "        -748,  -749,  -750,  -751,  -752,  -753,  -754,  -755,  -756,\n",
       "        -757,  -758,  -759,  -760,  -761,  -762,  -763,  -764,  -765,\n",
       "        -766,  -767,  -768,  -769,  -770,  -771,  -772,  -773,  -774,\n",
       "        -775,  -776,  -777,  -778,  -779,  -780,  -781,  -782,  -783,\n",
       "        -784,  -785,  -786,  -787,  -788,  -789,  -790,  -791,  -792,\n",
       "        -793,  -794,  -795,  -796,  -797,  -798,  -799,  -800,  -801,\n",
       "        -802,  -803,  -804,  -805,  -806,  -807,  -808,  -809,  -810,\n",
       "        -811,  -812,  -813,  -814,  -815,  -816,  -817,  -818,  -819,\n",
       "        -820,  -821,  -822,  -823,  -824,  -825,  -826,  -827,  -828,\n",
       "        -829,  -830,  -831,  -832,  -833,  -834,  -835,  -836,  -837,\n",
       "        -838,  -839,  -840,  -841,  -842,  -843,  -844,  -845,  -846,\n",
       "        -847,  -848,  -849,  -850,  -851,  -852,  -853,  -854,  -855,\n",
       "        -856,  -857,  -858,  -859,  -860,  -861,  -862,  -863,  -864,\n",
       "        -865,  -866,  -867,  -868,  -869,  -870,  -871,  -872,  -873,\n",
       "        -874,  -875,  -876,  -877,  -878,  -879,  -880,  -881,  -882,\n",
       "        -883,  -884,  -885,  -886,  -887,  -888,  -889,  -890,  -891,\n",
       "        -892,  -893,  -894,  -895,  -896,  -897,  -898,  -899,  -900,\n",
       "        -901,  -902,  -903,  -904,  -905,  -906,  -907,  -908,  -909,\n",
       "        -910,  -911,  -912,  -913,  -914,  -915,  -916,  -917,  -918,\n",
       "        -919,  -920,  -921,  -922,  -923,  -924,  -925,  -926,  -927,\n",
       "        -928,  -929,  -930,  -931,  -932,  -933,  -934,  -935,  -936,\n",
       "        -937,  -938,  -939,  -940,  -941,  -942,  -943,  -944,  -945,\n",
       "        -946,  -947,  -948,  -949,  -950,  -951,  -952,  -953,  -954,\n",
       "        -955,  -956,  -957,  -958,  -959,  -960,  -961,  -962,  -963,\n",
       "        -964,  -965,  -966,  -967,  -968,  -969,  -970,  -971,  -972,\n",
       "        -973,  -974,  -975,  -976,  -977,  -978,  -979,  -980,  -981,\n",
       "        -982,  -983,  -984,  -985,  -986,  -987,  -988,  -989,  -990,\n",
       "        -991,  -992,  -993,  -994,  -995,  -996,  -997,  -998,  -999,\n",
       "       -1000], dtype=int32)"
      ]
     },
     "execution_count": 241,
     "metadata": {},
     "output_type": "execute_result"
    }
   ],
   "source": [
    "C.cumsum()"
   ]
  },
  {
   "cell_type": "code",
   "execution_count": 58,
   "metadata": {},
   "outputs": [
    {
     "data": {
      "text/plain": [
       "array([ 1,  1, -1,  1,  1, -1,  1, -1,  1, -1,  1,  1,  1,  1, -1,  1, -1,\n",
       "        1,  1, -1, -1,  1, -1, -1,  1,  1,  1, -1, -1, -1,  1,  1,  1,  1,\n",
       "        1,  1,  1, -1,  1, -1,  1, -1,  1, -1, -1, -1, -1, -1, -1, -1, -1,\n",
       "        1,  1,  1, -1,  1, -1, -1,  1,  1, -1,  1, -1,  1,  1, -1,  1, -1,\n",
       "       -1, -1,  1,  1, -1, -1, -1, -1, -1,  1,  1,  1,  1, -1,  1, -1,  1,\n",
       "       -1,  1, -1,  1, -1,  1, -1,  1, -1,  1, -1,  1,  1,  1,  1, -1,  1,\n",
       "        1,  1, -1, -1, -1,  1, -1,  1, -1,  1,  1, -1,  1, -1, -1,  1,  1,\n",
       "        1,  1, -1, -1, -1,  1, -1, -1, -1, -1, -1, -1, -1,  1, -1, -1,  1,\n",
       "        1, -1, -1, -1,  1, -1, -1,  1,  1, -1, -1,  1,  1, -1, -1,  1,  1,\n",
       "       -1, -1,  1,  1, -1,  1, -1, -1,  1,  1,  1, -1, -1,  1,  1,  1, -1,\n",
       "       -1, -1,  1,  1, -1, -1,  1,  1,  1, -1,  1,  1,  1,  1,  1,  1, -1,\n",
       "       -1,  1, -1,  1,  1, -1,  1,  1, -1, -1, -1,  1, -1,  1, -1, -1, -1,\n",
       "       -1, -1,  1,  1,  1,  1,  1, -1,  1,  1,  1,  1, -1,  1,  1,  1,  1,\n",
       "        1, -1,  1,  1, -1,  1, -1, -1, -1, -1,  1,  1,  1,  1,  1, -1,  1,\n",
       "       -1, -1, -1,  1,  1,  1, -1, -1,  1,  1,  1, -1, -1,  1, -1, -1,  1,\n",
       "        1,  1,  1,  1, -1,  1,  1, -1, -1,  1, -1, -1,  1,  1, -1,  1,  1,\n",
       "       -1,  1,  1, -1, -1,  1,  1, -1,  1,  1, -1,  1,  1,  1, -1, -1, -1,\n",
       "        1,  1,  1, -1,  1,  1, -1, -1, -1,  1, -1, -1,  1,  1, -1, -1, -1,\n",
       "        1,  1,  1, -1,  1,  1, -1,  1, -1,  1,  1, -1,  1,  1,  1, -1, -1,\n",
       "        1, -1,  1,  1,  1,  1,  1,  1,  1, -1, -1, -1, -1,  1,  1, -1,  1,\n",
       "        1, -1, -1,  1, -1,  1,  1, -1, -1, -1,  1,  1,  1,  1,  1, -1, -1,\n",
       "       -1, -1, -1,  1, -1,  1, -1, -1,  1, -1,  1, -1, -1,  1, -1, -1, -1,\n",
       "       -1, -1, -1,  1,  1, -1, -1, -1,  1,  1, -1,  1, -1, -1, -1, -1,  1,\n",
       "        1, -1, -1, -1,  1, -1,  1, -1,  1,  1,  1,  1, -1,  1,  1,  1, -1,\n",
       "       -1,  1, -1,  1, -1,  1,  1, -1,  1,  1, -1, -1, -1, -1,  1,  1,  1,\n",
       "        1, -1,  1, -1,  1, -1, -1,  1, -1,  1, -1,  1,  1,  1, -1, -1,  1,\n",
       "        1,  1, -1,  1,  1,  1, -1,  1, -1,  1,  1,  1, -1, -1, -1, -1, -1,\n",
       "        1, -1, -1, -1, -1,  1, -1,  1, -1, -1,  1,  1, -1, -1,  1, -1,  1,\n",
       "       -1, -1, -1,  1, -1, -1,  1, -1,  1, -1, -1,  1,  1,  1, -1, -1, -1,\n",
       "       -1,  1, -1, -1,  1,  1, -1,  1,  1, -1,  1,  1, -1, -1,  1, -1,  1,\n",
       "        1,  1,  1, -1, -1, -1, -1,  1,  1, -1,  1,  1,  1, -1, -1,  1, -1,\n",
       "        1,  1, -1, -1, -1,  1, -1,  1, -1, -1, -1,  1,  1, -1, -1,  1, -1,\n",
       "        1, -1,  1,  1, -1,  1, -1, -1, -1, -1, -1, -1,  1,  1, -1,  1,  1,\n",
       "        1, -1,  1,  1, -1, -1,  1, -1,  1,  1,  1, -1, -1,  1,  1,  1,  1,\n",
       "       -1, -1,  1, -1,  1,  1,  1, -1, -1,  1,  1, -1, -1,  1,  1,  1,  1,\n",
       "        1,  1,  1, -1,  1,  1, -1, -1, -1,  1,  1,  1,  1,  1, -1, -1,  1,\n",
       "        1,  1,  1, -1,  1,  1,  1, -1, -1,  1, -1, -1, -1, -1,  1,  1, -1,\n",
       "        1,  1, -1, -1, -1, -1, -1,  1,  1,  1,  1, -1,  1, -1,  1,  1,  1,\n",
       "        1, -1,  1, -1,  1, -1, -1,  1,  1,  1, -1,  1,  1, -1,  1,  1,  1,\n",
       "       -1, -1,  1,  1,  1, -1,  1, -1, -1,  1,  1,  1,  1, -1, -1, -1,  1,\n",
       "       -1,  1, -1,  1,  1,  1,  1,  1, -1,  1,  1, -1, -1, -1, -1, -1,  1,\n",
       "        1,  1,  1,  1,  1, -1,  1,  1,  1,  1, -1, -1,  1,  1, -1,  1, -1,\n",
       "       -1, -1,  1,  1,  1,  1, -1, -1, -1, -1, -1,  1, -1,  1, -1,  1,  1,\n",
       "       -1,  1,  1, -1, -1,  1, -1,  1,  1,  1,  1,  1,  1,  1,  1,  1,  1,\n",
       "        1,  1, -1,  1, -1,  1,  1,  1, -1, -1,  1, -1, -1, -1, -1,  1, -1,\n",
       "        1, -1,  1, -1, -1, -1, -1,  1, -1,  1, -1,  1,  1,  1, -1, -1, -1,\n",
       "        1, -1, -1, -1,  1,  1, -1,  1, -1,  1,  1,  1, -1,  1,  1,  1,  1,\n",
       "       -1,  1,  1,  1,  1,  1, -1,  1,  1, -1,  1,  1, -1,  1, -1, -1,  1,\n",
       "       -1,  1,  1,  1,  1,  1, -1, -1, -1,  1,  1, -1,  1, -1,  1, -1,  1,\n",
       "        1,  1, -1,  1,  1, -1, -1,  1, -1,  1, -1,  1,  1,  1, -1, -1,  1,\n",
       "        1, -1,  1, -1,  1, -1,  1, -1,  1,  1, -1, -1, -1, -1,  1, -1, -1,\n",
       "        1, -1, -1, -1,  1,  1,  1,  1,  1, -1,  1, -1, -1, -1, -1, -1,  1,\n",
       "        1,  1,  1, -1, -1,  1, -1,  1, -1, -1,  1, -1, -1, -1, -1,  1,  1,\n",
       "       -1, -1,  1, -1,  1, -1, -1, -1, -1,  1, -1,  1, -1,  1,  1,  1,  1,\n",
       "        1,  1,  1, -1,  1,  1, -1, -1,  1, -1, -1, -1, -1,  1, -1,  1,  1,\n",
       "        1,  1,  1, -1, -1,  1, -1, -1, -1,  1, -1, -1,  1, -1,  1,  1,  1,\n",
       "        1, -1, -1, -1,  1, -1, -1, -1,  1,  1,  1, -1,  1,  1,  1,  1,  1,\n",
       "       -1, -1, -1,  1,  1, -1, -1,  1,  1,  1,  1,  1,  1, -1,  1,  1, -1,\n",
       "       -1,  1, -1,  1,  1, -1,  1, -1,  1,  1,  1,  1, -1,  1])"
      ]
     },
     "execution_count": 58,
     "metadata": {},
     "output_type": "execute_result"
    }
   ],
   "source": [
    "step=1000\n",
    "a=np.random.randint(0,2,step)\n",
    "b=np.where(a>0,1,-1)\n",
    "b\n",
    "\n",
    "\n"
   ]
  },
  {
   "cell_type": "code",
   "execution_count": 59,
   "metadata": {},
   "outputs": [],
   "source": [
    "c=b.cumsum()"
   ]
  },
  {
   "cell_type": "code",
   "execution_count": 60,
   "metadata": {},
   "outputs": [
    {
     "data": {
      "text/plain": [
       "array([ 1,  2,  1,  2,  3,  2,  3,  2,  3,  2,  3,  4,  5,  6,  5,  6,  5,\n",
       "        6,  7,  6,  5,  6,  5,  4,  5,  6,  7,  6,  5,  4,  5,  6,  7,  8,\n",
       "        9, 10, 11, 10, 11, 10, 11, 10, 11, 10,  9,  8,  7,  6,  5,  4,  3,\n",
       "        4,  5,  6,  5,  6,  5,  4,  5,  6,  5,  6,  5,  6,  7,  6,  7,  6,\n",
       "        5,  4,  5,  6,  5,  4,  3,  2,  1,  2,  3,  4,  5,  4,  5,  4,  5,\n",
       "        4,  5,  4,  5,  4,  5,  4,  5,  4,  5,  4,  5,  6,  7,  8,  7,  8,\n",
       "        9, 10,  9,  8,  7,  8,  7,  8,  7,  8,  9,  8,  9,  8,  7,  8,  9,\n",
       "       10, 11, 10,  9,  8,  9,  8,  7,  6,  5,  4,  3,  2,  3,  2,  1,  2,\n",
       "        3,  2,  1,  0,  1,  0, -1,  0,  1,  0, -1,  0,  1,  0, -1,  0,  1,\n",
       "        0, -1,  0,  1,  0,  1,  0, -1,  0,  1,  2,  1,  0,  1,  2,  3,  2,\n",
       "        1,  0,  1,  2,  1,  0,  1,  2,  3,  2,  3,  4,  5,  6,  7,  8,  7,\n",
       "        6,  7,  6,  7,  8,  7,  8,  9,  8,  7,  6,  7,  6,  7,  6,  5,  4,\n",
       "        3,  2,  3,  4,  5,  6,  7,  6,  7,  8,  9, 10,  9, 10, 11, 12, 13,\n",
       "       14, 13, 14, 15, 14, 15, 14, 13, 12, 11, 12, 13, 14, 15, 16, 15, 16,\n",
       "       15, 14, 13, 14, 15, 16, 15, 14, 15, 16, 17, 16, 15, 16, 15, 14, 15,\n",
       "       16, 17, 18, 19, 18, 19, 20, 19, 18, 19, 18, 17, 18, 19, 18, 19, 20,\n",
       "       19, 20, 21, 20, 19, 20, 21, 20, 21, 22, 21, 22, 23, 24, 23, 22, 21,\n",
       "       22, 23, 24, 23, 24, 25, 24, 23, 22, 23, 22, 21, 22, 23, 22, 21, 20,\n",
       "       21, 22, 23, 22, 23, 24, 23, 24, 23, 24, 25, 24, 25, 26, 27, 26, 25,\n",
       "       26, 25, 26, 27, 28, 29, 30, 31, 32, 31, 30, 29, 28, 29, 30, 29, 30,\n",
       "       31, 30, 29, 30, 29, 30, 31, 30, 29, 28, 29, 30, 31, 32, 33, 32, 31,\n",
       "       30, 29, 28, 29, 28, 29, 28, 27, 28, 27, 28, 27, 26, 27, 26, 25, 24,\n",
       "       23, 22, 21, 22, 23, 22, 21, 20, 21, 22, 21, 22, 21, 20, 19, 18, 19,\n",
       "       20, 19, 18, 17, 18, 17, 18, 17, 18, 19, 20, 21, 20, 21, 22, 23, 22,\n",
       "       21, 22, 21, 22, 21, 22, 23, 22, 23, 24, 23, 22, 21, 20, 21, 22, 23,\n",
       "       24, 23, 24, 23, 24, 23, 22, 23, 22, 23, 22, 23, 24, 25, 24, 23, 24,\n",
       "       25, 26, 25, 26, 27, 28, 27, 28, 27, 28, 29, 30, 29, 28, 27, 26, 25,\n",
       "       26, 25, 24, 23, 22, 23, 22, 23, 22, 21, 22, 23, 22, 21, 22, 21, 22,\n",
       "       21, 20, 19, 20, 19, 18, 19, 18, 19, 18, 17, 18, 19, 20, 19, 18, 17,\n",
       "       16, 17, 16, 15, 16, 17, 16, 17, 18, 17, 18, 19, 18, 17, 18, 17, 18,\n",
       "       19, 20, 21, 20, 19, 18, 17, 18, 19, 18, 19, 20, 21, 20, 19, 20, 19,\n",
       "       20, 21, 20, 19, 18, 19, 18, 19, 18, 17, 16, 17, 18, 17, 16, 17, 16,\n",
       "       17, 16, 17, 18, 17, 18, 17, 16, 15, 14, 13, 12, 13, 14, 13, 14, 15,\n",
       "       16, 15, 16, 17, 16, 15, 16, 15, 16, 17, 18, 17, 16, 17, 18, 19, 20,\n",
       "       19, 18, 19, 18, 19, 20, 21, 20, 19, 20, 21, 20, 19, 20, 21, 22, 23,\n",
       "       24, 25, 26, 25, 26, 27, 26, 25, 24, 25, 26, 27, 28, 29, 28, 27, 28,\n",
       "       29, 30, 31, 30, 31, 32, 33, 32, 31, 32, 31, 30, 29, 28, 29, 30, 29,\n",
       "       30, 31, 30, 29, 28, 27, 26, 27, 28, 29, 30, 29, 30, 29, 30, 31, 32,\n",
       "       33, 32, 33, 32, 33, 32, 31, 32, 33, 34, 33, 34, 35, 34, 35, 36, 37,\n",
       "       36, 35, 36, 37, 38, 37, 38, 37, 36, 37, 38, 39, 40, 39, 38, 37, 38,\n",
       "       37, 38, 37, 38, 39, 40, 41, 42, 41, 42, 43, 42, 41, 40, 39, 38, 39,\n",
       "       40, 41, 42, 43, 44, 43, 44, 45, 46, 47, 46, 45, 46, 47, 46, 47, 46,\n",
       "       45, 44, 45, 46, 47, 48, 47, 46, 45, 44, 43, 44, 43, 44, 43, 44, 45,\n",
       "       44, 45, 46, 45, 44, 45, 44, 45, 46, 47, 48, 49, 50, 51, 52, 53, 54,\n",
       "       55, 56, 55, 56, 55, 56, 57, 58, 57, 56, 57, 56, 55, 54, 53, 54, 53,\n",
       "       54, 53, 54, 53, 52, 51, 50, 51, 50, 51, 50, 51, 52, 53, 52, 51, 50,\n",
       "       51, 50, 49, 48, 49, 50, 49, 50, 49, 50, 51, 52, 51, 52, 53, 54, 55,\n",
       "       54, 55, 56, 57, 58, 59, 58, 59, 60, 59, 60, 61, 60, 61, 60, 59, 60,\n",
       "       59, 60, 61, 62, 63, 64, 63, 62, 61, 62, 63, 62, 63, 62, 63, 62, 63,\n",
       "       64, 65, 64, 65, 66, 65, 64, 65, 64, 65, 64, 65, 66, 67, 66, 65, 66,\n",
       "       67, 66, 67, 66, 67, 66, 67, 66, 67, 68, 67, 66, 65, 64, 65, 64, 63,\n",
       "       64, 63, 62, 61, 62, 63, 64, 65, 66, 65, 66, 65, 64, 63, 62, 61, 62,\n",
       "       63, 64, 65, 64, 63, 64, 63, 64, 63, 62, 63, 62, 61, 60, 59, 60, 61,\n",
       "       60, 59, 60, 59, 60, 59, 58, 57, 56, 57, 56, 57, 56, 57, 58, 59, 60,\n",
       "       61, 62, 63, 62, 63, 64, 63, 62, 63, 62, 61, 60, 59, 60, 59, 60, 61,\n",
       "       62, 63, 64, 63, 62, 63, 62, 61, 60, 61, 60, 59, 60, 59, 60, 61, 62,\n",
       "       63, 62, 61, 60, 61, 60, 59, 58, 59, 60, 61, 60, 61, 62, 63, 64, 65,\n",
       "       64, 63, 62, 63, 64, 63, 62, 63, 64, 65, 66, 67, 68, 67, 68, 69, 68,\n",
       "       67, 68, 67, 68, 69, 68, 69, 68, 69, 70, 71, 72, 71, 72],\n",
       "      dtype=int32)"
      ]
     },
     "execution_count": 60,
     "metadata": {},
     "output_type": "execute_result"
    }
   ],
   "source": [
    "np.cumsum(b)"
   ]
  },
  {
   "cell_type": "code",
   "execution_count": 61,
   "metadata": {},
   "outputs": [
    {
     "data": {
      "text/plain": [
       "72"
      ]
     },
     "execution_count": 61,
     "metadata": {},
     "output_type": "execute_result"
    }
   ],
   "source": [
    "c.max()"
   ]
  },
  {
   "cell_type": "code",
   "execution_count": 62,
   "metadata": {},
   "outputs": [
    {
     "data": {
      "text/plain": [
       "-1"
      ]
     },
     "execution_count": 62,
     "metadata": {},
     "output_type": "execute_result"
    }
   ],
   "source": [
    "c.min()"
   ]
  },
  {
   "cell_type": "code",
   "execution_count": 66,
   "metadata": {},
   "outputs": [
    {
     "data": {
      "text/plain": [
       "array([ 1,  2,  1,  2,  3,  2,  3,  2,  3,  2,  3,  4,  5,  6,  5,  6,  5,\n",
       "        6,  7,  6,  5,  6,  5,  4,  5,  6,  7,  6,  5,  4,  5,  6,  7,  8,\n",
       "        9, 10, 11, 10, 11, 10, 11, 10, 11, 10,  9,  8,  7,  6,  5,  4,  3,\n",
       "        4,  5,  6,  5,  6,  5,  4,  5,  6,  5,  6,  5,  6,  7,  6,  7,  6,\n",
       "        5,  4,  5,  6,  5,  4,  3,  2,  1,  2,  3,  4,  5,  4,  5,  4,  5,\n",
       "        4,  5,  4,  5,  4,  5,  4,  5,  4,  5,  4,  5,  6,  7,  8,  7,  8,\n",
       "        9, 10,  9,  8,  7,  8,  7,  8,  7,  8,  9,  8,  9,  8,  7,  8,  9,\n",
       "       10, 11, 10,  9,  8,  9,  8,  7,  6,  5,  4,  3,  2,  3,  2,  1,  2,\n",
       "        3,  2,  1,  0,  1,  0,  1,  0,  1,  0,  1,  0,  1,  0,  1,  0,  1,\n",
       "        0,  1,  0,  1,  0,  1,  0,  1,  0,  1,  2,  1,  0,  1,  2,  3,  2,\n",
       "        1,  0,  1,  2,  1,  0,  1,  2,  3,  2,  3,  4,  5,  6,  7,  8,  7,\n",
       "        6,  7,  6,  7,  8,  7,  8,  9,  8,  7,  6,  7,  6,  7,  6,  5,  4,\n",
       "        3,  2,  3,  4,  5,  6,  7,  6,  7,  8,  9, 10,  9, 10, 11, 12, 13,\n",
       "       14, 13, 14, 15, 14, 15, 14, 13, 12, 11, 12, 13, 14, 15, 16, 15, 16,\n",
       "       15, 14, 13, 14, 15, 16, 15, 14, 15, 16, 17, 16, 15, 16, 15, 14, 15,\n",
       "       16, 17, 18, 19, 18, 19, 20, 19, 18, 19, 18, 17, 18, 19, 18, 19, 20,\n",
       "       19, 20, 21, 20, 19, 20, 21, 20, 21, 22, 21, 22, 23, 24, 23, 22, 21,\n",
       "       22, 23, 24, 23, 24, 25, 24, 23, 22, 23, 22, 21, 22, 23, 22, 21, 20,\n",
       "       21, 22, 23, 22, 23, 24, 23, 24, 23, 24, 25, 24, 25, 26, 27, 26, 25,\n",
       "       26, 25, 26, 27, 28, 29, 30, 31, 32, 31, 30, 29, 28, 29, 30, 29, 30,\n",
       "       31, 30, 29, 30, 29, 30, 31, 30, 29, 28, 29, 30, 31, 32, 33, 32, 31,\n",
       "       30, 29, 28, 29, 28, 29, 28, 27, 28, 27, 28, 27, 26, 27, 26, 25, 24,\n",
       "       23, 22, 21, 22, 23, 22, 21, 20, 21, 22, 21, 22, 21, 20, 19, 18, 19,\n",
       "       20, 19, 18, 17, 18, 17, 18, 17, 18, 19, 20, 21, 20, 21, 22, 23, 22,\n",
       "       21, 22, 21, 22, 21, 22, 23, 22, 23, 24, 23, 22, 21, 20, 21, 22, 23,\n",
       "       24, 23, 24, 23, 24, 23, 22, 23, 22, 23, 22, 23, 24, 25, 24, 23, 24,\n",
       "       25, 26, 25, 26, 27, 28, 27, 28, 27, 28, 29, 30, 29, 28, 27, 26, 25,\n",
       "       26, 25, 24, 23, 22, 23, 22, 23, 22, 21, 22, 23, 22, 21, 22, 21, 22,\n",
       "       21, 20, 19, 20, 19, 18, 19, 18, 19, 18, 17, 18, 19, 20, 19, 18, 17,\n",
       "       16, 17, 16, 15, 16, 17, 16, 17, 18, 17, 18, 19, 18, 17, 18, 17, 18,\n",
       "       19, 20, 21, 20, 19, 18, 17, 18, 19, 18, 19, 20, 21, 20, 19, 20, 19,\n",
       "       20, 21, 20, 19, 18, 19, 18, 19, 18, 17, 16, 17, 18, 17, 16, 17, 16,\n",
       "       17, 16, 17, 18, 17, 18, 17, 16, 15, 14, 13, 12, 13, 14, 13, 14, 15,\n",
       "       16, 15, 16, 17, 16, 15, 16, 15, 16, 17, 18, 17, 16, 17, 18, 19, 20,\n",
       "       19, 18, 19, 18, 19, 20, 21, 20, 19, 20, 21, 20, 19, 20, 21, 22, 23,\n",
       "       24, 25, 26, 25, 26, 27, 26, 25, 24, 25, 26, 27, 28, 29, 28, 27, 28,\n",
       "       29, 30, 31, 30, 31, 32, 33, 32, 31, 32, 31, 30, 29, 28, 29, 30, 29,\n",
       "       30, 31, 30, 29, 28, 27, 26, 27, 28, 29, 30, 29, 30, 29, 30, 31, 32,\n",
       "       33, 32, 33, 32, 33, 32, 31, 32, 33, 34, 33, 34, 35, 34, 35, 36, 37,\n",
       "       36, 35, 36, 37, 38, 37, 38, 37, 36, 37, 38, 39, 40, 39, 38, 37, 38,\n",
       "       37, 38, 37, 38, 39, 40, 41, 42, 41, 42, 43, 42, 41, 40, 39, 38, 39,\n",
       "       40, 41, 42, 43, 44, 43, 44, 45, 46, 47, 46, 45, 46, 47, 46, 47, 46,\n",
       "       45, 44, 45, 46, 47, 48, 47, 46, 45, 44, 43, 44, 43, 44, 43, 44, 45,\n",
       "       44, 45, 46, 45, 44, 45, 44, 45, 46, 47, 48, 49, 50, 51, 52, 53, 54,\n",
       "       55, 56, 55, 56, 55, 56, 57, 58, 57, 56, 57, 56, 55, 54, 53, 54, 53,\n",
       "       54, 53, 54, 53, 52, 51, 50, 51, 50, 51, 50, 51, 52, 53, 52, 51, 50,\n",
       "       51, 50, 49, 48, 49, 50, 49, 50, 49, 50, 51, 52, 51, 52, 53, 54, 55,\n",
       "       54, 55, 56, 57, 58, 59, 58, 59, 60, 59, 60, 61, 60, 61, 60, 59, 60,\n",
       "       59, 60, 61, 62, 63, 64, 63, 62, 61, 62, 63, 62, 63, 62, 63, 62, 63,\n",
       "       64, 65, 64, 65, 66, 65, 64, 65, 64, 65, 64, 65, 66, 67, 66, 65, 66,\n",
       "       67, 66, 67, 66, 67, 66, 67, 66, 67, 68, 67, 66, 65, 64, 65, 64, 63,\n",
       "       64, 63, 62, 61, 62, 63, 64, 65, 66, 65, 66, 65, 64, 63, 62, 61, 62,\n",
       "       63, 64, 65, 64, 63, 64, 63, 64, 63, 62, 63, 62, 61, 60, 59, 60, 61,\n",
       "       60, 59, 60, 59, 60, 59, 58, 57, 56, 57, 56, 57, 56, 57, 58, 59, 60,\n",
       "       61, 62, 63, 62, 63, 64, 63, 62, 63, 62, 61, 60, 59, 60, 59, 60, 61,\n",
       "       62, 63, 64, 63, 62, 63, 62, 61, 60, 61, 60, 59, 60, 59, 60, 61, 62,\n",
       "       63, 62, 61, 60, 61, 60, 59, 58, 59, 60, 61, 60, 61, 62, 63, 64, 65,\n",
       "       64, 63, 62, 63, 64, 63, 62, 63, 64, 65, 66, 67, 68, 67, 68, 69, 68,\n",
       "       67, 68, 67, 68, 69, 68, 69, 68, 69, 70, 71, 72, 71, 72],\n",
       "      dtype=int32)"
      ]
     },
     "execution_count": 66,
     "metadata": {},
     "output_type": "execute_result"
    }
   ],
   "source": [
    "np.abs(c)"
   ]
  },
  {
   "cell_type": "code",
   "execution_count": 67,
   "metadata": {},
   "outputs": [
    {
     "data": {
      "text/plain": [
       "array([False, False, False, False, False, False, False, False, False,\n",
       "       False, False, False, False, False, False, False, False, False,\n",
       "       False, False, False, False, False, False, False, False, False,\n",
       "       False, False, False, False, False, False, False, False,  True,\n",
       "        True,  True,  True,  True,  True,  True,  True,  True, False,\n",
       "       False, False, False, False, False, False, False, False, False,\n",
       "       False, False, False, False, False, False, False, False, False,\n",
       "       False, False, False, False, False, False, False, False, False,\n",
       "       False, False, False, False, False, False, False, False, False,\n",
       "       False, False, False, False, False, False, False, False, False,\n",
       "       False, False, False, False, False, False, False, False, False,\n",
       "       False, False, False, False,  True, False, False, False, False,\n",
       "       False, False, False, False, False, False, False, False, False,\n",
       "       False, False,  True,  True,  True, False, False, False, False,\n",
       "       False, False, False, False, False, False, False, False, False,\n",
       "       False, False, False, False, False, False, False, False, False,\n",
       "       False, False, False, False, False, False, False, False, False,\n",
       "       False, False, False, False, False, False, False, False, False,\n",
       "       False, False, False, False, False, False, False, False, False,\n",
       "       False, False, False, False, False, False, False, False, False,\n",
       "       False, False, False, False, False, False, False, False, False,\n",
       "       False, False, False, False, False, False, False, False, False,\n",
       "       False, False, False, False, False, False, False, False, False,\n",
       "       False, False, False, False, False, False, False, False,  True,\n",
       "       False,  True,  True,  True,  True,  True,  True,  True,  True,\n",
       "        True,  True,  True,  True,  True,  True,  True,  True,  True,\n",
       "        True,  True,  True,  True,  True,  True,  True,  True,  True,\n",
       "        True,  True,  True,  True,  True,  True,  True,  True,  True,\n",
       "        True,  True,  True,  True,  True,  True,  True,  True,  True,\n",
       "        True,  True,  True,  True,  True,  True,  True,  True,  True,\n",
       "        True,  True,  True,  True,  True,  True,  True,  True,  True,\n",
       "        True,  True,  True,  True,  True,  True,  True,  True,  True,\n",
       "        True,  True,  True,  True,  True,  True,  True,  True,  True,\n",
       "        True,  True,  True,  True,  True,  True,  True,  True,  True,\n",
       "        True,  True,  True,  True,  True,  True,  True,  True,  True,\n",
       "        True,  True,  True,  True,  True,  True,  True,  True,  True,\n",
       "        True,  True,  True,  True,  True,  True,  True,  True,  True,\n",
       "        True,  True,  True,  True,  True,  True,  True,  True,  True,\n",
       "        True,  True,  True,  True,  True,  True,  True,  True,  True,\n",
       "        True,  True,  True,  True,  True,  True,  True,  True,  True,\n",
       "        True,  True,  True,  True,  True,  True,  True,  True,  True,\n",
       "        True,  True,  True,  True,  True,  True,  True,  True,  True,\n",
       "        True,  True,  True,  True,  True,  True,  True,  True,  True,\n",
       "        True,  True,  True,  True,  True,  True,  True,  True,  True,\n",
       "        True,  True,  True,  True,  True,  True,  True,  True,  True,\n",
       "        True,  True,  True,  True,  True,  True,  True,  True,  True,\n",
       "        True,  True,  True,  True,  True,  True,  True,  True,  True,\n",
       "        True,  True,  True,  True,  True,  True,  True,  True,  True,\n",
       "        True,  True,  True,  True,  True,  True,  True,  True,  True,\n",
       "        True,  True,  True,  True,  True,  True,  True,  True,  True,\n",
       "        True,  True,  True,  True,  True,  True,  True,  True,  True,\n",
       "        True,  True,  True,  True,  True,  True,  True,  True,  True,\n",
       "        True,  True,  True,  True,  True,  True,  True,  True,  True,\n",
       "        True,  True,  True,  True,  True,  True,  True,  True,  True,\n",
       "        True,  True,  True,  True,  True,  True,  True,  True,  True,\n",
       "        True,  True,  True,  True,  True,  True,  True,  True,  True,\n",
       "        True,  True,  True,  True,  True,  True,  True,  True,  True,\n",
       "        True,  True,  True,  True,  True,  True,  True,  True,  True,\n",
       "        True,  True,  True,  True,  True,  True,  True,  True,  True,\n",
       "        True,  True,  True,  True,  True,  True,  True,  True,  True,\n",
       "        True,  True,  True,  True,  True,  True,  True,  True,  True,\n",
       "        True,  True,  True,  True,  True,  True,  True,  True,  True,\n",
       "        True,  True,  True,  True,  True,  True,  True,  True,  True,\n",
       "        True,  True,  True,  True,  True,  True,  True,  True,  True,\n",
       "        True,  True,  True,  True,  True,  True,  True,  True,  True,\n",
       "        True,  True,  True,  True,  True,  True,  True,  True,  True,\n",
       "        True,  True,  True,  True,  True,  True,  True,  True,  True,\n",
       "        True,  True,  True,  True,  True,  True,  True,  True,  True,\n",
       "        True,  True,  True,  True,  True,  True,  True,  True,  True,\n",
       "        True,  True,  True,  True,  True,  True,  True,  True,  True,\n",
       "        True,  True,  True,  True,  True,  True,  True,  True,  True,\n",
       "        True,  True,  True,  True,  True,  True,  True,  True,  True,\n",
       "        True,  True,  True,  True,  True,  True,  True,  True,  True,\n",
       "        True,  True,  True,  True,  True,  True,  True,  True,  True,\n",
       "        True,  True,  True,  True,  True,  True,  True,  True,  True,\n",
       "        True,  True,  True,  True,  True,  True,  True,  True,  True,\n",
       "        True,  True,  True,  True,  True,  True,  True,  True,  True,\n",
       "        True,  True,  True,  True,  True,  True,  True,  True,  True,\n",
       "        True,  True,  True,  True,  True,  True,  True,  True,  True,\n",
       "        True,  True,  True,  True,  True,  True,  True,  True,  True,\n",
       "        True,  True,  True,  True,  True,  True,  True,  True,  True,\n",
       "        True,  True,  True,  True,  True,  True,  True,  True,  True,\n",
       "        True,  True,  True,  True,  True,  True,  True,  True,  True,\n",
       "        True,  True,  True,  True,  True,  True,  True,  True,  True,\n",
       "        True,  True,  True,  True,  True,  True,  True,  True,  True,\n",
       "        True,  True,  True,  True,  True,  True,  True,  True,  True,\n",
       "        True,  True,  True,  True,  True,  True,  True,  True,  True,\n",
       "        True,  True,  True,  True,  True,  True,  True,  True,  True,\n",
       "        True,  True,  True,  True,  True,  True,  True,  True,  True,\n",
       "        True,  True,  True,  True,  True,  True,  True,  True,  True,\n",
       "        True,  True,  True,  True,  True,  True,  True,  True,  True,\n",
       "        True,  True,  True,  True,  True,  True,  True,  True,  True,\n",
       "        True,  True,  True,  True,  True,  True,  True,  True,  True,\n",
       "        True,  True,  True,  True,  True,  True,  True,  True,  True,\n",
       "        True,  True,  True,  True,  True,  True,  True,  True,  True,\n",
       "        True,  True,  True,  True,  True,  True,  True,  True,  True,\n",
       "        True,  True,  True,  True,  True,  True,  True,  True,  True,\n",
       "        True,  True,  True,  True,  True,  True,  True,  True,  True,\n",
       "        True,  True,  True,  True,  True,  True,  True,  True,  True,\n",
       "        True,  True,  True,  True,  True,  True,  True,  True,  True,\n",
       "        True,  True,  True,  True,  True,  True,  True,  True,  True,\n",
       "        True,  True,  True,  True,  True,  True,  True,  True,  True,\n",
       "        True,  True,  True,  True,  True,  True,  True,  True,  True,\n",
       "        True,  True,  True,  True,  True,  True,  True,  True,  True,\n",
       "        True,  True,  True,  True,  True,  True,  True,  True,  True,\n",
       "        True,  True,  True,  True,  True,  True,  True,  True,  True,\n",
       "        True,  True,  True,  True,  True,  True,  True,  True,  True,\n",
       "        True,  True,  True,  True,  True,  True,  True,  True,  True,\n",
       "        True,  True,  True,  True,  True,  True,  True,  True,  True,\n",
       "        True,  True,  True,  True,  True,  True,  True,  True,  True,\n",
       "        True,  True,  True,  True,  True,  True,  True,  True,  True,\n",
       "        True])"
      ]
     },
     "execution_count": 67,
     "metadata": {},
     "output_type": "execute_result"
    }
   ],
   "source": [
    "np.abs(c)>=10"
   ]
  },
  {
   "cell_type": "code",
   "execution_count": 70,
   "metadata": {},
   "outputs": [
    {
     "data": {
      "text/plain": [
       "35"
      ]
     },
     "execution_count": 70,
     "metadata": {},
     "output_type": "execute_result"
    }
   ],
   "source": [
    "(np.abs(c)>=10).argmax()"
   ]
  },
  {
   "cell_type": "code",
   "execution_count": null,
   "metadata": {},
   "outputs": [],
   "source": [
    "nwalks=5000\n",
    "nsteps=1000\n",
    "draws=np.random.randint(0,2,size=(nwalks,nsteps))\n",
    "steps=np.where(draws>0,1,-1)\n",
    "walks=steps.cumsum(1)\n",
    "walks"
   ]
  },
  {
   "cell_type": "code",
   "execution_count": 83,
   "metadata": {},
   "outputs": [],
   "source": [
    "nw=10 #nw means kitna row chaye ns mean array ka andar kitna number chaye \n",
    "ns=3\n",
    "a=np.random.randint(0,2,size=(nw,ns))\n",
    "b=np.where(a>0,1,-1)\n"
   ]
  },
  {
   "cell_type": "code",
   "execution_count": 84,
   "metadata": {},
   "outputs": [
    {
     "data": {
      "text/plain": [
       "array([[1, 0, 1],\n",
       "       [1, 1, 1],\n",
       "       [0, 1, 0],\n",
       "       [0, 0, 1],\n",
       "       [1, 0, 0],\n",
       "       [0, 0, 0],\n",
       "       [0, 0, 0],\n",
       "       [1, 1, 1],\n",
       "       [1, 1, 1],\n",
       "       [0, 1, 1]])"
      ]
     },
     "execution_count": 84,
     "metadata": {},
     "output_type": "execute_result"
    }
   ],
   "source": [
    "a"
   ]
  },
  {
   "cell_type": "code",
   "execution_count": 85,
   "metadata": {},
   "outputs": [
    {
     "data": {
      "text/plain": [
       "2"
      ]
     },
     "execution_count": 85,
     "metadata": {},
     "output_type": "execute_result"
    }
   ],
   "source": [
    "a.ndim"
   ]
  },
  {
   "cell_type": "code",
   "execution_count": 86,
   "metadata": {},
   "outputs": [
    {
     "data": {
      "text/plain": [
       "array([[ 1, -1,  1],\n",
       "       [ 1,  1,  1],\n",
       "       [-1,  1, -1],\n",
       "       [-1, -1,  1],\n",
       "       [ 1, -1, -1],\n",
       "       [-1, -1, -1],\n",
       "       [-1, -1, -1],\n",
       "       [ 1,  1,  1],\n",
       "       [ 1,  1,  1],\n",
       "       [-1,  1,  1]])"
      ]
     },
     "execution_count": 86,
     "metadata": {},
     "output_type": "execute_result"
    }
   ],
   "source": [
    "b"
   ]
  },
  {
   "cell_type": "code",
   "execution_count": 88,
   "metadata": {
    "scrolled": true
   },
   "outputs": [
    {
     "data": {
      "text/plain": [
       "array([[ 1, -1,  1],\n",
       "       [ 2,  0,  2],\n",
       "       [ 1,  1,  1],\n",
       "       [ 0,  0,  2],\n",
       "       [ 1, -1,  1],\n",
       "       [ 0, -2,  0],\n",
       "       [-1, -3, -1],\n",
       "       [ 0, -2,  0],\n",
       "       [ 1, -1,  1],\n",
       "       [ 0,  0,  2]], dtype=int32)"
      ]
     },
     "execution_count": 88,
     "metadata": {},
     "output_type": "execute_result"
    }
   ],
   "source": [
    "np.cumsum(b,axis=0) # columns"
   ]
  },
  {
   "cell_type": "code",
   "execution_count": 89,
   "metadata": {},
   "outputs": [
    {
     "data": {
      "text/plain": [
       "array([[ 1,  0,  1],\n",
       "       [ 1,  2,  3],\n",
       "       [-1,  0, -1],\n",
       "       [-1, -2, -1],\n",
       "       [ 1,  0, -1],\n",
       "       [-1, -2, -3],\n",
       "       [-1, -2, -3],\n",
       "       [ 1,  2,  3],\n",
       "       [ 1,  2,  3],\n",
       "       [-1,  0,  1]], dtype=int32)"
      ]
     },
     "execution_count": 89,
     "metadata": {},
     "output_type": "execute_result"
    }
   ],
   "source": [
    "np.cumsum(b,axis=1) #row "
   ]
  },
  {
   "cell_type": "code",
   "execution_count": 91,
   "metadata": {},
   "outputs": [
    {
     "data": {
      "text/plain": [
       "array([[ 1, -1,  1],\n",
       "       [ 1,  1,  1],\n",
       "       [-1,  1, -1],\n",
       "       [-1, -1,  1],\n",
       "       [ 1, -1, -1],\n",
       "       [-1, -1, -1],\n",
       "       [-1, -1, -1],\n",
       "       [ 1,  1,  1],\n",
       "       [ 1,  1,  1],\n",
       "       [-1,  1,  1]])"
      ]
     },
     "execution_count": 91,
     "metadata": {},
     "output_type": "execute_result"
    }
   ],
   "source": [
    "b"
   ]
  },
  {
   "cell_type": "code",
   "execution_count": 92,
   "metadata": {},
   "outputs": [
    {
     "data": {
      "text/plain": [
       "array([[ 1, -1,  1],\n",
       "       [ 2,  0,  2],\n",
       "       [ 1,  1,  1],\n",
       "       [ 0,  0,  2],\n",
       "       [ 1, -1,  1],\n",
       "       [ 0, -2,  0],\n",
       "       [-1, -3, -1],\n",
       "       [ 0, -2,  0],\n",
       "       [ 1, -1,  1],\n",
       "       [ 0,  0,  2]], dtype=int32)"
      ]
     },
     "execution_count": 92,
     "metadata": {},
     "output_type": "execute_result"
    }
   ],
   "source": [
    "b.cumsum(0) #column "
   ]
  },
  {
   "cell_type": "code",
   "execution_count": 99,
   "metadata": {},
   "outputs": [],
   "source": [
    "h=b.cumsum(1) #row"
   ]
  },
  {
   "cell_type": "code",
   "execution_count": 94,
   "metadata": {},
   "outputs": [
    {
     "data": {
      "text/plain": [
       "-1"
      ]
     },
     "execution_count": 94,
     "metadata": {},
     "output_type": "execute_result"
    }
   ],
   "source": [
    "b.min()"
   ]
  },
  {
   "cell_type": "code",
   "execution_count": 95,
   "metadata": {},
   "outputs": [
    {
     "data": {
      "text/plain": [
       "1"
      ]
     },
     "execution_count": 95,
     "metadata": {},
     "output_type": "execute_result"
    }
   ],
   "source": [
    "b.max()"
   ]
  },
  {
   "cell_type": "code",
   "execution_count": 97,
   "metadata": {},
   "outputs": [
    {
     "data": {
      "text/plain": [
       "array([[ 1, -1,  1],\n",
       "       [ 1,  1,  1],\n",
       "       [-1,  1, -1],\n",
       "       [-1, -1,  1],\n",
       "       [ 1, -1, -1],\n",
       "       [-1, -1, -1],\n",
       "       [-1, -1, -1],\n",
       "       [ 1,  1,  1],\n",
       "       [ 1,  1,  1],\n",
       "       [-1,  1,  1]])"
      ]
     },
     "execution_count": 97,
     "metadata": {},
     "output_type": "execute_result"
    }
   ],
   "source": [
    "b"
   ]
  },
  {
   "cell_type": "code",
   "execution_count": 100,
   "metadata": {},
   "outputs": [
    {
     "data": {
      "text/plain": [
       "array([[ 1,  0,  1],\n",
       "       [ 1,  2,  3],\n",
       "       [-1,  0, -1],\n",
       "       [-1, -2, -1],\n",
       "       [ 1,  0, -1],\n",
       "       [-1, -2, -3],\n",
       "       [-1, -2, -3],\n",
       "       [ 1,  2,  3],\n",
       "       [ 1,  2,  3],\n",
       "       [-1,  0,  1]], dtype=int32)"
      ]
     },
     "execution_count": 100,
     "metadata": {},
     "output_type": "execute_result"
    }
   ],
   "source": [
    "h"
   ]
  },
  {
   "cell_type": "code",
   "execution_count": 103,
   "metadata": {},
   "outputs": [],
   "source": [
    "g=np.abs(h)>=2"
   ]
  },
  {
   "cell_type": "code",
   "execution_count": 105,
   "metadata": {},
   "outputs": [
    {
     "data": {
      "text/plain": [
       "array([[False, False, False],\n",
       "       [False,  True,  True],\n",
       "       [False, False, False],\n",
       "       [False,  True, False],\n",
       "       [False, False, False],\n",
       "       [False,  True,  True],\n",
       "       [False,  True,  True],\n",
       "       [False,  True,  True],\n",
       "       [False,  True,  True],\n",
       "       [False, False, False]])"
      ]
     },
     "execution_count": 105,
     "metadata": {},
     "output_type": "execute_result"
    }
   ],
   "source": [
    "g"
   ]
  },
  {
   "cell_type": "code",
   "execution_count": 107,
   "metadata": {},
   "outputs": [
    {
     "data": {
      "text/plain": [
       "array([False,  True,  True])"
      ]
     },
     "execution_count": 107,
     "metadata": {},
     "output_type": "execute_result"
    }
   ],
   "source": [
    "g.any(0) #column "
   ]
  },
  {
   "cell_type": "code",
   "execution_count": 108,
   "metadata": {},
   "outputs": [
    {
     "data": {
      "text/plain": [
       "array([False,  True, False,  True, False,  True,  True,  True,  True,\n",
       "       False])"
      ]
     },
     "execution_count": 108,
     "metadata": {},
     "output_type": "execute_result"
    }
   ],
   "source": [
    "g.any(1) #row any function ya karta ha agar ak bi true hoga tu true aye ga"
   ]
  },
  {
   "cell_type": "code",
   "execution_count": 109,
   "metadata": {},
   "outputs": [
    {
     "data": {
      "text/plain": [
       "11"
      ]
     },
     "execution_count": 109,
     "metadata": {},
     "output_type": "execute_result"
    }
   ],
   "source": [
    "g.sum()"
   ]
  },
  {
   "cell_type": "code",
   "execution_count": 114,
   "metadata": {},
   "outputs": [
    {
     "data": {
      "text/plain": [
       "array([[ 1,  0,  1],\n",
       "       [ 1,  2,  3],\n",
       "       [-1,  0, -1],\n",
       "       [-1, -2, -1],\n",
       "       [ 1,  0, -1],\n",
       "       [-1, -2, -3],\n",
       "       [-1, -2, -3],\n",
       "       [ 1,  2,  3],\n",
       "       [ 1,  2,  3],\n",
       "       [-1,  0,  1]], dtype=int32)"
      ]
     },
     "execution_count": 114,
     "metadata": {},
     "output_type": "execute_result"
    }
   ],
   "source": [
    "h"
   ]
  },
  {
   "cell_type": "code",
   "execution_count": 112,
   "metadata": {},
   "outputs": [
    {
     "data": {
      "text/plain": [
       "array([0, 0, 2], dtype=int32)"
      ]
     },
     "execution_count": 112,
     "metadata": {},
     "output_type": "execute_result"
    }
   ],
   "source": [
    "h.sum(0) #columnn"
   ]
  },
  {
   "cell_type": "code",
   "execution_count": 113,
   "metadata": {},
   "outputs": [
    {
     "data": {
      "text/plain": [
       "array([ 2,  6, -2, -4,  0, -6, -6,  6,  6,  0], dtype=int32)"
      ]
     },
     "execution_count": 113,
     "metadata": {},
     "output_type": "execute_result"
    }
   ],
   "source": [
    "h.sum(1) #row"
   ]
  },
  {
   "cell_type": "code",
   "execution_count": 115,
   "metadata": {},
   "outputs": [
    {
     "data": {
      "text/plain": [
       "array([[ -1,   0,   1, ...,  52,  51,  52],\n",
       "       [  1,   0,  -1, ...,  20,  19,  20],\n",
       "       [ -1,  -2,  -1, ..., -36, -37, -36],\n",
       "       ...,\n",
       "       [  1,   0,  -1, ...,  46,  45,  44],\n",
       "       [  1,   2,   1, ...,   4,   5,   6],\n",
       "       [ -1,  -2,  -1, ...,  46,  47,  46]], dtype=int32)"
      ]
     },
     "execution_count": 115,
     "metadata": {},
     "output_type": "execute_result"
    }
   ],
   "source": [
    "nwalks=5000\n",
    "nsteps=1000\n",
    "draws=np.random.randint(0,2,size=(nwalks,nsteps))\n",
    "steps=np.where(draws>0,1,-1)\n",
    "walks=steps.cumsum(1)\n",
    "walks"
   ]
  },
  {
   "cell_type": "code",
   "execution_count": 116,
   "metadata": {},
   "outputs": [
    {
     "data": {
      "text/plain": [
       "array([[0, 1, 1, ..., 1, 0, 1],\n",
       "       [1, 0, 0, ..., 1, 0, 1],\n",
       "       [0, 0, 1, ..., 1, 0, 1],\n",
       "       ...,\n",
       "       [1, 0, 0, ..., 1, 0, 0],\n",
       "       [1, 1, 0, ..., 0, 1, 1],\n",
       "       [0, 0, 1, ..., 1, 1, 0]])"
      ]
     },
     "execution_count": 116,
     "metadata": {},
     "output_type": "execute_result"
    }
   ],
   "source": [
    "draws"
   ]
  },
  {
   "cell_type": "code",
   "execution_count": 127,
   "metadata": {},
   "outputs": [
    {
     "data": {
      "text/plain": [
       "array([ True,  True,  True, ...,  True, False,  True])"
      ]
     },
     "execution_count": 127,
     "metadata": {},
     "output_type": "execute_result"
    }
   ],
   "source": [
    "hits30=(np.abs(walks)>=30).any(1)\n",
    "hits30"
   ]
  },
  {
   "cell_type": "code",
   "execution_count": 118,
   "metadata": {},
   "outputs": [
    {
     "data": {
      "text/plain": [
       "3365"
      ]
     },
     "execution_count": 118,
     "metadata": {},
     "output_type": "execute_result"
    }
   ],
   "source": [
    "hits30.sum()"
   ]
  },
  {
   "cell_type": "code",
   "execution_count": 122,
   "metadata": {},
   "outputs": [
    {
     "data": {
      "text/plain": [
       "array([905, 787, 221, ..., 307, 227, 625], dtype=int64)"
      ]
     },
     "execution_count": 122,
     "metadata": {},
     "output_type": "execute_result"
    }
   ],
   "source": [
    "crossing_times=(np.abs(walks[hits30])>=30).argmax(1)\n",
    "crossing_times"
   ]
  },
  {
   "cell_type": "code",
   "execution_count": 123,
   "metadata": {},
   "outputs": [
    {
     "data": {
      "text/plain": [
       "array([   0,    0,    0,    0,    0,    0,    0,    0,    0,    0,    0,\n",
       "          0,    0,    0,    0,    0,    0,    0,    0,    0,    0,    0,\n",
       "          0,    0,    0,    0,    0,    0,    0,    0,    0,    0,    0,\n",
       "          0,    0,    0,    0,    0,    0,    0,    0,    0,    0,    0,\n",
       "          0,    0,    0,    0,    0,    0,    0,    0,    0,    0,    0,\n",
       "       2737,    0, 2737, 2737, 2737, 2737,  760,  760,  760,  760,  760,\n",
       "        760,  760,  760,  760,  760,  760,  760,  760,  760,  760,  760,\n",
       "        760,  760,  760,  760,  760,  760,  760,  760,  760,  760,  760,\n",
       "        760,  760,  760,  760,  760,  760,  760,  760,  760,  760,  760,\n",
       "        760,  760,  760,  760,  209,  760,  209,  209,  209,  760,  760,\n",
       "        760,  467,  467,  391,  391,  127,  127,   12,  127,   94,   94,\n",
       "         94,   94,   94,   94,   94,   94,   94,  127,   61,  127,  127,\n",
       "        127,  127,  127,  127,  127,  127,  127,  127,  127,  127,  127,\n",
       "        101,  127,  127,  127,  127,  127,  127,  127,  127,  127,  120,\n",
       "        120,  101,  101,  101,  101,  101,  101,   80,   80,   80,  101,\n",
       "         80,   80,   80,   80,   80,   80,   80,   80,   41,   80,   80,\n",
       "         80,   61,   80,   80,   80,    3,   61,    3,    3,    3,    3,\n",
       "          3,    3,    3,    3,    3,    3,    3,    3,    3,    3,    3,\n",
       "          3,    3,    3,    3,    3,    3,    3,    3,    3,    3,    3,\n",
       "          3,    3,    3,    3,    3,    3,    3,    3,    3,    3,    3,\n",
       "          3,    2,    3,    3,    3,    3,    3,    3,    3,    3,    3,\n",
       "          2,    3,    3,    3,    2,    3,    3,    3,    2,    2,    2,\n",
       "          2,    2,    2,    2,    2,    2,    2,    2,    2,    2,    2,\n",
       "          2,    2,    2,    3,    3,    3,    3,    3,    3,    3,    2,\n",
       "          3,    3,    3,    2,    3,    3,    3,    3,    3,    2,    2,\n",
       "          2,    3,    3,    3,    3,    3,    3,    3,    3,    3,    3,\n",
       "          3,    3,    3,    3,    3,    3,    3,    3,    3,    3,    3,\n",
       "          3,    3,    3,    3,    3,    3,    3,    3,    3,    3,    3,\n",
       "          3,    3,    3,    3,    3,    3,    3,    3,    3,    3,    3,\n",
       "          3,    3,    3,    3,    3,    3,    3,    3,    3,    3,    3,\n",
       "          3,    3,    3,    3,    3,    3,    3,    3,    3,    3,    3,\n",
       "          3,    3,    3,    3,    3,    3,    3,    3,    3,    3,    3,\n",
       "          3,    3,    3,    3,    3,    3,    3,    3,    3,    3,    3,\n",
       "          3,    3,    3,    3,    3,    3,    3,    3,    3,    3,    3,\n",
       "          3,    3,    3,    3,    3,    3,    3,    3,    3,    3,    3,\n",
       "          3,    3,    3,    3,    3,    3,    3,    3,    3,    3,    3,\n",
       "          3,    3,    3,    3,    3,    3,    3,    3,    3,    3,    3,\n",
       "          3,    3,    3,    3,    3,    3,    3,    3,    3,    3,    3,\n",
       "          3,    3,    3,    3,    3,    3,    3,    3,    3,    3,    3,\n",
       "          3,    3,    3,    3,    3,    3,    3,    3,    3,    3,    3,\n",
       "          3,    3,    3,    3,    3,    3,    3,    3,    3,    3,    3,\n",
       "          3,    3,    3,    3,    3,    3,    3,    3,    3,    3,    3,\n",
       "          3,    3,    3,    3,    3,    3,    3,    3,    3,    3,    3,\n",
       "          3,    3,    3,    3,    3,    3,    3,    3,    3,    3,    3,\n",
       "          3,    3,    3,    3,    3,    3,    3,    3,    3,    3,    3,\n",
       "          3,    3,    3,    3,    3,    3,    3,    3,    3,    3,    3,\n",
       "          3,    3,    3,    3,    3,    3,    3,    3,    3,    3,    3,\n",
       "          3,    3,    3,    3,    3,    3,    3,    5,    5,    5,    5,\n",
       "          5,    5,    5,    5,    5,    5,    5,    5,    5,    5,    5,\n",
       "          5,    5,    5,    5,    3,    5,    3,    5,    3,    5,    3,\n",
       "          5,    5,    5,    5,    5,    5,    5,    5,    8,    8,    8,\n",
       "          5,    5,    5,   10,   10,   10,    8,    8,    8,    8,    8,\n",
       "          8,    8,    8,    8,    8,    8,    8,    8,    8,    8,    8,\n",
       "          8,    8,    8,    8,    5,    8,    3,    8,    3,   10,    8,\n",
       "          8,    5,    5,    5,    8,    8,    8,    8,    8,    8,    8,\n",
       "          8,    8,    8,    8,    8,    8,    8,    8,    4,    4,    4,\n",
       "          4,    4,    4,    4,    4,    4,    4,    3,    3,    3,    3,\n",
       "          3,    3,    3,    3,    3,    3,    3,    3,    3,    4,    4,\n",
       "          4,    4,    4,    4,    4,    4,    4,    3,    3,    3,    3,\n",
       "          3,    3,    3,    3,    3,    3,    3,    3,    3,    3,    3,\n",
       "          3,    3,    4,    3,    3,    3,    4,    3,    4,    3,    4,\n",
       "          4,    4,    3,    4,    4,    4,    4,    4,    4,    4,    4,\n",
       "          4,    4,    4,    4,    4,    4,    4,    4,    4,    4,    4,\n",
       "          4,    4,    4,    4,    4,    4,    4,    4,    4,    4,    4,\n",
       "          4,    4,    4,    4,    4,    4,    4,    4,    4,    4,    4,\n",
       "          4,    4,    4,    4,    4,    4,    4,    4,    4,    4,    4,\n",
       "          4,    4,    4,    3,    4,    3,    4,    3,    4,    3,    4,\n",
       "          4,    4,    4,    4,    4,    4,    3,    4,    4,    4,    3,\n",
       "          3,    3,    3,    3,    3,    3,    3,    3,    3,    3,    3,\n",
       "          3,    3,    2,    3,    3,    3,    3,    3,    3,    3,    3,\n",
       "          3,    3,    3,    3,    3,    3,    3,    3,    3,    3,    3,\n",
       "          3,    3,    3,    3,    3,    3,    1,    1,    1,    3,    3,\n",
       "          3,    3,    3,    3,    3,    3,    3,    3,    3,    3,    3,\n",
       "          3,    3,    3,    3,    3,    4,    4,    4,    3,    4,    3,\n",
       "          4,    4,    4,    3,    3,    3,    3,    3,    3,    3,    3,\n",
       "          3,    3,    3,    3,    3,    4,    3,    4,    3,    3,    3,\n",
       "          4,    3,    4,    4,    4,    4,    4,    3,    3,    3,    3,\n",
       "          3,    3,    3,    3,    3,    3,    3,    4,    4,    4,    3,\n",
       "          3,    3,    4,    3,    3,    3,    3,    3,    3,    3,    4,\n",
       "          3,    4,    3,    3,    3,    3,    3,    3,    3,    3,    3,\n",
       "          3,    3,    3,    2,    2,    2,    3,    3,    3,    3,    3,\n",
       "          3,    3,    2,    2,    2,    3,    3,    3,    2,    2,    2,\n",
       "          2,    2,    2,    0,    0,    0,    0,    0,    0,    0,    0,\n",
       "          0,    0,    0,    0,    0,    0,    0,    0,    0,    0,    0,\n",
       "          0,    0,    0,    0,    0,    0,    0,    0,    0,    0,    0,\n",
       "          0,    0,    0,    0,    0,    0,    0,    0,    0,    0,    0,\n",
       "          0,    0,    0,    0,    0,    0,    0,    0,    0,    0,    0,\n",
       "          0,    0,    0,    0,    0,    0,    0,    0,    0,    0,    0,\n",
       "          0,    0,    0,    0,    0,    0,    0,    0,    0,    0,    0,\n",
       "          0,    0,    0,    0,    0,    0,    0,    0,    0,    0,    0,\n",
       "          0,    0,    0,    0,    0,    0,    0,    0,    0,    0],\n",
       "      dtype=int64)"
      ]
     },
     "execution_count": 123,
     "metadata": {},
     "output_type": "execute_result"
    }
   ],
   "source": [
    "crossing_times=(np.abs(walks[hits30])>=30).argmax(0)\n",
    "crossing_times"
   ]
  },
  {
   "cell_type": "code",
   "execution_count": 128,
   "metadata": {},
   "outputs": [],
   "source": [
    "nwalks=10\n",
    "nsteps=3\n",
    "draws=np.random.randint(0,2,size=(nwalks,nsteps))\n",
    "steps=np.where(draws>0,1,-1)\n"
   ]
  },
  {
   "cell_type": "code",
   "execution_count": 129,
   "metadata": {},
   "outputs": [
    {
     "data": {
      "text/plain": [
       "array([[ 1, -1, -1],\n",
       "       [ 1,  1, -1],\n",
       "       [ 1,  1, -1],\n",
       "       [-1,  1, -1],\n",
       "       [-1, -1, -1],\n",
       "       [ 1,  1, -1],\n",
       "       [ 1, -1,  1],\n",
       "       [ 1, -1, -1],\n",
       "       [ 1,  1, -1],\n",
       "       [ 1, -1, -1]])"
      ]
     },
     "execution_count": 129,
     "metadata": {},
     "output_type": "execute_result"
    }
   ],
   "source": [
    "steps"
   ]
  },
  {
   "cell_type": "code",
   "execution_count": 130,
   "metadata": {},
   "outputs": [
    {
     "data": {
      "text/plain": [
       "array([[ 1,  0, -1],\n",
       "       [ 1,  2,  1],\n",
       "       [ 1,  2,  1],\n",
       "       [-1,  0, -1],\n",
       "       [-1, -2, -3],\n",
       "       [ 1,  2,  1],\n",
       "       [ 1,  0,  1],\n",
       "       [ 1,  0, -1],\n",
       "       [ 1,  2,  1],\n",
       "       [ 1,  0, -1]], dtype=int32)"
      ]
     },
     "execution_count": 130,
     "metadata": {},
     "output_type": "execute_result"
    }
   ],
   "source": [
    "\n",
    "walks=steps.cumsum(1)\n",
    "walks"
   ]
  },
  {
   "cell_type": "code",
   "execution_count": 131,
   "metadata": {},
   "outputs": [
    {
     "data": {
      "text/plain": [
       "-3"
      ]
     },
     "execution_count": 131,
     "metadata": {},
     "output_type": "execute_result"
    }
   ],
   "source": [
    "walks.min()"
   ]
  },
  {
   "cell_type": "code",
   "execution_count": 132,
   "metadata": {},
   "outputs": [
    {
     "data": {
      "text/plain": [
       "2"
      ]
     },
     "execution_count": 132,
     "metadata": {},
     "output_type": "execute_result"
    }
   ],
   "source": [
    "walks.max()"
   ]
  },
  {
   "cell_type": "code",
   "execution_count": 134,
   "metadata": {},
   "outputs": [
    {
     "data": {
      "text/plain": [
       "array([[False, False, False],\n",
       "       [False, False, False],\n",
       "       [False, False, False],\n",
       "       [False, False, False],\n",
       "       [False, False,  True],\n",
       "       [False, False, False],\n",
       "       [False, False, False],\n",
       "       [False, False, False],\n",
       "       [False, False, False],\n",
       "       [False, False, False]])"
      ]
     },
     "execution_count": 134,
     "metadata": {},
     "output_type": "execute_result"
    }
   ],
   "source": [
    "np.abs(walks)>2"
   ]
  },
  {
   "cell_type": "code",
   "execution_count": 149,
   "metadata": {},
   "outputs": [],
   "source": [
    "hits30=(np.abs(walks)>2).any(1) #row abs - ko + kardata ha simple "
   ]
  },
  {
   "cell_type": "code",
   "execution_count": 150,
   "metadata": {},
   "outputs": [
    {
     "data": {
      "text/plain": [
       "array([False, False, False, False,  True, False, False, False, False,\n",
       "       False])"
      ]
     },
     "execution_count": 150,
     "metadata": {},
     "output_type": "execute_result"
    }
   ],
   "source": [
    "hits30"
   ]
  },
  {
   "cell_type": "code",
   "execution_count": 151,
   "metadata": {},
   "outputs": [
    {
     "data": {
      "text/plain": [
       "array([0, 0, 0, 0, 2, 0, 0, 0, 0, 0], dtype=int64)"
      ]
     },
     "execution_count": 151,
     "metadata": {},
     "output_type": "execute_result"
    }
   ],
   "source": [
    "hit30=(np.abs(walks)>2).argmax(1)\n",
    "hit30"
   ]
  },
  {
   "cell_type": "code",
   "execution_count": 152,
   "metadata": {},
   "outputs": [],
   "source": [
    "crosstime=(np.abs(walks[hits30])).argmax(1)"
   ]
  },
  {
   "cell_type": "code",
   "execution_count": 153,
   "metadata": {},
   "outputs": [
    {
     "data": {
      "text/plain": [
       "array([2], dtype=int64)"
      ]
     },
     "execution_count": 153,
     "metadata": {},
     "output_type": "execute_result"
    }
   ],
   "source": [
    "crosstime"
   ]
  },
  {
   "cell_type": "code",
   "execution_count": 154,
   "metadata": {},
   "outputs": [
    {
     "data": {
      "text/plain": [
       "4"
      ]
     },
     "execution_count": 154,
     "metadata": {},
     "output_type": "execute_result"
    }
   ],
   "source": [
    "hits30.argmax()"
   ]
  },
  {
   "cell_type": "code",
   "execution_count": 155,
   "metadata": {},
   "outputs": [
    {
     "data": {
      "text/plain": [
       "2.0"
      ]
     },
     "execution_count": 155,
     "metadata": {},
     "output_type": "execute_result"
    }
   ],
   "source": [
    "crosstime.mean()"
   ]
  },
  {
   "cell_type": "code",
   "execution_count": 156,
   "metadata": {},
   "outputs": [
    {
     "data": {
      "text/plain": [
       "array([[ 1,  0, -1],\n",
       "       [ 1,  2,  1],\n",
       "       [ 1,  2,  1],\n",
       "       [-1,  0, -1],\n",
       "       [-1, -2, -3],\n",
       "       [ 1,  2,  1],\n",
       "       [ 1,  0,  1],\n",
       "       [ 1,  0, -1],\n",
       "       [ 1,  2,  1],\n",
       "       [ 1,  0, -1]], dtype=int32)"
      ]
     },
     "execution_count": 156,
     "metadata": {},
     "output_type": "execute_result"
    }
   ],
   "source": [
    "walks"
   ]
  },
  {
   "cell_type": "code",
   "execution_count": 158,
   "metadata": {},
   "outputs": [
    {
     "data": {
      "text/plain": [
       "array([False, False, False, False,  True, False, False, False, False,\n",
       "       False])"
      ]
     },
     "execution_count": 158,
     "metadata": {},
     "output_type": "execute_result"
    }
   ],
   "source": [
    "hits30"
   ]
  },
  {
   "cell_type": "code",
   "execution_count": 157,
   "metadata": {},
   "outputs": [
    {
     "data": {
      "text/plain": [
       "array([[-1, -2, -3]], dtype=int32)"
      ]
     },
     "execution_count": 157,
     "metadata": {},
     "output_type": "execute_result"
    }
   ],
   "source": [
    "walks[hits30]"
   ]
  },
  {
   "cell_type": "markdown",
   "metadata": {},
   "source": [
    "# APPENDIX"
   ]
  },
  {
   "cell_type": "code",
   "execution_count": 2,
   "metadata": {},
   "outputs": [
    {
     "data": {
      "text/plain": [
       "array([[[1., 1., 1., 1., 1.],\n",
       "        [1., 1., 1., 1., 1.],\n",
       "        [1., 1., 1., 1., 1.],\n",
       "        [1., 1., 1., 1., 1.]],\n",
       "\n",
       "       [[1., 1., 1., 1., 1.],\n",
       "        [1., 1., 1., 1., 1.],\n",
       "        [1., 1., 1., 1., 1.],\n",
       "        [1., 1., 1., 1., 1.]],\n",
       "\n",
       "       [[1., 1., 1., 1., 1.],\n",
       "        [1., 1., 1., 1., 1.],\n",
       "        [1., 1., 1., 1., 1.],\n",
       "        [1., 1., 1., 1., 1.]]])"
      ]
     },
     "execution_count": 2,
     "metadata": {},
     "output_type": "execute_result"
    }
   ],
   "source": [
    "np.ones((3,4,5),dtype=np.float64)"
   ]
  },
  {
   "cell_type": "code",
   "execution_count": 3,
   "metadata": {},
   "outputs": [
    {
     "data": {
      "text/plain": [
       "(160, 40, 8)"
      ]
     },
     "execution_count": 3,
     "metadata": {},
     "output_type": "execute_result"
    }
   ],
   "source": [
    "np.ones((3,4,5),dtype=np.float64).strides\n",
    "#The strides of an array tell us how many bytes we have to skip in memory to move to the next position along a certain axis. For example, we have to skip 4 bytes (1 value) to move to the next column, but 20 bytes (5 values) to get to the same position in the next row."
   ]
  },
  {
   "cell_type": "code",
   "execution_count": 7,
   "metadata": {},
   "outputs": [],
   "source": [
    "ints=np.ones((10),dtype=np.uint16)\n",
    "floats=np.ones((10),dtype=np.float64)"
   ]
  },
  {
   "cell_type": "code",
   "execution_count": 8,
   "metadata": {},
   "outputs": [
    {
     "data": {
      "text/plain": [
       "True"
      ]
     },
     "execution_count": 8,
     "metadata": {},
     "output_type": "execute_result"
    }
   ],
   "source": [
    "np.issubdtype(ints.dtype,np.integer)"
   ]
  },
  {
   "cell_type": "code",
   "execution_count": 9,
   "metadata": {},
   "outputs": [
    {
     "data": {
      "text/plain": [
       "False"
      ]
     },
     "execution_count": 9,
     "metadata": {},
     "output_type": "execute_result"
    }
   ],
   "source": [
    "np.issubdtype(ints.dtype,np.float64)"
   ]
  },
  {
   "cell_type": "code",
   "execution_count": 14,
   "metadata": {},
   "outputs": [
    {
     "data": {
      "text/plain": [
       "True"
      ]
     },
     "execution_count": 14,
     "metadata": {},
     "output_type": "execute_result"
    }
   ],
   "source": [
    "np.issubdtype(floats.dtype,np.float64)"
   ]
  },
  {
   "cell_type": "code",
   "execution_count": 15,
   "metadata": {},
   "outputs": [
    {
     "data": {
      "text/plain": [
       "False"
      ]
     },
     "execution_count": 15,
     "metadata": {},
     "output_type": "execute_result"
    }
   ],
   "source": [
    "np.issubdtype(floats.dtype,np.float32) #32 pa false isliye aya q ka jab array create kara tu 64 data type thi humna 32 sa kiya isliye error aya"
   ]
  },
  {
   "cell_type": "code",
   "execution_count": 16,
   "metadata": {},
   "outputs": [
    {
     "data": {
      "text/plain": [
       "[float, object]"
      ]
     },
     "execution_count": 16,
     "metadata": {},
     "output_type": "execute_result"
    }
   ],
   "source": [
    "np.float.mro()"
   ]
  },
  {
   "cell_type": "code",
   "execution_count": 169,
   "metadata": {},
   "outputs": [
    {
     "data": {
      "text/plain": [
       "[numpy.float64,\n",
       " numpy.floating,\n",
       " numpy.inexact,\n",
       " numpy.number,\n",
       " numpy.generic,\n",
       " float,\n",
       " object]"
      ]
     },
     "execution_count": 169,
     "metadata": {},
     "output_type": "execute_result"
    }
   ],
   "source": [
    "np.float64.mro()"
   ]
  },
  {
   "cell_type": "code",
   "execution_count": 19,
   "metadata": {},
   "outputs": [
    {
     "data": {
      "text/plain": [
       "[numpy.uint64,\n",
       " numpy.unsignedinteger,\n",
       " numpy.integer,\n",
       " numpy.number,\n",
       " numpy.generic,\n",
       " object]"
      ]
     },
     "execution_count": 19,
     "metadata": {},
     "output_type": "execute_result"
    }
   ],
   "source": [
    "np.uint64.mro()"
   ]
  },
  {
   "cell_type": "code",
   "execution_count": 20,
   "metadata": {},
   "outputs": [
    {
     "data": {
      "text/plain": [
       "True"
      ]
     },
     "execution_count": 20,
     "metadata": {},
     "output_type": "execute_result"
    }
   ],
   "source": [
    "np.issubdtype(ints.dtype,np.number)"
   ]
  },
  {
   "cell_type": "code",
   "execution_count": 21,
   "metadata": {},
   "outputs": [
    {
     "data": {
      "text/plain": [
       "True"
      ]
     },
     "execution_count": 21,
     "metadata": {},
     "output_type": "execute_result"
    }
   ],
   "source": [
    "np.issubdtype(floats.dtype,np.generic)"
   ]
  },
  {
   "cell_type": "code",
   "execution_count": 22,
   "metadata": {},
   "outputs": [
    {
     "data": {
      "text/plain": [
       "array([0, 1, 2, 3, 4, 5, 6, 7])"
      ]
     },
     "execution_count": 22,
     "metadata": {},
     "output_type": "execute_result"
    }
   ],
   "source": [
    "arr=np.arange(8)\n",
    "arr"
   ]
  },
  {
   "cell_type": "code",
   "execution_count": 23,
   "metadata": {},
   "outputs": [
    {
     "data": {
      "text/plain": [
       "array([[0, 1],\n",
       "       [2, 3],\n",
       "       [4, 5],\n",
       "       [6, 7]])"
      ]
     },
     "execution_count": 23,
     "metadata": {},
     "output_type": "execute_result"
    }
   ],
   "source": [
    "arr.reshape(4,2)"
   ]
  },
  {
   "cell_type": "code",
   "execution_count": 25,
   "metadata": {},
   "outputs": [
    {
     "data": {
      "text/plain": [
       "array([[0, 1, 2, 3],\n",
       "       [4, 5, 6, 7]])"
      ]
     },
     "execution_count": 25,
     "metadata": {},
     "output_type": "execute_result"
    }
   ],
   "source": [
    "arr.reshape(2,4)"
   ]
  },
  {
   "cell_type": "code",
   "execution_count": 26,
   "metadata": {},
   "outputs": [
    {
     "data": {
      "text/plain": [
       "array([ 0,  1,  2,  3,  4,  5,  6,  7,  8,  9, 10, 11, 12, 13, 14])"
      ]
     },
     "execution_count": 26,
     "metadata": {},
     "output_type": "execute_result"
    }
   ],
   "source": [
    "arr=np.arange(15)\n",
    "arr"
   ]
  },
  {
   "cell_type": "code",
   "execution_count": 27,
   "metadata": {},
   "outputs": [
    {
     "data": {
      "text/plain": [
       "array([[ 0,  1,  2,  3,  4],\n",
       "       [ 5,  6,  7,  8,  9],\n",
       "       [10, 11, 12, 13, 14]])"
      ]
     },
     "execution_count": 27,
     "metadata": {},
     "output_type": "execute_result"
    }
   ],
   "source": [
    "arr.reshape(3,5)"
   ]
  },
  {
   "cell_type": "code",
   "execution_count": 42,
   "metadata": {},
   "outputs": [],
   "source": [
    "arr=arr.reshape(5,3)"
   ]
  },
  {
   "cell_type": "code",
   "execution_count": 38,
   "metadata": {},
   "outputs": [
    {
     "data": {
      "text/plain": [
       "2"
      ]
     },
     "execution_count": 38,
     "metadata": {},
     "output_type": "execute_result"
    }
   ],
   "source": [
    "o=np.ones((3,5))\n",
    "o.shape\n"
   ]
  },
  {
   "cell_type": "code",
   "execution_count": 48,
   "metadata": {},
   "outputs": [
    {
     "data": {
      "text/plain": [
       "array([[ 0,  1,  2],\n",
       "       [ 3,  4,  5],\n",
       "       [ 6,  7,  8],\n",
       "       [ 9, 10, 11],\n",
       "       [12, 13, 14]])"
      ]
     },
     "execution_count": 48,
     "metadata": {},
     "output_type": "execute_result"
    }
   ],
   "source": [
    "arr"
   ]
  },
  {
   "cell_type": "code",
   "execution_count": 47,
   "metadata": {},
   "outputs": [
    {
     "data": {
      "text/plain": [
       "array([[1., 1., 1.],\n",
       "       [1., 1., 1.],\n",
       "       [1., 1., 1.],\n",
       "       [1., 1., 1.],\n",
       "       [1., 1., 1.]])"
      ]
     },
     "execution_count": 47,
     "metadata": {},
     "output_type": "execute_result"
    }
   ],
   "source": [
    "o.reshape(arr.shape)"
   ]
  },
  {
   "cell_type": "code",
   "execution_count": 49,
   "metadata": {},
   "outputs": [
    {
     "data": {
      "text/plain": [
       "array([ 0,  1,  2,  3,  4,  5,  6,  7,  8,  9, 10, 11, 12, 13, 14])"
      ]
     },
     "execution_count": 49,
     "metadata": {},
     "output_type": "execute_result"
    }
   ],
   "source": [
    "arr.flatten() #flatten uski reshape ko single line pa la aye ga ya in memory nhi hoga change"
   ]
  },
  {
   "cell_type": "code",
   "execution_count": 50,
   "metadata": {},
   "outputs": [
    {
     "data": {
      "text/plain": [
       "array([[ 0,  1,  2],\n",
       "       [ 3,  4,  5],\n",
       "       [ 6,  7,  8],\n",
       "       [ 9, 10, 11],\n",
       "       [12, 13, 14]])"
      ]
     },
     "execution_count": 50,
     "metadata": {},
     "output_type": "execute_result"
    }
   ],
   "source": [
    "arr"
   ]
  },
  {
   "cell_type": "code",
   "execution_count": 51,
   "metadata": {},
   "outputs": [
    {
     "data": {
      "text/plain": [
       "array([ 0,  1,  2,  3,  4,  5,  6,  7,  8,  9, 10, 11, 12, 13, 14])"
      ]
     },
     "execution_count": 51,
     "metadata": {},
     "output_type": "execute_result"
    }
   ],
   "source": [
    "arr.ravel()   #ravel uski reshape ko single line pa la aye ga ya in memory nhi hoga change"
   ]
  },
  {
   "cell_type": "code",
   "execution_count": 52,
   "metadata": {},
   "outputs": [
    {
     "data": {
      "text/plain": [
       "array([[ 0,  1,  2],\n",
       "       [ 3,  4,  5],\n",
       "       [ 6,  7,  8],\n",
       "       [ 9, 10, 11],\n",
       "       [12, 13, 14]])"
      ]
     },
     "execution_count": 52,
     "metadata": {},
     "output_type": "execute_result"
    }
   ],
   "source": [
    "arr"
   ]
  },
  {
   "cell_type": "code",
   "execution_count": 53,
   "metadata": {},
   "outputs": [
    {
     "data": {
      "text/plain": [
       "array([[ 0,  1,  2],\n",
       "       [ 3,  4,  5],\n",
       "       [ 6,  7,  8],\n",
       "       [ 9, 10, 11],\n",
       "       [12, 13, 14]])"
      ]
     },
     "execution_count": 53,
     "metadata": {},
     "output_type": "execute_result"
    }
   ],
   "source": [
    "arr=np.arange(15).reshape(5,3)\n",
    "arr"
   ]
  },
  {
   "cell_type": "code",
   "execution_count": 55,
   "metadata": {},
   "outputs": [
    {
     "data": {
      "text/plain": [
       "array([ 0,  1,  2,  3,  4,  5,  6,  7,  8,  9, 10, 11, 12, 13, 14])"
      ]
     },
     "execution_count": 55,
     "metadata": {},
     "output_type": "execute_result"
    }
   ],
   "source": [
    "arr.ravel()"
   ]
  },
  {
   "cell_type": "code",
   "execution_count": 56,
   "metadata": {},
   "outputs": [
    {
     "data": {
      "text/plain": [
       "array([ 0,  3,  6,  9, 12,  1,  4,  7, 10, 13,  2,  5,  8, 11, 14])"
      ]
     },
     "execution_count": 56,
     "metadata": {},
     "output_type": "execute_result"
    }
   ],
   "source": [
    "arr.ravel('f')    #Traverse higher dimensions last (e.g., axis 0 before advancing on axis 1).\n",
    "# is ma simple ya samjo ka 1 column ki value phala laye ga phr dosra ki"
   ]
  },
  {
   "cell_type": "code",
   "execution_count": 57,
   "metadata": {},
   "outputs": [
    {
     "data": {
      "text/plain": [
       "array([ 0,  1,  2,  3,  4,  5,  6,  7,  8,  9, 10, 11, 12, 13, 14])"
      ]
     },
     "execution_count": 57,
     "metadata": {},
     "output_type": "execute_result"
    }
   ],
   "source": [
    "arr.ravel('c') #Traverse higher dimensions first (e.g., axis 1 before advancing on axis 0)\n",
    "# is ma ya samjo ka 1 row ki value phala laye ga"
   ]
  },
  {
   "cell_type": "code",
   "execution_count": 58,
   "metadata": {},
   "outputs": [
    {
     "data": {
      "text/plain": [
       "array([ 0,  1,  2,  3,  4,  5,  6,  7,  8,  9, 10, 11, 12, 13, 14])"
      ]
     },
     "execution_count": 58,
     "metadata": {},
     "output_type": "execute_result"
    }
   ],
   "source": [
    "arr.ravel('a')"
   ]
  },
  {
   "cell_type": "code",
   "execution_count": 60,
   "metadata": {},
   "outputs": [
    {
     "data": {
      "text/plain": [
       "array([ 0,  1,  2,  3,  4,  5,  6,  7,  8,  9, 10, 11, 12, 13, 14])"
      ]
     },
     "execution_count": 60,
     "metadata": {},
     "output_type": "execute_result"
    }
   ],
   "source": [
    "arr.ravel('k')"
   ]
  },
  {
   "cell_type": "code",
   "execution_count": 61,
   "metadata": {},
   "outputs": [
    {
     "data": {
      "text/plain": [
       "array([[0, 1, 2],\n",
       "       [3, 4, 5]])"
      ]
     },
     "execution_count": 61,
     "metadata": {},
     "output_type": "execute_result"
    }
   ],
   "source": [
    "arr1=np.arange(6).reshape(2,3)\n",
    "arr1"
   ]
  },
  {
   "cell_type": "code",
   "execution_count": 62,
   "metadata": {},
   "outputs": [
    {
     "data": {
      "text/plain": [
       "array([[ 7,  8,  9],\n",
       "       [10, 11, 12]])"
      ]
     },
     "execution_count": 62,
     "metadata": {},
     "output_type": "execute_result"
    }
   ],
   "source": [
    "arr2=np.arange(7,13).reshape(2,3)\n",
    "arr2"
   ]
  },
  {
   "cell_type": "code",
   "execution_count": 68,
   "metadata": {},
   "outputs": [
    {
     "data": {
      "text/plain": [
       "array([[ 0,  1,  2],\n",
       "       [ 3,  4,  5],\n",
       "       [ 7,  8,  9],\n",
       "       [10, 11, 12]])"
      ]
     },
     "execution_count": 68,
     "metadata": {},
     "output_type": "execute_result"
    }
   ],
   "source": [
    "np.concatenate([arr1,arr2],axis=0) #vertically karaga "
   ]
  },
  {
   "cell_type": "code",
   "execution_count": 70,
   "metadata": {},
   "outputs": [
    {
     "data": {
      "text/plain": [
       "array([[ 0,  1,  2,  7,  8,  9],\n",
       "       [ 3,  4,  5, 10, 11, 12]])"
      ]
     },
     "execution_count": 70,
     "metadata": {},
     "output_type": "execute_result"
    }
   ],
   "source": [
    "np.concatenate((arr1,arr2),axis=1) #horizontally kra ga"
   ]
  },
  {
   "cell_type": "code",
   "execution_count": 72,
   "metadata": {},
   "outputs": [
    {
     "data": {
      "text/plain": [
       "array([[ 0,  1,  2],\n",
       "       [ 3,  4,  5],\n",
       "       [ 7,  8,  9],\n",
       "       [10, 11, 12]])"
      ]
     },
     "execution_count": 72,
     "metadata": {},
     "output_type": "execute_result"
    }
   ],
   "source": [
    "np.vstack([arr1,arr2]) #vertically stack"
   ]
  },
  {
   "cell_type": "code",
   "execution_count": 73,
   "metadata": {},
   "outputs": [
    {
     "data": {
      "text/plain": [
       "array([[ 0,  1,  2,  7,  8,  9],\n",
       "       [ 3,  4,  5, 10, 11, 12]])"
      ]
     },
     "execution_count": 73,
     "metadata": {},
     "output_type": "execute_result"
    }
   ],
   "source": [
    "np.hstack([arr1,arr2]) #horizontal stack"
   ]
  },
  {
   "cell_type": "code",
   "execution_count": 74,
   "metadata": {},
   "outputs": [
    {
     "data": {
      "text/plain": [
       "array([[ 0,  1,  2,  7,  8,  9],\n",
       "       [ 3,  4,  5, 10, 11, 12]])"
      ]
     },
     "execution_count": 74,
     "metadata": {},
     "output_type": "execute_result"
    }
   ],
   "source": [
    "np.column_stack((arr1,arr2)) #horizontal "
   ]
  },
  {
   "cell_type": "code",
   "execution_count": 75,
   "metadata": {},
   "outputs": [
    {
     "data": {
      "text/plain": [
       "array([[[ 0,  7],\n",
       "        [ 1,  8],\n",
       "        [ 2,  9]],\n",
       "\n",
       "       [[ 3, 10],\n",
       "        [ 4, 11],\n",
       "        [ 5, 12]]])"
      ]
     },
     "execution_count": 75,
     "metadata": {},
     "output_type": "execute_result"
    }
   ],
   "source": [
    "np.dstack((arr1,arr2)) #is ma result 3 dimentional matrix ma aye ga \n",
    "# is ma simple hoa ka apka complete ak array ko column bana diya ha"
   ]
  },
  {
   "cell_type": "code",
   "execution_count": 76,
   "metadata": {},
   "outputs": [
    {
     "data": {
      "text/plain": [
       "array([[-0.28182627, -0.12910694],\n",
       "       [ 0.4022237 , -0.46570926],\n",
       "       [ 0.91611519,  0.10471937],\n",
       "       [ 0.60246011,  0.81908409],\n",
       "       [ 0.67290424,  0.11246347]])"
      ]
     },
     "execution_count": 76,
     "metadata": {},
     "output_type": "execute_result"
    }
   ],
   "source": [
    "arr=np.random.randn(5,2)\n",
    "\n",
    "arr"
   ]
  },
  {
   "cell_type": "code",
   "execution_count": 111,
   "metadata": {},
   "outputs": [],
   "source": [
    "f,s,t=np.split(arr,[1,3]) #The value [1, 3] passed to np.split indicate the indices at which to split the array\n",
    "into pieces"
   ]
  },
  {
   "cell_type": "code",
   "execution_count": 112,
   "metadata": {},
   "outputs": [
    {
     "data": {
      "text/plain": [
       "array([[-0.28182627, -0.12910694]])"
      ]
     },
     "execution_count": 112,
     "metadata": {},
     "output_type": "execute_result"
    }
   ],
   "source": [
    "f"
   ]
  },
  {
   "cell_type": "code",
   "execution_count": 113,
   "metadata": {},
   "outputs": [
    {
     "data": {
      "text/plain": [
       "array([[ 0.4022237 , -0.46570926],\n",
       "       [ 0.91611519,  0.10471937]])"
      ]
     },
     "execution_count": 113,
     "metadata": {},
     "output_type": "execute_result"
    }
   ],
   "source": [
    "s"
   ]
  },
  {
   "cell_type": "code",
   "execution_count": 114,
   "metadata": {},
   "outputs": [
    {
     "data": {
      "text/plain": [
       "array([[0.60246011, 0.81908409],\n",
       "       [0.67290424, 0.11246347]])"
      ]
     },
     "execution_count": 114,
     "metadata": {},
     "output_type": "execute_result"
    }
   ],
   "source": [
    "t"
   ]
  },
  {
   "cell_type": "code",
   "execution_count": 115,
   "metadata": {},
   "outputs": [
    {
     "data": {
      "text/plain": [
       "array([[-0.28182627, -0.12910694]])"
      ]
     },
     "execution_count": 115,
     "metadata": {},
     "output_type": "execute_result"
    }
   ],
   "source": [
    "first,second,third=np.vsplit(arr,[1,3])\n",
    "first"
   ]
  },
  {
   "cell_type": "code",
   "execution_count": 116,
   "metadata": {},
   "outputs": [
    {
     "data": {
      "text/plain": [
       "array([[ 0.4022237 , -0.46570926],\n",
       "       [ 0.91611519,  0.10471937]])"
      ]
     },
     "execution_count": 116,
     "metadata": {},
     "output_type": "execute_result"
    }
   ],
   "source": [
    "second"
   ]
  },
  {
   "cell_type": "code",
   "execution_count": 117,
   "metadata": {},
   "outputs": [
    {
     "data": {
      "text/plain": [
       "array([[0.60246011, 0.81908409],\n",
       "       [0.67290424, 0.11246347]])"
      ]
     },
     "execution_count": 117,
     "metadata": {},
     "output_type": "execute_result"
    }
   ],
   "source": [
    "third"
   ]
  },
  {
   "cell_type": "code",
   "execution_count": 126,
   "metadata": {},
   "outputs": [
    {
     "data": {
      "text/plain": [
       "array([[-0.28182627],\n",
       "       [ 0.4022237 ],\n",
       "       [ 0.91611519],\n",
       "       [ 0.60246011],\n",
       "       [ 0.67290424]])"
      ]
     },
     "execution_count": 126,
     "metadata": {},
     "output_type": "execute_result"
    }
   ],
   "source": [
    "first,second,third=np.hsplit(arr,[1,2])\n",
    "first"
   ]
  },
  {
   "cell_type": "code",
   "execution_count": 127,
   "metadata": {},
   "outputs": [
    {
     "data": {
      "text/plain": [
       "array([[-0.12910694],\n",
       "       [-0.46570926],\n",
       "       [ 0.10471937],\n",
       "       [ 0.81908409],\n",
       "       [ 0.11246347]])"
      ]
     },
     "execution_count": 127,
     "metadata": {},
     "output_type": "execute_result"
    }
   ],
   "source": [
    "second"
   ]
  },
  {
   "cell_type": "code",
   "execution_count": 128,
   "metadata": {},
   "outputs": [
    {
     "data": {
      "text/plain": [
       "array([], shape=(5, 0), dtype=float64)"
      ]
     },
     "execution_count": 128,
     "metadata": {},
     "output_type": "execute_result"
    }
   ],
   "source": [
    "third"
   ]
  },
  {
   "cell_type": "code",
   "execution_count": 129,
   "metadata": {},
   "outputs": [
    {
     "data": {
      "text/plain": [
       "array([[-1.26351434,  1.09420115,  0.36524671,  0.50210673, -0.08842536],\n",
       "       [-0.5520561 , -1.5010894 , -1.87617327, -1.33601947,  1.22487571]])"
      ]
     },
     "execution_count": 129,
     "metadata": {},
     "output_type": "execute_result"
    }
   ],
   "source": [
    "arr=np.random.randn(2,5)\n",
    "arr"
   ]
  },
  {
   "cell_type": "code",
   "execution_count": 184,
   "metadata": {},
   "outputs": [],
   "source": [
    "f,s,t=np.hsplit(arr,[1,3])"
   ]
  },
  {
   "cell_type": "code",
   "execution_count": 185,
   "metadata": {},
   "outputs": [
    {
     "data": {
      "text/plain": [
       "array([[-1.26351434],\n",
       "       [-0.5520561 ]])"
      ]
     },
     "execution_count": 185,
     "metadata": {},
     "output_type": "execute_result"
    }
   ],
   "source": [
    "f"
   ]
  },
  {
   "cell_type": "code",
   "execution_count": 186,
   "metadata": {},
   "outputs": [
    {
     "data": {
      "text/plain": [
       "array([[ 1.09420115,  0.36524671],\n",
       "       [-1.5010894 , -1.87617327]])"
      ]
     },
     "execution_count": 186,
     "metadata": {},
     "output_type": "execute_result"
    }
   ],
   "source": [
    "s"
   ]
  },
  {
   "cell_type": "code",
   "execution_count": 187,
   "metadata": {},
   "outputs": [
    {
     "data": {
      "text/plain": [
       "array([[ 0.50210673, -0.08842536],\n",
       "       [-1.33601947,  1.22487571]])"
      ]
     },
     "execution_count": 187,
     "metadata": {},
     "output_type": "execute_result"
    }
   ],
   "source": [
    "t"
   ]
  },
  {
   "cell_type": "code",
   "execution_count": 150,
   "metadata": {},
   "outputs": [
    {
     "data": {
      "text/plain": [
       "array([[[ 0.,  1.,  2.,  3.],\n",
       "        [ 4.,  5.,  6.,  7.]],\n",
       "\n",
       "       [[ 8.,  9., 10., 11.],\n",
       "        [12., 13., 14., 15.]]])"
      ]
     },
     "execution_count": 150,
     "metadata": {},
     "output_type": "execute_result"
    }
   ],
   "source": [
    "x=np.arange(16.0).reshape(2,2,4)\n",
    "x"
   ]
  },
  {
   "cell_type": "code",
   "execution_count": 163,
   "metadata": {},
   "outputs": [
    {
     "data": {
      "text/plain": [
       "[array([[[ 0.,  1.],\n",
       "         [ 4.,  5.]],\n",
       " \n",
       "        [[ 8.,  9.],\n",
       "         [12., 13.]]]), array([[[ 2.,  3.],\n",
       "         [ 6.,  7.]],\n",
       " \n",
       "        [[10., 11.],\n",
       "         [14., 15.]]])]"
      ]
     },
     "execution_count": 163,
     "metadata": {},
     "output_type": "execute_result"
    }
   ],
   "source": [
    "a=np.dsplit(x,2)\n",
    "a # 2 mean 0,1,2\n",
    " # ya column  wise torta ha"
   ]
  },
  {
   "cell_type": "code",
   "execution_count": 164,
   "metadata": {},
   "outputs": [
    {
     "data": {
      "text/plain": [
       "[array([[[ 0.],\n",
       "         [ 4.]],\n",
       " \n",
       "        [[ 8.],\n",
       "         [12.]]]), array([[[ 1.],\n",
       "         [ 5.]],\n",
       " \n",
       "        [[ 9.],\n",
       "         [13.]]]), array([[[ 2.],\n",
       "         [ 6.]],\n",
       " \n",
       "        [[10.],\n",
       "         [14.]]]), array([[[ 3.],\n",
       "         [ 7.]],\n",
       " \n",
       "        [[11.],\n",
       "         [15.]]])]"
      ]
     },
     "execution_count": 164,
     "metadata": {},
     "output_type": "execute_result"
    }
   ],
   "source": [
    "a=np.dsplit(x,4)\n",
    "a"
   ]
  },
  {
   "cell_type": "code",
   "execution_count": 179,
   "metadata": {},
   "outputs": [
    {
     "data": {
      "text/plain": [
       "[array([[[ 0.,  1.],\n",
       "         [ 4.,  5.]],\n",
       " \n",
       "        [[ 8.,  9.],\n",
       "         [12., 13.]]]), array([[[ 2.,  3.],\n",
       "         [ 6.,  7.]],\n",
       " \n",
       "        [[10., 11.],\n",
       "         [14., 15.]]]), array([], shape=(2, 2, 0), dtype=float64)]"
      ]
     },
     "execution_count": 179,
     "metadata": {},
     "output_type": "execute_result"
    }
   ],
   "source": [
    "np.dsplit(x,[2,6]) #2 ka matlab ha ak array ma 2*2 ka hona chaye 6 mean itna hiso ma break kardo"
   ]
  },
  {
   "cell_type": "code",
   "execution_count": 174,
   "metadata": {},
   "outputs": [
    {
     "data": {
      "text/plain": [
       "array([[[ 0.,  1.,  2.,  3.],\n",
       "        [ 4.,  5.,  6.,  7.]],\n",
       "\n",
       "       [[ 8.,  9., 10., 11.],\n",
       "        [12., 13., 14., 15.]]])"
      ]
     },
     "execution_count": 174,
     "metadata": {},
     "output_type": "execute_result"
    }
   ],
   "source": [
    "x"
   ]
  },
  {
   "cell_type": "code",
   "execution_count": 5,
   "metadata": {},
   "outputs": [],
   "source": [
    "arr1=np.arange(6).reshape(3,2)\n",
    "arr2=np.random.randn(3,2)"
   ]
  },
  {
   "cell_type": "code",
   "execution_count": 6,
   "metadata": {},
   "outputs": [
    {
     "data": {
      "text/plain": [
       "array([[0, 1],\n",
       "       [2, 3],\n",
       "       [4, 5]])"
      ]
     },
     "execution_count": 6,
     "metadata": {},
     "output_type": "execute_result"
    }
   ],
   "source": [
    "arr1"
   ]
  },
  {
   "cell_type": "code",
   "execution_count": 7,
   "metadata": {},
   "outputs": [
    {
     "data": {
      "text/plain": [
       "array([[-0.39972452,  1.95233012],\n",
       "       [-1.65524638, -0.08489773],\n",
       "       [ 0.69441793, -1.07650629]])"
      ]
     },
     "execution_count": 7,
     "metadata": {},
     "output_type": "execute_result"
    }
   ],
   "source": [
    "arr2"
   ]
  },
  {
   "cell_type": "code",
   "execution_count": 9,
   "metadata": {},
   "outputs": [
    {
     "data": {
      "text/plain": [
       "array([0, 1, 2, 3, 4, 5])"
      ]
     },
     "execution_count": 9,
     "metadata": {},
     "output_type": "execute_result"
    }
   ],
   "source": [
    "arr=np.arange(6)\n",
    "arr"
   ]
  },
  {
   "cell_type": "code",
   "execution_count": 8,
   "metadata": {},
   "outputs": [
    {
     "data": {
      "text/plain": [
       "array([[ 0.        ,  1.        ],\n",
       "       [ 2.        ,  3.        ],\n",
       "       [ 4.        ,  5.        ],\n",
       "       [-0.39972452,  1.95233012],\n",
       "       [-1.65524638, -0.08489773],\n",
       "       [ 0.69441793, -1.07650629]])"
      ]
     },
     "execution_count": 8,
     "metadata": {},
     "output_type": "execute_result"
    }
   ],
   "source": [
    "np.r_[arr1,arr2] #vertically karaga ya"
   ]
  },
  {
   "cell_type": "code",
   "execution_count": 10,
   "metadata": {},
   "outputs": [
    {
     "data": {
      "text/plain": [
       "array([[ 0.        ,  1.        , -0.39972452,  1.95233012],\n",
       "       [ 2.        ,  3.        , -1.65524638, -0.08489773],\n",
       "       [ 4.        ,  5.        ,  0.69441793, -1.07650629]])"
      ]
     },
     "execution_count": 10,
     "metadata": {},
     "output_type": "execute_result"
    }
   ],
   "source": [
    "np.c_[arr1,arr2] #horizontally arange karaga ga ya"
   ]
  },
  {
   "cell_type": "code",
   "execution_count": 11,
   "metadata": {},
   "outputs": [
    {
     "data": {
      "text/plain": [
       "array([[ 0.        ,  1.        ,  0.        ],\n",
       "       [ 2.        ,  3.        ,  1.        ],\n",
       "       [ 4.        ,  5.        ,  2.        ],\n",
       "       [-0.39972452,  1.95233012,  3.        ],\n",
       "       [-1.65524638, -0.08489773,  4.        ],\n",
       "       [ 0.69441793, -1.07650629,  5.        ]])"
      ]
     },
     "execution_count": 11,
     "metadata": {},
     "output_type": "execute_result"
    }
   ],
   "source": [
    "np.c_[np.r_[arr1,arr2],arr] #horrizontally arange karaga ya simple phla bracket solve karaga \n",
    "# ya simple ya samjo r mean row c mean column"
   ]
  },
  {
   "cell_type": "code",
   "execution_count": 20,
   "metadata": {},
   "outputs": [
    {
     "data": {
      "text/plain": [
       "array([ 1,  2,  3,  4,  9, 10, 11, 12, 13, 14])"
      ]
     },
     "execution_count": 20,
     "metadata": {},
     "output_type": "execute_result"
    }
   ],
   "source": [
    "np.r_[1:5,9:15] #simple row wise arrange kar raha is ko is sa koi issue ka dono list same number ki ho"
   ]
  },
  {
   "cell_type": "code",
   "execution_count": 24,
   "metadata": {},
   "outputs": [
    {
     "data": {
      "text/plain": [
       "array([[1, 6],\n",
       "       [2, 7],\n",
       "       [3, 8],\n",
       "       [4, 9]])"
      ]
     },
     "execution_count": 24,
     "metadata": {},
     "output_type": "execute_result"
    }
   ],
   "source": [
    "np.c_[1:5,6:10] # is ma dono list same size"
   ]
  },
  {
   "cell_type": "code",
   "execution_count": 15,
   "metadata": {},
   "outputs": [
    {
     "data": {
      "text/plain": [
       "array([[  1, -10],\n",
       "       [  2,  -9],\n",
       "       [  3,  -8],\n",
       "       [  4,  -7],\n",
       "       [  5,  -6],\n",
       "       [  6,  -5]])"
      ]
     },
     "execution_count": 15,
     "metadata": {},
     "output_type": "execute_result"
    }
   ],
   "source": [
    "np.c_[1:7,-10:-4]"
   ]
  },
  {
   "cell_type": "code",
   "execution_count": 25,
   "metadata": {},
   "outputs": [
    {
     "data": {
      "text/plain": [
       "array([0, 1, 2])"
      ]
     },
     "execution_count": 25,
     "metadata": {},
     "output_type": "execute_result"
    }
   ],
   "source": [
    "arr=np.arange(3)\n",
    "arr"
   ]
  },
  {
   "cell_type": "code",
   "execution_count": 26,
   "metadata": {},
   "outputs": [
    {
     "data": {
      "text/plain": [
       "array([0, 0, 0, 1, 1, 1, 2, 2, 2])"
      ]
     },
     "execution_count": 26,
     "metadata": {},
     "output_type": "execute_result"
    }
   ],
   "source": [
    "arr.repeat(3) #repeat ka bracket ma jo argument donga wo utni baaar haar element ko repeat kardaga"
   ]
  },
  {
   "cell_type": "code",
   "execution_count": 31,
   "metadata": {},
   "outputs": [
    {
     "data": {
      "text/plain": [
       "array([0, 0, 1, 1, 1, 1, 2, 2, 2, 2])"
      ]
     },
     "execution_count": 31,
     "metadata": {},
     "output_type": "execute_result"
    }
   ],
   "source": [
    "arr.repeat([2,4,4])  # agar single argument honga tu sb element ko utni baar repeat list provide karo ga tu possitional ka hissab sa chala ga"
   ]
  },
  {
   "cell_type": "code",
   "execution_count": 32,
   "metadata": {},
   "outputs": [
    {
     "data": {
      "text/plain": [
       "array([[ 0.25804153, -0.13648763],\n",
       "       [ 1.04908358,  2.54448314]])"
      ]
     },
     "execution_count": 32,
     "metadata": {},
     "output_type": "execute_result"
    }
   ],
   "source": [
    "arr=np.random.randn(2,2)\n",
    "arr"
   ]
  },
  {
   "cell_type": "code",
   "execution_count": 35,
   "metadata": {},
   "outputs": [
    {
     "data": {
      "text/plain": [
       "array([[ 0.25804153, -0.13648763],\n",
       "       [ 0.25804153, -0.13648763],\n",
       "       [ 1.04908358,  2.54448314],\n",
       "       [ 1.04908358,  2.54448314]])"
      ]
     },
     "execution_count": 35,
     "metadata": {},
     "output_type": "execute_result"
    }
   ],
   "source": [
    "arr.repeat(2,axis=0) # 0 column "
   ]
  },
  {
   "cell_type": "code",
   "execution_count": 36,
   "metadata": {},
   "outputs": [
    {
     "data": {
      "text/plain": [
       "array([[ 0.25804153,  0.25804153, -0.13648763, -0.13648763],\n",
       "       [ 1.04908358,  1.04908358,  2.54448314,  2.54448314]])"
      ]
     },
     "execution_count": 36,
     "metadata": {},
     "output_type": "execute_result"
    }
   ],
   "source": [
    "arr.repeat(2,axis=1) # 1 row"
   ]
  },
  {
   "cell_type": "code",
   "execution_count": 39,
   "metadata": {},
   "outputs": [
    {
     "data": {
      "text/plain": [
       "array([[ 0.25804153, -0.13648763],\n",
       "       [ 1.04908358,  2.54448314]])"
      ]
     },
     "execution_count": 39,
     "metadata": {},
     "output_type": "execute_result"
    }
   ],
   "source": [
    "arr"
   ]
  },
  {
   "cell_type": "code",
   "execution_count": 37,
   "metadata": {},
   "outputs": [
    {
     "data": {
      "text/plain": [
       "array([[ 0.25804153, -0.13648763],\n",
       "       [ 0.25804153, -0.13648763],\n",
       "       [ 1.04908358,  2.54448314],\n",
       "       [ 1.04908358,  2.54448314],\n",
       "       [ 1.04908358,  2.54448314]])"
      ]
     },
     "execution_count": 37,
     "metadata": {},
     "output_type": "execute_result"
    }
   ],
   "source": [
    "arr.repeat([2,3],axis=0) #2 mean 1st value 2 baar repeat karo 3 mean 2nd value "
   ]
  },
  {
   "cell_type": "code",
   "execution_count": 38,
   "metadata": {},
   "outputs": [
    {
     "data": {
      "text/plain": [
       "array([[ 0.25804153,  0.25804153, -0.13648763, -0.13648763, -0.13648763],\n",
       "       [ 1.04908358,  1.04908358,  2.54448314,  2.54448314,  2.54448314]])"
      ]
     },
     "execution_count": 38,
     "metadata": {},
     "output_type": "execute_result"
    }
   ],
   "source": [
    "arr.repeat([2,3],axis=1)"
   ]
  },
  {
   "cell_type": "code",
   "execution_count": 44,
   "metadata": {},
   "outputs": [
    {
     "data": {
      "text/plain": [
       "array([[ 0.25804153, -0.13648763],\n",
       "       [ 1.04908358,  2.54448314]])"
      ]
     },
     "execution_count": 44,
     "metadata": {},
     "output_type": "execute_result"
    }
   ],
   "source": [
    "arr"
   ]
  },
  {
   "cell_type": "code",
   "execution_count": 43,
   "metadata": {},
   "outputs": [
    {
     "data": {
      "text/plain": [
       "array([[ 0.25804153, -0.13648763,  0.25804153, -0.13648763,  0.25804153,\n",
       "        -0.13648763],\n",
       "       [ 1.04908358,  2.54448314,  1.04908358,  2.54448314,  1.04908358,\n",
       "         2.54448314]])"
      ]
     },
     "execution_count": 43,
     "metadata": {},
     "output_type": "execute_result"
    }
   ],
   "source": [
    "np.tile(arr,3) # jo bi array tha usko double kar ka horizontal attach kardiya\n",
    "# agar mana 3 arg diya tu phali row ko 3 baar agha sa print karaga "
   ]
  },
  {
   "cell_type": "code",
   "execution_count": 52,
   "metadata": {},
   "outputs": [
    {
     "data": {
      "text/plain": [
       "array([[ 0.25804153, -0.13648763],\n",
       "       [ 1.04908358,  2.54448314]])"
      ]
     },
     "execution_count": 52,
     "metadata": {},
     "output_type": "execute_result"
    }
   ],
   "source": [
    "arr"
   ]
  },
  {
   "cell_type": "code",
   "execution_count": 45,
   "metadata": {},
   "outputs": [
    {
     "data": {
      "text/plain": [
       "array([[ 0.25804153, -0.13648763],\n",
       "       [ 1.04908358,  2.54448314],\n",
       "       [ 0.25804153, -0.13648763],\n",
       "       [ 1.04908358,  2.54448314]])"
      ]
     },
     "execution_count": 45,
     "metadata": {},
     "output_type": "execute_result"
    }
   ],
   "source": [
    "np.tile(arr,(2,1)) # 2 mean phala 2 row thi tu 4 row hogaya abhi 1 ha tu column ko farak nhi "
   ]
  },
  {
   "cell_type": "code",
   "execution_count": 47,
   "metadata": {},
   "outputs": [
    {
     "data": {
      "text/plain": [
       "array([[ 0.25804153, -0.13648763,  0.25804153, -0.13648763],\n",
       "       [ 1.04908358,  2.54448314,  1.04908358,  2.54448314],\n",
       "       [ 0.25804153, -0.13648763,  0.25804153, -0.13648763],\n",
       "       [ 1.04908358,  2.54448314,  1.04908358,  2.54448314]])"
      ]
     },
     "execution_count": 47,
     "metadata": {},
     "output_type": "execute_result"
    }
   ],
   "source": [
    "np.tile(arr,(2,2)) # 2 mean phala 2 row thi tu 4 row hogaya abhi 2 ha tu column bi 4 hogaya 2*2 row and 2*2 column"
   ]
  },
  {
   "cell_type": "code",
   "execution_count": 53,
   "metadata": {},
   "outputs": [
    {
     "data": {
      "text/plain": [
       "array([[ 0.25804153, -0.13648763,  0.25804153, -0.13648763],\n",
       "       [ 1.04908358,  2.54448314,  1.04908358,  2.54448314],\n",
       "       [ 0.25804153, -0.13648763,  0.25804153, -0.13648763],\n",
       "       [ 1.04908358,  2.54448314,  1.04908358,  2.54448314],\n",
       "       [ 0.25804153, -0.13648763,  0.25804153, -0.13648763],\n",
       "       [ 1.04908358,  2.54448314,  1.04908358,  2.54448314],\n",
       "       [ 0.25804153, -0.13648763,  0.25804153, -0.13648763],\n",
       "       [ 1.04908358,  2.54448314,  1.04908358,  2.54448314]])"
      ]
     },
     "execution_count": 53,
     "metadata": {},
     "output_type": "execute_result"
    }
   ],
   "source": [
    "np.tile(arr,(4,2)) # 4*2 rows and 2*2 column"
   ]
  },
  {
   "cell_type": "code",
   "execution_count": 54,
   "metadata": {},
   "outputs": [
    {
     "data": {
      "text/plain": [
       "array([[ 0.25804153, -0.13648763,  0.25804153, -0.13648763],\n",
       "       [ 1.04908358,  2.54448314,  1.04908358,  2.54448314],\n",
       "       [ 0.25804153, -0.13648763,  0.25804153, -0.13648763],\n",
       "       [ 1.04908358,  2.54448314,  1.04908358,  2.54448314],\n",
       "       [ 0.25804153, -0.13648763,  0.25804153, -0.13648763],\n",
       "       [ 1.04908358,  2.54448314,  1.04908358,  2.54448314]])"
      ]
     },
     "execution_count": 54,
     "metadata": {},
     "output_type": "execute_result"
    }
   ],
   "source": [
    "np.tile(arr,(3,2))"
   ]
  },
  {
   "cell_type": "code",
   "execution_count": 56,
   "metadata": {},
   "outputs": [
    {
     "data": {
      "text/plain": [
       "array([  0, 100, 200, 300, 400, 500, 600, 700, 800, 900])"
      ]
     },
     "execution_count": 56,
     "metadata": {},
     "output_type": "execute_result"
    }
   ],
   "source": [
    "arr=np.arange(10)*100\n",
    "arr"
   ]
  },
  {
   "cell_type": "code",
   "execution_count": 58,
   "metadata": {},
   "outputs": [
    {
     "data": {
      "text/plain": [
       "array([700, 100, 200, 600])"
      ]
     },
     "execution_count": 58,
     "metadata": {},
     "output_type": "execute_result"
    }
   ],
   "source": [
    "i=[7,1,2,6]\n",
    "arr[i]"
   ]
  },
  {
   "cell_type": "code",
   "execution_count": 61,
   "metadata": {},
   "outputs": [
    {
     "data": {
      "text/plain": [
       "array([700, 100, 200, 600])"
      ]
     },
     "execution_count": 61,
     "metadata": {},
     "output_type": "execute_result"
    }
   ],
   "source": [
    "arr.take(i) # ya aur upar wali ak hi chez ha ya short ha baas"
   ]
  },
  {
   "cell_type": "code",
   "execution_count": 62,
   "metadata": {},
   "outputs": [
    {
     "data": {
      "text/plain": [
       "array([  0,  42,  42, 300, 400, 500,  42,  42, 800, 900])"
      ]
     },
     "execution_count": 62,
     "metadata": {},
     "output_type": "execute_result"
    }
   ],
   "source": [
    "arr.put(i,42)\n",
    "arr #put ya karaga ka list ma jo jo elemnts tha us possition pa 42 rakha"
   ]
  },
  {
   "cell_type": "code",
   "execution_count": 65,
   "metadata": {},
   "outputs": [
    {
     "data": {
      "text/plain": [
       "array([  0,  20,  30, 300, 400, 500,  40,  10, 800, 900])"
      ]
     },
     "execution_count": 65,
     "metadata": {},
     "output_type": "execute_result"
    }
   ],
   "source": [
    "arr.put(i,[10,20,30,40])\n",
    "arr"
   ]
  },
  {
   "cell_type": "code",
   "execution_count": 66,
   "metadata": {},
   "outputs": [],
   "source": [
    "ind=[2,0,2,1]"
   ]
  },
  {
   "cell_type": "code",
   "execution_count": 78,
   "metadata": {},
   "outputs": [
    {
     "data": {
      "text/plain": [
       "array([[ 1.16082927,  1.33635283,  1.23478061, -0.00863603],\n",
       "       [ 0.85081583, -0.50704522, -1.05345689,  1.51148378]])"
      ]
     },
     "execution_count": 78,
     "metadata": {},
     "output_type": "execute_result"
    }
   ],
   "source": [
    "arr=np.random.randn(2,4)\n",
    "arr"
   ]
  },
  {
   "cell_type": "code",
   "execution_count": 72,
   "metadata": {},
   "outputs": [
    {
     "data": {
      "text/plain": [
       "array([ 0.9179504 , -0.87545589,  0.9179504 ,  0.22954189])"
      ]
     },
     "execution_count": 72,
     "metadata": {},
     "output_type": "execute_result"
    }
   ],
   "source": [
    "arr[0,ind]"
   ]
  },
  {
   "cell_type": "code",
   "execution_count": 73,
   "metadata": {},
   "outputs": [
    {
     "data": {
      "text/plain": [
       "array([ 0.89572942,  0.2400637 ,  0.89572942, -0.53321273])"
      ]
     },
     "execution_count": 73,
     "metadata": {},
     "output_type": "execute_result"
    }
   ],
   "source": [
    "arr[1,ind]"
   ]
  },
  {
   "cell_type": "code",
   "execution_count": 74,
   "metadata": {},
   "outputs": [
    {
     "data": {
      "text/plain": [
       "array([[ 0.2400637 , -0.53321273,  0.89572942,  2.12805612]])"
      ]
     },
     "execution_count": 74,
     "metadata": {},
     "output_type": "execute_result"
    }
   ],
   "source": [
    "arr[[1]]"
   ]
  },
  {
   "cell_type": "code",
   "execution_count": 76,
   "metadata": {},
   "outputs": [
    {
     "data": {
      "text/plain": [
       "array([[-0.87545589,  0.22954189,  0.9179504 , -0.30185189]])"
      ]
     },
     "execution_count": 76,
     "metadata": {},
     "output_type": "execute_result"
    }
   ],
   "source": [
    "arr[[0]]"
   ]
  },
  {
   "cell_type": "code",
   "execution_count": 82,
   "metadata": {},
   "outputs": [
    {
     "data": {
      "text/plain": [
       "array([1.23478061, 1.16082927, 1.23478061, 1.33635283])"
      ]
     },
     "execution_count": 82,
     "metadata": {},
     "output_type": "execute_result"
    }
   ],
   "source": [
    "arr.take(ind,axis=0) # agar axis nhi donga jb bi 0 axis pa kam kara ga 0 mean 0 wali row pa sb apply karaga"
   ]
  },
  {
   "cell_type": "code",
   "execution_count": 85,
   "metadata": {},
   "outputs": [
    {
     "data": {
      "text/plain": [
       "array([[ 1.16082927,  1.33635283,  1.23478061, -0.00863603],\n",
       "       [ 0.85081583, -0.50704522, -1.05345689,  1.51148378]])"
      ]
     },
     "execution_count": 85,
     "metadata": {},
     "output_type": "execute_result"
    }
   ],
   "source": [
    "arr"
   ]
  },
  {
   "cell_type": "code",
   "execution_count": 84,
   "metadata": {},
   "outputs": [
    {
     "data": {
      "text/plain": [
       "array([[ 1.23478061,  1.16082927,  1.23478061,  1.33635283],\n",
       "       [-1.05345689,  0.85081583, -1.05345689, -0.50704522]])"
      ]
     },
     "execution_count": 84,
     "metadata": {},
     "output_type": "execute_result"
    }
   ],
   "source": [
    "arr.take(ind,axis =1) # 1 mean 1 wali row pa apply hoga "
   ]
  },
  {
   "cell_type": "code",
   "execution_count": 86,
   "metadata": {},
   "outputs": [
    {
     "name": "stdout",
     "output_type": "stream",
     "text": [
      "29   Oct   2019\n"
     ]
    }
   ],
   "source": [
    "import datetime\n",
    "currentDate=datetime.date.today()\n",
    "Day=currentDate.strftime(\"%d\")\n",
    "month=currentDate.strftime(\"%b\")\n",
    "Year=currentDate.strftime(\"%Y\")\n",
    "print(Day,\" \",month,\" \",Year)"
   ]
  },
  {
   "cell_type": "code",
   "execution_count": 87,
   "metadata": {},
   "outputs": [
    {
     "data": {
      "text/plain": [
       "datetime.date(2019, 10, 29)"
      ]
     },
     "execution_count": 87,
     "metadata": {},
     "output_type": "execute_result"
    }
   ],
   "source": [
    "c=datetime.date.today()\n",
    "c"
   ]
  },
  {
   "cell_type": "code",
   "execution_count": 89,
   "metadata": {},
   "outputs": [
    {
     "data": {
      "text/plain": [
       "'29'"
      ]
     },
     "execution_count": 89,
     "metadata": {},
     "output_type": "execute_result"
    }
   ],
   "source": [
    "d=c.strftime(\"%d\")\n",
    "d # aj ki date"
   ]
  },
  {
   "cell_type": "code",
   "execution_count": 91,
   "metadata": {},
   "outputs": [
    {
     "data": {
      "text/plain": [
       "'10'"
      ]
     },
     "execution_count": 91,
     "metadata": {},
     "output_type": "execute_result"
    }
   ],
   "source": [
    "m=c.strftime(\"%m\") # ya month num  bataye ga \n",
    "m"
   ]
  },
  {
   "cell_type": "code",
   "execution_count": 93,
   "metadata": {},
   "outputs": [
    {
     "data": {
      "text/plain": [
       "'Oct'"
      ]
     },
     "execution_count": 93,
     "metadata": {},
     "output_type": "execute_result"
    }
   ],
   "source": [
    "m=c.strftime(\"%b\") # ya month name batye ga\n",
    "m"
   ]
  },
  {
   "cell_type": "code",
   "execution_count": 95,
   "metadata": {},
   "outputs": [
    {
     "data": {
      "text/plain": [
       "'19'"
      ]
     },
     "execution_count": 95,
     "metadata": {},
     "output_type": "execute_result"
    }
   ],
   "source": [
    "y=c.strftime(\"%y\") # small ma ya 19 daga 2019 nhi daga \n",
    "y"
   ]
  },
  {
   "cell_type": "code",
   "execution_count": 96,
   "metadata": {},
   "outputs": [
    {
     "data": {
      "text/plain": [
       "'2019'"
      ]
     },
     "execution_count": 96,
     "metadata": {},
     "output_type": "execute_result"
    }
   ],
   "source": [
    "y=c.strftime(\"%Y\") # pora 2019 daga\n",
    "y"
   ]
  },
  {
   "cell_type": "code",
   "execution_count": 100,
   "metadata": {},
   "outputs": [
    {
     "name": "stdout",
     "output_type": "stream",
     "text": [
      "29 October 2019\n"
     ]
    }
   ],
   "source": [
    "current=datetime.date.today()\n",
    "d=current.strftime(\"%d\")\n",
    "m=current.strftime(\"%B\")\n",
    "y=current.strftime(\"%Y\")\n",
    "print(d,m,y)\n"
   ]
  },
  {
   "cell_type": "code",
   "execution_count": 2,
   "metadata": {},
   "outputs": [
    {
     "data": {
      "text/plain": [
       "array([0, 1, 2, 3, 4])"
      ]
     },
     "execution_count": 2,
     "metadata": {},
     "output_type": "execute_result"
    }
   ],
   "source": [
    "arr=np.arange(5)\n",
    "arr"
   ]
  },
  {
   "cell_type": "code",
   "execution_count": 5,
   "metadata": {},
   "outputs": [
    {
     "data": {
      "text/plain": [
       "array([ 0,  4,  8, 12, 16])"
      ]
     },
     "execution_count": 5,
     "metadata": {},
     "output_type": "execute_result"
    }
   ],
   "source": [
    "arr*4"
   ]
  },
  {
   "cell_type": "code",
   "execution_count": 7,
   "metadata": {},
   "outputs": [
    {
     "data": {
      "text/plain": [
       "array([[ 0.48933779, -0.22420383, -0.19949688],\n",
       "       [ 2.16028349,  0.17937621, -1.39632382],\n",
       "       [-0.86493266,  0.81982219,  1.91120298],\n",
       "       [-2.15324422,  0.23012523, -0.15298979]])"
      ]
     },
     "execution_count": 7,
     "metadata": {},
     "output_type": "execute_result"
    }
   ],
   "source": [
    "arr=np.random.randn(4,3)\n",
    "arr"
   ]
  },
  {
   "cell_type": "code",
   "execution_count": 8,
   "metadata": {},
   "outputs": [
    {
     "data": {
      "text/plain": [
       "0.0665797234545203"
      ]
     },
     "execution_count": 8,
     "metadata": {},
     "output_type": "execute_result"
    }
   ],
   "source": [
    "arr.mean()"
   ]
  },
  {
   "cell_type": "code",
   "execution_count": 9,
   "metadata": {},
   "outputs": [
    {
     "data": {
      "text/plain": [
       "array([-0.0921389 ,  0.25127995,  0.04059812])"
      ]
     },
     "execution_count": 9,
     "metadata": {},
     "output_type": "execute_result"
    }
   ],
   "source": [
    "arr.mean(0) #0 mean column ha "
   ]
  },
  {
   "cell_type": "code",
   "execution_count": 10,
   "metadata": {},
   "outputs": [
    {
     "data": {
      "text/plain": [
       "array([ 0.02187903,  0.31444529,  0.62203084, -0.69203626])"
      ]
     },
     "execution_count": 10,
     "metadata": {},
     "output_type": "execute_result"
    }
   ],
   "source": [
    "arr.mean(1) # 1 mean row"
   ]
  },
  {
   "cell_type": "code",
   "execution_count": 11,
   "metadata": {},
   "outputs": [
    {
     "data": {
      "text/plain": [
       "array([[ 0.53442484, -0.1678659 , -0.19139768],\n",
       "       [ 2.35932963,  0.13430256, -1.33963569],\n",
       "       [-0.9446266 ,  0.61381731,  1.83361173],\n",
       "       [-2.35164178,  0.17229937, -0.14677869]])"
      ]
     },
     "execution_count": 11,
     "metadata": {},
     "output_type": "execute_result"
    }
   ],
   "source": [
    "d=arr-arr*arr.mean(0)\n",
    "d"
   ]
  },
  {
   "cell_type": "code",
   "execution_count": 12,
   "metadata": {},
   "outputs": [
    {
     "data": {
      "text/plain": [
       "array([[ 0.0921389 , -0.25127995, -0.04059812],\n",
       "       [ 0.0921389 , -0.25127995, -0.04059812],\n",
       "       [ 0.0921389 , -0.25127995, -0.04059812],\n",
       "       [ 0.0921389 , -0.25127995, -0.04059812]])"
      ]
     },
     "execution_count": 12,
     "metadata": {},
     "output_type": "execute_result"
    }
   ],
   "source": [
    "d=arr-arr-arr.mean(0)\n",
    "d"
   ]
  },
  {
   "cell_type": "code",
   "execution_count": 13,
   "metadata": {},
   "outputs": [
    {
     "data": {
      "text/plain": [
       "array([ 0.0921389 , -0.25127995, -0.04059812])"
      ]
     },
     "execution_count": 13,
     "metadata": {},
     "output_type": "execute_result"
    }
   ],
   "source": [
    "d.mean(0)"
   ]
  },
  {
   "cell_type": "code",
   "execution_count": 14,
   "metadata": {},
   "outputs": [
    {
     "data": {
      "text/plain": [
       "array([[ 0.48933779, -0.22420383, -0.19949688],\n",
       "       [ 2.16028349,  0.17937621, -1.39632382],\n",
       "       [-0.86493266,  0.81982219,  1.91120298],\n",
       "       [-2.15324422,  0.23012523, -0.15298979]])"
      ]
     },
     "execution_count": 14,
     "metadata": {},
     "output_type": "execute_result"
    }
   ],
   "source": [
    "arr"
   ]
  },
  {
   "cell_type": "code",
   "execution_count": 15,
   "metadata": {},
   "outputs": [
    {
     "data": {
      "text/plain": [
       "array([ 0.02187903,  0.31444529,  0.62203084, -0.69203626])"
      ]
     },
     "execution_count": 15,
     "metadata": {},
     "output_type": "execute_result"
    }
   ],
   "source": [
    "r=arr.mean(1)\n",
    "r"
   ]
  },
  {
   "cell_type": "code",
   "execution_count": 16,
   "metadata": {},
   "outputs": [
    {
     "data": {
      "text/plain": [
       "(4,)"
      ]
     },
     "execution_count": 16,
     "metadata": {},
     "output_type": "execute_result"
    }
   ],
   "source": [
    "r.shape"
   ]
  },
  {
   "cell_type": "code",
   "execution_count": 17,
   "metadata": {},
   "outputs": [
    {
     "data": {
      "text/plain": [
       "array([[ 0.02187903,  0.31444529],\n",
       "       [ 0.62203084, -0.69203626]])"
      ]
     },
     "execution_count": 17,
     "metadata": {},
     "output_type": "execute_result"
    }
   ],
   "source": [
    "r.reshape(2,2)"
   ]
  },
  {
   "cell_type": "code",
   "execution_count": 18,
   "metadata": {},
   "outputs": [
    {
     "data": {
      "text/plain": [
       "array([[ 0.02187903],\n",
       "       [ 0.31444529],\n",
       "       [ 0.62203084],\n",
       "       [-0.69203626]])"
      ]
     },
     "execution_count": 18,
     "metadata": {},
     "output_type": "execute_result"
    }
   ],
   "source": [
    "r.reshape(4,1)"
   ]
  },
  {
   "cell_type": "code",
   "execution_count": 23,
   "metadata": {},
   "outputs": [
    {
     "data": {
      "text/plain": [
       "array([[ 0.46745876, -0.24608285, -0.22137591],\n",
       "       [ 1.8458382 , -0.13506909, -1.71076911],\n",
       "       [-1.48696349,  0.19779135,  1.28917214],\n",
       "       [-1.46120796,  0.92216149,  0.53904647]])"
      ]
     },
     "execution_count": 23,
     "metadata": {},
     "output_type": "execute_result"
    }
   ],
   "source": [
    "d=arr-r.reshape(4,1)\n",
    "d\n",
    "#operands could not be broadcast together with shapes (4,3) (2,2)"
   ]
  },
  {
   "cell_type": "code",
   "execution_count": 25,
   "metadata": {},
   "outputs": [
    {
     "data": {
      "text/plain": [
       "array([[ 0.46745876, -0.24608285, -0.22137591],\n",
       "       [ 1.8458382 , -0.13506909, -1.71076911],\n",
       "       [-1.48696349,  0.19779135,  1.28917214],\n",
       "       [-1.46120796,  0.92216149,  0.53904647]])"
      ]
     },
     "execution_count": 25,
     "metadata": {},
     "output_type": "execute_result"
    }
   ],
   "source": [
    "arr-arr.mean(1).reshape(4,1)"
   ]
  },
  {
   "cell_type": "code",
   "execution_count": 26,
   "metadata": {},
   "outputs": [
    {
     "data": {
      "text/plain": [
       "array([[[0., 0., 0., 0.]],\n",
       "\n",
       "       [[0., 0., 0., 0.]],\n",
       "\n",
       "       [[0., 0., 0., 0.]],\n",
       "\n",
       "       [[0., 0., 0., 0.]]])"
      ]
     },
     "execution_count": 26,
     "metadata": {},
     "output_type": "execute_result"
    }
   ],
   "source": [
    "arr=np.zeros((4,4))\n",
    "arr_3d=arr[:,np.newaxis,:]\n",
    "arr_3d"
   ]
  },
  {
   "cell_type": "code",
   "execution_count": 28,
   "metadata": {},
   "outputs": [
    {
     "data": {
      "text/plain": [
       "array([[0., 0., 0., 0.],\n",
       "       [0., 0., 0., 0.],\n",
       "       [0., 0., 0., 0.],\n",
       "       [0., 0., 0., 0.]])"
      ]
     },
     "execution_count": 28,
     "metadata": {},
     "output_type": "execute_result"
    }
   ],
   "source": [
    "arr=np.zeros((4,4))\n",
    "arr"
   ]
  },
  {
   "cell_type": "code",
   "execution_count": 29,
   "metadata": {},
   "outputs": [
    {
     "data": {
      "text/plain": [
       "array([[[0., 0., 0., 0.]],\n",
       "\n",
       "       [[0., 0., 0., 0.]],\n",
       "\n",
       "       [[0., 0., 0., 0.]],\n",
       "\n",
       "       [[0., 0., 0., 0.]]])"
      ]
     },
     "execution_count": 29,
     "metadata": {},
     "output_type": "execute_result"
    }
   ],
   "source": [
    "arr3d=arr[:,np.newaxis,:]\n",
    "arr3d \n",
    "#upar jo humna 2d array banaya usko 3d ma convert kara ga"
   ]
  },
  {
   "cell_type": "code",
   "execution_count": 30,
   "metadata": {},
   "outputs": [
    {
     "data": {
      "text/plain": [
       "2"
      ]
     },
     "execution_count": 30,
     "metadata": {},
     "output_type": "execute_result"
    }
   ],
   "source": [
    "arr.ndim"
   ]
  },
  {
   "cell_type": "code",
   "execution_count": 31,
   "metadata": {},
   "outputs": [
    {
     "data": {
      "text/plain": [
       "3"
      ]
     },
     "execution_count": 31,
     "metadata": {},
     "output_type": "execute_result"
    }
   ],
   "source": [
    "arr3d.ndim"
   ]
  },
  {
   "cell_type": "code",
   "execution_count": 32,
   "metadata": {},
   "outputs": [
    {
     "data": {
      "text/plain": [
       "(4, 4)"
      ]
     },
     "execution_count": 32,
     "metadata": {},
     "output_type": "execute_result"
    }
   ],
   "source": [
    "arr.shape"
   ]
  },
  {
   "cell_type": "code",
   "execution_count": 33,
   "metadata": {},
   "outputs": [
    {
     "data": {
      "text/plain": [
       "(4, 1, 4)"
      ]
     },
     "execution_count": 33,
     "metadata": {},
     "output_type": "execute_result"
    }
   ],
   "source": [
    "arr3d.shape"
   ]
  },
  {
   "cell_type": "code",
   "execution_count": 38,
   "metadata": {},
   "outputs": [
    {
     "data": {
      "text/plain": [
       "array([ 1.01958596, -2.5718538 , -0.2042703 ,  0.27428312,  1.22153016,\n",
       "       -0.5212876 , -0.69095385, -1.72526679, -0.84035858,  1.16665398])"
      ]
     },
     "execution_count": 38,
     "metadata": {},
     "output_type": "execute_result"
    }
   ],
   "source": [
    "arr1d=np.random.normal(size=10)\n",
    "arr1d\n",
    "#arr1d=np.random.normal(size=[10,10]) agar size asa provide karaga list ka andar tu pahla 10 mean itna element aur dosra 10 mean 10 chaye 10 element ka"
   ]
  },
  {
   "cell_type": "code",
   "execution_count": 39,
   "metadata": {},
   "outputs": [
    {
     "data": {
      "text/plain": [
       "array([[ 1.01958596],\n",
       "       [-2.5718538 ],\n",
       "       [-0.2042703 ],\n",
       "       [ 0.27428312],\n",
       "       [ 1.22153016],\n",
       "       [-0.5212876 ],\n",
       "       [-0.69095385],\n",
       "       [-1.72526679],\n",
       "       [-0.84035858],\n",
       "       [ 1.16665398]])"
      ]
     },
     "execution_count": 39,
     "metadata": {},
     "output_type": "execute_result"
    }
   ],
   "source": [
    "arr2d=arr1d[:,np.newaxis]\n",
    "arr2d # yaha 1d ko 2d kara ha aur ak baat ya ha ka np.axis sa phala donga tu column ki form ma daga agr np.axis ka baad \n",
    "#donga tu row "
   ]
  },
  {
   "cell_type": "code",
   "execution_count": 40,
   "metadata": {},
   "outputs": [
    {
     "data": {
      "text/plain": [
       "array([[ 1.01958596, -2.5718538 , -0.2042703 ,  0.27428312,  1.22153016,\n",
       "        -0.5212876 , -0.69095385, -1.72526679, -0.84035858,  1.16665398]])"
      ]
     },
     "execution_count": 40,
     "metadata": {},
     "output_type": "execute_result"
    }
   ],
   "source": [
    "arr1d[np.newaxis,:]"
   ]
  },
  {
   "cell_type": "code",
   "execution_count": 41,
   "metadata": {},
   "outputs": [
    {
     "data": {
      "text/plain": [
       "array([ 1.01958596, -2.5718538 , -0.2042703 ,  0.27428312,  1.22153016,\n",
       "       -0.5212876 , -0.69095385, -1.72526679, -0.84035858,  1.16665398])"
      ]
     },
     "execution_count": 41,
     "metadata": {},
     "output_type": "execute_result"
    }
   ],
   "source": [
    "arr1d"
   ]
  },
  {
   "cell_type": "code",
   "execution_count": 42,
   "metadata": {},
   "outputs": [
    {
     "data": {
      "text/plain": [
       "array([[[-1.42329635,  0.06696652, -1.39060844,  0.41771934,\n",
       "         -2.33315487],\n",
       "        [-0.83012724,  0.36557631,  0.05020533,  0.34756642,\n",
       "          0.32556453],\n",
       "        [ 0.30785407,  0.59306433, -0.23015726, -0.48584358,\n",
       "         -0.89220148],\n",
       "        [ 2.08606511, -1.37576299, -1.18874032, -0.62595777,\n",
       "          0.82008251]],\n",
       "\n",
       "       [[-0.97320833, -0.72299411,  0.10167116, -0.83417244,\n",
       "          0.25985532],\n",
       "        [-1.10729091, -0.38260761,  0.95225612,  0.41431559,\n",
       "         -1.59974039],\n",
       "        [-0.59087962,  0.0282041 ,  0.2349401 ,  0.5361921 ,\n",
       "         -0.57646546],\n",
       "        [-1.5725289 ,  0.10362989, -2.40476809,  2.43660511,\n",
       "          1.32237093]],\n",
       "\n",
       "       [[ 0.51907157,  0.2964747 , -0.26499848,  0.39394862,\n",
       "          0.9654009 ],\n",
       "        [ 0.33049955, -0.3372728 , -2.06934106, -2.68911322,\n",
       "         -0.52197457],\n",
       "        [ 0.97456326,  0.85352487,  2.00630943, -0.45206569,\n",
       "          0.14666827],\n",
       "        [-0.20902548,  0.55398902,  0.58352768,  0.36257557,\n",
       "          0.94292255]]])"
      ]
     },
     "execution_count": 42,
     "metadata": {},
     "output_type": "execute_result"
    }
   ],
   "source": [
    "arr=np.random.randn(3,4,5)\n",
    "arr"
   ]
  },
  {
   "cell_type": "code",
   "execution_count": 45,
   "metadata": {},
   "outputs": [
    {
     "data": {
      "text/plain": [
       "array([[-0.62581104, -0.11985097, -0.51797859, -0.00750149, -0.36929955],\n",
       "       [-0.53563953, -0.11810137, -0.35562653, -0.6424104 , -0.59871681],\n",
       "       [ 0.23051257,  0.49159777,  0.67036409, -0.13390572, -0.44066622],\n",
       "       [ 0.10150358, -0.23938136, -1.00332691,  0.72440764,  1.02845867]])"
      ]
     },
     "execution_count": 45,
     "metadata": {},
     "output_type": "execute_result"
    }
   ],
   "source": [
    "d=arr.mean(0)\n",
    "d # o mean column hi ha"
   ]
  },
  {
   "cell_type": "code",
   "execution_count": 46,
   "metadata": {},
   "outputs": [
    {
     "data": {
      "text/plain": [
       "array([[ 0.0351239 , -0.08753896, -0.68982517, -0.0866289 , -0.51992733],\n",
       "       [-1.06097694, -0.24344193, -0.27897518,  0.63823509, -0.1484949 ],\n",
       "       [ 0.40377722,  0.34167894,  0.06387439, -0.59616368,  0.38325429]])"
      ]
     },
     "execution_count": 46,
     "metadata": {},
     "output_type": "execute_result"
    }
   ],
   "source": [
    "d=arr.mean(1)\n",
    "d # 1 mean row "
   ]
  },
  {
   "cell_type": "code",
   "execution_count": 47,
   "metadata": {},
   "outputs": [
    {
     "data": {
      "text/plain": [
       "array([[-0.93247476,  0.05175707, -0.14145678, -0.05686269],\n",
       "       [-0.43376968, -0.34461344, -0.07360175, -0.02293821],\n",
       "       [ 0.38197946, -1.05744042,  0.70580003,  0.44679787]])"
      ]
     },
     "execution_count": 47,
     "metadata": {},
     "output_type": "execute_result"
    }
   ],
   "source": [
    "d=arr.mean(2)\n",
    "d # ya 3 array ha sb ka row wise nikal raha ha phala 1 ki 4 row phr 2 ,3"
   ]
  },
  {
   "cell_type": "code",
   "execution_count": 48,
   "metadata": {},
   "outputs": [
    {
     "data": {
      "text/plain": [
       "array([[[-1.42329635,  0.06696652, -1.39060844,  0.41771934,\n",
       "         -2.33315487],\n",
       "        [-0.83012724,  0.36557631,  0.05020533,  0.34756642,\n",
       "          0.32556453],\n",
       "        [ 0.30785407,  0.59306433, -0.23015726, -0.48584358,\n",
       "         -0.89220148],\n",
       "        [ 2.08606511, -1.37576299, -1.18874032, -0.62595777,\n",
       "          0.82008251]],\n",
       "\n",
       "       [[-0.97320833, -0.72299411,  0.10167116, -0.83417244,\n",
       "          0.25985532],\n",
       "        [-1.10729091, -0.38260761,  0.95225612,  0.41431559,\n",
       "         -1.59974039],\n",
       "        [-0.59087962,  0.0282041 ,  0.2349401 ,  0.5361921 ,\n",
       "         -0.57646546],\n",
       "        [-1.5725289 ,  0.10362989, -2.40476809,  2.43660511,\n",
       "          1.32237093]],\n",
       "\n",
       "       [[ 0.51907157,  0.2964747 , -0.26499848,  0.39394862,\n",
       "          0.9654009 ],\n",
       "        [ 0.33049955, -0.3372728 , -2.06934106, -2.68911322,\n",
       "         -0.52197457],\n",
       "        [ 0.97456326,  0.85352487,  2.00630943, -0.45206569,\n",
       "          0.14666827],\n",
       "        [-0.20902548,  0.55398902,  0.58352768,  0.36257557,\n",
       "          0.94292255]]])"
      ]
     },
     "execution_count": 48,
     "metadata": {},
     "output_type": "execute_result"
    }
   ],
   "source": [
    "arr"
   ]
  },
  {
   "cell_type": "code",
   "execution_count": 50,
   "metadata": {},
   "outputs": [
    {
     "data": {
      "text/plain": [
       "(3, 4)"
      ]
     },
     "execution_count": 50,
     "metadata": {},
     "output_type": "execute_result"
    }
   ],
   "source": [
    "d.shape"
   ]
  },
  {
   "cell_type": "code",
   "execution_count": 52,
   "metadata": {},
   "outputs": [
    {
     "data": {
      "text/plain": [
       "array([[[-4.90821589e-01,  9.99441277e-01, -4.58133679e-01,\n",
       "          1.35019410e+00, -1.40068011e+00],\n",
       "        [-8.81884311e-01,  3.13819244e-01, -1.55173753e-03,\n",
       "          2.95809347e-01,  2.73807458e-01],\n",
       "        [ 4.49310849e-01,  7.34521116e-01, -8.87004746e-02,\n",
       "         -3.44386798e-01, -7.50744693e-01],\n",
       "        [ 2.14292780e+00, -1.31890030e+00, -1.13187763e+00,\n",
       "         -5.69095077e-01,  8.76945204e-01]],\n",
       "\n",
       "       [[-5.39438648e-01, -2.89224427e-01,  5.35440839e-01,\n",
       "         -4.00402763e-01,  6.93624999e-01],\n",
       "        [-7.62677471e-01, -3.79941712e-02,  1.29686956e+00,\n",
       "          7.58929033e-01, -1.25512695e+00],\n",
       "        [-5.17277862e-01,  1.01805857e-01,  3.08541859e-01,\n",
       "          6.09793854e-01, -5.02863709e-01],\n",
       "        [-1.54959069e+00,  1.26568105e-01, -2.38182988e+00,\n",
       "          2.45954332e+00,  1.34530914e+00]],\n",
       "\n",
       "       [[ 1.37092111e-01, -8.55047651e-02, -6.46977944e-01,\n",
       "          1.19691605e-02,  5.83421438e-01],\n",
       "        [ 1.38793997e+00,  7.20167618e-01, -1.01190064e+00,\n",
       "         -1.63167280e+00,  5.35465852e-01],\n",
       "        [ 2.68763232e-01,  1.47724840e-01,  1.30050940e+00,\n",
       "         -1.15786572e+00, -5.59131754e-01],\n",
       "        [-6.55823349e-01,  1.07191148e-01,  1.36729814e-01,\n",
       "         -8.42223004e-02,  4.96124687e-01]]])"
      ]
     },
     "execution_count": 52,
     "metadata": {},
     "output_type": "execute_result"
    }
   ],
   "source": [
    "de=arr-d[:,:,np.newaxis]\n",
    "de"
   ]
  },
  {
   "cell_type": "code",
   "execution_count": 53,
   "metadata": {},
   "outputs": [
    {
     "data": {
      "text/plain": [
       "array([[-1.54190381,  0.10330531,  0.36133783],\n",
       "       [ 0.82467185,  0.87080977, -0.36680001],\n",
       "       [ 0.1987303 , -1.39811098, -0.10882482],\n",
       "       [-1.89772767,  0.34889194,  0.67434013]])"
      ]
     },
     "execution_count": 53,
     "metadata": {},
     "output_type": "execute_result"
    }
   ],
   "source": [
    "check=np.random.randn(4,3)\n",
    "check"
   ]
  },
  {
   "cell_type": "code",
   "execution_count": 55,
   "metadata": {},
   "outputs": [
    {
     "data": {
      "text/plain": [
       "array([[[-1.54190381],\n",
       "        [ 0.10330531],\n",
       "        [ 0.36133783]],\n",
       "\n",
       "       [[ 0.82467185],\n",
       "        [ 0.87080977],\n",
       "        [-0.36680001]],\n",
       "\n",
       "       [[ 0.1987303 ],\n",
       "        [-1.39811098],\n",
       "        [-0.10882482]],\n",
       "\n",
       "       [[-1.89772767],\n",
       "        [ 0.34889194],\n",
       "        [ 0.67434013]]])"
      ]
     },
     "execution_count": 55,
     "metadata": {},
     "output_type": "execute_result"
    }
   ],
   "source": [
    "check[:,:,np.newaxis]"
   ]
  },
  {
   "cell_type": "code",
   "execution_count": 56,
   "metadata": {},
   "outputs": [
    {
     "data": {
      "text/plain": [
       "array([[[-1.54190381,  0.10330531,  0.36133783]],\n",
       "\n",
       "       [[ 0.82467185,  0.87080977, -0.36680001]],\n",
       "\n",
       "       [[ 0.1987303 , -1.39811098, -0.10882482]],\n",
       "\n",
       "       [[-1.89772767,  0.34889194,  0.67434013]]])"
      ]
     },
     "execution_count": 56,
     "metadata": {},
     "output_type": "execute_result"
    }
   ],
   "source": [
    "check[:,np.newaxis,:]"
   ]
  },
  {
   "cell_type": "code",
   "execution_count": 57,
   "metadata": {},
   "outputs": [
    {
     "data": {
      "text/plain": [
       "array([[[-1.54190381,  0.10330531,  0.36133783],\n",
       "        [ 0.82467185,  0.87080977, -0.36680001],\n",
       "        [ 0.1987303 , -1.39811098, -0.10882482],\n",
       "        [-1.89772767,  0.34889194,  0.67434013]]])"
      ]
     },
     "execution_count": 57,
     "metadata": {},
     "output_type": "execute_result"
    }
   ],
   "source": [
    "check[np.newaxis,:,:] #np.newaxis phala rakhta ha tu row form ma ata ha"
   ]
  },
  {
   "cell_type": "code",
   "execution_count": 59,
   "metadata": {},
   "outputs": [
    {
     "data": {
      "text/plain": [
       "array([[[-0.93247476],\n",
       "        [ 0.05175707],\n",
       "        [-0.14145678],\n",
       "        [-0.05686269]],\n",
       "\n",
       "       [[-0.43376968],\n",
       "        [-0.34461344],\n",
       "        [-0.07360175],\n",
       "        [-0.02293821]],\n",
       "\n",
       "       [[ 0.38197946],\n",
       "        [-1.05744042],\n",
       "        [ 0.70580003],\n",
       "        [ 0.44679787]]])"
      ]
     },
     "execution_count": 59,
     "metadata": {},
     "output_type": "execute_result"
    }
   ],
   "source": [
    "d[:,:,np.newaxis]\n"
   ]
  },
  {
   "cell_type": "code",
   "execution_count": 60,
   "metadata": {},
   "outputs": [
    {
     "data": {
      "text/plain": [
       "array([[[-1.42329635,  0.06696652, -1.39060844,  0.41771934,\n",
       "         -2.33315487],\n",
       "        [-0.83012724,  0.36557631,  0.05020533,  0.34756642,\n",
       "          0.32556453],\n",
       "        [ 0.30785407,  0.59306433, -0.23015726, -0.48584358,\n",
       "         -0.89220148],\n",
       "        [ 2.08606511, -1.37576299, -1.18874032, -0.62595777,\n",
       "          0.82008251]],\n",
       "\n",
       "       [[-0.97320833, -0.72299411,  0.10167116, -0.83417244,\n",
       "          0.25985532],\n",
       "        [-1.10729091, -0.38260761,  0.95225612,  0.41431559,\n",
       "         -1.59974039],\n",
       "        [-0.59087962,  0.0282041 ,  0.2349401 ,  0.5361921 ,\n",
       "         -0.57646546],\n",
       "        [-1.5725289 ,  0.10362989, -2.40476809,  2.43660511,\n",
       "          1.32237093]],\n",
       "\n",
       "       [[ 0.51907157,  0.2964747 , -0.26499848,  0.39394862,\n",
       "          0.9654009 ],\n",
       "        [ 0.33049955, -0.3372728 , -2.06934106, -2.68911322,\n",
       "         -0.52197457],\n",
       "        [ 0.97456326,  0.85352487,  2.00630943, -0.45206569,\n",
       "          0.14666827],\n",
       "        [-0.20902548,  0.55398902,  0.58352768,  0.36257557,\n",
       "          0.94292255]]])"
      ]
     },
     "execution_count": 60,
     "metadata": {},
     "output_type": "execute_result"
    }
   ],
   "source": [
    "arr"
   ]
  },
  {
   "cell_type": "code",
   "execution_count": 61,
   "metadata": {},
   "outputs": [
    {
     "data": {
      "text/plain": [
       "array([[[-4.90821589e-01,  9.99441277e-01, -4.58133679e-01,\n",
       "          1.35019410e+00, -1.40068011e+00],\n",
       "        [-8.81884311e-01,  3.13819244e-01, -1.55173753e-03,\n",
       "          2.95809347e-01,  2.73807458e-01],\n",
       "        [ 4.49310849e-01,  7.34521116e-01, -8.87004746e-02,\n",
       "         -3.44386798e-01, -7.50744693e-01],\n",
       "        [ 2.14292780e+00, -1.31890030e+00, -1.13187763e+00,\n",
       "         -5.69095077e-01,  8.76945204e-01]],\n",
       "\n",
       "       [[-5.39438648e-01, -2.89224427e-01,  5.35440839e-01,\n",
       "         -4.00402763e-01,  6.93624999e-01],\n",
       "        [-7.62677471e-01, -3.79941712e-02,  1.29686956e+00,\n",
       "          7.58929033e-01, -1.25512695e+00],\n",
       "        [-5.17277862e-01,  1.01805857e-01,  3.08541859e-01,\n",
       "          6.09793854e-01, -5.02863709e-01],\n",
       "        [-1.54959069e+00,  1.26568105e-01, -2.38182988e+00,\n",
       "          2.45954332e+00,  1.34530914e+00]],\n",
       "\n",
       "       [[ 1.37092111e-01, -8.55047651e-02, -6.46977944e-01,\n",
       "          1.19691605e-02,  5.83421438e-01],\n",
       "        [ 1.38793997e+00,  7.20167618e-01, -1.01190064e+00,\n",
       "         -1.63167280e+00,  5.35465852e-01],\n",
       "        [ 2.68763232e-01,  1.47724840e-01,  1.30050940e+00,\n",
       "         -1.15786572e+00, -5.59131754e-01],\n",
       "        [-6.55823349e-01,  1.07191148e-01,  1.36729814e-01,\n",
       "         -8.42223004e-02,  4.96124687e-01]]])"
      ]
     },
     "execution_count": 61,
     "metadata": {},
     "output_type": "execute_result"
    }
   ],
   "source": [
    "de=arr-d[:,:,np.newaxis]\n",
    "de"
   ]
  },
  {
   "cell_type": "code",
   "execution_count": 62,
   "metadata": {},
   "outputs": [
    {
     "data": {
      "text/plain": [
       "(3, 4, 5)"
      ]
     },
     "execution_count": 62,
     "metadata": {},
     "output_type": "execute_result"
    }
   ],
   "source": [
    "arr.shape"
   ]
  },
  {
   "cell_type": "code",
   "execution_count": 63,
   "metadata": {},
   "outputs": [
    {
     "data": {
      "text/plain": [
       "array([[ 8.88178420e-17,  1.11022302e-17,  2.22044605e-17,\n",
       "         2.22044605e-17],\n",
       "       [-4.44089210e-17,  0.00000000e+00,  2.22044605e-17,\n",
       "         0.00000000e+00],\n",
       "       [ 0.00000000e+00,  6.66133815e-17, -6.66133815e-17,\n",
       "         0.00000000e+00]])"
      ]
     },
     "execution_count": 63,
     "metadata": {},
     "output_type": "execute_result"
    }
   ],
   "source": [
    "de.mean(2) # 2 mean row "
   ]
  },
  {
   "cell_type": "code",
   "execution_count": null,
   "metadata": {},
   "outputs": [],
   "source": [
    "a=np.array([[[1,2,4,5,6],[2,3,5,5,6]],[[1,2,4,5,6],[2,3,5,5,6]]])\n",
    "print(a.shape)\n",
    "print(a.ndim)\n",
    "a.ndim*[slice(None)]\n",
    "indexer=a.ndim*[slice(None)]\n",
    "indexer[0]=np.newaxis\n",
    "a[indexer].shape"
   ]
  },
  {
   "cell_type": "code",
   "execution_count": 91,
   "metadata": {},
   "outputs": [
    {
     "data": {
      "text/plain": [
       "array([[[ 1,  2,  3,  4],\n",
       "        [ 5,  6,  7,  8]],\n",
       "\n",
       "       [[10, 11, 12, 13],\n",
       "        [14, 15, 16, 17]]])"
      ]
     },
     "execution_count": 91,
     "metadata": {},
     "output_type": "execute_result"
    }
   ],
   "source": [
    "a=np.array([[[1,2,3,4],[5,6,7,8]],[[10,11,12,13],[14,15,16,17]]])\n",
    "a"
   ]
  },
  {
   "cell_type": "code",
   "execution_count": 92,
   "metadata": {},
   "outputs": [
    {
     "name": "stdout",
     "output_type": "stream",
     "text": [
      "3\n",
      "(2, 2, 4)\n"
     ]
    }
   ],
   "source": [
    "print(a.ndim)\n",
    "print(a.shape)"
   ]
  },
  {
   "cell_type": "code",
   "execution_count": 93,
   "metadata": {},
   "outputs": [],
   "source": [
    "i=a.ndim*[slice(None)]"
   ]
  },
  {
   "cell_type": "code",
   "execution_count": 94,
   "metadata": {},
   "outputs": [
    {
     "data": {
      "text/plain": [
       "[slice(None, None, None), slice(None, None, None), slice(None, None, None)]"
      ]
     },
     "execution_count": 94,
     "metadata": {},
     "output_type": "execute_result"
    }
   ],
   "source": [
    "i"
   ]
  },
  {
   "cell_type": "code",
   "execution_count": 95,
   "metadata": {},
   "outputs": [
    {
     "name": "stdout",
     "output_type": "stream",
     "text": [
      "slice(None, None, None)\n"
     ]
    }
   ],
   "source": [
    "print(i[0])"
   ]
  },
  {
   "cell_type": "code",
   "execution_count": 96,
   "metadata": {},
   "outputs": [],
   "source": [
    "i[0]=np.newaxis"
   ]
  },
  {
   "cell_type": "code",
   "execution_count": 97,
   "metadata": {},
   "outputs": [
    {
     "name": "stderr",
     "output_type": "stream",
     "text": [
      "C:\\ProgramData\\Anaconda3\\lib\\site-packages\\ipykernel_launcher.py:1: FutureWarning: Using a non-tuple sequence for multidimensional indexing is deprecated; use `arr[tuple(seq)]` instead of `arr[seq]`. In the future this will be interpreted as an array index, `arr[np.array(seq)]`, which will result either in an error or a different result.\n",
      "  \"\"\"Entry point for launching an IPython kernel.\n"
     ]
    },
    {
     "data": {
      "text/plain": [
       "(1, 2, 2, 4)"
      ]
     },
     "execution_count": 97,
     "metadata": {},
     "output_type": "execute_result"
    }
   ],
   "source": [
    "a[i].shape"
   ]
  },
  {
   "cell_type": "code",
   "execution_count": 3,
   "metadata": {},
   "outputs": [
    {
     "data": {
      "text/plain": [
       "array([[0., 0., 0.],\n",
       "       [0., 0., 0.],\n",
       "       [0., 0., 0.],\n",
       "       [0., 0., 0.]])"
      ]
     },
     "execution_count": 3,
     "metadata": {},
     "output_type": "execute_result"
    }
   ],
   "source": [
    "arr=np.zeros((4,3))\n",
    "arr"
   ]
  },
  {
   "cell_type": "code",
   "execution_count": 4,
   "metadata": {},
   "outputs": [],
   "source": [
    "arr[:]=5"
   ]
  },
  {
   "cell_type": "code",
   "execution_count": 5,
   "metadata": {},
   "outputs": [
    {
     "data": {
      "text/plain": [
       "array([[5., 5., 5.],\n",
       "       [5., 5., 5.],\n",
       "       [5., 5., 5.],\n",
       "       [5., 5., 5.]])"
      ]
     },
     "execution_count": 5,
     "metadata": {},
     "output_type": "execute_result"
    }
   ],
   "source": [
    "arr"
   ]
  },
  {
   "cell_type": "code",
   "execution_count": 6,
   "metadata": {},
   "outputs": [],
   "source": [
    "col=np.array([1,2,3,4])\n",
    "arr[:]=col[:,np.newaxis] # matrix jb bi compare honga same size ka honga yaha humna 1d ko 2d sa compare karaya "
   ]
  },
  {
   "cell_type": "code",
   "execution_count": 112,
   "metadata": {},
   "outputs": [],
   "source": [
    "col=np.array([1,2,3,4])\n",
    "arr[:]=col[:,np.newaxis] "
   ]
  },
  {
   "cell_type": "code",
   "execution_count": 107,
   "metadata": {},
   "outputs": [
    {
     "data": {
      "text/plain": [
       "array([[1., 1., 1.],\n",
       "       [2., 2., 2.],\n",
       "       [3., 3., 3.],\n",
       "       [4., 4., 4.]])"
      ]
     },
     "execution_count": 107,
     "metadata": {},
     "output_type": "execute_result"
    }
   ],
   "source": [
    "arr"
   ]
  },
  {
   "cell_type": "code",
   "execution_count": 2,
   "metadata": {},
   "outputs": [],
   "source": [
    "import numpy as np"
   ]
  },
  {
   "cell_type": "code",
   "execution_count": 7,
   "metadata": {},
   "outputs": [
    {
     "data": {
      "text/plain": [
       "array([[1., 1., 1.],\n",
       "       [2., 2., 2.],\n",
       "       [3., 3., 3.],\n",
       "       [4., 4., 4.]])"
      ]
     },
     "execution_count": 7,
     "metadata": {},
     "output_type": "execute_result"
    }
   ],
   "source": [
    "arr"
   ]
  },
  {
   "cell_type": "code",
   "execution_count": 10,
   "metadata": {},
   "outputs": [],
   "source": [
    "def func(arr,axis=0):\n",
    "    means=arr.mean(axis)\n",
    "    i=[slice(None)]*arr.ndim\n",
    "    i[axis]=np.newaxis\n",
    "    return arr-means[i]"
   ]
  },
  {
   "cell_type": "code",
   "execution_count": 11,
   "metadata": {},
   "outputs": [
    {
     "name": "stderr",
     "output_type": "stream",
     "text": [
      "C:\\ProgramData\\Anaconda3\\lib\\site-packages\\ipykernel_launcher.py:5: FutureWarning: Using a non-tuple sequence for multidimensional indexing is deprecated; use `arr[tuple(seq)]` instead of `arr[seq]`. In the future this will be interpreted as an array index, `arr[np.array(seq)]`, which will result either in an error or a different result.\n",
      "  \"\"\"\n"
     ]
    },
    {
     "data": {
      "text/plain": [
       "array([[-1.5, -1.5, -1.5],\n",
       "       [-0.5, -0.5, -0.5],\n",
       "       [ 0.5,  0.5,  0.5],\n",
       "       [ 1.5,  1.5,  1.5]])"
      ]
     },
     "execution_count": 11,
     "metadata": {},
     "output_type": "execute_result"
    }
   ],
   "source": [
    "func(arr)"
   ]
  },
  {
   "cell_type": "code",
   "execution_count": 12,
   "metadata": {},
   "outputs": [
    {
     "data": {
      "text/plain": [
       "array([[1., 1., 1.],\n",
       "       [2., 2., 2.],\n",
       "       [3., 3., 3.],\n",
       "       [4., 4., 4.]])"
      ]
     },
     "execution_count": 12,
     "metadata": {},
     "output_type": "execute_result"
    }
   ],
   "source": [
    "arr"
   ]
  },
  {
   "cell_type": "code",
   "execution_count": 13,
   "metadata": {},
   "outputs": [
    {
     "data": {
      "text/plain": [
       "array([[-1.2, -1.2, -1.2],\n",
       "       [ 2.6,  2.6,  2.6],\n",
       "       [ 3. ,  3. ,  3. ],\n",
       "       [ 4. ,  4. ,  4. ]])"
      ]
     },
     "execution_count": 13,
     "metadata": {},
     "output_type": "execute_result"
    }
   ],
   "source": [
    "arr[:2]=[[-1.2],[2.6]]\n",
    "arr"
   ]
  },
  {
   "cell_type": "code",
   "execution_count": 17,
   "metadata": {},
   "outputs": [
    {
     "data": {
      "text/plain": [
       "array([[6., 6., 6.],\n",
       "       [7., 7., 7.],\n",
       "       [8., 8., 8.],\n",
       "       [4., 4., 4.]])"
      ]
     },
     "execution_count": 17,
     "metadata": {},
     "output_type": "execute_result"
    }
   ],
   "source": [
    "arr[:3]=[[6],[7],[8]]\n",
    "arr"
   ]
  },
  {
   "cell_type": "code",
   "execution_count": 19,
   "metadata": {},
   "outputs": [
    {
     "data": {
      "text/plain": [
       "array([[1., 1., 1.],\n",
       "       [3., 3., 3.],\n",
       "       [8., 8., 8.],\n",
       "       [4., 4., 4.]])"
      ]
     },
     "execution_count": 19,
     "metadata": {},
     "output_type": "execute_result"
    }
   ],
   "source": [
    "arr[:2]=[[1],[3]]\n",
    "arr"
   ]
  },
  {
   "cell_type": "code",
   "execution_count": 20,
   "metadata": {},
   "outputs": [
    {
     "data": {
      "text/plain": [
       "array([0, 1, 2, 3, 4, 5, 6, 7, 8, 9])"
      ]
     },
     "execution_count": 20,
     "metadata": {},
     "output_type": "execute_result"
    }
   ],
   "source": [
    "arr=np.arange(10)\n",
    "arr"
   ]
  },
  {
   "cell_type": "code",
   "execution_count": 21,
   "metadata": {},
   "outputs": [
    {
     "data": {
      "text/plain": [
       "45"
      ]
     },
     "execution_count": 21,
     "metadata": {},
     "output_type": "execute_result"
    }
   ],
   "source": [
    "arr.sum()"
   ]
  },
  {
   "cell_type": "code",
   "execution_count": 22,
   "metadata": {},
   "outputs": [
    {
     "data": {
      "text/plain": [
       "45"
      ]
     },
     "execution_count": 22,
     "metadata": {},
     "output_type": "execute_result"
    }
   ],
   "source": [
    "np.add.reduce(arr)"
   ]
  },
  {
   "cell_type": "code",
   "execution_count": 23,
   "metadata": {},
   "outputs": [
    {
     "data": {
      "text/plain": [
       "45"
      ]
     },
     "execution_count": 23,
     "metadata": {},
     "output_type": "execute_result"
    }
   ],
   "source": [
    "np.sum(arr)"
   ]
  },
  {
   "cell_type": "code",
   "execution_count": null,
   "metadata": {},
   "outputs": [],
   "source": [
    "np.random.seed(12346)\n",
    "arr=np.random.randn(5,5)\n",
    "print(arr)\n",
    "arr[::2].sort(1)\n",
    "arr"
   ]
  },
  {
   "cell_type": "code",
   "execution_count": 24,
   "metadata": {},
   "outputs": [
    {
     "name": "stdout",
     "output_type": "stream",
     "text": [
      "[[ 0.4691123  -0.28286334 -1.5090585  -1.13563237  1.21211203]\n",
      " [-0.17321465  0.11920871 -1.04423597 -0.86184896 -2.10456922]\n",
      " [-0.49492927  1.07180381  0.72155516 -0.70677113 -1.03957499]\n",
      " [ 0.27185989 -0.42497233  0.56702035  0.27623202 -1.08740069]\n",
      " [-0.67368971  0.11364841 -1.47842655  0.52498767  0.40470522]]\n"
     ]
    },
    {
     "data": {
      "text/plain": [
       "array([[-1.5090585 , -1.13563237, -0.28286334,  0.4691123 ,  1.21211203],\n",
       "       [-0.17321465,  0.11920871, -1.04423597, -0.86184896, -2.10456922],\n",
       "       [-1.03957499, -0.70677113, -0.49492927,  0.72155516,  1.07180381],\n",
       "       [ 0.27185989, -0.42497233,  0.56702035,  0.27623202, -1.08740069],\n",
       "       [-1.47842655, -0.67368971,  0.11364841,  0.40470522,  0.52498767]])"
      ]
     },
     "execution_count": 24,
     "metadata": {},
     "output_type": "execute_result"
    }
   ],
   "source": [
    "np.random.seed(123456)\n",
    "arr=np.random.randn(5,5)\n",
    "print(arr)\n",
    "arr[::2].sort(1)\n",
    "arr\n",
    " # ya karaga ga row wise hi sort lakin thora farak ha 2 mean step size ha ya haar 1 ko sort kar ka 1 ko chora ga"
   ]
  },
  {
   "cell_type": "code",
   "execution_count": 26,
   "metadata": {},
   "outputs": [
    {
     "data": {
      "text/plain": [
       "array([[-1.5090585 , -1.13563237, -0.28286334,  0.4691123 ,  1.21211203],\n",
       "       [-2.10456922, -1.04423597, -0.86184896, -0.17321465,  0.11920871],\n",
       "       [-1.03957499, -0.70677113, -0.49492927,  0.72155516,  1.07180381],\n",
       "       [-1.08740069, -0.42497233,  0.27185989,  0.27623202,  0.56702035],\n",
       "       [-1.47842655, -0.67368971,  0.11364841,  0.40470522,  0.52498767]])"
      ]
     },
     "execution_count": 26,
     "metadata": {},
     "output_type": "execute_result"
    }
   ],
   "source": [
    "arr.sort(1)\n",
    "arr #1 mean row wise sort karaga "
   ]
  },
  {
   "cell_type": "code",
   "execution_count": 28,
   "metadata": {},
   "outputs": [
    {
     "data": {
      "text/plain": [
       "array([[-2.10456922, -1.13563237, -0.86184896, -0.17321465,  0.11920871],\n",
       "       [-1.5090585 , -1.04423597, -0.49492927,  0.27623202,  0.52498767],\n",
       "       [-1.47842655, -0.70677113, -0.28286334,  0.40470522,  0.56702035],\n",
       "       [-1.08740069, -0.67368971,  0.11364841,  0.4691123 ,  1.07180381],\n",
       "       [-1.03957499, -0.42497233,  0.27185989,  0.72155516,  1.21211203]])"
      ]
     },
     "execution_count": 28,
     "metadata": {},
     "output_type": "execute_result"
    }
   ],
   "source": [
    "arr.sort(0)\n",
    "arr #column wise sort karaga "
   ]
  },
  {
   "cell_type": "code",
   "execution_count": 31,
   "metadata": {},
   "outputs": [
    {
     "data": {
      "text/plain": [
       "array([[-2.10456922, -1.13563237, -0.86184896, -0.17321465,  0.11920871],\n",
       "       [-1.5090585 , -1.04423597, -0.49492927,  0.27623202,  0.52498767],\n",
       "       [-1.47842655, -0.70677113, -0.28286334,  0.40470522,  0.56702035],\n",
       "       [-1.08740069, -0.67368971,  0.11364841,  0.4691123 ,  1.07180381],\n",
       "       [-1.03957499, -0.42497233,  0.27185989,  0.72155516,  1.21211203]])"
      ]
     },
     "execution_count": 31,
     "metadata": {},
     "output_type": "execute_result"
    }
   ],
   "source": [
    "arr"
   ]
  },
  {
   "cell_type": "code",
   "execution_count": null,
   "metadata": {},
   "outputs": [],
   "source": [
    "arr[:,:-1]<arr[:,1:]"
   ]
  },
  {
   "cell_type": "code",
   "execution_count": 29,
   "metadata": {},
   "outputs": [
    {
     "data": {
      "text/plain": [
       "array([[-2.10456922, -1.13563237, -0.86184896, -0.17321465],\n",
       "       [-1.5090585 , -1.04423597, -0.49492927,  0.27623202],\n",
       "       [-1.47842655, -0.70677113, -0.28286334,  0.40470522],\n",
       "       [-1.08740069, -0.67368971,  0.11364841,  0.4691123 ],\n",
       "       [-1.03957499, -0.42497233,  0.27185989,  0.72155516]])"
      ]
     },
     "execution_count": 29,
     "metadata": {},
     "output_type": "execute_result"
    }
   ],
   "source": [
    "arr[:,:-1] # first : mean all rows chaye lakin column start sa 1 kam"
   ]
  },
  {
   "cell_type": "code",
   "execution_count": 32,
   "metadata": {},
   "outputs": [
    {
     "data": {
      "text/plain": [
       "array([[-1.13563237, -0.86184896, -0.17321465,  0.11920871],\n",
       "       [-1.04423597, -0.49492927,  0.27623202,  0.52498767],\n",
       "       [-0.70677113, -0.28286334,  0.40470522,  0.56702035],\n",
       "       [-0.67368971,  0.11364841,  0.4691123 ,  1.07180381],\n",
       "       [-0.42497233,  0.27185989,  0.72155516,  1.21211203]])"
      ]
     },
     "execution_count": 32,
     "metadata": {},
     "output_type": "execute_result"
    }
   ],
   "source": [
    "arr[:,1:]"
   ]
  },
  {
   "cell_type": "code",
   "execution_count": 33,
   "metadata": {},
   "outputs": [
    {
     "data": {
      "text/plain": [
       "array([[ True,  True,  True,  True],\n",
       "       [ True,  True,  True,  True],\n",
       "       [ True,  True,  True,  True],\n",
       "       [ True,  True,  True,  True],\n",
       "       [ True,  True,  True,  True]])"
      ]
     },
     "execution_count": 33,
     "metadata": {},
     "output_type": "execute_result"
    }
   ],
   "source": [
    "arr[:,:-1]<arr[:,1:]"
   ]
  },
  {
   "cell_type": "code",
   "execution_count": 30,
   "metadata": {},
   "outputs": [
    {
     "data": {
      "text/plain": [
       "array([[-1.03957499, -0.42497233,  0.27185989,  0.72155516,  1.21211203],\n",
       "       [-1.08740069, -0.67368971,  0.11364841,  0.4691123 ,  1.07180381],\n",
       "       [-1.47842655, -0.70677113, -0.28286334,  0.40470522,  0.56702035],\n",
       "       [-1.5090585 , -1.04423597, -0.49492927,  0.27623202,  0.52498767],\n",
       "       [-2.10456922, -1.13563237, -0.86184896, -0.17321465,  0.11920871]])"
      ]
     },
     "execution_count": 30,
     "metadata": {},
     "output_type": "execute_result"
    }
   ],
   "source": [
    "arr[::-1] # last row phala print karaga ya "
   ]
  },
  {
   "cell_type": "code",
   "execution_count": 45,
   "metadata": {},
   "outputs": [
    {
     "data": {
      "text/plain": [
       "array([ True,  True,  True,  True])"
      ]
     },
     "execution_count": 45,
     "metadata": {},
     "output_type": "execute_result"
    }
   ],
   "source": [
    "np.logical_and.reduce(arr[:,:-1]<arr[:,1:],axis=0)  #zero mean column  1 mean column ya and or ha simple"
   ]
  },
  {
   "cell_type": "code",
   "execution_count": 43,
   "metadata": {},
   "outputs": [
    {
     "data": {
      "text/plain": [
       "(5, 5)"
      ]
     },
     "execution_count": 43,
     "metadata": {},
     "output_type": "execute_result"
    }
   ],
   "source": [
    "arr.shape"
   ]
  },
  {
   "cell_type": "code",
   "execution_count": 39,
   "metadata": {},
   "outputs": [
    {
     "data": {
      "text/plain": [
       "array([[-2.10456922, -1.13563237, -0.86184896, -0.17321465],\n",
       "       [-1.5090585 , -1.04423597, -0.49492927,  0.27623202],\n",
       "       [-1.47842655, -0.70677113, -0.28286334,  0.40470522],\n",
       "       [-1.08740069, -0.67368971,  0.11364841,  0.4691123 ],\n",
       "       [-1.03957499, -0.42497233,  0.27185989,  0.72155516]])"
      ]
     },
     "execution_count": 39,
     "metadata": {},
     "output_type": "execute_result"
    }
   ],
   "source": [
    "arr[:,:-1]"
   ]
  },
  {
   "cell_type": "code",
   "execution_count": 40,
   "metadata": {},
   "outputs": [
    {
     "data": {
      "text/plain": [
       "array([[-2.10456922, -1.13563237, -0.86184896],\n",
       "       [-1.5090585 , -1.04423597, -0.49492927],\n",
       "       [-1.47842655, -0.70677113, -0.28286334],\n",
       "       [-1.08740069, -0.67368971,  0.11364841],\n",
       "       [-1.03957499, -0.42497233,  0.27185989]])"
      ]
     },
     "execution_count": 40,
     "metadata": {},
     "output_type": "execute_result"
    }
   ],
   "source": [
    "arr[:,:-2]"
   ]
  },
  {
   "cell_type": "code",
   "execution_count": 46,
   "metadata": {},
   "outputs": [
    {
     "data": {
      "text/plain": [
       "array([[ 0,  1,  2,  3,  4],\n",
       "       [ 5,  6,  7,  8,  9],\n",
       "       [10, 11, 12, 13, 14]])"
      ]
     },
     "execution_count": 46,
     "metadata": {},
     "output_type": "execute_result"
    }
   ],
   "source": [
    "arr=np.arange(15).reshape(3,5)\n",
    "arr"
   ]
  },
  {
   "cell_type": "code",
   "execution_count": 47,
   "metadata": {},
   "outputs": [
    {
     "data": {
      "text/plain": [
       "array([[ 0,  1,  2,  3,  4],\n",
       "       [ 5,  7,  9, 11, 13],\n",
       "       [15, 18, 21, 24, 27]], dtype=int32)"
      ]
     },
     "execution_count": 47,
     "metadata": {},
     "output_type": "execute_result"
    }
   ],
   "source": [
    "np.add.accumulate(arr,axis=0) # 0 mean columnn wise harr phali value ko 2nd na add"
   ]
  },
  {
   "cell_type": "code",
   "execution_count": 48,
   "metadata": {},
   "outputs": [
    {
     "data": {
      "text/plain": [
       "array([[ 0,  1,  3,  6, 10],\n",
       "       [ 5, 11, 18, 26, 35],\n",
       "       [10, 21, 33, 46, 60]], dtype=int32)"
      ]
     },
     "execution_count": 48,
     "metadata": {},
     "output_type": "execute_result"
    }
   ],
   "source": [
    "np.add.accumulate(arr,axis=1) # 1 mean row wise harr phali value ko 2nd na add"
   ]
  },
  {
   "cell_type": "code",
   "execution_count": 75,
   "metadata": {},
   "outputs": [
    {
     "data": {
      "text/plain": [
       "array([0, 1, 2, 3, 4, 5, 6, 7, 8, 9])"
      ]
     },
     "execution_count": 75,
     "metadata": {},
     "output_type": "execute_result"
    }
   ],
   "source": [
    "arr=np.arange(10)\n",
    "arr"
   ]
  },
  {
   "cell_type": "code",
   "execution_count": 55,
   "metadata": {},
   "outputs": [
    {
     "data": {
      "text/plain": [
       "array([0, 1, 1, 1, 1, 1, 2, 2])"
      ]
     },
     "execution_count": 55,
     "metadata": {},
     "output_type": "execute_result"
    }
   ],
   "source": [
    "arr.repeat([1,5,2]) # list provide kari ha tu ya possitional ak tarha sa mean first elment jo list ka utni baar array ka first ko repeat karo"
   ]
  },
  {
   "cell_type": "code",
   "execution_count": 54,
   "metadata": {},
   "outputs": [
    {
     "data": {
      "text/plain": [
       "array([0, 0, 0, 1, 1, 1, 2, 2, 2])"
      ]
     },
     "execution_count": 54,
     "metadata": {},
     "output_type": "execute_result"
    }
   ],
   "source": [
    "arr.repeat(3) #agar  reapeat ka bracket ma 3 tu sb value ko repeat kardaga"
   ]
  },
  {
   "cell_type": "code",
   "execution_count": 76,
   "metadata": {},
   "outputs": [
    {
     "data": {
      "text/plain": [
       "array([[ 0,  0,  0,  0,  0],\n",
       "       [ 0,  1,  2,  3,  4],\n",
       "       [ 0,  2,  4,  6,  8],\n",
       "       [ 0,  3,  6,  9, 12],\n",
       "       [ 0,  4,  8, 12, 16],\n",
       "       [ 0,  5, 10, 15, 20],\n",
       "       [ 0,  6, 12, 18, 24],\n",
       "       [ 0,  7, 14, 21, 28],\n",
       "       [ 0,  8, 16, 24, 32],\n",
       "       [ 0,  9, 18, 27, 36]])"
      ]
     },
     "execution_count": 76,
     "metadata": {},
     "output_type": "execute_result"
    }
   ],
   "source": [
    "np.outer(arr,np.arange(5))"
   ]
  },
  {
   "cell_type": "code",
   "execution_count": 69,
   "metadata": {},
   "outputs": [
    {
     "data": {
      "text/plain": [
       "array([[0, 1],\n",
       "       [2, 3],\n",
       "       [4, 5],\n",
       "       [6, 7],\n",
       "       [8, 9]])"
      ]
     },
     "execution_count": 69,
     "metadata": {},
     "output_type": "execute_result"
    }
   ],
   "source": [
    "arr"
   ]
  },
  {
   "cell_type": "code",
   "execution_count": 68,
   "metadata": {},
   "outputs": [
    {
     "data": {
      "text/plain": [
       "array([[ 0,  0,  0,  0,  0,  0,  0,  0,  0,  0],\n",
       "       [ 0,  1,  2,  3,  4,  5,  6,  7,  8,  9],\n",
       "       [ 0,  2,  4,  6,  8, 10, 12, 14, 16, 18],\n",
       "       [ 0,  3,  6,  9, 12, 15, 18, 21, 24, 27],\n",
       "       [ 0,  4,  8, 12, 16, 20, 24, 28, 32, 36],\n",
       "       [ 0,  5, 10, 15, 20, 25, 30, 35, 40, 45],\n",
       "       [ 0,  6, 12, 18, 24, 30, 36, 42, 48, 54],\n",
       "       [ 0,  7, 14, 21, 28, 35, 42, 49, 56, 63],\n",
       "       [ 0,  8, 16, 24, 32, 40, 48, 56, 64, 72],\n",
       "       [ 0,  9, 18, 27, 36, 45, 54, 63, 72, 81]])"
      ]
     },
     "execution_count": 68,
     "metadata": {},
     "output_type": "execute_result"
    }
   ],
   "source": [
    "np.outer(arr,arr) #isma sirf itna ka phala array ka phala element 2nd ki first row sa hoga"
   ]
  },
  {
   "cell_type": "code",
   "execution_count": 72,
   "metadata": {},
   "outputs": [
    {
     "data": {
      "text/plain": [
       "array([1, 2, 3])"
      ]
     },
     "execution_count": 72,
     "metadata": {},
     "output_type": "execute_result"
    }
   ],
   "source": [
    "arr=np.array([1,2,3])\n",
    "arr # phala ka 1 dosra ki pori row sa"
   ]
  },
  {
   "cell_type": "code",
   "execution_count": 73,
   "metadata": {},
   "outputs": [
    {
     "data": {
      "text/plain": [
       "array([4, 5, 6, 7, 8])"
      ]
     },
     "execution_count": 73,
     "metadata": {},
     "output_type": "execute_result"
    }
   ],
   "source": [
    "arr2=np.array([4,5,6,7,8])\n",
    "arr2"
   ]
  },
  {
   "cell_type": "code",
   "execution_count": 74,
   "metadata": {},
   "outputs": [
    {
     "data": {
      "text/plain": [
       "array([[ 4,  5,  6,  7,  8],\n",
       "       [ 8, 10, 12, 14, 16],\n",
       "       [12, 15, 18, 21, 24]])"
      ]
     },
     "execution_count": 74,
     "metadata": {},
     "output_type": "execute_result"
    }
   ],
   "source": [
    "np.outer(arr,arr2)"
   ]
  },
  {
   "cell_type": "code",
   "execution_count": 78,
   "metadata": {},
   "outputs": [
    {
     "data": {
      "text/plain": [
       "array([0, 1, 2, 3, 4, 5, 6, 7, 8, 9])"
      ]
     },
     "execution_count": 78,
     "metadata": {},
     "output_type": "execute_result"
    }
   ],
   "source": [
    "arr=np.arange(10)\n",
    "arr"
   ]
  },
  {
   "cell_type": "code",
   "execution_count": 79,
   "metadata": {},
   "outputs": [
    {
     "data": {
      "text/plain": [
       "array([0, 1, 2, 3, 4])"
      ]
     },
     "execution_count": 79,
     "metadata": {},
     "output_type": "execute_result"
    }
   ],
   "source": [
    "arr1=np.arange(5)\n",
    "arr1"
   ]
  },
  {
   "cell_type": "code",
   "execution_count": 81,
   "metadata": {},
   "outputs": [
    {
     "data": {
      "text/plain": [
       "array([[ 0,  0,  0,  0,  0],\n",
       "       [ 0,  1,  2,  3,  4],\n",
       "       [ 0,  2,  4,  6,  8],\n",
       "       [ 0,  3,  6,  9, 12],\n",
       "       [ 0,  4,  8, 12, 16],\n",
       "       [ 0,  5, 10, 15, 20],\n",
       "       [ 0,  6, 12, 18, 24],\n",
       "       [ 0,  7, 14, 21, 28],\n",
       "       [ 0,  8, 16, 24, 32],\n",
       "       [ 0,  9, 18, 27, 36]])"
      ]
     },
     "execution_count": 81,
     "metadata": {},
     "output_type": "execute_result"
    }
   ],
   "source": [
    "np.outer(arr,arr1)"
   ]
  },
  {
   "cell_type": "code",
   "execution_count": 83,
   "metadata": {},
   "outputs": [
    {
     "name": "stdout",
     "output_type": "stream",
     "text": [
      "e is missing\n"
     ]
    }
   ],
   "source": [
    "a = ['a','b','c','d','f']\n",
    "for n in range(len(a)-1):\n",
    "    x=ord(a[n])\n",
    "    y=ord(a[n+1])\n",
    "    if y!=x+1:\n",
    "        print(chr(x+1)+\" is missing\")"
   ]
  },
  {
   "cell_type": "code",
   "execution_count": 92,
   "metadata": {},
   "outputs": [
    {
     "name": "stdout",
     "output_type": "stream",
     "text": [
      "e is missing\n"
     ]
    }
   ],
   "source": [
    "a=['a','b','c','d','f']\n",
    "for n in range(len(a)-1):\n",
    "    x=ord(a[n])\n",
    "    y=ord(a[n+1])\n",
    "    if y!=x+1:\n",
    "        print(chr(x+1)+\" is missing\")"
   ]
  },
  {
   "cell_type": "code",
   "execution_count": 85,
   "metadata": {},
   "outputs": [
    {
     "data": {
      "text/plain": [
       "4"
      ]
     },
     "execution_count": 85,
     "metadata": {},
     "output_type": "execute_result"
    }
   ],
   "source": [
    "len(a)-1"
   ]
  },
  {
   "cell_type": "code",
   "execution_count": 91,
   "metadata": {},
   "outputs": [
    {
     "data": {
      "text/plain": [
       "100"
      ]
     },
     "execution_count": 91,
     "metadata": {},
     "output_type": "execute_result"
    }
   ],
   "source": [
    "x=ord(a[n])\n",
    "x"
   ]
  },
  {
   "cell_type": "code",
   "execution_count": 90,
   "metadata": {},
   "outputs": [
    {
     "data": {
      "text/plain": [
       "102"
      ]
     },
     "execution_count": 90,
     "metadata": {},
     "output_type": "execute_result"
    }
   ],
   "source": [
    "x=ord(a[n+1])\n",
    "x"
   ]
  },
  {
   "cell_type": "code",
   "execution_count": 87,
   "metadata": {},
   "outputs": [
    {
     "data": {
      "text/plain": [
       "'d'"
      ]
     },
     "execution_count": 87,
     "metadata": {},
     "output_type": "execute_result"
    }
   ],
   "source": [
    "x=a[n]\n",
    "x"
   ]
  },
  {
   "cell_type": "code",
   "execution_count": 89,
   "metadata": {},
   "outputs": [
    {
     "data": {
      "text/plain": [
       "'f'"
      ]
     },
     "execution_count": 89,
     "metadata": {},
     "output_type": "execute_result"
    }
   ],
   "source": [
    "x=a[n+1]\n",
    "x"
   ]
  },
  {
   "cell_type": "code",
   "execution_count": 95,
   "metadata": {},
   "outputs": [
    {
     "name": "stdout",
     "output_type": "stream",
     "text": [
      "[[-0.82731694 -0.07646702 -1.18767758  1.1301273 ]\n",
      " [-1.43673732 -1.41368087  1.60792047  1.02418016]\n",
      " [ 0.56960526  0.8759064  -2.21137223  0.97446607]] \n",
      "\n",
      "[-2.00674721 -0.41000057 -0.07863759  0.54595192 -1.21921682]\n"
     ]
    }
   ],
   "source": [
    "x,y=np.random.randn(3,4),np.random.randn(5)\n",
    "print(x,'\\n')\n",
    "\n",
    "print(y)"
   ]
  },
  {
   "cell_type": "code",
   "execution_count": 98,
   "metadata": {},
   "outputs": [
    {
     "data": {
      "text/plain": [
       "array([[[ 1.17943027e+00, -4.17316367e-01, -7.48679350e-01,\n",
       "         -1.37326886e+00,  3.91899887e-01],\n",
       "        [ 1.93028019e+00,  3.33533550e-01,  2.17056790e-03,\n",
       "         -6.22418937e-01,  1.14274981e+00],\n",
       "        [ 8.19069628e-01, -7.77677009e-01, -1.10903999e+00,\n",
       "         -1.73362950e+00,  3.15392456e-02],\n",
       "        [ 3.13687450e+00,  1.54012787e+00,  1.20876488e+00,\n",
       "          5.84175378e-01,  2.34934412e+00]],\n",
       "\n",
       "       [[ 5.70009887e-01, -1.02673675e+00, -1.35809973e+00,\n",
       "         -1.98268924e+00, -2.17520495e-01],\n",
       "        [ 5.93066334e-01, -1.00368030e+00, -1.33504329e+00,\n",
       "         -1.95963279e+00, -1.94464048e-01],\n",
       "        [ 3.61466768e+00,  2.01792104e+00,  1.68655806e+00,\n",
       "          1.06196855e+00,  2.82713730e+00],\n",
       "        [ 3.03092737e+00,  1.43418073e+00,  1.10281775e+00,\n",
       "          4.78228240e-01,  2.24339698e+00]],\n",
       "\n",
       "       [[ 2.57635247e+00,  9.79605832e-01,  6.48242849e-01,\n",
       "          2.36533440e-02,  1.78882209e+00],\n",
       "        [ 2.88265361e+00,  1.28590697e+00,  9.54543988e-01,\n",
       "          3.29954483e-01,  2.09512323e+00],\n",
       "        [-2.04625029e-01, -1.80137167e+00, -2.13273465e+00,\n",
       "         -2.75732415e+00, -9.92155411e-01],\n",
       "        [ 2.98121327e+00,  1.38446664e+00,  1.05310365e+00,\n",
       "          4.28514149e-01,  2.19368289e+00]]])"
      ]
     },
     "execution_count": 98,
     "metadata": {},
     "output_type": "execute_result"
    }
   ],
   "source": [
    "result=np.subtract.outer(x,y)\n",
    "result\n",
    "# is ma sirf ya hoa phla array ka first element 2nd array ki first row sa ak ak karka hoga subtract hoga\n",
    "# ya direct - isliye nhi hoa q ka - ka liya row column same hona chaye"
   ]
  },
  {
   "cell_type": "code",
   "execution_count": 99,
   "metadata": {},
   "outputs": [
    {
     "data": {
      "text/plain": [
       "(3, 4, 5)"
      ]
     },
     "execution_count": 99,
     "metadata": {},
     "output_type": "execute_result"
    }
   ],
   "source": [
    "result.shape"
   ]
  },
  {
   "cell_type": "code",
   "execution_count": 104,
   "metadata": {},
   "outputs": [
    {
     "name": "stdout",
     "output_type": "stream",
     "text": [
      "[[0 1 2]\n",
      " [3 4 5]\n",
      " [6 7 8]] \n",
      "\n",
      "[0 1 2] \n",
      "\n"
     ]
    },
    {
     "data": {
      "text/plain": [
       "array([[0, 0, 0],\n",
       "       [3, 3, 3],\n",
       "       [6, 6, 6]])"
      ]
     },
     "execution_count": 104,
     "metadata": {},
     "output_type": "execute_result"
    }
   ],
   "source": [
    "x1=np.arange(9).reshape(3,3)\n",
    "print(x1,'\\n')\n",
    "x2=np.arange(3)\n",
    "print(x2,'\\n')\n",
    "np.subtract(x1,x2) # ya subtarct isliye hogaya q ka column same ha"
   ]
  },
  {
   "cell_type": "code",
   "execution_count": 105,
   "metadata": {},
   "outputs": [
    {
     "name": "stdout",
     "output_type": "stream",
     "text": [
      "[[ 0  1  2  3]\n",
      " [ 4  5  6  7]\n",
      " [ 8  9 10 11]]\n",
      "[0 1 2 3 4]\n"
     ]
    },
    {
     "data": {
      "text/plain": [
       "array([[[ 0, -1, -2, -3, -4],\n",
       "        [ 1,  0, -1, -2, -3],\n",
       "        [ 2,  1,  0, -1, -2],\n",
       "        [ 3,  2,  1,  0, -1]],\n",
       "\n",
       "       [[ 4,  3,  2,  1,  0],\n",
       "        [ 5,  4,  3,  2,  1],\n",
       "        [ 6,  5,  4,  3,  2],\n",
       "        [ 7,  6,  5,  4,  3]],\n",
       "\n",
       "       [[ 8,  7,  6,  5,  4],\n",
       "        [ 9,  8,  7,  6,  5],\n",
       "        [10,  9,  8,  7,  6],\n",
       "        [11, 10,  9,  8,  7]]])"
      ]
     },
     "execution_count": 105,
     "metadata": {},
     "output_type": "execute_result"
    }
   ],
   "source": [
    "x,y=np.arange(12).reshape(3,4),np.arange(5)\n",
    "print(x)\n",
    "print(y)\n",
    "np.subtract.outer(x,y)\n",
    "#subtract ka sath outer ha isliye 1st array ka phala element 2nd array ki 1st row sa hoga"
   ]
  },
  {
   "cell_type": "code",
   "execution_count": 111,
   "metadata": {},
   "outputs": [
    {
     "name": "stdout",
     "output_type": "stream",
     "text": [
      "[0 1 2 3 4 5 6 7 8 9]\n"
     ]
    },
    {
     "data": {
      "text/plain": [
       "array([10, 18, 17], dtype=int32)"
      ]
     },
     "execution_count": 111,
     "metadata": {},
     "output_type": "execute_result"
    }
   ],
   "source": [
    "import numpy as np\n",
    "arr=np.arange(10)\n",
    "print(arr)\n",
    "np.add.reduceat(arr,[0,5,8])\n",
    "# arr[0:5]\n",
    "# arr[5:8]\n",
    "# arr[8:]\n",
    "# ak tarha sa check point lagaye ha baaas 0,5 mean exclusive ha ya"
   ]
  },
  {
   "cell_type": "code",
   "execution_count": 114,
   "metadata": {},
   "outputs": [
    {
     "data": {
      "text/plain": [
       "array([[ 0,  0,  0,  0,  0],\n",
       "       [ 0,  1,  2,  3,  4],\n",
       "       [ 0,  2,  4,  6,  8],\n",
       "       [ 0,  3,  6,  9, 12]])"
      ]
     },
     "execution_count": 114,
     "metadata": {},
     "output_type": "execute_result"
    }
   ],
   "source": [
    "arr = np.multiply.outer(np.arange(4), np.arange(5))\n",
    "arr"
   ]
  },
  {
   "cell_type": "code",
   "execution_count": 115,
   "metadata": {},
   "outputs": [
    {
     "name": "stdout",
     "output_type": "stream",
     "text": [
      "[0 1 2 3]\n",
      "[0 1 2 3 4]\n"
     ]
    }
   ],
   "source": [
    "arr1=np.arange(4)\n",
    "print(arr1)\n",
    "arr2=np.arange(5)\n",
    "print(arr2)"
   ]
  },
  {
   "cell_type": "code",
   "execution_count": 109,
   "metadata": {},
   "outputs": [
    {
     "data": {
      "text/plain": [
       "array([[ 0,  0,  0,  0,  0],\n",
       "       [ 0,  1,  2,  3,  4],\n",
       "       [ 0,  2,  4,  6,  8],\n",
       "       [ 0,  3,  6,  9, 12]])"
      ]
     },
     "execution_count": 109,
     "metadata": {},
     "output_type": "execute_result"
    }
   ],
   "source": [
    "np.outer(arr1,arr2)"
   ]
  },
  {
   "cell_type": "code",
   "execution_count": 116,
   "metadata": {},
   "outputs": [
    {
     "data": {
      "text/plain": [
       "array([[ 0,  0,  0,  0,  0],\n",
       "       [ 0,  1,  2,  3,  4],\n",
       "       [ 0,  2,  4,  6,  8],\n",
       "       [ 0,  3,  6,  9, 12]])"
      ]
     },
     "execution_count": 116,
     "metadata": {},
     "output_type": "execute_result"
    }
   ],
   "source": [
    "arr"
   ]
  },
  {
   "cell_type": "code",
   "execution_count": 117,
   "metadata": {},
   "outputs": [
    {
     "data": {
      "text/plain": [
       "array([[ 0,  0,  0],\n",
       "       [ 1,  5,  4],\n",
       "       [ 2, 10,  8],\n",
       "       [ 3, 15, 12]], dtype=int32)"
      ]
     },
     "execution_count": 117,
     "metadata": {},
     "output_type": "execute_result"
    }
   ],
   "source": [
    "np.add.reduceat(arr,[0,2,4],axis=1) # 0 mean column ha 1 mean row aur exclusive ha ya 0,2 mean 0,1"
   ]
  },
  {
   "cell_type": "code",
   "execution_count": 118,
   "metadata": {},
   "outputs": [
    {
     "ename": "IndexError",
     "evalue": "index 4 out-of-bounds in add.reduceat [0, 4)",
     "output_type": "error",
     "traceback": [
      "\u001b[1;31m---------------------------------------------------------------------------\u001b[0m",
      "\u001b[1;31mIndexError\u001b[0m                                Traceback (most recent call last)",
      "\u001b[1;32m<ipython-input-118-f90a0ab93559>\u001b[0m in \u001b[0;36m<module>\u001b[1;34m\u001b[0m\n\u001b[1;32m----> 1\u001b[1;33m \u001b[0mnp\u001b[0m\u001b[1;33m.\u001b[0m\u001b[0madd\u001b[0m\u001b[1;33m.\u001b[0m\u001b[0mreduceat\u001b[0m\u001b[1;33m(\u001b[0m\u001b[0marr\u001b[0m\u001b[1;33m,\u001b[0m\u001b[1;33m[\u001b[0m\u001b[1;36m0\u001b[0m\u001b[1;33m,\u001b[0m\u001b[1;36m2\u001b[0m\u001b[1;33m,\u001b[0m\u001b[1;36m4\u001b[0m\u001b[1;33m]\u001b[0m\u001b[1;33m,\u001b[0m\u001b[0maxis\u001b[0m\u001b[1;33m=\u001b[0m\u001b[1;36m0\u001b[0m\u001b[1;33m)\u001b[0m\u001b[1;33m\u001b[0m\u001b[1;33m\u001b[0m\u001b[0m\n\u001b[0m",
      "\u001b[1;31mIndexError\u001b[0m: index 4 out-of-bounds in add.reduceat [0, 4)"
     ]
    }
   ],
   "source": [
    "np.add.reduceat(arr,[0,2,4],axis=0) # 4 sa agha kuch nhi ha tu column ma error agaya"
   ]
  },
  {
   "cell_type": "code",
   "execution_count": 120,
   "metadata": {},
   "outputs": [
    {
     "data": {
      "text/plain": [
       "array([[ 0,  0,  0,  0,  0],\n",
       "       [ 0,  1,  2,  3,  4],\n",
       "       [ 0,  2,  4,  6,  8],\n",
       "       [ 0,  3,  6,  9, 12]])"
      ]
     },
     "execution_count": 120,
     "metadata": {},
     "output_type": "execute_result"
    }
   ],
   "source": [
    "arr"
   ]
  },
  {
   "cell_type": "code",
   "execution_count": 119,
   "metadata": {},
   "outputs": [
    {
     "data": {
      "text/plain": [
       "array([[ 0,  1,  2,  3,  4],\n",
       "       [ 0,  5, 10, 15, 20]], dtype=int32)"
      ]
     },
     "execution_count": 119,
     "metadata": {},
     "output_type": "execute_result"
    }
   ],
   "source": [
    "np.add.reduceat(arr,[0,2],axis=0)"
   ]
  },
  {
   "cell_type": "code",
   "execution_count": 2,
   "metadata": {},
   "outputs": [],
   "source": [
    "import numpy as np"
   ]
  },
  {
   "cell_type": "code",
   "execution_count": 7,
   "metadata": {},
   "outputs": [
    {
     "data": {
      "text/plain": [
       "array([0, 2, 4, 6, 8, 10, 12, 14], dtype=object)"
      ]
     },
     "execution_count": 7,
     "metadata": {},
     "output_type": "execute_result"
    }
   ],
   "source": [
    "def add_elements(x,y):\n",
    "     return x+y\n",
    "add_them=np.frompyfunc(add_elements,2,1)\n",
    "add_them(np.arange(8),np.arange(8))\n",
    "# numpy.frompyfunc(func, nin, nout)\n",
    "# nin : int\n",
    "# The number of input arguments.\n",
    "\n",
    "# nout : int\n",
    "# The number of objects returned by func."
   ]
  },
  {
   "cell_type": "code",
   "execution_count": 12,
   "metadata": {},
   "outputs": [
    {
     "data": {
      "text/plain": [
       "array([0, 2, 4, 6, 8, 10, 12, 14, 16, 18], dtype=object)"
      ]
     },
     "execution_count": 12,
     "metadata": {},
     "output_type": "execute_result"
    }
   ],
   "source": [
    "def add_elements(x,y):\n",
    "     return x+y\n",
    "add_them=np.frompyfunc(add_elements,2,1)\n",
    "add_them(np.arange(10),np.arange(10))\n",
    "# ya func sirf itna kar raha ha ka 2 array ko apas ma add karwa raha ha humna sirf 1 fun banaya aur fromy func sa utilize kiya "
   ]
  },
  {
   "cell_type": "code",
   "execution_count": 14,
   "metadata": {},
   "outputs": [
    {
     "data": {
      "text/plain": [
       "array([ 0,  2,  4,  6,  8, 10, 12, 14])"
      ]
     },
     "execution_count": 14,
     "metadata": {},
     "output_type": "execute_result"
    }
   ],
   "source": [
    "add_them=np.vectorize(add_elements)\n",
    "add_them(np.arange(8),np.arange(8))\n",
    "# vectorize aur frompyfunc ak hi bass vector wala data type bi define kar sakta ha"
   ]
  },
  {
   "cell_type": "code",
   "execution_count": 18,
   "metadata": {},
   "outputs": [
    {
     "data": {
      "text/plain": [
       "array([ 0.,  2.,  4.,  6.,  8., 10., 12., 14.])"
      ]
     },
     "execution_count": 18,
     "metadata": {},
     "output_type": "execute_result"
    }
   ],
   "source": [
    "add_them=np.vectorize(add_elements,otypes=[np.float64])\n",
    "add_them(np.arange(8),np.arange(8))"
   ]
  },
  {
   "cell_type": "code",
   "execution_count": 19,
   "metadata": {},
   "outputs": [
    {
     "name": "stdout",
     "output_type": "stream",
     "text": [
      "3.94 ms ± 272 µs per loop (mean ± std. dev. of 7 runs, 100 loops each)\n"
     ]
    }
   ],
   "source": [
    "arr = np.random.randn(10000)\n",
    "\n",
    "%timeit add_them(arr, arr)\n"
   ]
  },
  {
   "cell_type": "code",
   "execution_count": 20,
   "metadata": {},
   "outputs": [
    {
     "data": {
      "text/plain": [
       "array(20.)"
      ]
     },
     "execution_count": 20,
     "metadata": {},
     "output_type": "execute_result"
    }
   ],
   "source": [
    "add_them(10,10) # jb bi hum vector wala ya frompy wala func use karta tu jo variable ha wo function ban jata ha "
   ]
  },
  {
   "cell_type": "code",
   "execution_count": 21,
   "metadata": {},
   "outputs": [
    {
     "name": "stdout",
     "output_type": "stream",
     "text": [
      "60.8 ns ± 4.85 ns per loop (mean ± std. dev. of 7 runs, 10000000 loops each)\n"
     ]
    }
   ],
   "source": [
    "arr=np.random.randn(1000)\n",
    "\n",
    "%timeit arr"
   ]
  },
  {
   "cell_type": "code",
   "execution_count": 22,
   "metadata": {},
   "outputs": [
    {
     "name": "stdout",
     "output_type": "stream",
     "text": [
      "388 µs ± 20.5 µs per loop (mean ± std. dev. of 7 runs, 1000 loops each)\n"
     ]
    }
   ],
   "source": [
    "arr=np.random.randn(1000)\n",
    "\n",
    "%timeit add_them(arr,arr)"
   ]
  },
  {
   "cell_type": "code",
   "execution_count": 24,
   "metadata": {},
   "outputs": [
    {
     "data": {
      "text/plain": [
       "array([(1.5       ,  6), (3.14159265, -2)],\n",
       "      dtype=[('x', '<f8'), ('y', '<i4')])"
      ]
     },
     "execution_count": 24,
     "metadata": {},
     "output_type": "execute_result"
    }
   ],
   "source": [
    "dtypes=[('x',np.float64),('y',np.int32)]\n",
    "sarr=np.array([(1.5,6),(np.pi,-2)],dtype=dtypes)\n",
    "sarr"
   ]
  },
  {
   "cell_type": "code",
   "execution_count": 25,
   "metadata": {},
   "outputs": [
    {
     "data": {
      "text/plain": [
       "[('x', numpy.float64), ('y', numpy.int32)]"
      ]
     },
     "execution_count": 25,
     "metadata": {},
     "output_type": "execute_result"
    }
   ],
   "source": [
    "d=[('x',np.float64),('y',np.int32)]\n",
    "d"
   ]
  },
  {
   "cell_type": "code",
   "execution_count": 26,
   "metadata": {},
   "outputs": [
    {
     "data": {
      "text/plain": [
       "array([[ 1.5       ,  6.        ],\n",
       "       [ 3.14159265, -2.        ]])"
      ]
     },
     "execution_count": 26,
     "metadata": {},
     "output_type": "execute_result"
    }
   ],
   "source": [
    "s=np.array([(1.5,6),(np.pi,-2)])\n",
    "s"
   ]
  },
  {
   "cell_type": "code",
   "execution_count": 29,
   "metadata": {},
   "outputs": [
    {
     "data": {
      "text/plain": [
       "array([(1.5       ,  6), (3.14159265, -2)],\n",
       "      dtype=[('x', '<f8'), ('y', '<i4')])"
      ]
     },
     "execution_count": 29,
     "metadata": {},
     "output_type": "execute_result"
    }
   ],
   "source": [
    "se=np.array([(1.5,6),(np.pi,-2)],dtype=d)\n",
    "se"
   ]
  },
  {
   "cell_type": "code",
   "execution_count": 30,
   "metadata": {},
   "outputs": [
    {
     "data": {
      "text/plain": [
       "(1.5, 6)"
      ]
     },
     "execution_count": 30,
     "metadata": {},
     "output_type": "execute_result"
    }
   ],
   "source": [
    "sarr[0]"
   ]
  },
  {
   "cell_type": "code",
   "execution_count": 31,
   "metadata": {},
   "outputs": [
    {
     "data": {
      "text/plain": [
       "(3.14159265, -2)"
      ]
     },
     "execution_count": 31,
     "metadata": {},
     "output_type": "execute_result"
    }
   ],
   "source": [
    "sarr[1]"
   ]
  },
  {
   "cell_type": "code",
   "execution_count": 32,
   "metadata": {},
   "outputs": [
    {
     "data": {
      "text/plain": [
       "6"
      ]
     },
     "execution_count": 32,
     "metadata": {},
     "output_type": "execute_result"
    }
   ],
   "source": [
    "sarr[0]['y']"
   ]
  },
  {
   "cell_type": "code",
   "execution_count": 34,
   "metadata": {},
   "outputs": [
    {
     "data": {
      "text/plain": [
       "array([ 6, -2])"
      ]
     },
     "execution_count": 34,
     "metadata": {},
     "output_type": "execute_result"
    }
   ],
   "source": [
    "sarr['y']"
   ]
  },
  {
   "cell_type": "code",
   "execution_count": 35,
   "metadata": {},
   "outputs": [
    {
     "data": {
      "text/plain": [
       "array([1.5       , 3.14159265])"
      ]
     },
     "execution_count": 35,
     "metadata": {},
     "output_type": "execute_result"
    }
   ],
   "source": [
    "sarr['x']"
   ]
  },
  {
   "cell_type": "code",
   "execution_count": 37,
   "metadata": {},
   "outputs": [
    {
     "data": {
      "text/plain": [
       "3.141592653589793"
      ]
     },
     "execution_count": 37,
     "metadata": {},
     "output_type": "execute_result"
    }
   ],
   "source": [
    "sarr['x'][1]"
   ]
  },
  {
   "cell_type": "code",
   "execution_count": 38,
   "metadata": {},
   "outputs": [
    {
     "data": {
      "text/plain": [
       "array([(1.5       ,  6), (3.14159265, -2)],\n",
       "      dtype=[('x', '<f8'), ('y', '<i4')])"
      ]
     },
     "execution_count": 38,
     "metadata": {},
     "output_type": "execute_result"
    }
   ],
   "source": [
    "sarr # is ma simple ya hoa ha ka ka jb dtype=type huma tu phala tuple ka phala element aur second tuple ka 2nd element ki type ak hogaye "
   ]
  },
  {
   "cell_type": "code",
   "execution_count": 46,
   "metadata": {},
   "outputs": [
    {
     "data": {
      "text/plain": [
       "[('x', numpy.int64, 3), ('y', numpy.int32)]"
      ]
     },
     "execution_count": 46,
     "metadata": {},
     "output_type": "execute_result"
    }
   ],
   "source": [
    "d=[('x',np.int64,3),('y',np.int32)]\n",
    "d"
   ]
  },
  {
   "cell_type": "code",
   "execution_count": 47,
   "metadata": {},
   "outputs": [
    {
     "data": {
      "text/plain": [
       "array([0., 0., 0., 0.])"
      ]
     },
     "execution_count": 47,
     "metadata": {},
     "output_type": "execute_result"
    }
   ],
   "source": [
    "i=np.zeros(4)\n",
    "i"
   ]
  },
  {
   "cell_type": "code",
   "execution_count": 48,
   "metadata": {},
   "outputs": [
    {
     "data": {
      "text/plain": [
       "array([([0, 0, 0], 0), ([0, 0, 0], 0), ([0, 0, 0], 0), ([0, 0, 0], 0)],\n",
       "      dtype=[('x', '<i8', (3,)), ('y', '<i4')])"
      ]
     },
     "execution_count": 48,
     "metadata": {},
     "output_type": "execute_result"
    }
   ],
   "source": [
    "i=np.zeros(4,dtype=d)\n",
    "i"
   ]
  },
  {
   "cell_type": "code",
   "execution_count": 2,
   "metadata": {},
   "outputs": [
    {
     "data": {
      "text/plain": [
       "[('x', numpy.int64, 5), ('y', numpy.int32, 3)]"
      ]
     },
     "execution_count": 2,
     "metadata": {},
     "output_type": "execute_result"
    }
   ],
   "source": [
    "d=[('x',np.int64,5),('y',np.int32,3)]\n",
    "d"
   ]
  },
  {
   "cell_type": "code",
   "execution_count": 3,
   "metadata": {},
   "outputs": [
    {
     "data": {
      "text/plain": [
       "array([0., 0., 0., 0.])"
      ]
     },
     "execution_count": 3,
     "metadata": {},
     "output_type": "execute_result"
    }
   ],
   "source": [
    "i=np.zeros(4)\n",
    "i"
   ]
  },
  {
   "cell_type": "code",
   "execution_count": 4,
   "metadata": {},
   "outputs": [
    {
     "data": {
      "text/plain": [
       "array([([0, 0, 0, 0, 0], [0, 0, 0]), ([0, 0, 0, 0, 0], [0, 0, 0]),\n",
       "       ([0, 0, 0, 0, 0], [0, 0, 0]), ([0, 0, 0, 0, 0], [0, 0, 0])],\n",
       "      dtype=[('x', '<i8', (5,)), ('y', '<i4', (3,))])"
      ]
     },
     "execution_count": 4,
     "metadata": {},
     "output_type": "execute_result"
    }
   ],
   "source": [
    "i=np.zeros(4,dtype=d)\n",
    "i #is ma simple ya ha ka ak array ma 3 arrg ha aur 2nd ma 2 ha tu np.zeros ma 4 zeros ha tu 3 arg wala ka tu 3 zero ko ak ak tye dag"
   ]
  },
  {
   "cell_type": "code",
   "execution_count": 5,
   "metadata": {},
   "outputs": [
    {
     "data": {
      "text/plain": [
       "[('x', numpy.int64), ('y', numpy.int32)]"
      ]
     },
     "execution_count": 5,
     "metadata": {},
     "output_type": "execute_result"
    }
   ],
   "source": [
    "d=[('x',np.int64),('y',np.int32)]\n",
    "d"
   ]
  },
  {
   "cell_type": "code",
   "execution_count": 7,
   "metadata": {},
   "outputs": [
    {
     "data": {
      "text/plain": [
       "array([(0, 0), (0, 0), (0, 0), (0, 0)], dtype=[('x', '<i8'), ('y', '<i4')])"
      ]
     },
     "execution_count": 7,
     "metadata": {},
     "output_type": "execute_result"
    }
   ],
   "source": [
    "i=np.zeros(4,dtype=d)\n",
    "i"
   ]
  },
  {
   "cell_type": "code",
   "execution_count": 8,
   "metadata": {},
   "outputs": [
    {
     "data": {
      "text/plain": [
       "0"
      ]
     },
     "execution_count": 8,
     "metadata": {},
     "output_type": "execute_result"
    }
   ],
   "source": [
    "i[0]['y']"
   ]
  },
  {
   "cell_type": "code",
   "execution_count": 66,
   "metadata": {},
   "outputs": [
    {
     "data": {
      "text/plain": [
       "0"
      ]
     },
     "execution_count": 66,
     "metadata": {},
     "output_type": "execute_result"
    }
   ],
   "source": [
    "i[1]['x']"
   ]
  },
  {
   "cell_type": "code",
   "execution_count": 13,
   "metadata": {},
   "outputs": [
    {
     "data": {
      "text/plain": [
       "array([0, 0, 0, 0])"
      ]
     },
     "execution_count": 13,
     "metadata": {},
     "output_type": "execute_result"
    }
   ],
   "source": [
    "i['y']"
   ]
  },
  {
   "cell_type": "code",
   "execution_count": 14,
   "metadata": {},
   "outputs": [
    {
     "data": {
      "text/plain": [
       "array([0, 0, 0, 0], dtype=int64)"
      ]
     },
     "execution_count": 14,
     "metadata": {},
     "output_type": "execute_result"
    }
   ],
   "source": [
    "9i['x']"
   ]
  },
  {
   "cell_type": "code",
   "execution_count": 16,
   "metadata": {},
   "outputs": [
    {
     "data": {
      "text/plain": [
       "0"
      ]
     },
     "execution_count": 16,
     "metadata": {},
     "output_type": "execute_result"
    }
   ],
   "source": [
    "i[0]['y']"
   ]
  },
  {
   "cell_type": "code",
   "execution_count": 17,
   "metadata": {},
   "outputs": [
    {
     "data": {
      "text/plain": [
       "array([(1., 2.), (3., 4.)], dtype=[('a', '<f8'), ('b', '<f4')])"
      ]
     },
     "execution_count": 17,
     "metadata": {},
     "output_type": "execute_result"
    }
   ],
   "source": [
    "dtype = [('x', [('a', 'f8'), ('b', 'f4')]), ('y', np.int32)]\n",
    "data = np.array([((1, 2), 5), ((3, 4), 6)], dtype=dtype)\n",
    "data['x']"
   ]
  },
  {
   "cell_type": "code",
   "execution_count": 18,
   "metadata": {},
   "outputs": [
    {
     "data": {
      "text/plain": [
       "[('x', [('a', 'f8'), ('b', 'f4')]), ('y', numpy.int32)]"
      ]
     },
     "execution_count": 18,
     "metadata": {},
     "output_type": "execute_result"
    }
   ],
   "source": [
    "dtype"
   ]
  },
  {
   "cell_type": "code",
   "execution_count": 19,
   "metadata": {},
   "outputs": [
    {
     "data": {
      "text/plain": [
       "array([((1., 2.), 5), ((3., 4.), 6)],\n",
       "      dtype=[('x', [('a', '<f8'), ('b', '<f4')]), ('y', '<i4')])"
      ]
     },
     "execution_count": 19,
     "metadata": {},
     "output_type": "execute_result"
    }
   ],
   "source": [
    "data"
   ]
  },
  {
   "cell_type": "code",
   "execution_count": 20,
   "metadata": {},
   "outputs": [
    {
     "data": {
      "text/plain": [
       "[('x', [('a', 'f8'), ('b', 'f4')]), ('y', numpy.int32)]"
      ]
     },
     "execution_count": 20,
     "metadata": {},
     "output_type": "execute_result"
    }
   ],
   "source": [
    "d=[('x',[('a','f8'),('b','f4')]),('y',np.int32)]\n",
    "d"
   ]
  },
  {
   "cell_type": "code",
   "execution_count": 24,
   "metadata": {},
   "outputs": [
    {
     "data": {
      "text/plain": [
       "array([((2., 5.), 5), ((3., 5.), 8)],\n",
       "      dtype=[('x', [('a', '<f8'), ('b', '<f4')]), ('y', '<i4')])"
      ]
     },
     "execution_count": 24,
     "metadata": {},
     "output_type": "execute_result"
    }
   ],
   "source": [
    "dt=np.array([((2,5),5),((3,5),8)],dtype=d)\n",
    "dt\n",
    "            "
   ]
  },
  {
   "cell_type": "code",
   "execution_count": 28,
   "metadata": {},
   "outputs": [
    {
     "data": {
      "text/plain": [
       "[('a', [('x', 'f8'), ('y', 'f4')]), ('b', numpy.int32)]"
      ]
     },
     "execution_count": 28,
     "metadata": {},
     "output_type": "execute_result"
    }
   ],
   "source": [
    "data=[('a',[('x','f8'),('y','f4')]),('b',np.int32)]\n",
    "data"
   ]
  },
  {
   "cell_type": "code",
   "execution_count": 29,
   "metadata": {},
   "outputs": [
    {
     "data": {
      "text/plain": [
       "array([((2., 5.), 6), ((6., 7.), 7)],\n",
       "      dtype=[('a', [('x', '<f8'), ('y', '<f4')]), ('b', '<i4')])"
      ]
     },
     "execution_count": 29,
     "metadata": {},
     "output_type": "execute_result"
    }
   ],
   "source": [
    "dt=np.array([((2,5),6),((6,7),7)],dtype=data)\n",
    "\n",
    "dt"
   ]
  },
  {
   "cell_type": "code",
   "execution_count": 32,
   "metadata": {},
   "outputs": [
    {
     "data": {
      "text/plain": [
       "array([(2., 5.), (6., 7.)], dtype=[('x', '<f8'), ('y', '<f4')])"
      ]
     },
     "execution_count": 32,
     "metadata": {},
     "output_type": "execute_result"
    }
   ],
   "source": [
    "dt['a']"
   ]
  },
  {
   "cell_type": "code",
   "execution_count": 33,
   "metadata": {},
   "outputs": [
    {
     "data": {
      "text/plain": [
       "array([6, 7])"
      ]
     },
     "execution_count": 33,
     "metadata": {},
     "output_type": "execute_result"
    }
   ],
   "source": [
    "dt['b']"
   ]
  },
  {
   "cell_type": "code",
   "execution_count": 34,
   "metadata": {},
   "outputs": [
    {
     "data": {
      "text/plain": [
       "array([2., 6.])"
      ]
     },
     "execution_count": 34,
     "metadata": {},
     "output_type": "execute_result"
    }
   ],
   "source": [
    "dt['a']['x']"
   ]
  },
  {
   "cell_type": "code",
   "execution_count": 35,
   "metadata": {},
   "outputs": [
    {
     "data": {
      "text/plain": [
       "array([5., 7.], dtype=float32)"
      ]
     },
     "execution_count": 35,
     "metadata": {},
     "output_type": "execute_result"
    }
   ],
   "source": [
    "dt['a']['y']"
   ]
  },
  {
   "cell_type": "code",
   "execution_count": 39,
   "metadata": {},
   "outputs": [
    {
     "data": {
      "text/plain": [
       "6"
      ]
     },
     "execution_count": 39,
     "metadata": {},
     "output_type": "execute_result"
    }
   ],
   "source": [
    "dt['b'][0]"
   ]
  },
  {
   "cell_type": "code",
   "execution_count": 40,
   "metadata": {},
   "outputs": [
    {
     "data": {
      "text/plain": [
       "7"
      ]
     },
     "execution_count": 40,
     "metadata": {},
     "output_type": "execute_result"
    }
   ],
   "source": [
    "dt['b'][1]"
   ]
  },
  {
   "cell_type": "code",
   "execution_count": 47,
   "metadata": {},
   "outputs": [
    {
     "data": {
      "text/plain": [
       "[('a', [('x', 'f4'), ('y', 'f8')]), ('b', numpy.int32)]"
      ]
     },
     "execution_count": 47,
     "metadata": {},
     "output_type": "execute_result"
    }
   ],
   "source": [
    "data=[('a',[('x','f4'),('y','f8')]),('b',np.int32)]\n",
    "data"
   ]
  },
  {
   "cell_type": "code",
   "execution_count": 49,
   "metadata": {},
   "outputs": [],
   "source": [
    "d=np.array([((2,5),6),((5,6),8)],dtype=data)"
   ]
  },
  {
   "cell_type": "code",
   "execution_count": 50,
   "metadata": {},
   "outputs": [
    {
     "data": {
      "text/plain": [
       "array([2., 5.], dtype=float32)"
      ]
     },
     "execution_count": 50,
     "metadata": {},
     "output_type": "execute_result"
    }
   ],
   "source": [
    "d['a']['x']"
   ]
  },
  {
   "cell_type": "code",
   "execution_count": 51,
   "metadata": {},
   "outputs": [
    {
     "data": {
      "text/plain": [
       "<function numpy.fromfile>"
      ]
     },
     "execution_count": 51,
     "metadata": {},
     "output_type": "execute_result"
    }
   ],
   "source": [
    "np.fromfile"
   ]
  },
  {
   "cell_type": "code",
   "execution_count": 53,
   "metadata": {},
   "outputs": [
    {
     "name": "stdout",
     "output_type": "stream",
     "text": [
      "[ 0.76866765 -2.2635053   0.7811596  -1.08569554  0.02070819 -0.01215634]\n",
      "------------------------------------------------------------\n",
      "[-2.2635053  -1.08569554 -0.01215634  0.02070819  0.76866765  0.7811596 ]\n"
     ]
    }
   ],
   "source": [
    "a=np.random.randn(6)\n",
    "print(a)\n",
    "b=np.sort(a)\n",
    "print('------------------------------------------------------------')\n",
    "print(b)"
   ]
  },
  {
   "cell_type": "code",
   "execution_count": 55,
   "metadata": {},
   "outputs": [
    {
     "name": "stdout",
     "output_type": "stream",
     "text": [
      "[[ 0.19780545 -0.56818254  0.96693522]\n",
      " [ 0.02109513  0.26401762 -0.61406992]\n",
      " [-0.50685366  0.37197501 -0.99656021]]\n",
      "---------------------------------------------------------------------\n",
      "[[-0.50685366 -0.56818254  0.96693522]\n",
      " [ 0.02109513  0.26401762 -0.61406992]\n",
      " [ 0.19780545  0.37197501 -0.99656021]]\n"
     ]
    }
   ],
   "source": [
    "a=np.random.randn(3,3)\n",
    "print(a)\n",
    "print('---------------------------------------------------------------------')\n",
    "a[:,0].sort()\n",
    "print(a)\n",
    "# : mean row sari laki  column 0 ko sort kar"
   ]
  },
  {
   "cell_type": "code",
   "execution_count": 61,
   "metadata": {},
   "outputs": [
    {
     "name": "stdout",
     "output_type": "stream",
     "text": [
      "[[ 1.0695587   0.89538756  1.27281203]\n",
      " [ 3.158603    1.63132378 -0.62770706]\n",
      " [ 2.01039972  0.84701956  0.19376503]\n",
      " [-0.16956813 -1.44334682  0.71286182]\n",
      " [ 1.32839934  1.43061331  0.80301681]]\n",
      "---------------------------------------------------------------------\n",
      "[-0.16956813  1.0695587   1.32839934  2.01039972  3.158603  ]\n"
     ]
    }
   ],
   "source": [
    "a=np.random.randn(5,3)\n",
    "print(a)\n",
    "print('---------------------------------------------------------------------')\n",
    "b=np.sort(a[:,0])\n",
    "\n",
    "print(b) #python ka sort ka method use kar raha tu variable ki zarwat nhi lakin agr numpy ka use karaga tu variable chaye hoga "
   ]
  },
  {
   "cell_type": "code",
   "execution_count": 62,
   "metadata": {},
   "outputs": [
    {
     "data": {
      "text/plain": [
       "array([[ 1.0695587 ,  0.89538756,  1.27281203],\n",
       "       [ 3.158603  ,  1.63132378, -0.62770706],\n",
       "       [ 2.01039972,  0.84701956,  0.19376503],\n",
       "       [-0.16956813, -1.44334682,  0.71286182],\n",
       "       [ 1.32839934,  1.43061331,  0.80301681]])"
      ]
     },
     "execution_count": 62,
     "metadata": {},
     "output_type": "execute_result"
    }
   ],
   "source": [
    "a"
   ]
  },
  {
   "cell_type": "code",
   "execution_count": 66,
   "metadata": {},
   "outputs": [
    {
     "name": "stdout",
     "output_type": "stream",
     "text": [
      "[-0.62707962 -0.43838814  0.42396328  0.54362991  1.06730332]\n",
      "------------------\n",
      "[ 0.54362991  1.06730332 -0.43838814 -0.62707962  0.42396328]\n"
     ]
    }
   ],
   "source": [
    "arr=np.random.randn(5)\n",
    "print(np.sort(arr))\n",
    "print('------------------')\n",
    "print(arr)"
   ]
  },
  {
   "cell_type": "code",
   "execution_count": 68,
   "metadata": {},
   "outputs": [
    {
     "name": "stdout",
     "output_type": "stream",
     "text": [
      "[[-1.53728143 -0.30333608  0.57638241  0.73518876  0.92108245]\n",
      " [-1.57285025 -0.23127321  0.86130816  0.93389954  0.93428772]\n",
      " [-0.97638304 -0.76761339 -0.07134981  0.40185371  0.81328305]]\n",
      "---------------------------------------\n",
      "[[-0.30333608  0.92108245  0.57638241  0.73518876 -1.53728143]\n",
      " [ 0.93389954 -0.23127321  0.93428772  0.86130816 -1.57285025]\n",
      " [-0.97638304  0.81328305 -0.76761339  0.40185371 -0.07134981]]\n"
     ]
    }
   ],
   "source": [
    "arr=np.random.randn(3,5)\n",
    "print(np.sort(arr,axis=1))\n",
    "print('---------------------------------------')\n",
    "print(arr) # 1 mean row "
   ]
  },
  {
   "cell_type": "code",
   "execution_count": 69,
   "metadata": {},
   "outputs": [
    {
     "name": "stdout",
     "output_type": "stream",
     "text": [
      "[[-1.1690665  -2.20904136 -1.57995251 -1.87200605 -0.64694223]\n",
      " [-0.3340643  -0.91205266  0.01351264 -1.32886388 -0.0796973 ]\n",
      " [-0.01593354 -0.42101855  0.51951998  0.87969641  0.29204064]]\n",
      "---------------------------------------\n",
      "[[-0.3340643  -0.42101855  0.51951998 -1.32886388 -0.64694223]\n",
      " [-1.1690665  -0.91205266 -1.57995251  0.87969641 -0.0796973 ]\n",
      " [-0.01593354 -2.20904136  0.01351264 -1.87200605  0.29204064]]\n"
     ]
    }
   ],
   "source": [
    "arr=np.random.randn(3,5)\n",
    "print(np.sort(arr,axis=0))\n",
    "print('---------------------------------------')\n",
    "print(arr) # 0 mean column  "
   ]
  },
  {
   "cell_type": "code",
   "execution_count": 72,
   "metadata": {},
   "outputs": [
    {
     "data": {
      "text/plain": [
       "array([[-1.41840636,  1.18268176,  1.24574006, -0.35199738, -1.87712096],\n",
       "       [-0.25187933, -0.32820893, -0.66702174, -0.96579354, -0.51673566],\n",
       "       [-1.11047307, -0.1865368 ,  0.96912878,  0.15722454, -1.21178653]])"
      ]
     },
     "execution_count": 72,
     "metadata": {},
     "output_type": "execute_result"
    }
   ],
   "source": [
    "arr=np.random.randn(3,5)\n",
    "arr"
   ]
  },
  {
   "cell_type": "code",
   "execution_count": 73,
   "metadata": {},
   "outputs": [],
   "source": [
    "arr.sort() # agr bracket ma kuch nhi hoga tu row wise sort hoga aur aur ya python ka sort func ha tu in memory change hoga "
   ]
  },
  {
   "cell_type": "code",
   "execution_count": 76,
   "metadata": {},
   "outputs": [
    {
     "data": {
      "text/plain": [
       "array([[-1.87712096, -1.41840636, -0.35199738,  1.18268176,  1.24574006],\n",
       "       [-0.96579354, -0.66702174, -0.51673566, -0.32820893, -0.25187933],\n",
       "       [-1.21178653, -1.11047307, -0.1865368 ,  0.15722454,  0.96912878]])"
      ]
     },
     "execution_count": 76,
     "metadata": {},
     "output_type": "execute_result"
    }
   ],
   "source": [
    "arr"
   ]
  },
  {
   "cell_type": "code",
   "execution_count": 75,
   "metadata": {},
   "outputs": [
    {
     "data": {
      "text/plain": [
       "array([[-1.21178653, -1.11047307, -0.1865368 ,  0.15722454,  0.96912878],\n",
       "       [-0.96579354, -0.66702174, -0.51673566, -0.32820893, -0.25187933],\n",
       "       [-1.87712096, -1.41840636, -0.35199738,  1.18268176,  1.24574006]])"
      ]
     },
     "execution_count": 75,
     "metadata": {},
     "output_type": "execute_result"
    }
   ],
   "source": [
    "arr[::-1] #sara column ulta hogay"
   ]
  },
  {
   "cell_type": "code",
   "execution_count": 77,
   "metadata": {},
   "outputs": [
    {
     "data": {
      "text/plain": [
       "array([[ 1.24574006,  1.18268176, -0.35199738, -1.41840636, -1.87712096],\n",
       "       [-0.25187933, -0.32820893, -0.51673566, -0.66702174, -0.96579354],\n",
       "       [ 0.96912878,  0.15722454, -0.1865368 , -1.11047307, -1.21178653]])"
      ]
     },
     "execution_count": 77,
     "metadata": {},
     "output_type": "execute_result"
    }
   ],
   "source": [
    "arr[:,::-1]#sara row ulta hogay"
   ]
  },
  {
   "cell_type": "code",
   "execution_count": 93,
   "metadata": {},
   "outputs": [
    {
     "name": "stdout",
     "output_type": "stream",
     "text": [
      "[1 2 4 3 0]\n"
     ]
    },
    {
     "data": {
      "text/plain": [
       "array([0, 1, 2, 3, 5])"
      ]
     },
     "execution_count": 93,
     "metadata": {},
     "output_type": "execute_result"
    }
   ],
   "source": [
    "values = np.array([5, 0, 1, 3, 2])\n",
    "indexer=values.argsort()\n",
    "print(indexer)\n",
    "values[indexer] # ya bataye ga ka possition pa kn sa chota number usko rank da daga"
   ]
  },
  {
   "cell_type": "code",
   "execution_count": 7,
   "metadata": {},
   "outputs": [
    {
     "name": "stdout",
     "output_type": "stream",
     "text": [
      "[1 0 2 4 3]\n"
     ]
    },
    {
     "data": {
      "text/plain": [
       "array([3, 5, 6, 6, 8])"
      ]
     },
     "execution_count": 7,
     "metadata": {},
     "output_type": "execute_result"
    }
   ],
   "source": [
    "v=np.array([5,3,6,8,6])\n",
    "a=v.argsort()\n",
    "print(a) # ya bta raha ha ka sb sa choti value 1 pa ha et\n",
    "v[a]"
   ]
  },
  {
   "cell_type": "code",
   "execution_count": 4,
   "metadata": {},
   "outputs": [],
   "source": [
    "import numpy as np"
   ]
  },
  {
   "cell_type": "code",
   "execution_count": 5,
   "metadata": {},
   "outputs": [
    {
     "data": {
      "text/plain": [
       "array([[ 1.30834311, -0.79453689, -2.58222815,  0.01099229,  0.66395643],\n",
       "       [ 2.40994817,  0.10012993, -0.45646128,  0.21720974, -0.45513116],\n",
       "       [-0.23687594, -0.5050291 ,  0.25392015, -0.33860331,  0.60552244]])"
      ]
     },
     "execution_count": 5,
     "metadata": {},
     "output_type": "execute_result"
    }
   ],
   "source": [
    "arr=np.random.randn(3,5)\n",
    "arr"
   ]
  },
  {
   "cell_type": "code",
   "execution_count": 8,
   "metadata": {},
   "outputs": [
    {
     "data": {
      "text/plain": [
       "array([[ 5.        ,  3.        ,  6.        ,  8.        ,  6.        ],\n",
       "       [ 2.40994817,  0.10012993, -0.45646128,  0.21720974, -0.45513116],\n",
       "       [-0.23687594, -0.5050291 ,  0.25392015, -0.33860331,  0.60552244]])"
      ]
     },
     "execution_count": 8,
     "metadata": {},
     "output_type": "execute_result"
    }
   ],
   "source": [
    "arr[0]=v\n",
    "arr"
   ]
  },
  {
   "cell_type": "code",
   "execution_count": 9,
   "metadata": {},
   "outputs": [
    {
     "data": {
      "text/plain": [
       "array([[ 3.        ,  5.        ,  6.        ,  6.        ,  8.        ],\n",
       "       [ 0.10012993,  2.40994817, -0.45646128, -0.45513116,  0.21720974],\n",
       "       [-0.5050291 , -0.23687594,  0.25392015,  0.60552244, -0.33860331]])"
      ]
     },
     "execution_count": 9,
     "metadata": {},
     "output_type": "execute_result"
    }
   ],
   "source": [
    "arr[:,arr[0].argsort()] "
   ]
  },
  {
   "cell_type": "code",
   "execution_count": 86,
   "metadata": {},
   "outputs": [
    {
     "data": {
      "text/plain": [
       "array([[ 8.        ,  3.        ,  6.        ,  6.        ,  5.        ],\n",
       "       [-1.12656606, -1.09940605, -0.85152481, -0.41954623,  0.28844428],\n",
       "       [ 0.55918998,  1.30515937,  0.80242953,  1.20947814,  2.72044625]])"
      ]
     },
     "execution_count": 86,
     "metadata": {},
     "output_type": "execute_result"
    }
   ],
   "source": [
    "arr[:,arr[1].argsort()]"
   ]
  },
  {
   "cell_type": "code",
   "execution_count": 96,
   "metadata": {},
   "outputs": [
    {
     "data": {
      "text/plain": [
       "array([[ 3.        ,  5.        ,  6.        ,  6.        ,  8.        ],\n",
       "       [-1.09940605,  0.28844428, -0.85152481, -0.41954623, -1.12656606]])"
      ]
     },
     "execution_count": 96,
     "metadata": {},
     "output_type": "execute_result"
    }
   ],
   "source": [
    "arr[0:2,arr[0].argsort()] #0:2 mean row aur arr[0].argsort() mean assending ma column"
   ]
  },
  {
   "cell_type": "code",
   "execution_count": 11,
   "metadata": {},
   "outputs": [],
   "source": [
    "first_name = np.array(['Bob', 'Jane', 'Steve', 'Bill', 'Barbara'])\n",
    "last_name = np.array(['Jones', 'Arnold', 'Arnold', 'Jones', 'Walters'])\n",
    "sorter=np.lexsort((first_name,last_name))"
   ]
  },
  {
   "cell_type": "code",
   "execution_count": 14,
   "metadata": {},
   "outputs": [
    {
     "name": "stdout",
     "output_type": "stream",
     "text": [
      "[1 2 3 0 4]\n",
      "['Jane' 'Steve' 'Bill' 'Bob' 'Barbara']\n",
      "['Arnold' 'Arnold' 'Jones' 'Jones' 'Walters']\n"
     ]
    }
   ],
   "source": [
    "print(sorter)\n",
    "print(first_name[sorter])\n",
    "print(last_name[sorter])"
   ]
  },
  {
   "cell_type": "code",
   "execution_count": 10,
   "metadata": {},
   "outputs": [
    {
     "data": {
      "text/plain": [
       "array([[ 5.        ,  3.        ,  6.        ,  8.        ,  6.        ],\n",
       "       [ 2.40994817,  0.10012993, -0.45646128,  0.21720974, -0.45513116]])"
      ]
     },
     "execution_count": 10,
     "metadata": {},
     "output_type": "execute_result"
    }
   ],
   "source": [
    "arr[0:2]"
   ]
  },
  {
   "cell_type": "code",
   "execution_count": 17,
   "metadata": {},
   "outputs": [
    {
     "data": {
      "text/plain": [
       "{'Jane': 'Arnold',\n",
       " 'Steve': 'Arnold',\n",
       " 'Bill': 'Jones',\n",
       " 'Bob': 'Jones',\n",
       " 'Barbara': 'Walters'}"
      ]
     },
     "execution_count": 17,
     "metadata": {},
     "output_type": "execute_result"
    }
   ],
   "source": [
    "zipped=zip(first_name[sorter],last_name[sorter])\n",
    "dict(zipped)"
   ]
  },
  {
   "cell_type": "code",
   "execution_count": 19,
   "metadata": {},
   "outputs": [
    {
     "data": {
      "text/plain": [
       "array(['2:first', '2:second', '1:first', '1:second', '1:third'],\n",
       "      dtype='<U8')"
      ]
     },
     "execution_count": 19,
     "metadata": {},
     "output_type": "execute_result"
    }
   ],
   "source": [
    "values = np.array(['2:first', '2:second', '1:first', '1:second','1:third'])\n",
    "values"
   ]
  },
  {
   "cell_type": "code",
   "execution_count": 20,
   "metadata": {},
   "outputs": [
    {
     "data": {
      "text/plain": [
       "array([2, 2, 1, 1, 1])"
      ]
     },
     "execution_count": 20,
     "metadata": {},
     "output_type": "execute_result"
    }
   ],
   "source": [
    "key = np.array([2, 2, 1, 1, 1])\n",
    "key"
   ]
  },
  {
   "cell_type": "code",
   "execution_count": 21,
   "metadata": {},
   "outputs": [
    {
     "data": {
      "text/plain": [
       "array([2, 3, 4, 0, 1], dtype=int64)"
      ]
     },
     "execution_count": 21,
     "metadata": {},
     "output_type": "execute_result"
    }
   ],
   "source": [
    "indexer=key.argsort() # is na bass key ko rank diya jasa jo sb sa choti ha usko phla batye ga ka kn si posstion pa ha\n",
    "indexer"
   ]
  },
  {
   "cell_type": "code",
   "execution_count": 22,
   "metadata": {},
   "outputs": [
    {
     "data": {
      "text/plain": [
       "array([2, 3, 4, 0, 1], dtype=int64)"
      ]
     },
     "execution_count": 22,
     "metadata": {},
     "output_type": "execute_result"
    }
   ],
   "source": [
    "indexer=key.argsort(kind='mergesort')\n",
    "indexer\n",
    " #same upar wala ki tarha ha"
   ]
  },
  {
   "cell_type": "code",
   "execution_count": 23,
   "metadata": {},
   "outputs": [
    {
     "data": {
      "text/plain": [
       "array(['1:first', '1:second', '1:third', '2:first', '2:second'],\n",
       "      dtype='<U8')"
      ]
     },
     "execution_count": 23,
     "metadata": {},
     "output_type": "execute_result"
    }
   ],
   "source": [
    "values.take(indexer)"
   ]
  },
  {
   "cell_type": "code",
   "execution_count": 25,
   "metadata": {},
   "outputs": [
    {
     "data": {
      "text/plain": [
       "array([-0.20470766,  0.47894334, -0.51943872, -0.5557303 ,  1.96578057,\n",
       "        1.39340583,  0.09290788,  0.28174615,  0.76902257,  1.24643474,\n",
       "        1.00718936, -1.29622111,  0.27499163,  0.22891288,  1.35291684,\n",
       "        0.88642934, -2.00163731, -0.37184254,  1.66902531, -0.43856974])"
      ]
     },
     "execution_count": 25,
     "metadata": {},
     "output_type": "execute_result"
    }
   ],
   "source": [
    "np.random.seed(12345)\n",
    "arr=np.random.randn(20)\n",
    "arr"
   ]
  },
  {
   "cell_type": "code",
   "execution_count": 26,
   "metadata": {},
   "outputs": [
    {
     "data": {
      "text/plain": [
       "array([-2.00163731, -1.29622111, -0.5557303 , -0.51943872, -0.37184254,\n",
       "       -0.43856974, -0.20470766,  0.28174615,  0.76902257,  0.47894334,\n",
       "        1.00718936,  0.09290788,  0.27499163,  0.22891288,  1.35291684,\n",
       "        0.88642934,  1.39340583,  1.96578057,  1.66902531,  1.24643474])"
      ]
     },
     "execution_count": 26,
     "metadata": {},
     "output_type": "execute_result"
    }
   ],
   "source": [
    "np.partition(arr,3)"
   ]
  },
  {
   "cell_type": "code",
   "execution_count": 28,
   "metadata": {},
   "outputs": [
    {
     "data": {
      "text/plain": [
       "array([16, 11,  3,  2, 17, 19,  0,  7,  8,  1, 10,  6, 12, 13, 14, 15,  5,\n",
       "        4, 18,  9], dtype=int64)"
      ]
     },
     "execution_count": 28,
     "metadata": {},
     "output_type": "execute_result"
    }
   ],
   "source": [
    "indices = np.argpartition(arr, 3)\n",
    "indices"
   ]
  },
  {
   "cell_type": "code",
   "execution_count": 29,
   "metadata": {},
   "outputs": [
    {
     "data": {
      "text/plain": [
       "array([-2.00163731, -1.29622111, -0.5557303 , -0.51943872, -0.37184254,\n",
       "       -0.43856974, -0.20470766,  0.28174615,  0.76902257,  0.47894334,\n",
       "        1.00718936,  0.09290788,  0.27499163,  0.22891288,  1.35291684,\n",
       "        0.88642934,  1.39340583,  1.96578057,  1.66902531,  1.24643474])"
      ]
     },
     "execution_count": 29,
     "metadata": {},
     "output_type": "execute_result"
    }
   ],
   "source": [
    "arr.take(indices)"
   ]
  },
  {
   "cell_type": "code",
   "execution_count": 34,
   "metadata": {},
   "outputs": [
    {
     "name": "stdout",
     "output_type": "stream",
     "text": [
      "[ 0  1  7 12 15]\n"
     ]
    },
    {
     "data": {
      "text/plain": [
       "2"
      ]
     },
     "execution_count": 34,
     "metadata": {},
     "output_type": "execute_result"
    }
   ],
   "source": [
    "arr = np.array([0, 1, 7, 12, 15])\n",
    "print(arr)\n",
    "arr.searchsorted(3) # ya bass itna batye ga ka kn sa elemment kaha hona mean 2 enter karo ga tu 2 possition bataye ga "
   ]
  },
  {
   "cell_type": "code",
   "execution_count": 2,
   "metadata": {},
   "outputs": [],
   "source": [
    "import numpy as np"
   ]
  },
  {
   "cell_type": "code",
   "execution_count": 3,
   "metadata": {},
   "outputs": [
    {
     "name": "stdout",
     "output_type": "stream",
     "text": [
      "[0 0 0 1 1 1 1]\n"
     ]
    },
    {
     "data": {
      "text/plain": [
       "array([0, 3], dtype=int64)"
      ]
     },
     "execution_count": 3,
     "metadata": {},
     "output_type": "execute_result"
    }
   ],
   "source": [
    "arr = np.array([0, 0, 0, 1, 1, 1, 1])\n",
    "print(arr)\n",
    "arr.searchsorted([0, 1]) # by default left side sa dakha ga "
   ]
  },
  {
   "cell_type": "code",
   "execution_count": 4,
   "metadata": {},
   "outputs": [
    {
     "data": {
      "text/plain": [
       "array([3, 7], dtype=int64)"
      ]
     },
     "execution_count": 4,
     "metadata": {},
     "output_type": "execute_result"
    }
   ],
   "source": [
    "arr.searchsorted([0,1],side='right') # slide right ma baas ya batye ga kn 0 phala sa 3 ha mean 0,1,2 possition tu new\n",
    "#zero 3 posstion pa aye ga aur is hi 1 7th possition pa aye ga"
   ]
  },
  {
   "cell_type": "code",
   "execution_count": 5,
   "metadata": {},
   "outputs": [
    {
     "data": {
      "text/plain": [
       "array([0, 3], dtype=int64)"
      ]
     },
     "execution_count": 5,
     "metadata": {},
     "output_type": "execute_result"
    }
   ],
   "source": [
    "arr.searchsorted([0,1],side='left') # slide right ma baas ya batye ga kn 0 phala sa 3 ha mean 0,1,2 possition tu new\n",
    "#zero 3 posstion pa aye ga aur is hi 1 7th possition pa aye ga"
   ]
  },
  {
   "cell_type": "code",
   "execution_count": 6,
   "metadata": {},
   "outputs": [
    {
     "name": "stdout",
     "output_type": "stream",
     "text": [
      "[0 0 0 1 1 1 2 3 7]\n"
     ]
    }
   ],
   "source": [
    "arr = np.array([0, 0, 0, 1, 1, 1, 2,3,7])\n",
    "print(arr)"
   ]
  },
  {
   "cell_type": "code",
   "execution_count": 12,
   "metadata": {},
   "outputs": [
    {
     "data": {
      "text/plain": [
       "array([9, 9, 9], dtype=int64)"
      ]
     },
     "execution_count": 12,
     "metadata": {},
     "output_type": "execute_result"
    }
   ],
   "source": [
    "arr.searchsorted([15,16,88],side='left')"
   ]
  },
  {
   "cell_type": "code",
   "execution_count": 11,
   "metadata": {},
   "outputs": [
    {
     "data": {
      "text/plain": [
       "9"
      ]
     },
     "execution_count": 11,
     "metadata": {},
     "output_type": "execute_result"
    }
   ],
   "source": [
    "arr.searchsorted(199)"
   ]
  },
  {
   "cell_type": "code",
   "execution_count": 13,
   "metadata": {},
   "outputs": [
    {
     "data": {
      "text/plain": [
       "array([9, 9, 9], dtype=int64)"
      ]
     },
     "execution_count": 13,
     "metadata": {},
     "output_type": "execute_result"
    }
   ],
   "source": [
    "arr.searchsorted([15,16,88],side='right')"
   ]
  },
  {
   "cell_type": "code",
   "execution_count": 15,
   "metadata": {},
   "outputs": [
    {
     "name": "stdout",
     "output_type": "stream",
     "text": [
      "[1 1 1 5 4 5 6]\n"
     ]
    },
    {
     "data": {
      "text/plain": [
       "array([7, 3], dtype=int64)"
      ]
     },
     "execution_count": 15,
     "metadata": {},
     "output_type": "execute_result"
    }
   ],
   "source": [
    "arr = np.array([1, 1, 1, 5, 4, 5, 6])\n",
    "print(arr)\n",
    "arr.searchsorted([10,3]) # by default left side sa dakha ga "
   ]
  },
  {
   "cell_type": "code",
   "execution_count": 16,
   "metadata": {},
   "outputs": [
    {
     "data": {
      "text/plain": [
       "array([3500., 7376., 3060., 4089., 5777., 5408., 8642., 9545., 9933.,\n",
       "       8495.,  301., 8582., 2686., 4592., 5182.,  193., 6331., 2351.,\n",
       "       7083., 9446., 2498., 4922., 1803., 2733., 2812., 5467., 7779.,\n",
       "       2564., 9647., 3304., 4402., 3138., 4015., 9372., 1291., 4632.,\n",
       "       5711., 5111., 9521., 1459., 2434., 7560., 4247., 3347., 6266.,\n",
       "       9134., 8471., 9079., 5732., 2979.])"
      ]
     },
     "execution_count": 16,
     "metadata": {},
     "output_type": "execute_result"
    }
   ],
   "source": [
    "data=np.floor(np.random.uniform(0,10000,size=50))\n",
    "bins=np.array([0,100,1000,5000,10000])\n",
    "data"
   ]
  },
  {
   "cell_type": "code",
   "execution_count": 17,
   "metadata": {},
   "outputs": [
    {
     "data": {
      "text/plain": [
       "array([4927., 2736., 9288., 7326., 8321., 5872., 7633., 5259.,   66.,\n",
       "       1175., 3170., 5962., 2804., 6004., 9606., 1188.,  446., 8513.,\n",
       "         37., 9893., 8857., 3314., 8681., 5811., 6492., 8566., 7244.,\n",
       "       6510., 8165., 9796., 3791., 8534., 2521., 4545., 6954., 9396.,\n",
       "       4035., 3693.,  672., 4806., 3281.,  110., 9769.,  162., 3598.,\n",
       "       2485.,  213.,   71., 7009., 5739.])"
      ]
     },
     "execution_count": 17,
     "metadata": {},
     "output_type": "execute_result"
    }
   ],
   "source": [
    "data=np.floor(np.random.uniform(0,10000,size=50))\n",
    "data\n",
    "# floor means koi bi number 10000 tk bi nhi hoga is sa kam hi hoga"
   ]
  },
  {
   "cell_type": "code",
   "execution_count": 19,
   "metadata": {},
   "outputs": [
    {
     "data": {
      "text/plain": [
       "array([    0,   100,  1000,  5000, 10000])"
      ]
     },
     "execution_count": 19,
     "metadata": {},
     "output_type": "execute_result"
    }
   ],
   "source": [
    "bins=np.array([0,100,1000,5000,10000])\n",
    "bins"
   ]
  },
  {
   "cell_type": "code",
   "execution_count": 20,
   "metadata": {},
   "outputs": [
    {
     "data": {
      "text/plain": [
       "array([3, 3, 4, 4, 4, 4, 4, 4, 1, 3, 3, 4, 3, 4, 4, 3, 2, 4, 1, 4, 4, 3,\n",
       "       4, 4, 4, 4, 4, 4, 4, 4, 3, 4, 3, 3, 4, 4, 3, 3, 2, 3, 3, 2, 4, 2,\n",
       "       3, 3, 2, 1, 4, 4], dtype=int64)"
      ]
     },
     "execution_count": 20,
     "metadata": {},
     "output_type": "execute_result"
    }
   ],
   "source": [
    "labels=bins.searchsorted(data)\n",
    "labels\n",
    "\n",
    "# isma simple ya hoa ha phla hum bins.sorted([3,4,5]) data tha tu wo is list ki behalf pa batata tha ka kn sa element kaha \n",
    "#rakhna ha ab bins.searchsorted(data) ab ya data ma jitna element ha ya bins ma dakha ga kaha rakhna ha\n"
   ]
  },
  {
   "cell_type": "code",
   "execution_count": 21,
   "metadata": {},
   "outputs": [
    {
     "data": {
      "text/plain": [
       "0     4927.0\n",
       "1     2736.0\n",
       "2     9288.0\n",
       "3     7326.0\n",
       "4     8321.0\n",
       "5     5872.0\n",
       "6     7633.0\n",
       "7     5259.0\n",
       "8       66.0\n",
       "9     1175.0\n",
       "10    3170.0\n",
       "11    5962.0\n",
       "12    2804.0\n",
       "13    6004.0\n",
       "14    9606.0\n",
       "15    1188.0\n",
       "16     446.0\n",
       "17    8513.0\n",
       "18      37.0\n",
       "19    9893.0\n",
       "20    8857.0\n",
       "21    3314.0\n",
       "22    8681.0\n",
       "23    5811.0\n",
       "24    6492.0\n",
       "25    8566.0\n",
       "26    7244.0\n",
       "27    6510.0\n",
       "28    8165.0\n",
       "29    9796.0\n",
       "30    3791.0\n",
       "31    8534.0\n",
       "32    2521.0\n",
       "33    4545.0\n",
       "34    6954.0\n",
       "35    9396.0\n",
       "36    4035.0\n",
       "37    3693.0\n",
       "38     672.0\n",
       "39    4806.0\n",
       "40    3281.0\n",
       "41     110.0\n",
       "42    9769.0\n",
       "43     162.0\n",
       "44    3598.0\n",
       "45    2485.0\n",
       "46     213.0\n",
       "47      71.0\n",
       "48    7009.0\n",
       "49    5739.0\n",
       "dtype: float64"
      ]
     },
     "execution_count": 21,
     "metadata": {},
     "output_type": "execute_result"
    }
   ],
   "source": [
    "import pandas as pd\n",
    "pd.Series(data)"
   ]
  },
  {
   "cell_type": "code",
   "execution_count": 23,
   "metadata": {},
   "outputs": [
    {
     "data": {
      "text/plain": [
       "1      58.000000\n",
       "2     320.600000\n",
       "3    3254.312500\n",
       "4    7738.461538\n",
       "dtype: float64"
      ]
     },
     "execution_count": 23,
     "metadata": {},
     "output_type": "execute_result"
    }
   ],
   "source": [
    "pd.Series(data).groupby(labels).mean() # isma group 4 ka bana ha isliye mean bi 4 ha"
   ]
  },
  {
   "cell_type": "code",
   "execution_count": 27,
   "metadata": {},
   "outputs": [
    {
     "name": "stdout",
     "output_type": "stream",
     "text": [
      "(1, 8     66.0\n",
      "18    37.0\n",
      "47    71.0\n",
      "dtype: float64)\n",
      "(2, 16    446.0\n",
      "38    672.0\n",
      "41    110.0\n",
      "43    162.0\n",
      "46    213.0\n",
      "dtype: float64)\n",
      "(3, 0     4927.0\n",
      "1     2736.0\n",
      "9     1175.0\n",
      "10    3170.0\n",
      "12    2804.0\n",
      "15    1188.0\n",
      "21    3314.0\n",
      "30    3791.0\n",
      "32    2521.0\n",
      "33    4545.0\n",
      "36    4035.0\n",
      "37    3693.0\n",
      "39    4806.0\n",
      "40    3281.0\n",
      "44    3598.0\n",
      "45    2485.0\n",
      "dtype: float64)\n",
      "(4, 2     9288.0\n",
      "3     7326.0\n",
      "4     8321.0\n",
      "5     5872.0\n",
      "6     7633.0\n",
      "7     5259.0\n",
      "11    5962.0\n",
      "13    6004.0\n",
      "14    9606.0\n",
      "17    8513.0\n",
      "19    9893.0\n",
      "20    8857.0\n",
      "22    8681.0\n",
      "23    5811.0\n",
      "24    6492.0\n",
      "25    8566.0\n",
      "26    7244.0\n",
      "27    6510.0\n",
      "28    8165.0\n",
      "29    9796.0\n",
      "31    8534.0\n",
      "34    6954.0\n",
      "35    9396.0\n",
      "42    9769.0\n",
      "48    7009.0\n",
      "49    5739.0\n",
      "dtype: float64)\n"
     ]
    }
   ],
   "source": [
    "a=pd.Series(data).groupby(labels)\n",
    "a\n",
    "for i in a:\n",
    "    print(i)"
   ]
  },
  {
   "cell_type": "code",
   "execution_count": 36,
   "metadata": {},
   "outputs": [],
   "source": [
    "import numpy as np\n",
    "def distance_mean(x,y):\n",
    "    nx=len(x)\n",
    "    result=0.0\n",
    "    count=0\n",
    "    for i in range(nx):\n",
    "        result+=x[i]-y[i]\n",
    "        count+=1\n",
    "    return result/count "
   ]
  },
  {
   "cell_type": "code",
   "execution_count": 38,
   "metadata": {},
   "outputs": [
    {
     "name": "stdout",
     "output_type": "stream",
     "text": [
      "15.7 s ± 223 ms per loop (mean ± std. dev. of 7 runs, 1 loop each)\n",
      "94.3 ms ± 6.63 ms per loop (mean ± std. dev. of 7 runs, 1 loop each)\n"
     ]
    }
   ],
   "source": [
    "x=np.random.randn(10000000)\n",
    "y=np.random.randn(10000000)\n",
    "%timeit distance_mean(x,y)\n",
    "%timeit (x-y).mean()\n",
    "# simple ya hoa ha ka 2 arg distance_mean ka usma x,y rakha x ,y ki len same ha tu x ki lenghth nikali aur phr result start\n",
    "# ma 0 ha aur count bi phr loop ma i ma len dali jo x sa nikali thi x aur ya - hoe aur time calculate hoga"
   ]
  },
  {
   "cell_type": "code",
   "execution_count": 39,
   "metadata": {},
   "outputs": [
    {
     "data": {
      "text/plain": [
       "  C_CONTIGUOUS : True\n",
       "  F_CONTIGUOUS : False\n",
       "  OWNDATA : True\n",
       "  WRITEABLE : True\n",
       "  ALIGNED : True\n",
       "  WRITEBACKIFCOPY : False\n",
       "  UPDATEIFCOPY : False"
      ]
     },
     "execution_count": 39,
     "metadata": {},
     "output_type": "execute_result"
    }
   ],
   "source": [
    "arr_c=np.ones((1000,1000),order='C')\n",
    "arr_f=np.ones((1000,1000),order='F')\n",
    "arr_c.flags"
   ]
  },
  {
   "cell_type": "code",
   "execution_count": 40,
   "metadata": {},
   "outputs": [
    {
     "data": {
      "text/plain": [
       "array([[1., 1., 1., ..., 1., 1., 1.],\n",
       "       [1., 1., 1., ..., 1., 1., 1.],\n",
       "       [1., 1., 1., ..., 1., 1., 1.],\n",
       "       ...,\n",
       "       [1., 1., 1., ..., 1., 1., 1.],\n",
       "       [1., 1., 1., ..., 1., 1., 1.],\n",
       "       [1., 1., 1., ..., 1., 1., 1.]])"
      ]
     },
     "execution_count": 40,
     "metadata": {},
     "output_type": "execute_result"
    }
   ],
   "source": [
    "arr_c"
   ]
  },
  {
   "cell_type": "code",
   "execution_count": 43,
   "metadata": {},
   "outputs": [
    {
     "data": {
      "text/plain": [
       "  C_CONTIGUOUS : True\n",
       "  F_CONTIGUOUS : False\n",
       "  OWNDATA : True\n",
       "  WRITEABLE : True\n",
       "  ALIGNED : True\n",
       "  WRITEBACKIFCOPY : False\n",
       "  UPDATEIFCOPY : False"
      ]
     },
     "execution_count": 43,
     "metadata": {},
     "output_type": "execute_result"
    }
   ],
   "source": [
    "arr_c.flags #isko create karta wakt humna order human c diya ha tu c_contigious true aur f_contigius false ha"
   ]
  },
  {
   "cell_type": "code",
   "execution_count": 41,
   "metadata": {},
   "outputs": [
    {
     "data": {
      "text/plain": [
       "array([[1., 1., 1., ..., 1., 1., 1.],\n",
       "       [1., 1., 1., ..., 1., 1., 1.],\n",
       "       [1., 1., 1., ..., 1., 1., 1.],\n",
       "       ...,\n",
       "       [1., 1., 1., ..., 1., 1., 1.],\n",
       "       [1., 1., 1., ..., 1., 1., 1.],\n",
       "       [1., 1., 1., ..., 1., 1., 1.]])"
      ]
     },
     "execution_count": 41,
     "metadata": {},
     "output_type": "execute_result"
    }
   ],
   "source": [
    "arr_f   #isko create karta wakt humna order human f diya ha tu c_contigious false aur f_contigius true ha"
   ]
  },
  {
   "cell_type": "code",
   "execution_count": 44,
   "metadata": {},
   "outputs": [
    {
     "data": {
      "text/plain": [
       "  C_CONTIGUOUS : False\n",
       "  F_CONTIGUOUS : True\n",
       "  OWNDATA : True\n",
       "  WRITEABLE : True\n",
       "  ALIGNED : True\n",
       "  WRITEBACKIFCOPY : False\n",
       "  UPDATEIFCOPY : False"
      ]
     },
     "execution_count": 44,
     "metadata": {},
     "output_type": "execute_result"
    }
   ],
   "source": [
    "arr_f.flags"
   ]
  },
  {
   "cell_type": "code",
   "execution_count": 46,
   "metadata": {},
   "outputs": [
    {
     "data": {
      "text/plain": [
       "array([[1., 1., 1., ..., 1., 1., 1.],\n",
       "       [1., 1., 1., ..., 1., 1., 1.],\n",
       "       [1., 1., 1., ..., 1., 1., 1.],\n",
       "       ...,\n",
       "       [1., 1., 1., ..., 1., 1., 1.],\n",
       "       [1., 1., 1., ..., 1., 1., 1.],\n",
       "       [1., 1., 1., ..., 1., 1., 1.]])"
      ]
     },
     "execution_count": 46,
     "metadata": {},
     "output_type": "execute_result"
    }
   ],
   "source": [
    "rr_c=np.ones((1000,1000))\n",
    "rr_c"
   ]
  },
  {
   "cell_type": "code",
   "execution_count": 47,
   "metadata": {},
   "outputs": [
    {
     "data": {
      "text/plain": [
       "True"
      ]
     },
     "execution_count": 47,
     "metadata": {},
     "output_type": "execute_result"
    }
   ],
   "source": [
    "arr_f.flags.f_contiguous"
   ]
  },
  {
   "cell_type": "code",
   "execution_count": 48,
   "metadata": {},
   "outputs": [
    {
     "data": {
      "text/plain": [
       "False"
      ]
     },
     "execution_count": 48,
     "metadata": {},
     "output_type": "execute_result"
    }
   ],
   "source": [
    "arr_f.flags.c_contiguous"
   ]
  },
  {
   "cell_type": "code",
   "execution_count": 49,
   "metadata": {},
   "outputs": [
    {
     "data": {
      "text/plain": [
       "True"
      ]
     },
     "execution_count": 49,
     "metadata": {},
     "output_type": "execute_result"
    }
   ],
   "source": [
    "arr_c.flags.c_contiguous"
   ]
  },
  {
   "cell_type": "code",
   "execution_count": 50,
   "metadata": {},
   "outputs": [
    {
     "data": {
      "text/plain": [
       "False"
      ]
     },
     "execution_count": 50,
     "metadata": {},
     "output_type": "execute_result"
    }
   ],
   "source": [
    "arr_c.flags.f_contiguous"
   ]
  },
  {
   "cell_type": "code",
   "execution_count": 52,
   "metadata": {},
   "outputs": [
    {
     "name": "stdout",
     "output_type": "stream",
     "text": [
      "1.75 ms ± 151 µs per loop (mean ± std. dev. of 7 runs, 1000 loops each)\n",
      "1.63 ms ± 25.3 µs per loop (mean ± std. dev. of 7 runs, 1000 loops each)\n"
     ]
    }
   ],
   "source": [
    "\n",
    "%timeit arr_c.sum(1)\n",
    "%timeit arr_f.sum(1)"
   ]
  },
  {
   "cell_type": "code",
   "execution_count": 56,
   "metadata": {},
   "outputs": [
    {
     "data": {
      "text/plain": [
       "  C_CONTIGUOUS : True\n",
       "  F_CONTIGUOUS : False\n",
       "  OWNDATA : True\n",
       "  WRITEABLE : True\n",
       "  ALIGNED : True\n",
       "  WRITEBACKIFCOPY : False\n",
       "  UPDATEIFCOPY : False"
      ]
     },
     "execution_count": 56,
     "metadata": {},
     "output_type": "execute_result"
    }
   ],
   "source": [
    "arr_f.copy('C').flags # ISMA SIMPPLE C WALA FLAG KO COPY KIYA HA"
   ]
  },
  {
   "cell_type": "code",
   "execution_count": 57,
   "metadata": {},
   "outputs": [
    {
     "data": {
      "text/plain": [
       "  C_CONTIGUOUS : False\n",
       "  F_CONTIGUOUS : True\n",
       "  OWNDATA : True\n",
       "  WRITEABLE : True\n",
       "  ALIGNED : True\n",
       "  WRITEBACKIFCOPY : False\n",
       "  UPDATEIFCOPY : False"
      ]
     },
     "execution_count": 57,
     "metadata": {},
     "output_type": "execute_result"
    }
   ],
   "source": [
    "arr_c.copy('F').flags # ISMA SIMPPLE F WALA FLAG KO COPY KIYA HA inmemory change nhi ha"
   ]
  },
  {
   "cell_type": "code",
   "execution_count": 64,
   "metadata": {},
   "outputs": [
    {
     "data": {
      "text/plain": [
       "  C_CONTIGUOUS : True\n",
       "  F_CONTIGUOUS : False\n",
       "  OWNDATA : True\n",
       "  WRITEABLE : True\n",
       "  ALIGNED : True\n",
       "  WRITEBACKIFCOPY : False\n",
       "  UPDATEIFCOPY : False"
      ]
     },
     "execution_count": 64,
     "metadata": {},
     "output_type": "execute_result"
    }
   ],
   "source": [
    "arr_c.flags"
   ]
  },
  {
   "cell_type": "code",
   "execution_count": 66,
   "metadata": {},
   "outputs": [
    {
     "data": {
      "text/plain": [
       "True"
      ]
     },
     "execution_count": 66,
     "metadata": {},
     "output_type": "execute_result"
    }
   ],
   "source": [
    "\n",
    "arr_c[:50].flags.contiguous"
   ]
  },
  {
   "cell_type": "code",
   "execution_count": 67,
   "metadata": {},
   "outputs": [
    {
     "data": {
      "text/plain": [
       "False"
      ]
     },
     "execution_count": 67,
     "metadata": {},
     "output_type": "execute_result"
    }
   ],
   "source": [
    "\n",
    "arr_f[:50].flags.contiguous"
   ]
  },
  {
   "cell_type": "code",
   "execution_count": 62,
   "metadata": {},
   "outputs": [
    {
     "data": {
      "text/plain": [
       "  C_CONTIGUOUS : False\n",
       "  F_CONTIGUOUS : False\n",
       "  OWNDATA : False\n",
       "  WRITEABLE : True\n",
       "  ALIGNED : True\n",
       "  WRITEBACKIFCOPY : False\n",
       "  UPDATEIFCOPY : False"
      ]
     },
     "execution_count": 62,
     "metadata": {},
     "output_type": "execute_result"
    }
   ],
   "source": [
    "arr_c[:, :50].flags"
   ]
  },
  {
   "cell_type": "code",
   "execution_count": null,
   "metadata": {},
   "outputs": [],
   "source": []
  }
 ],
 "metadata": {
  "kernelspec": {
   "display_name": "Python 3",
   "language": "python",
   "name": "python3"
  },
  "language_info": {
   "codemirror_mode": {
    "name": "ipython",
    "version": 3
   },
   "file_extension": ".py",
   "mimetype": "text/x-python",
   "name": "python",
   "nbconvert_exporter": "python",
   "pygments_lexer": "ipython3",
   "version": "3.7.3"
  }
 },
 "nbformat": 4,
 "nbformat_minor": 2
}
